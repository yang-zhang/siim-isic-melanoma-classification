{
 "cells": [
  {
   "cell_type": "code",
   "execution_count": 19,
   "metadata": {},
   "outputs": [],
   "source": [
    "PRFX_ESMB = 'MelInfEsmb0816C1'"
   ]
  },
  {
   "cell_type": "code",
   "execution_count": 20,
   "metadata": {},
   "outputs": [],
   "source": [
    "from pathlib import Path\n",
    "import pickle\n",
    "import pandas as pd\n",
    "import numpy as np\n",
    "from sklearn.metrics import roc_auc_score as roc_auc\n",
    "import matplotlib.pyplot as plt\n",
    "\n",
    "class Param: pass\n",
    "\n",
    "p_esmb = f'../output/{PRFX_ESMB}'; Path(p_esmb).mkdir(exist_ok=True,parents=True)\n",
    "p_cmp = '../input/siim-isic-melanoma-classification'"
   ]
  },
  {
   "cell_type": "markdown",
   "metadata": {},
   "source": [
    "# starting weights"
   ]
  },
  {
   "cell_type": "code",
   "execution_count": 21,
   "metadata": {},
   "outputs": [],
   "source": [
    "prfx2wgt0 = {\n",
    "    'MelInf0726B2tta16':1.0,\n",
    "    'MelInf0805A1tta16':1.0,\n",
    "    'MelInf0728A1tta16':1.0,\n",
    "    'MelInf0728B1tta16':1.0,\n",
    "    'MelInf0805C1tta16':1.0,\n",
    "    'MelInf0727A1tta16':1.0,\n",
    "    'MelInf0805D1tta16':1.0,\n",
    "    'MelInf0727B1tta16':1.0,\n",
    "    'MelInf0805E1tta16':1.0,\n",
    "    'MelInf0726G2tta16':1.0,\n",
    "    'MelInf0726G4tta16':1.0,\n",
    "    'MelInf0726H2tta16':1.0,\n",
    "    'MelInf0726H2tta16epc456':1.0,\n",
    "    'MelInf0729H1tta16':1.0,\n",
    "    'MelInf0729E1tta16':1.0,\n",
    "    'MelInf0729D1tta16':1.0,\n",
    "    'MelInf0806C1tta16':1.0,\n",
    "    'MelInf0729F1tta16':1.0,\n",
    "    'MelInf0806D1tta16':1.0,\n",
    "    'MelInf0729C1tta16':1.0,\n",
    "    'MelInf0729C1tta16epc456':1.0,\n",
    "    'Mel0806E1tta16epc345':1.0,\n",
    "    'MelInf0808A1tta16':1.0,\n",
    "    'MelInf0729G3tta16epc567':1.0,\n",
    "    'MelInf0801A1tta16':1.0,\n",
    "    'MelInf0801B1tta16epc567':1.0,\n",
    "    'MelInf0801C1tta16':1.0,\n",
    "    'MelInf0801D2tta16':1.0,\n",
    "    'MelInf0801E1tta16':1.0,\n",
    "    'MelInf0801F1tta16epc489':1.0,\n",
    "    'MelInf0801G1tta16':1.0,\n",
    "}"
   ]
  },
  {
   "cell_type": "code",
   "execution_count": 22,
   "metadata": {},
   "outputs": [
    {
     "name": "stdout",
     "output_type": "stream",
     "text": [
      "efficientnet-b0 224 0.9279 0.8960 1.0 MelInf0726B2tta16\n",
      "efficientnet-b0 224 0.9236 0.8962 1.0 MelInf0805A1tta16\n",
      "efficientnet-b1 224 0.9301 0.9082 1.0 MelInf0728A1tta16\n",
      "efficientnet-b2 224 0.9298 0.9062 1.0 MelInf0728B1tta16\n",
      "efficientnet-b2 224 0.9287 0.9053 1.0 MelInf0805C1tta16\n",
      "efficientnet-b3 224 0.9294 0.9063 1.0 MelInf0727A1tta16\n",
      "efficientnet-b3 224 0.9292 0.9064 1.0 MelInf0805D1tta16\n",
      "efficientnet-b4 224 0.9318 0.9094 1.0 MelInf0727B1tta16\n",
      "efficientnet-b4 224 0.9312 0.9103 1.0 MelInf0805E1tta16\n",
      "efficientnet-b5 224 0.9288 0.9113 1.0 MelInf0726G2tta16\n",
      "efficientnet-b5 224 0.9277 0.8979 1.0 MelInf0726G4tta16\n",
      "efficientnet-b6 224 0.9317 0.9139 1.0 MelInf0726H2tta16\n",
      "efficientnet-b6 224 0.9331 0.9120 1.0 MelInf0726H2tta16epc456\n",
      "efficientnet-b0 384 0.9336 0.9063 1.0 MelInf0729H1tta16\n",
      "efficientnet-b1 384 0.9340 0.9196 1.0 MelInf0729E1tta16\n",
      "efficientnet-b2 384 0.9347 0.9205 1.0 MelInf0729D1tta16\n",
      "efficientnet-b2 384 0.9375 0.9302 1.0 MelInf0806C1tta16\n",
      "efficientnet-b3 384 0.9330 0.9169 1.0 MelInf0729F1tta16\n",
      "efficientnet-b3 384 0.9353 0.9219 1.0 MelInf0806D1tta16\n",
      "efficientnet-b4 384 0.9344 0.9224 1.0 MelInf0729C1tta16\n",
      "efficientnet-b4 384 0.9363 0.9179 1.0 MelInf0729C1tta16epc456\n",
      "efficientnet-b4 384 0.9385 0.9226 1.0 Mel0806E1tta16epc345\n",
      "efficientnet-b4 384 0.9357 0.9195 1.0 MelInf0808A1tta16\n",
      "efficientnet-b5 384 0.9354 0.9152 1.0 MelInf0729G3tta16epc567\n",
      "efficientnet-b0 512 0.9348 0.9135 1.0 MelInf0801A1tta16\n",
      "efficientnet-b1 512 0.9357 0.9177 1.0 MelInf0801B1tta16epc567\n",
      "efficientnet-b2 512 0.9350 0.9131 1.0 MelInf0801C1tta16\n",
      "efficientnet-b3 512 0.9329 0.9110 1.0 MelInf0801D2tta16\n",
      "efficientnet-b4 512 0.9312 0.9077 1.0 MelInf0801E1tta16\n",
      "efficientnet-b5 512 0.9397 0.9241 1.0 MelInf0801F1tta16epc489\n",
      "efficientnet-b6 512 0.9397 0.9271 1.0 MelInf0801G1tta16\n"
     ]
    }
   ],
   "source": [
    "prfx2oofs = {}\n",
    "for prfx in prfx2wgt0.keys():\n",
    "    p_out = f'../output/{prfx}'\n",
    "    res = pickle.load(open(f'{p_out}/results_{prfx}.p', 'rb'))\n",
    "    param = res['param']\n",
    "    p_prp = f'../output/{param.PRFX_PREP}'\n",
    "    dftrn = pd.read_csv(f'{p_prp}/train_all_dedup.csv') \n",
    "\n",
    "    vls=[]\n",
    "    oofs=[]\n",
    "    for fld in range(4):\n",
    "        ep2oof = pickle.load(open(f'{p_out}/ep2oof_{prfx}_fld_{fld}.p', 'rb'))\n",
    "        _,vl= res['fld2trvl'][fld]\n",
    "        vls += list(vl)\n",
    "        ep2oof = np.concatenate(ep2oof, 1)\n",
    "        oof = ep2oof.mean(1)\n",
    "        oofs += list(oof)\n",
    "\n",
    "    ys = dftrn.target.iloc[vls]\n",
    "    sortedzip = sorted(zip(vls, oofs, ys))\n",
    "    _, oofs, ys = list(zip(*sortedzip))\n",
    "    assert np.all(dftrn.target==ys)\n",
    "\n",
    "    oofs = np.array(oofs)\n",
    "    prfx2oofs[prfx] = oofs\n",
    "    \n",
    "    scr = roc_auc(ys, oofs)\n",
    "    print(param.ARCH, param.SZ, f'{scr:.4f}', end=' ')\n",
    "    \n",
    "    idx20 = np.where(dftrn.source==20)[0]\n",
    "    scr20 = roc_auc(dftrn.target.iloc[idx20], oofs[idx20])\n",
    "    print(f'{scr20:.4f}', prfx2wgt0[prfx], prfx)"
   ]
  },
  {
   "cell_type": "code",
   "execution_count": 23,
   "metadata": {},
   "outputs": [
    {
     "name": "stdout",
     "output_type": "stream",
     "text": [
      "MelInfEsmb0816C1 0.9418 0.9260\n"
     ]
    }
   ],
   "source": [
    "oofs_esmb= np.zeros(len(dftrn))\n",
    "for prfx,wgt in prfx2wgt0.items():\n",
    "    p_out = f'../output/{prfx}'\n",
    "    res = pickle.load(open(f'{p_out}/results_{prfx}.p', 'rb'))\n",
    "    param = res['param']\n",
    "    p_prp = f'../output/{param.PRFX_PREP}'\n",
    "    dftrn = pd.read_csv(f'{p_prp}/train_all_dedup.csv') \n",
    "\n",
    "    oofs_esmb += wgt*prfx2oofs[prfx]\n",
    "    scr = roc_auc(ys, oofs_esmb)\n",
    "    scr20 = roc_auc(dftrn.target.iloc[idx20], oofs_esmb[idx20])\n",
    "print(PRFX_ESMB, f'{scr:.4f}', f'{scr20:.4f}')"
   ]
  },
  {
   "cell_type": "markdown",
   "metadata": {},
   "source": [
    "# optimize"
   ]
  },
  {
   "cell_type": "code",
   "execution_count": 24,
   "metadata": {},
   "outputs": [],
   "source": [
    "prfxes, wgts0 = list(zip(*prfx2wgt0.items()))"
   ]
  },
  {
   "cell_type": "markdown",
   "metadata": {},
   "source": [
    "- https://www.kaggle.com/abhishek/optimizer-for-quadratic-weighted-kappa\n",
    "- http://localhost:8080/notebooks/git/google-quest-challenge/working/QstPstp0208_4.ipynb"
   ]
  },
  {
   "cell_type": "code",
   "execution_count": 25,
   "metadata": {},
   "outputs": [
    {
     "name": "stdout",
     "output_type": "stream",
     "text": [
      "[0, 1, 4, 6, 10, 15, 17, 19, 21, 29, 32, 33, 43, 47, 53]\n",
      "[0, 1, 4, 6, 10, 15, 17, 19, 21, 29, 32, 33, 43, 47, 53]\n",
      "[0, 1, 4, 6, 10, 15, 17, 19, 21, 29, 32, 33, 43, 47, 53]\n",
      "[0, 1, 4, 6, 10, 15, 17, 19, 21, 29, 32, 33, 43, 47, 53]\n",
      "[0, 1, 4, 6, 10, 15, 17, 19, 21, 29, 32, 33, 43, 47, 53]\n",
      "[0, 1, 4, 6, 10, 15, 17, 19, 21, 29, 32, 33, 43, 47, 53]\n",
      "[0, 1, 4, 6, 10, 15, 17, 19, 21, 29, 32, 33, 43, 47, 53]\n",
      "[0, 1, 4, 6, 10, 15, 17, 19, 21, 29, 32, 33, 43, 47, 53]\n",
      "[0, 1, 4, 6, 10, 15, 17, 19, 21, 29, 32, 33, 43, 47, 53]\n",
      "[0, 1, 4, 6, 10, 15, 17, 19, 21, 29, 32, 33, 43, 47, 53]\n",
      "[0, 1, 4, 6, 10, 15, 17, 19, 21, 29, 32, 33, 43, 47, 53]\n",
      "[0, 1, 4, 6, 10, 15, 17, 19, 21, 29, 32, 33, 43, 47, 53]\n",
      "[0, 1, 4, 6, 10, 15, 17, 19, 21, 29, 32, 33, 43, 47, 53]\n",
      "[0, 1, 4, 6, 10, 15, 17, 19, 21, 29, 32, 33, 43, 47, 53]\n",
      "[0, 1, 4, 6, 10, 15, 17, 19, 21, 29, 32, 33, 43, 47, 53]\n",
      "[0, 1, 4, 6, 10, 15, 17, 19, 21, 29, 32, 33, 43, 47, 53]\n",
      "[0, 1, 4, 6, 10, 15, 17, 19, 21, 29, 32, 33, 43, 47, 53]\n",
      "[0, 1, 4, 6, 10, 15, 17, 19, 21, 29, 32, 33, 43, 47, 53]\n",
      "[0, 1, 4, 6, 10, 15, 17, 19, 21, 29, 32, 33, 43, 47, 53]\n",
      "[0, 1, 4, 6, 10, 15, 17, 19, 21, 29, 32, 33, 43, 47, 53]\n",
      "[0, 1, 4, 6, 10, 15, 17, 19, 21, 29, 32, 33, 43, 47, 53]\n",
      "[0, 1, 4, 6, 10, 15, 17, 19, 21, 29, 32, 33, 43, 47, 53]\n",
      "[0, 1, 4, 6, 10, 15, 17, 19, 21, 29, 32, 33, 43, 47, 53]\n",
      "[0, 1, 4, 6, 10, 15, 17, 19, 21, 29, 32, 33, 43, 47, 53]\n",
      "[0, 1, 4, 6, 10, 15, 17, 19, 21, 29, 32, 33, 43, 47, 53]\n",
      "[0, 1, 4, 6, 10, 15, 17, 19, 21, 29, 32, 33, 43, 47, 53]\n",
      "[0, 1, 4, 6, 10, 15, 17, 19, 21, 29, 32, 33, 43, 47, 53]\n",
      "[0, 1, 4, 6, 10, 15, 17, 19, 21, 29, 32, 33, 43, 47, 53]\n",
      "[0, 1, 4, 6, 10, 15, 17, 19, 21, 29, 32, 33, 43, 47, 53]\n",
      "[0, 1, 4, 6, 10, 15, 17, 19, 21, 29, 32, 33, 43, 47, 53]\n",
      "[0, 1, 4, 6, 10, 15, 17, 19, 21, 29, 32, 33, 43, 47, 53]\n"
     ]
    }
   ],
   "source": [
    "oofss = []\n",
    "for prfx in prfxes:\n",
    "    p_out = f'../output/{prfx}'\n",
    "    res = pickle.load(open(f'{p_out}/results_{prfx}.p', 'rb'))\n",
    "    param = res['param']\n",
    "    p_prp = f'../output/{param.PRFX_PREP}'\n",
    "    dftrn = pd.read_csv(f'{p_prp}/train_all_dedup.csv') \n",
    "\n",
    "    vls=[]\n",
    "    oofs=[]\n",
    "    for fld in range(4):\n",
    "        ep2oof = pickle.load(open(f'{p_out}/ep2oof_{prfx}_fld_{fld}.p', 'rb'))\n",
    "        _,vl= res['fld2trvl'][fld]\n",
    "        vls += list(vl)\n",
    "        ep2oof = np.concatenate(ep2oof, 1)\n",
    "        oof = ep2oof.mean(1)\n",
    "        oofs += list(oof)\n",
    "\n",
    "    ys = dftrn.target.iloc[vls]\n",
    "    sortedzip = sorted(zip(vls, oofs, ys))\n",
    "    _, oofs, ys = list(zip(*sortedzip))\n",
    "    assert np.all(dftrn.target==ys)\n",
    "    print(vls[:15])\n",
    "    oofss.append(oofs)\n",
    "oofss = np.array(oofss)"
   ]
  },
  {
   "cell_type": "code",
   "execution_count": 26,
   "metadata": {},
   "outputs": [
    {
     "data": {
      "text/plain": [
       "(31, 58032)"
      ]
     },
     "execution_count": 26,
     "metadata": {},
     "output_type": "execute_result"
    }
   ],
   "source": [
    "oofss.shape"
   ]
  },
  {
   "cell_type": "code",
   "execution_count": 27,
   "metadata": {},
   "outputs": [],
   "source": [
    "import scipy as sp\n",
    "\n",
    "class OptimizedRounder(object):\n",
    "    def __init__(self):\n",
    "        self.coef_ = 0\n",
    "    \n",
    "    def _minus_scr(self, coef):\n",
    "        prd = np.average(oofss, axis=0, weights=coef)\n",
    "        scr = roc_auc(ys, prd)\n",
    "        return -scr\n",
    "    \n",
    "    def fit(self):\n",
    "        initial_coef = wgts0\n",
    "        self.coef_ = sp.optimize.minimize(self._minus_scr, initial_coef, method='Nelder-Mead')\n",
    "    \n",
    "    def get_coef(self):\n",
    "        return self.coef_['x']"
   ]
  },
  {
   "cell_type": "code",
   "execution_count": 28,
   "metadata": {},
   "outputs": [
    {
     "name": "stdout",
     "output_type": "stream",
     "text": [
      "CPU times: user 1min 54s, sys: 43.2 ms, total: 1min 54s\n",
      "Wall time: 1min 54s\n"
     ]
    }
   ],
   "source": [
    "%%time\n",
    "optR = OptimizedRounder()\n",
    "optR.fit()\n",
    "coef = optR.get_coef()\n"
   ]
  },
  {
   "cell_type": "code",
   "execution_count": 29,
   "metadata": {
    "scrolled": true
   },
   "outputs": [
    {
     "data": {
      "text/plain": [
       "array([-1.21532522,  2.07171649, -2.71809298, -2.45670891,  0.39963334,\n",
       "       -0.63316367, -0.80525717,  3.72290682, -1.34001583,  0.07484118,\n",
       "       -0.12686905,  6.92030432, -1.25705971, -1.13338093, -0.25946741,\n",
       "       -0.49049033,  4.55469056, -2.16312647,  1.48637445,  0.76218665,\n",
       "        0.18016129,  5.18317518, -1.0388475 , -2.76054347,  3.18022038,\n",
       "        1.43782153,  0.22083389,  0.94635856, -2.14863251,  6.16115614,\n",
       "        7.06930654])"
      ]
     },
     "execution_count": 29,
     "metadata": {},
     "output_type": "execute_result"
    }
   ],
   "source": [
    "coef"
   ]
  },
  {
   "cell_type": "code",
   "execution_count": 30,
   "metadata": {},
   "outputs": [
    {
     "data": {
      "text/plain": [
       "0.9453282631341569"
      ]
     },
     "execution_count": 30,
     "metadata": {},
     "output_type": "execute_result"
    }
   ],
   "source": [
    "prd=np.average(oofss, axis=0, weights=coef)\n",
    "roc_auc(ys, prd)"
   ]
  },
  {
   "cell_type": "code",
   "execution_count": 31,
   "metadata": {},
   "outputs": [],
   "source": [
    "prfx2wgt = dict(zip(prfxes, coef))"
   ]
  },
  {
   "cell_type": "code",
   "execution_count": 32,
   "metadata": {},
   "outputs": [
    {
     "name": "stdout",
     "output_type": "stream",
     "text": [
      "efficientnet-b0 224 0.9279 0.8960 -1.2153252198146212 MelInf0726B2tta16\n",
      "efficientnet-b0 224 0.9236 0.8962 2.0717164924446796 MelInf0805A1tta16\n",
      "efficientnet-b1 224 0.9301 0.9082 -2.718092977299008 MelInf0728A1tta16\n",
      "efficientnet-b2 224 0.9298 0.9062 -2.4567089123501797 MelInf0728B1tta16\n",
      "efficientnet-b2 224 0.9287 0.9053 0.39963333669244855 MelInf0805C1tta16\n",
      "efficientnet-b3 224 0.9294 0.9063 -0.6331636727331058 MelInf0727A1tta16\n",
      "efficientnet-b3 224 0.9292 0.9064 -0.8052571740766608 MelInf0805D1tta16\n",
      "efficientnet-b4 224 0.9318 0.9094 3.7229068203368403 MelInf0727B1tta16\n",
      "efficientnet-b4 224 0.9312 0.9103 -1.3400158298619402 MelInf0805E1tta16\n",
      "efficientnet-b5 224 0.9288 0.9113 0.07484117768762114 MelInf0726G2tta16\n",
      "efficientnet-b5 224 0.9277 0.8979 -0.12686904747824101 MelInf0726G4tta16\n",
      "efficientnet-b6 224 0.9317 0.9139 6.920304320892907 MelInf0726H2tta16\n",
      "efficientnet-b6 224 0.9331 0.9120 -1.2570597126862146 MelInf0726H2tta16epc456\n",
      "efficientnet-b0 384 0.9336 0.9063 -1.1333809318748476 MelInf0729H1tta16\n",
      "efficientnet-b1 384 0.9340 0.9196 -0.2594674093116416 MelInf0729E1tta16\n",
      "efficientnet-b2 384 0.9347 0.9205 -0.49049033430725686 MelInf0729D1tta16\n",
      "efficientnet-b2 384 0.9375 0.9302 4.554690561961945 MelInf0806C1tta16\n",
      "efficientnet-b3 384 0.9330 0.9169 -2.1631264688829233 MelInf0729F1tta16\n",
      "efficientnet-b3 384 0.9353 0.9219 1.486374451632458 MelInf0806D1tta16\n",
      "efficientnet-b4 384 0.9344 0.9224 0.7621866508415404 MelInf0729C1tta16\n",
      "efficientnet-b4 384 0.9363 0.9179 0.18016129477618348 MelInf0729C1tta16epc456\n",
      "efficientnet-b4 384 0.9385 0.9226 5.183175176679269 Mel0806E1tta16epc345\n",
      "efficientnet-b4 384 0.9357 0.9195 -1.0388474950254518 MelInf0808A1tta16\n",
      "efficientnet-b5 384 0.9354 0.9152 -2.7605434670092244 MelInf0729G3tta16epc567\n",
      "efficientnet-b0 512 0.9348 0.9135 3.180220375714648 MelInf0801A1tta16\n",
      "efficientnet-b1 512 0.9357 0.9177 1.4378215305497282 MelInf0801B1tta16epc567\n",
      "efficientnet-b2 512 0.9350 0.9131 0.22083389432784944 MelInf0801C1tta16\n",
      "efficientnet-b3 512 0.9329 0.9110 0.9463585564329473 MelInf0801D2tta16\n",
      "efficientnet-b4 512 0.9312 0.9077 -2.1486325079239856 MelInf0801E1tta16\n",
      "efficientnet-b5 512 0.9397 0.9241 6.1611561389741585 MelInf0801F1tta16epc489\n",
      "efficientnet-b6 512 0.9397 0.9271 7.069306543143318 MelInf0801G1tta16\n"
     ]
    }
   ],
   "source": [
    "prfx2oofs = {}\n",
    "for prfx in prfx2wgt.keys():\n",
    "    p_out = f'../output/{prfx}'\n",
    "    res = pickle.load(open(f'{p_out}/results_{prfx}.p', 'rb'))\n",
    "    param = res['param']\n",
    "    p_prp = f'../output/{param.PRFX_PREP}'\n",
    "    dftrn = pd.read_csv(f'{p_prp}/train_all_dedup.csv') \n",
    "\n",
    "    vls=[]\n",
    "    oofs=[]\n",
    "    for fld in range(4):\n",
    "        ep2oof = pickle.load(open(f'{p_out}/ep2oof_{prfx}_fld_{fld}.p', 'rb'))\n",
    "        _,vl= res['fld2trvl'][fld]\n",
    "        vls += list(vl)\n",
    "        ep2oof = np.concatenate(ep2oof, 1)\n",
    "        oof = ep2oof.mean(1)\n",
    "        oofs += list(oof)\n",
    "\n",
    "    ys = dftrn.target.iloc[vls]\n",
    "    sortedzip = sorted(zip(vls, oofs, ys))\n",
    "    _, oofs, ys = list(zip(*sortedzip))\n",
    "    assert np.all(dftrn.target==ys)\n",
    "\n",
    "    oofs = np.array(oofs)\n",
    "    prfx2oofs[prfx] = oofs\n",
    "    \n",
    "    scr = roc_auc(ys, oofs)\n",
    "    print(param.ARCH, param.SZ, f'{scr:.4f}', end=' ')\n",
    "    \n",
    "    idx20 = np.where(dftrn.source==20)[0]\n",
    "    scr20 = roc_auc(dftrn.target.iloc[idx20], oofs[idx20])\n",
    "    print(f'{scr20:.4f}', prfx2wgt[prfx], prfx)"
   ]
  },
  {
   "cell_type": "code",
   "execution_count": 33,
   "metadata": {},
   "outputs": [
    {
     "name": "stdout",
     "output_type": "stream",
     "text": [
      "MelInfEsmb0816C1 0.9453 0.9345\n"
     ]
    }
   ],
   "source": [
    "oofs_esmb= np.zeros(len(dftrn))\n",
    "for prfx,wgt in prfx2wgt.items():\n",
    "    p_out = f'../output/{prfx}'\n",
    "    res = pickle.load(open(f'{p_out}/results_{prfx}.p', 'rb'))\n",
    "    param = res['param']\n",
    "    p_prp = f'../output/{param.PRFX_PREP}'\n",
    "    dftrn = pd.read_csv(f'{p_prp}/train_all_dedup.csv') \n",
    "\n",
    "    oofs_esmb += wgt*prfx2oofs[prfx]\n",
    "    scr = roc_auc(ys, oofs_esmb)\n",
    "    scr20 = roc_auc(dftrn.target.iloc[idx20], oofs_esmb[idx20])\n",
    "print(PRFX_ESMB, f'{scr:.4f}', f'{scr20:.4f}')"
   ]
  },
  {
   "cell_type": "code",
   "execution_count": 34,
   "metadata": {},
   "outputs": [
    {
     "name": "stdout",
     "output_type": "stream",
     "text": [
      "MelInf0726B2tta16 0.17577293900882407\n",
      "MelInf0805A1tta16 0.1852360767356046\n",
      "MelInf0728A1tta16 0.1697970152984186\n",
      "MelInf0728B1tta16 0.15783098760570596\n",
      "MelInf0805C1tta16 0.18550869943493037\n",
      "MelInf0727A1tta16 0.15930823437581493\n",
      "MelInf0805D1tta16 0.17837462669376472\n",
      "MelInf0727B1tta16 0.15253438272176548\n",
      "MelInf0805E1tta16 0.17570575343026482\n",
      "MelInf0726G2tta16 0.15595904496625135\n",
      "MelInf0726G4tta16 0.195412380182344\n",
      "MelInf0726H2tta16 0.15230585584603645\n",
      "MelInf0726H2tta16epc456 0.1767112095981086\n",
      "MelInf0729H1tta16 0.15282431964950818\n",
      "MelInf0729E1tta16 0.14824956054377292\n",
      "MelInf0729D1tta16 0.1499509768921909\n",
      "MelInf0806C1tta16 0.1632805076088609\n",
      "MelInf0729F1tta16 0.1487084176636413\n",
      "MelInf0806D1tta16 0.17213049339909336\n",
      "MelInf0729C1tta16 0.1371323752740608\n",
      "MelInf0729C1tta16epc456 0.1582704462621681\n",
      "Mel0806E1tta16epc345 0.1657605117769836\n",
      "MelInf0808A1tta16 0.1786412484494178\n",
      "MelInf0729G3tta16epc567 0.18763088324121233\n",
      "MelInf0801A1tta16 0.16702342384519106\n",
      "MelInf0801B1tta16epc567 0.17403774669167732\n",
      "MelInf0801C1tta16 0.1757464726584606\n",
      "MelInf0801D2tta16 0.19602787448723205\n",
      "MelInf0801E1tta16 0.19845013254322255\n",
      "MelInf0801F1tta16epc489 0.16567061367103075\n",
      "MelInf0801G1tta16 0.15651927304733532\n"
     ]
    }
   ],
   "source": [
    "dfsub = pd.read_csv(f'{p_cmp}/sample_submission.csv') \n",
    "\n",
    "\n",
    "wgt_ttl=0\n",
    "sub_esmb=np.zeros(len(dfsub))\n",
    "for prfx,wgt in prfx2wgt.items():\n",
    "    p_out = f'../output/{prfx}'\n",
    "    res = pickle.load(open(f'{p_out}/results_{prfx}.p', 'rb'))\n",
    "    param = res['param']\n",
    "    dfsubi = pd.read_csv(f'{p_out}/submission_{prfx}_avglast{param.LASTM}.csv')\n",
    "    wgt_ttl+=wgt\n",
    "    subi = dfsubi.target\n",
    "    print(prfx, subi.mean())\n",
    "#     plt.hist(subi, bins=50);\n",
    "#     plt.show()\n",
    "    sub_esmb += wgt*subi\n",
    "sub_esmb/=wgt_ttl"
   ]
  },
  {
   "cell_type": "code",
   "execution_count": 35,
   "metadata": {},
   "outputs": [
    {
     "name": "stdout",
     "output_type": "stream",
     "text": [
      "0.1548604474416734\n"
     ]
    },
    {
     "data": {
      "text/html": [
       "<div>\n",
       "<style scoped>\n",
       "    .dataframe tbody tr th:only-of-type {\n",
       "        vertical-align: middle;\n",
       "    }\n",
       "\n",
       "    .dataframe tbody tr th {\n",
       "        vertical-align: top;\n",
       "    }\n",
       "\n",
       "    .dataframe thead th {\n",
       "        text-align: right;\n",
       "    }\n",
       "</style>\n",
       "<table border=\"1\" class=\"dataframe\">\n",
       "  <thead>\n",
       "    <tr style=\"text-align: right;\">\n",
       "      <th></th>\n",
       "      <th>image_name</th>\n",
       "      <th>target</th>\n",
       "    </tr>\n",
       "  </thead>\n",
       "  <tbody>\n",
       "    <tr>\n",
       "      <th>0</th>\n",
       "      <td>ISIC_0052060</td>\n",
       "      <td>0.083304</td>\n",
       "    </tr>\n",
       "    <tr>\n",
       "      <th>1</th>\n",
       "      <td>ISIC_0052349</td>\n",
       "      <td>0.055976</td>\n",
       "    </tr>\n",
       "    <tr>\n",
       "      <th>2</th>\n",
       "      <td>ISIC_0058510</td>\n",
       "      <td>0.074282</td>\n",
       "    </tr>\n",
       "  </tbody>\n",
       "</table>\n",
       "</div>"
      ],
      "text/plain": [
       "     image_name    target\n",
       "0  ISIC_0052060  0.083304\n",
       "1  ISIC_0052349  0.055976\n",
       "2  ISIC_0058510  0.074282"
      ]
     },
     "metadata": {},
     "output_type": "display_data"
    },
    {
     "data": {
      "image/png": "[encoded data removed]",
      "text/plain": [
       "<Figure size 432x288 with 1 Axes>"
      ]
     },
     "metadata": {
      "needs_background": "light"
     },
     "output_type": "display_data"
    }
   ],
   "source": [
    "print(sub_esmb.mean())\n",
    "dfsub.target = sub_esmb\n",
    "\n",
    "display(dfsub.head(3))\n",
    "plt.hist(dfsub.target, bins=50);"
   ]
  },
  {
   "cell_type": "code",
   "execution_count": 36,
   "metadata": {},
   "outputs": [],
   "source": [
    "dfsub.to_csv(f'{p_esmb}/submission_{PRFX_ESMB}.csv', index=False)"
   ]
  },
  {
   "cell_type": "code",
   "execution_count": null,
   "metadata": {},
   "outputs": [],
   "source": []
  },
  {
   "cell_type": "code",
   "execution_count": null,
   "metadata": {},
   "outputs": [],
   "source": []
  },
  {
   "cell_type": "code",
   "execution_count": null,
   "metadata": {},
   "outputs": [],
   "source": []
  }
 ],
 "metadata": {
  "kernelspec": {
   "display_name": "mel",
   "language": "python",
   "name": "mel"
  },
  "language_info": {
   "codemirror_mode": {
    "name": "ipython",
    "version": 3
   },
   "file_extension": ".py",
   "mimetype": "text/x-python",
   "name": "python",
   "nbconvert_exporter": "python",
   "pygments_lexer": "ipython3",
   "version": "3.7.7"
  },
  "toc": {
   "base_numbering": 1,
   "nav_menu": {},
   "number_sections": true,
   "sideBar": true,
   "skip_h1_title": false,
   "title_cell": "Table of Contents",
   "title_sidebar": "Contents",
   "toc_cell": false,
   "toc_position": {},
   "toc_section_display": true,
   "toc_window_display": true
  }
 },
 "nbformat": 4,
 "nbformat_minor": 4
}
