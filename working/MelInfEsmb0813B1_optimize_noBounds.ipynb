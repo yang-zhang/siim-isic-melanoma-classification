{
 "cells": [
  {
   "cell_type": "code",
   "execution_count": 19,
   "metadata": {},
   "outputs": [],
   "source": [
    "PRFX_ESMB = 'MelInfEsmb0813B1'"
   ]
  },
  {
   "cell_type": "code",
   "execution_count": 20,
   "metadata": {},
   "outputs": [],
   "source": [
    "from pathlib import Path\n",
    "import pickle\n",
    "import pandas as pd\n",
    "import numpy as np\n",
    "from sklearn.metrics import roc_auc_score as roc_auc\n",
    "import matplotlib.pyplot as plt\n",
    "\n",
    "class Param: pass\n",
    "\n",
    "p_esmb = f'../output/{PRFX_ESMB}'; Path(p_esmb).mkdir(exist_ok=True,parents=True)\n",
    "p_cmp = '../input/siim-isic-melanoma-classification'"
   ]
  },
  {
   "cell_type": "markdown",
   "metadata": {},
   "source": [
    "# starting weights"
   ]
  },
  {
   "cell_type": "code",
   "execution_count": 21,
   "metadata": {},
   "outputs": [],
   "source": [
    "# MelInfEsmb0809B1\n",
    "prfx2wgt0 = {\n",
    "    'MelInf0726B2tta16':1.0,\n",
    "    'MelInf0805A1tta16':1.0,\n",
    "    'MelInf0728A1tta16':1.0,\n",
    "    'MelInf0728B1tta16':1.0,\n",
    "    'MelInf0805C1tta16':1.0,\n",
    "    'MelInf0727A1tta16':1.0,\n",
    "    'MelInf0805D1tta16':1.0,\n",
    "    'MelInf0727B1tta16':1.0,\n",
    "    'MelInf0805E1tta16':1.0,\n",
    "    'MelInf0726G2tta16':1.0,\n",
    "    'MelInf0726G4tta16':1.0,\n",
    "#     'MelInf0726H2tta16':1.0,\n",
    "    'MelInf0726H2tta16epc456':1.0,\n",
    "    'MelInf0729H1tta16':1.0,\n",
    "    'MelInf0729E1tta16':1.0,\n",
    "    'MelInf0729D1tta16':1.0,\n",
    "    'MelInf0806C1tta16':1.0,\n",
    "    'MelInf0729F1tta16':1.0,\n",
    "    'MelInf0806D1tta16':1.0,\n",
    "    'MelInf0729C1tta16':1.0,\n",
    "    'MelInf0729C1tta16epc456':1.0,\n",
    "    'Mel0806E1tta16epc345':1.0,\n",
    "    'MelInf0808A1tta16':1.0,\n",
    "    'MelInf0729G3tta16epc567':1.0,\n",
    "    'MelInf0801A1tta16':1.0,\n",
    "    'MelInf0801B1tta16epc567':1.0,\n",
    "    'MelInf0801C1tta16':1.0,\n",
    "    'MelInf0801D2tta16':1.0,\n",
    "    'MelInf0801E1tta16':1.0,\n",
    "}"
   ]
  },
  {
   "cell_type": "code",
   "execution_count": 22,
   "metadata": {},
   "outputs": [
    {
     "name": "stdout",
     "output_type": "stream",
     "text": [
      "efficientnet-b0 224 0.9279 0.8960 1.0 MelInf0726B2tta16\n",
      "efficientnet-b0 224 0.9236 0.8962 1.0 MelInf0805A1tta16\n",
      "efficientnet-b1 224 0.9301 0.9082 1.0 MelInf0728A1tta16\n",
      "efficientnet-b2 224 0.9298 0.9062 1.0 MelInf0728B1tta16\n",
      "efficientnet-b2 224 0.9287 0.9053 1.0 MelInf0805C1tta16\n",
      "efficientnet-b3 224 0.9294 0.9063 1.0 MelInf0727A1tta16\n",
      "efficientnet-b3 224 0.9292 0.9064 1.0 MelInf0805D1tta16\n",
      "efficientnet-b4 224 0.9318 0.9094 1.0 MelInf0727B1tta16\n",
      "efficientnet-b4 224 0.9312 0.9103 1.0 MelInf0805E1tta16\n",
      "efficientnet-b5 224 0.9288 0.9113 1.0 MelInf0726G2tta16\n",
      "efficientnet-b5 224 0.9277 0.8979 1.0 MelInf0726G4tta16\n",
      "efficientnet-b6 224 0.9331 0.9120 1.0 MelInf0726H2tta16epc456\n",
      "efficientnet-b0 384 0.9336 0.9063 1.0 MelInf0729H1tta16\n",
      "efficientnet-b1 384 0.9340 0.9196 1.0 MelInf0729E1tta16\n",
      "efficientnet-b2 384 0.9347 0.9205 1.0 MelInf0729D1tta16\n",
      "efficientnet-b2 384 0.9375 0.9302 1.0 MelInf0806C1tta16\n",
      "efficientnet-b3 384 0.9330 0.9169 1.0 MelInf0729F1tta16\n",
      "efficientnet-b3 384 0.9353 0.9219 1.0 MelInf0806D1tta16\n",
      "efficientnet-b4 384 0.9344 0.9224 1.0 MelInf0729C1tta16\n",
      "efficientnet-b4 384 0.9363 0.9179 1.0 MelInf0729C1tta16epc456\n",
      "efficientnet-b4 384 0.9385 0.9226 1.0 Mel0806E1tta16epc345\n",
      "efficientnet-b4 384 0.9357 0.9195 1.0 MelInf0808A1tta16\n",
      "efficientnet-b5 384 0.9354 0.9152 1.0 MelInf0729G3tta16epc567\n",
      "efficientnet-b0 512 0.9348 0.9135 1.0 MelInf0801A1tta16\n",
      "efficientnet-b1 512 0.9357 0.9177 1.0 MelInf0801B1tta16epc567\n",
      "efficientnet-b2 512 0.9350 0.9131 1.0 MelInf0801C1tta16\n",
      "efficientnet-b3 512 0.9329 0.9110 1.0 MelInf0801D2tta16\n",
      "efficientnet-b4 512 0.9312 0.9077 1.0 MelInf0801E1tta16\n"
     ]
    }
   ],
   "source": [
    "prfx2oofs = {}\n",
    "for prfx in prfx2wgt0.keys():\n",
    "    p_out = f'../output/{prfx}'\n",
    "    res = pickle.load(open(f'{p_out}/results_{prfx}.p', 'rb'))\n",
    "    param = res['param']\n",
    "    p_prp = f'../output/{param.PRFX_PREP}'\n",
    "    dftrn = pd.read_csv(f'{p_prp}/train_all_dedup.csv') \n",
    "\n",
    "    vls=[]\n",
    "    oofs=[]\n",
    "    for fld in range(4):\n",
    "        ep2oof = pickle.load(open(f'{p_out}/ep2oof_{prfx}_fld_{fld}.p', 'rb'))\n",
    "        _,vl= res['fld2trvl'][fld]\n",
    "        vls += list(vl)\n",
    "        ep2oof = np.concatenate(ep2oof, 1)\n",
    "        oof = ep2oof.mean(1)\n",
    "        oofs += list(oof)\n",
    "\n",
    "    ys = dftrn.target.iloc[vls]\n",
    "    sortedzip = sorted(zip(vls, oofs, ys))\n",
    "    _, oofs, ys = list(zip(*sortedzip))\n",
    "    assert np.all(dftrn.target==ys)\n",
    "\n",
    "    oofs = np.array(oofs)\n",
    "    prfx2oofs[prfx] = oofs\n",
    "    \n",
    "    scr = roc_auc(ys, oofs)\n",
    "    print(param.ARCH, param.SZ, f'{scr:.4f}', end=' ')\n",
    "    \n",
    "    idx20 = np.where(dftrn.source==20)[0]\n",
    "    scr20 = roc_auc(dftrn.target.iloc[idx20], oofs[idx20])\n",
    "    print(f'{scr20:.4f}', prfx2wgt0[prfx], prfx)"
   ]
  },
  {
   "cell_type": "code",
   "execution_count": 23,
   "metadata": {},
   "outputs": [
    {
     "name": "stdout",
     "output_type": "stream",
     "text": [
      "MelInfEsmb0813B1 0.9412 0.9248\n"
     ]
    }
   ],
   "source": [
    "oofs_esmb= np.zeros(len(dftrn))\n",
    "for prfx,wgt in prfx2wgt0.items():\n",
    "    p_out = f'../output/{prfx}'\n",
    "    res = pickle.load(open(f'{p_out}/results_{prfx}.p', 'rb'))\n",
    "    param = res['param']\n",
    "    p_prp = f'../output/{param.PRFX_PREP}'\n",
    "    dftrn = pd.read_csv(f'{p_prp}/train_all_dedup.csv') \n",
    "\n",
    "    oofs_esmb += wgt*prfx2oofs[prfx]\n",
    "    scr = roc_auc(ys, oofs_esmb)\n",
    "    scr20 = roc_auc(dftrn.target.iloc[idx20], oofs_esmb[idx20])\n",
    "print(PRFX_ESMB, f'{scr:.4f}', f'{scr20:.4f}')"
   ]
  },
  {
   "cell_type": "markdown",
   "metadata": {},
   "source": [
    "# optimize"
   ]
  },
  {
   "cell_type": "code",
   "execution_count": 24,
   "metadata": {},
   "outputs": [],
   "source": [
    "prfxes, wgts0 = list(zip(*prfx2wgt0.items()))"
   ]
  },
  {
   "cell_type": "markdown",
   "metadata": {},
   "source": [
    "- https://www.kaggle.com/abhishek/optimizer-for-quadratic-weighted-kappa\n",
    "- http://localhost:8080/notebooks/git/google-quest-challenge/working/QstPstp0208_4.ipynb"
   ]
  },
  {
   "cell_type": "code",
   "execution_count": 25,
   "metadata": {},
   "outputs": [
    {
     "name": "stdout",
     "output_type": "stream",
     "text": [
      "[0, 1, 4, 6, 10, 15, 17, 19, 21, 29, 32, 33, 43, 47, 53]\n",
      "[0, 1, 4, 6, 10, 15, 17, 19, 21, 29, 32, 33, 43, 47, 53]\n",
      "[0, 1, 4, 6, 10, 15, 17, 19, 21, 29, 32, 33, 43, 47, 53]\n",
      "[0, 1, 4, 6, 10, 15, 17, 19, 21, 29, 32, 33, 43, 47, 53]\n",
      "[0, 1, 4, 6, 10, 15, 17, 19, 21, 29, 32, 33, 43, 47, 53]\n",
      "[0, 1, 4, 6, 10, 15, 17, 19, 21, 29, 32, 33, 43, 47, 53]\n",
      "[0, 1, 4, 6, 10, 15, 17, 19, 21, 29, 32, 33, 43, 47, 53]\n",
      "[0, 1, 4, 6, 10, 15, 17, 19, 21, 29, 32, 33, 43, 47, 53]\n",
      "[0, 1, 4, 6, 10, 15, 17, 19, 21, 29, 32, 33, 43, 47, 53]\n",
      "[0, 1, 4, 6, 10, 15, 17, 19, 21, 29, 32, 33, 43, 47, 53]\n",
      "[0, 1, 4, 6, 10, 15, 17, 19, 21, 29, 32, 33, 43, 47, 53]\n",
      "[0, 1, 4, 6, 10, 15, 17, 19, 21, 29, 32, 33, 43, 47, 53]\n",
      "[0, 1, 4, 6, 10, 15, 17, 19, 21, 29, 32, 33, 43, 47, 53]\n",
      "[0, 1, 4, 6, 10, 15, 17, 19, 21, 29, 32, 33, 43, 47, 53]\n",
      "[0, 1, 4, 6, 10, 15, 17, 19, 21, 29, 32, 33, 43, 47, 53]\n",
      "[0, 1, 4, 6, 10, 15, 17, 19, 21, 29, 32, 33, 43, 47, 53]\n",
      "[0, 1, 4, 6, 10, 15, 17, 19, 21, 29, 32, 33, 43, 47, 53]\n",
      "[0, 1, 4, 6, 10, 15, 17, 19, 21, 29, 32, 33, 43, 47, 53]\n",
      "[0, 1, 4, 6, 10, 15, 17, 19, 21, 29, 32, 33, 43, 47, 53]\n",
      "[0, 1, 4, 6, 10, 15, 17, 19, 21, 29, 32, 33, 43, 47, 53]\n",
      "[0, 1, 4, 6, 10, 15, 17, 19, 21, 29, 32, 33, 43, 47, 53]\n",
      "[0, 1, 4, 6, 10, 15, 17, 19, 21, 29, 32, 33, 43, 47, 53]\n",
      "[0, 1, 4, 6, 10, 15, 17, 19, 21, 29, 32, 33, 43, 47, 53]\n",
      "[0, 1, 4, 6, 10, 15, 17, 19, 21, 29, 32, 33, 43, 47, 53]\n",
      "[0, 1, 4, 6, 10, 15, 17, 19, 21, 29, 32, 33, 43, 47, 53]\n",
      "[0, 1, 4, 6, 10, 15, 17, 19, 21, 29, 32, 33, 43, 47, 53]\n",
      "[0, 1, 4, 6, 10, 15, 17, 19, 21, 29, 32, 33, 43, 47, 53]\n",
      "[0, 1, 4, 6, 10, 15, 17, 19, 21, 29, 32, 33, 43, 47, 53]\n"
     ]
    }
   ],
   "source": [
    "oofss = []\n",
    "for prfx in prfxes:\n",
    "    p_out = f'../output/{prfx}'\n",
    "    res = pickle.load(open(f'{p_out}/results_{prfx}.p', 'rb'))\n",
    "    param = res['param']\n",
    "    p_prp = f'../output/{param.PRFX_PREP}'\n",
    "    dftrn = pd.read_csv(f'{p_prp}/train_all_dedup.csv') \n",
    "\n",
    "    vls=[]\n",
    "    oofs=[]\n",
    "    for fld in range(4):\n",
    "        ep2oof = pickle.load(open(f'{p_out}/ep2oof_{prfx}_fld_{fld}.p', 'rb'))\n",
    "        _,vl= res['fld2trvl'][fld]\n",
    "        vls += list(vl)\n",
    "        ep2oof = np.concatenate(ep2oof, 1)\n",
    "        oof = ep2oof.mean(1)\n",
    "        oofs += list(oof)\n",
    "\n",
    "    ys = dftrn.target.iloc[vls]\n",
    "    sortedzip = sorted(zip(vls, oofs, ys))\n",
    "    _, oofs, ys = list(zip(*sortedzip))\n",
    "    assert np.all(dftrn.target==ys)\n",
    "    print(vls[:15])\n",
    "    oofss.append(oofs)\n",
    "oofss = np.array(oofss)"
   ]
  },
  {
   "cell_type": "code",
   "execution_count": 26,
   "metadata": {},
   "outputs": [
    {
     "data": {
      "text/plain": [
       "(28, 58032)"
      ]
     },
     "execution_count": 26,
     "metadata": {},
     "output_type": "execute_result"
    }
   ],
   "source": [
    "oofss.shape"
   ]
  },
  {
   "cell_type": "code",
   "execution_count": 27,
   "metadata": {},
   "outputs": [],
   "source": [
    "import scipy as sp\n",
    "\n",
    "class OptimizedRounder(object):\n",
    "    def __init__(self):\n",
    "        self.coef_ = 0\n",
    "    \n",
    "    def _minus_scr(self, coef):\n",
    "        prd = np.average(oofss, axis=0, weights=coef)\n",
    "        scr = roc_auc(ys, prd)\n",
    "        return -scr\n",
    "    \n",
    "    def fit(self):\n",
    "        initial_coef = wgts0\n",
    "        self.coef_ = sp.optimize.minimize(self._minus_scr, initial_coef, method='Nelder-Mead')\n",
    "    \n",
    "    def get_coef(self):\n",
    "        return self.coef_['x']"
   ]
  },
  {
   "cell_type": "code",
   "execution_count": 28,
   "metadata": {},
   "outputs": [
    {
     "name": "stdout",
     "output_type": "stream",
     "text": [
      "CPU times: user 2min 15s, sys: 21.8 ms, total: 2min 15s\n",
      "Wall time: 2min 15s\n"
     ]
    }
   ],
   "source": [
    "%%time\n",
    "optR = OptimizedRounder()\n",
    "optR.fit()\n",
    "coef = optR.get_coef()\n"
   ]
  },
  {
   "cell_type": "code",
   "execution_count": 29,
   "metadata": {
    "scrolled": true
   },
   "outputs": [
    {
     "data": {
      "text/plain": [
       "array([-2.36354109e+00,  9.59267416e-01, -3.26540680e-01, -1.41463270e+00,\n",
       "        6.34379697e-01, -2.49405636e-01,  1.46502980e-01,  2.27754164e+00,\n",
       "       -2.44718284e+00,  9.73599267e-01, -2.67252130e+00,  5.94975009e+00,\n",
       "       -1.71181154e-01, -1.96034788e-01, -5.55893154e-01,  4.82796022e+00,\n",
       "       -1.88122645e-03, -1.44389909e+00,  2.14820691e+00,  9.79981327e-01,\n",
       "        3.62797332e+00, -2.33043481e+00,  3.67971348e+00,  3.19808941e+00,\n",
       "        2.50657509e+00,  7.86250283e-01,  9.72059568e-01, -1.08060167e+00])"
      ]
     },
     "execution_count": 29,
     "metadata": {},
     "output_type": "execute_result"
    }
   ],
   "source": [
    "coef"
   ]
  },
  {
   "cell_type": "code",
   "execution_count": 30,
   "metadata": {},
   "outputs": [
    {
     "data": {
      "text/plain": [
       "0.9438140016874772"
      ]
     },
     "execution_count": 30,
     "metadata": {},
     "output_type": "execute_result"
    }
   ],
   "source": [
    "prd=np.average(oofss, axis=0, weights=coef)\n",
    "roc_auc(ys, prd)"
   ]
  },
  {
   "cell_type": "code",
   "execution_count": 31,
   "metadata": {},
   "outputs": [],
   "source": [
    "prfx2wgt = dict(zip(prfxes, coef))"
   ]
  },
  {
   "cell_type": "code",
   "execution_count": 32,
   "metadata": {},
   "outputs": [
    {
     "name": "stdout",
     "output_type": "stream",
     "text": [
      "efficientnet-b0 224 0.9279 0.8960 -2.363541092872365 MelInf0726B2tta16\n",
      "efficientnet-b0 224 0.9236 0.8962 0.9592674156154578 MelInf0805A1tta16\n",
      "efficientnet-b1 224 0.9301 0.9082 -0.32654068037881795 MelInf0728A1tta16\n",
      "efficientnet-b2 224 0.9298 0.9062 -1.4146327041845135 MelInf0728B1tta16\n",
      "efficientnet-b2 224 0.9287 0.9053 0.634379696937637 MelInf0805C1tta16\n",
      "efficientnet-b3 224 0.9294 0.9063 -0.24940563574916308 MelInf0727A1tta16\n",
      "efficientnet-b3 224 0.9292 0.9064 0.14650297984741018 MelInf0805D1tta16\n",
      "efficientnet-b4 224 0.9318 0.9094 2.2775416387078864 MelInf0727B1tta16\n",
      "efficientnet-b4 224 0.9312 0.9103 -2.447182839109105 MelInf0805E1tta16\n",
      "efficientnet-b5 224 0.9288 0.9113 0.973599266837317 MelInf0726G2tta16\n",
      "efficientnet-b5 224 0.9277 0.8979 -2.6725213047667284 MelInf0726G4tta16\n",
      "efficientnet-b6 224 0.9331 0.9120 5.949750086998188 MelInf0726H2tta16epc456\n",
      "efficientnet-b0 384 0.9336 0.9063 -0.17118115403165227 MelInf0729H1tta16\n",
      "efficientnet-b1 384 0.9340 0.9196 -0.19603478751076112 MelInf0729E1tta16\n",
      "efficientnet-b2 384 0.9347 0.9205 -0.5558931543769705 MelInf0729D1tta16\n",
      "efficientnet-b2 384 0.9375 0.9302 4.827960218865533 MelInf0806C1tta16\n",
      "efficientnet-b3 384 0.9330 0.9169 -0.0018812264533430742 MelInf0729F1tta16\n",
      "efficientnet-b3 384 0.9353 0.9219 -1.443899090149006 MelInf0806D1tta16\n",
      "efficientnet-b4 384 0.9344 0.9224 2.148206910302074 MelInf0729C1tta16\n",
      "efficientnet-b4 384 0.9363 0.9179 0.9799813266396861 MelInf0729C1tta16epc456\n",
      "efficientnet-b4 384 0.9385 0.9226 3.627973321340078 Mel0806E1tta16epc345\n",
      "efficientnet-b4 384 0.9357 0.9195 -2.33043481272127 MelInf0808A1tta16\n",
      "efficientnet-b5 384 0.9354 0.9152 3.6797134805591227 MelInf0729G3tta16epc567\n",
      "efficientnet-b0 512 0.9348 0.9135 3.198089405292236 MelInf0801A1tta16\n",
      "efficientnet-b1 512 0.9357 0.9177 2.5065750944716507 MelInf0801B1tta16epc567\n",
      "efficientnet-b2 512 0.9350 0.9131 0.7862502829903477 MelInf0801C1tta16\n",
      "efficientnet-b3 512 0.9329 0.9110 0.9720595679538075 MelInf0801D2tta16\n",
      "efficientnet-b4 512 0.9312 0.9077 -1.0806016708285884 MelInf0801E1tta16\n"
     ]
    }
   ],
   "source": [
    "prfx2oofs = {}\n",
    "for prfx in prfx2wgt.keys():\n",
    "    p_out = f'../output/{prfx}'\n",
    "    res = pickle.load(open(f'{p_out}/results_{prfx}.p', 'rb'))\n",
    "    param = res['param']\n",
    "    p_prp = f'../output/{param.PRFX_PREP}'\n",
    "    dftrn = pd.read_csv(f'{p_prp}/train_all_dedup.csv') \n",
    "\n",
    "    vls=[]\n",
    "    oofs=[]\n",
    "    for fld in range(4):\n",
    "        ep2oof = pickle.load(open(f'{p_out}/ep2oof_{prfx}_fld_{fld}.p', 'rb'))\n",
    "        _,vl= res['fld2trvl'][fld]\n",
    "        vls += list(vl)\n",
    "        ep2oof = np.concatenate(ep2oof, 1)\n",
    "        oof = ep2oof.mean(1)\n",
    "        oofs += list(oof)\n",
    "\n",
    "    ys = dftrn.target.iloc[vls]\n",
    "    sortedzip = sorted(zip(vls, oofs, ys))\n",
    "    _, oofs, ys = list(zip(*sortedzip))\n",
    "    assert np.all(dftrn.target==ys)\n",
    "\n",
    "    oofs = np.array(oofs)\n",
    "    prfx2oofs[prfx] = oofs\n",
    "    \n",
    "    scr = roc_auc(ys, oofs)\n",
    "    print(param.ARCH, param.SZ, f'{scr:.4f}', end=' ')\n",
    "    \n",
    "    idx20 = np.where(dftrn.source==20)[0]\n",
    "    scr20 = roc_auc(dftrn.target.iloc[idx20], oofs[idx20])\n",
    "    print(f'{scr20:.4f}', prfx2wgt[prfx], prfx)"
   ]
  },
  {
   "cell_type": "code",
   "execution_count": 33,
   "metadata": {},
   "outputs": [
    {
     "name": "stdout",
     "output_type": "stream",
     "text": [
      "MelInfEsmb0813B1 0.9438 0.9320\n"
     ]
    }
   ],
   "source": [
    "oofs_esmb= np.zeros(len(dftrn))\n",
    "for prfx,wgt in prfx2wgt.items():\n",
    "    p_out = f'../output/{prfx}'\n",
    "    res = pickle.load(open(f'{p_out}/results_{prfx}.p', 'rb'))\n",
    "    param = res['param']\n",
    "    p_prp = f'../output/{param.PRFX_PREP}'\n",
    "    dftrn = pd.read_csv(f'{p_prp}/train_all_dedup.csv') \n",
    "\n",
    "    oofs_esmb += wgt*prfx2oofs[prfx]\n",
    "    scr = roc_auc(ys, oofs_esmb)\n",
    "    scr20 = roc_auc(dftrn.target.iloc[idx20], oofs_esmb[idx20])\n",
    "print(PRFX_ESMB, f'{scr:.4f}', f'{scr20:.4f}')"
   ]
  },
  {
   "cell_type": "code",
   "execution_count": 34,
   "metadata": {},
   "outputs": [
    {
     "name": "stdout",
     "output_type": "stream",
     "text": [
      "MelInf0726B2tta16 0.17577293900882407\n",
      "MelInf0805A1tta16 0.1852360767356046\n",
      "MelInf0728A1tta16 0.1697970152984186\n",
      "MelInf0728B1tta16 0.15783098760570596\n",
      "MelInf0805C1tta16 0.18550869943493037\n",
      "MelInf0727A1tta16 0.15930823437581493\n",
      "MelInf0805D1tta16 0.17837462669376472\n",
      "MelInf0727B1tta16 0.15253438272176548\n",
      "MelInf0805E1tta16 0.17570575343026482\n",
      "MelInf0726G2tta16 0.15595904496625135\n",
      "MelInf0726G4tta16 0.195412380182344\n",
      "MelInf0726H2tta16epc456 0.1767112095981086\n",
      "MelInf0729H1tta16 0.15282431964950818\n",
      "MelInf0729E1tta16 0.14824956054377292\n",
      "MelInf0729D1tta16 0.1499509768921909\n",
      "MelInf0806C1tta16 0.1632805076088609\n",
      "MelInf0729F1tta16 0.1487084176636413\n",
      "MelInf0806D1tta16 0.17213049339909336\n",
      "MelInf0729C1tta16 0.1371323752740608\n",
      "MelInf0729C1tta16epc456 0.1582704462621681\n",
      "Mel0806E1tta16epc345 0.1657605117769836\n",
      "MelInf0808A1tta16 0.1786412484494178\n",
      "MelInf0729G3tta16epc567 0.18763088324121233\n",
      "MelInf0801A1tta16 0.16702342384519106\n",
      "MelInf0801B1tta16epc567 0.17403774669167732\n",
      "MelInf0801C1tta16 0.1757464726584606\n",
      "MelInf0801D2tta16 0.19602787448723205\n",
      "MelInf0801E1tta16 0.19845013254322255\n"
     ]
    }
   ],
   "source": [
    "dfsub = pd.read_csv(f'{p_cmp}/sample_submission.csv') \n",
    "\n",
    "\n",
    "wgt_ttl=0\n",
    "sub_esmb=np.zeros(len(dfsub))\n",
    "for prfx,wgt in prfx2wgt.items():\n",
    "    p_out = f'../output/{prfx}'\n",
    "    res = pickle.load(open(f'{p_out}/results_{prfx}.p', 'rb'))\n",
    "    param = res['param']\n",
    "    dfsubi = pd.read_csv(f'{p_out}/submission_{prfx}_avglast{param.LASTM}.csv')\n",
    "    wgt_ttl+=wgt\n",
    "    subi = dfsubi.target\n",
    "    print(prfx, subi.mean())\n",
    "#     plt.hist(subi, bins=50);\n",
    "#     plt.show()\n",
    "    sub_esmb += wgt*subi\n",
    "sub_esmb/=wgt_ttl"
   ]
  },
  {
   "cell_type": "code",
   "execution_count": 35,
   "metadata": {},
   "outputs": [
    {
     "name": "stdout",
     "output_type": "stream",
     "text": [
      "0.16274426071099318\n"
     ]
    },
    {
     "data": {
      "text/html": [
       "<div>\n",
       "<style scoped>\n",
       "    .dataframe tbody tr th:only-of-type {\n",
       "        vertical-align: middle;\n",
       "    }\n",
       "\n",
       "    .dataframe tbody tr th {\n",
       "        vertical-align: top;\n",
       "    }\n",
       "\n",
       "    .dataframe thead th {\n",
       "        text-align: right;\n",
       "    }\n",
       "</style>\n",
       "<table border=\"1\" class=\"dataframe\">\n",
       "  <thead>\n",
       "    <tr style=\"text-align: right;\">\n",
       "      <th></th>\n",
       "      <th>image_name</th>\n",
       "      <th>target</th>\n",
       "    </tr>\n",
       "  </thead>\n",
       "  <tbody>\n",
       "    <tr>\n",
       "      <th>0</th>\n",
       "      <td>ISIC_0052060</td>\n",
       "      <td>0.073859</td>\n",
       "    </tr>\n",
       "    <tr>\n",
       "      <th>1</th>\n",
       "      <td>ISIC_0052349</td>\n",
       "      <td>0.053923</td>\n",
       "    </tr>\n",
       "    <tr>\n",
       "      <th>2</th>\n",
       "      <td>ISIC_0058510</td>\n",
       "      <td>0.077629</td>\n",
       "    </tr>\n",
       "  </tbody>\n",
       "</table>\n",
       "</div>"
      ],
      "text/plain": [
       "     image_name    target\n",
       "0  ISIC_0052060  0.073859\n",
       "1  ISIC_0052349  0.053923\n",
       "2  ISIC_0058510  0.077629"
      ]
     },
     "metadata": {},
     "output_type": "display_data"
    },
    {
     "data": {
      "image/png": "[encoded data removed]",
      "text/plain": [
       "<Figure size 432x288 with 1 Axes>"
      ]
     },
     "metadata": {
      "needs_background": "light"
     },
     "output_type": "display_data"
    }
   ],
   "source": [
    "print(sub_esmb.mean())\n",
    "dfsub.target = sub_esmb\n",
    "\n",
    "display(dfsub.head(3))\n",
    "plt.hist(dfsub.target, bins=50);"
   ]
  },
  {
   "cell_type": "code",
   "execution_count": 36,
   "metadata": {},
   "outputs": [],
   "source": [
    "dfsub.to_csv(f'{p_esmb}/submission_{PRFX_ESMB}.csv', index=False)"
   ]
  },
  {
   "cell_type": "code",
   "execution_count": null,
   "metadata": {},
   "outputs": [],
   "source": []
  },
  {
   "cell_type": "code",
   "execution_count": null,
   "metadata": {},
   "outputs": [],
   "source": []
  },
  {
   "cell_type": "code",
   "execution_count": null,
   "metadata": {},
   "outputs": [],
   "source": []
  }
 ],
 "metadata": {
  "kernelspec": {
   "display_name": "mel",
   "language": "python",
   "name": "mel"
  },
  "language_info": {
   "codemirror_mode": {
    "name": "ipython",
    "version": 3
   },
   "file_extension": ".py",
   "mimetype": "text/x-python",
   "name": "python",
   "nbconvert_exporter": "python",
   "pygments_lexer": "ipython3",
   "version": "3.7.7"
  },
  "toc": {
   "base_numbering": 1,
   "nav_menu": {},
   "number_sections": true,
   "sideBar": true,
   "skip_h1_title": false,
   "title_cell": "Table of Contents",
   "title_sidebar": "Contents",
   "toc_cell": false,
   "toc_position": {},
   "toc_section_display": true,
   "toc_window_display": true
  }
 },
 "nbformat": 4,
 "nbformat_minor": 4
}
