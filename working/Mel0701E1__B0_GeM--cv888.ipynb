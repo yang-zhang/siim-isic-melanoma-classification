{
 "cells": [
  {
   "cell_type": "markdown",
   "metadata": {},
   "source": [
    "compare Mel0701A1__B0SZ224__no_crop_edge--cv8926\n",
    "now GEM https://www.kaggle.com/c/aptos2019-blindness-detection/discussion/108065"
   ]
  },
  {
   "cell_type": "markdown",
   "metadata": {},
   "source": [
    "# start"
   ]
  },
  {
   "cell_type": "code",
   "execution_count": 1,
   "metadata": {},
   "outputs": [
    {
     "data": {
      "text/plain": [
       "{'PRFX': 'Mel0701E1',\n",
       " 'PRFX_B4': None,\n",
       " 'FLD2USE_B4': 0,\n",
       " 'PRFX_PREP': 'MelPrp0630B1',\n",
       " 'ARCH': 'efficientnet-b0',\n",
       " 'SZ': 224,\n",
       " 'EPOCHS': 100,\n",
       " 'BS': 48,\n",
       " 'K': 5,\n",
       " 'SEED': 101,\n",
       " 'FLD2USE': 0,\n",
       " 'FP16': True,\n",
       " 'PLTFACTOR': 0.5,\n",
       " 'PATIENCE': 5,\n",
       " 'MIN_LR': 1e-08,\n",
       " 'RandomResizedCrop_scale': (0.75, 1.0),\n",
       " 'LR': 0.003,\n",
       " 'WD': 0.001,\n",
       " 'N_SAMPL': None,\n",
       " 'DEBUG': False}"
      ]
     },
     "execution_count": 1,
     "metadata": {},
     "output_type": "execute_result"
    }
   ],
   "source": [
    "class Param: pass\n",
    "param = Param()\n",
    "\n",
    "#########################\n",
    "param.PRFX = 'Mel0701E1'#\n",
    "#########################\n",
    "\n",
    "param.PRFX_B4 = None; param.FLD2USE_B4 = 0\n",
    "param.PRFX_PREP = 'MelPrp0630B1' #MelPrp0630B1__resize_to600\n",
    "param.ARCH = 'efficientnet-b0'\n",
    "\n",
    "from efficientnet_pytorch import EfficientNet\n",
    "param.SZ = EfficientNet.get_image_size(param.ARCH) \n",
    "\n",
    "param.EPOCHS = 100\n",
    "\n",
    "# p2: efficientnet-b1 64\n",
    "param.BS = 48\n",
    "\n",
    "param.K=5; param.SEED=101; param.FLD2USE=0\n",
    "param.FP16 = True\n",
    "param.PLTFACTOR=0.5; param.PATIENCE=5; param.MIN_LR=1e-8\n",
    "\n",
    "param.RandomResizedCrop_scale=(0.75, 1.0)\n",
    "\n",
    "param.LR=3e-3\n",
    "param.WD=1e-3\n",
    "\n",
    "param.N_SAMPL = None\n",
    "\n",
    "param.DEBUG = False\n",
    "if param.DEBUG: \n",
    "    param.EPOCHS = 5\n",
    "    param.K = 5\n",
    "    param.N_SAMPL = 256\n",
    "\n",
    "DEVICE = 'cuda'; PIN_MEM = (DEVICE=='cuda'); N_WORKERS=4\n",
    "\n",
    "param.__dict__"
   ]
  },
  {
   "cell_type": "code",
   "execution_count": 2,
   "metadata": {},
   "outputs": [
    {
     "name": "stdout",
     "output_type": "stream",
     "text": [
      "Thu Jul  2 04:24:45 2020       \r\n",
      "+-----------------------------------------------------------------------------+\r\n",
      "| NVIDIA-SMI 440.100      Driver Version: 440.100      CUDA Version: 10.2     |\r\n",
      "|-------------------------------+----------------------+----------------------+\r\n",
      "| GPU  Name        Persistence-M| Bus-Id        Disp.A | Volatile Uncorr. ECC |\r\n",
      "| Fan  Temp  Perf  Pwr:Usage/Cap|         Memory-Usage | GPU-Util  Compute M. |\r\n",
      "|===============================+======================+======================|\r\n",
      "|   0  Tesla V100-SXM2...  Off  | 00000000:00:1E.0 Off |                    0 |\r\n",
      "| N/A   64C    P0    76W / 300W |  12073MiB / 16160MiB |     99%      Default |\r\n",
      "+-------------------------------+----------------------+----------------------+\r\n",
      "                                                                               \r\n",
      "+-----------------------------------------------------------------------------+\r\n",
      "| Processes:                                                       GPU Memory |\r\n",
      "|  GPU       PID   Type   Process name                             Usage      |\r\n",
      "|=============================================================================|\r\n",
      "|    0     10867      C   /data/anaconda3/envs/mel/bin/python         7227MiB |\r\n",
      "|    0     27057      C   /data/anaconda3/envs/mel/bin/python         4831MiB |\r\n",
      "+-----------------------------------------------------------------------------+\r\n"
     ]
    }
   ],
   "source": [
    "!nvidia-smi"
   ]
  },
  {
   "cell_type": "markdown",
   "metadata": {},
   "source": [
    "# setup"
   ]
  },
  {
   "cell_type": "code",
   "execution_count": 3,
   "metadata": {},
   "outputs": [],
   "source": [
    "from pathlib import Path\n",
    "import pickle\n",
    "import pandas as pd\n",
    "import numpy as np\n",
    "import random\n",
    "import os, sys, gc\n",
    "import datetime\n",
    "from collections import defaultdict, Counter\n",
    "import matplotlib.pyplot as plt\n",
    "from PIL import Image\n",
    "from tqdm import tqdm\n",
    "from sklearn.model_selection import GroupKFold\n",
    "from sklearn.metrics import roc_auc_score as roc_auc\n",
    "\n",
    "# https://github.com/eriklindernoren/PyTorch-YOLOv3/issues/162#issuecomment-491115265\n",
    "from PIL import ImageFile; ImageFile.LOAD_TRUNCATED_IMAGES = True\n",
    "\n",
    "def dtnow(): return datetime.datetime.now().strftime('%Y-%m-%d %H:%M:%S')\n",
    "\n",
    "import torch\n",
    "device=torch.device(DEVICE)\n",
    "import torch.nn as nn\n",
    "import torch.nn.functional as F\n",
    "from torch.utils.data import Dataset, DataLoader\n",
    "import torchvision.transforms as transforms\n",
    "import torch.optim as optim\n",
    "from torch.optim import lr_scheduler\n",
    "\n",
    "from efficientnet_pytorch import EfficientNet\n",
    "\n",
    "from apex import amp\n",
    "\n",
    "def sigmoid(x): return 1 / (1 + np.exp(-x))\n",
    "\n",
    "def set_seed(seed):\n",
    "    random.seed(seed)\n",
    "    os.environ['PYTHONHASHSEED'] = str(seed)\n",
    "    np.random.seed(seed)\n",
    "    torch.manual_seed(seed)\n",
    "    torch.cuda.manual_seed(seed)\n",
    "    torch.backends.cudnn.deterministic = True\n",
    "set_seed(param.SEED)\n",
    "\n",
    "\n",
    "\n",
    "p_out = f'../output/{param.PRFX}'; Path(p_out).mkdir(exist_ok=True,parents=True)\n",
    "p_cmp = '../input/siim-isic-melanoma-classification'\n",
    "p_b4  = f'../output/{param.PRFX_B4}'\n"
   ]
  },
  {
   "cell_type": "markdown",
   "metadata": {},
   "source": [
    "# prep"
   ]
  },
  {
   "cell_type": "code",
   "execution_count": 4,
   "metadata": {
    "scrolled": false
   },
   "outputs": [
    {
     "name": "stdout",
     "output_type": "stream",
     "text": [
      "(58457, 4)\n"
     ]
    },
    {
     "data": {
      "text/html": [
       "<div>\n",
       "<style scoped>\n",
       "    .dataframe tbody tr th:only-of-type {\n",
       "        vertical-align: middle;\n",
       "    }\n",
       "\n",
       "    .dataframe tbody tr th {\n",
       "        vertical-align: top;\n",
       "    }\n",
       "\n",
       "    .dataframe thead th {\n",
       "        text-align: right;\n",
       "    }\n",
       "</style>\n",
       "<table border=\"1\" class=\"dataframe\">\n",
       "  <thead>\n",
       "    <tr style=\"text-align: right;\">\n",
       "      <th></th>\n",
       "      <th>source</th>\n",
       "      <th>im_pth</th>\n",
       "      <th>patient_id</th>\n",
       "      <th>target</th>\n",
       "    </tr>\n",
       "  </thead>\n",
       "  <tbody>\n",
       "    <tr>\n",
       "      <th>24437</th>\n",
       "      <td>20</td>\n",
       "      <td>../output/MelPrp0630B1/siim-isic-melanoma-clas...</td>\n",
       "      <td>IP_4021847</td>\n",
       "      <td>0.0</td>\n",
       "    </tr>\n",
       "    <tr>\n",
       "      <th>57432</th>\n",
       "      <td>19</td>\n",
       "      <td>../output/MelPrp0630B1/andrewmvd--isic-2019/IS...</td>\n",
       "      <td>BCN_0004730</td>\n",
       "      <td>1.0</td>\n",
       "    </tr>\n",
       "  </tbody>\n",
       "</table>\n",
       "</div>"
      ],
      "text/plain": [
       "       source                                             im_pth   patient_id  \\\n",
       "24437      20  ../output/MelPrp0630B1/siim-isic-melanoma-clas...   IP_4021847   \n",
       "57432      19  ../output/MelPrp0630B1/andrewmvd--isic-2019/IS...  BCN_0004730   \n",
       "\n",
       "       target  \n",
       "24437     0.0  \n",
       "57432     1.0  "
      ]
     },
     "metadata": {},
     "output_type": "display_data"
    },
    {
     "data": {
      "text/plain": [
       "(58457, 4)"
      ]
     },
     "metadata": {},
     "output_type": "display_data"
    },
    {
     "data": {
      "text/plain": [
       "20    33126\n",
       "19    25331\n",
       "Name: source, dtype: int64"
      ]
     },
     "metadata": {},
     "output_type": "display_data"
    },
    {
     "data": {
      "text/plain": [
       "source\n",
       "19    0.178516\n",
       "20    0.017630\n",
       "Name: target, dtype: float64"
      ]
     },
     "metadata": {},
     "output_type": "display_data"
    }
   ],
   "source": [
    "p_prp = f'../output/{param.PRFX_PREP}'\n",
    "dftrn = pd.read_csv(f'{p_prp}/train_all.csv') \n",
    "print(dftrn.shape)\n",
    "\n",
    "set_seed(param.SEED); dftrn = dftrn.sample(frac=1.)\n",
    "\n",
    "if param.N_SAMPL is not None: dftrn = dftrn.head(param.N_SAMPL)\n",
    "    \n",
    "display(dftrn.head(2))\n",
    "display(dftrn.shape)\n",
    "display(dftrn.source.value_counts())\n",
    "display(dftrn.groupby('source').target.mean())"
   ]
  },
  {
   "cell_type": "markdown",
   "metadata": {},
   "source": [
    "## folds"
   ]
  },
  {
   "cell_type": "code",
   "execution_count": 5,
   "metadata": {},
   "outputs": [
    {
     "name": "stdout",
     "output_type": "stream",
     "text": [
      "2084\n"
     ]
    },
    {
     "name": "stderr",
     "output_type": "stream",
     "text": [
      "/data/anaconda3/envs/mel/lib/python3.7/site-packages/pandas/core/indexing.py:671: SettingWithCopyWarning: \n",
      "A value is trying to be set on a copy of a slice from a DataFrame\n",
      "\n",
      "See the caveats in the documentation: https://pandas.pydata.org/pandas-docs/stable/user_guide/indexing.html#returning-a-view-versus-a-copy\n",
      "  self._setitem_with_indexer(indexer, value)\n"
     ]
    }
   ],
   "source": [
    "idx_nopid=np.where(dftrn.patient_id.isna())[0]\n",
    "print(len(idx_nopid))\n",
    "dftrn['patient_id'].iloc[idx_nopid]=[f'Nan_{i}' for i in range(len(idx_nopid))]\n",
    "assert dftrn.patient_id.isna().mean()==0"
   ]
  },
  {
   "cell_type": "code",
   "execution_count": 6,
   "metadata": {},
   "outputs": [
    {
     "name": "stdout",
     "output_type": "stream",
     "text": [
      "0 46765 11692\n",
      "1 46765 11692\n",
      "2 46766 11691\n",
      "3 46766 11691\n",
      "4 46766 11691\n"
     ]
    },
    {
     "data": {
      "text/plain": [
       "0.0    0.913953\n",
       "1.0    0.086047\n",
       "Name: target, dtype: float64"
      ]
     },
     "metadata": {},
     "output_type": "display_data"
    },
    {
     "data": {
      "text/plain": [
       "0.0    0.911066\n",
       "1.0    0.088934\n",
       "Name: target, dtype: float64"
      ]
     },
     "metadata": {},
     "output_type": "display_data"
    },
    {
     "data": {
      "text/plain": [
       "0.0    0.915173\n",
       "1.0    0.084827\n",
       "Name: target, dtype: float64"
      ]
     },
     "metadata": {},
     "output_type": "display_data"
    },
    {
     "data": {
      "text/plain": [
       "0.0    0.91218\n",
       "1.0    0.08782\n",
       "Name: target, dtype: float64"
      ]
     },
     "metadata": {},
     "output_type": "display_data"
    },
    {
     "data": {
      "text/plain": [
       "0.0    0.910897\n",
       "1.0    0.089103\n",
       "Name: target, dtype: float64"
      ]
     },
     "metadata": {},
     "output_type": "display_data"
    },
    {
     "data": {
      "text/plain": [
       "20    26536\n",
       "19    20229\n",
       "Name: source, dtype: int64"
      ]
     },
     "metadata": {},
     "output_type": "display_data"
    },
    {
     "data": {
      "text/plain": [
       "20    26644\n",
       "19    20121\n",
       "Name: source, dtype: int64"
      ]
     },
     "metadata": {},
     "output_type": "display_data"
    },
    {
     "data": {
      "text/plain": [
       "20    26529\n",
       "19    20237\n",
       "Name: source, dtype: int64"
      ]
     },
     "metadata": {},
     "output_type": "display_data"
    },
    {
     "data": {
      "text/plain": [
       "20    26491\n",
       "19    20275\n",
       "Name: source, dtype: int64"
      ]
     },
     "metadata": {},
     "output_type": "display_data"
    },
    {
     "data": {
      "text/plain": [
       "20    26304\n",
       "19    20462\n",
       "Name: source, dtype: int64"
      ]
     },
     "metadata": {},
     "output_type": "display_data"
    }
   ],
   "source": [
    "set_seed(param.SEED)\n",
    "kf = GroupKFold(n_splits=param.K)\n",
    "fld2trvl={fld:(tr,vl) for fld,(tr,vl) in enumerate(kf.split(dftrn, groups=dftrn.patient_id))}\n",
    "\n",
    "for fld, (tr, vl) in fld2trvl.items():\n",
    "    print(fld, len(tr), len(vl))\n",
    "    dftr=dftrn.iloc[tr]\n",
    "    dfvl=dftrn.iloc[vl]\n",
    "    assert set(dftr.patient_id)&set(dfvl.patient_id)==set()\n",
    "for fld, (tr, vl) in fld2trvl.items():\n",
    "    dftr=dftrn.iloc[tr]\n",
    "    display(dftr.target.value_counts()/len(tr))\n",
    "for fld, (tr, vl) in fld2trvl.items():\n",
    "    dftr=dftrn.iloc[tr]\n",
    "    display(dftr.source.value_counts())\n"
   ]
  },
  {
   "cell_type": "markdown",
   "metadata": {},
   "source": [
    "# dataset"
   ]
  },
  {
   "cell_type": "code",
   "execution_count": 7,
   "metadata": {},
   "outputs": [],
   "source": [
    "class MelDataset(Dataset):\n",
    "    def __init__(self, df, mode='trn'):\n",
    "        self.df = df\n",
    "        self.mode = mode\n",
    "        if mode=='trn':\n",
    "            self.composed = transforms.Compose([\n",
    "                transforms.RandomResizedCrop(param.SZ, scale=param.RandomResizedCrop_scale),\n",
    "#                 transforms.RandomHorizontalFlip(),\n",
    "#                 transforms.RandomVerticalFlip(),\n",
    "                transforms.RandomRotation(180),\n",
    "                transforms.ColorJitter(brightness=32. / 255.,saturation=0.5),\n",
    "                transforms.ToTensor(),\n",
    "                transforms.Normalize([0.485, 0.456, 0.406], [0.229, 0.224, 0.225]),\n",
    "            ])    \n",
    "        else:\n",
    "            self.composed = transforms.Compose([\n",
    "                transforms.Resize((param.SZ, param.SZ)),\n",
    "                transforms.ToTensor(),\n",
    "                transforms.Normalize([0.485, 0.456, 0.406], [0.229, 0.224, 0.225]),\n",
    "            ])    \n",
    "    def __getitem__(self, i):\n",
    "        x = Image.open(self.df.im_pth.values[i]) \n",
    "        x = self.composed(x)\n",
    "        if self.mode in ('trn', 'val'):\n",
    "            y = self.df.target.values[i]\n",
    "            return x, y\n",
    "        else:\n",
    "            return (x,)\n",
    "    \n",
    "    def __len__(self):\n",
    "        return len(self.df)    "
   ]
  },
  {
   "cell_type": "markdown",
   "metadata": {},
   "source": [
    "# model"
   ]
  },
  {
   "cell_type": "code",
   "execution_count": 8,
   "metadata": {},
   "outputs": [],
   "source": [
    "from torch.nn.parameter import Parameter\n",
    "\n",
    "def gem(x, p=3, eps=1e-6):\n",
    "    return F.avg_pool2d(x.clamp(min=eps).pow(p), (x.size(-2), x.size(-1))).pow(1./p)\n",
    "\n",
    "class GeM(nn.Module):\n",
    "    def __init__(self, p=3, eps=1e-6):\n",
    "        super(GeM,self).__init__()\n",
    "        self.p = Parameter(torch.ones(1)*p)\n",
    "        self.eps = eps\n",
    "    def forward(self, x):\n",
    "        return gem(x, p=self.p, eps=self.eps)       \n",
    "    def __repr__(self):\n",
    "        return self.__class__.__name__ + '(' + 'p=' + '{:.4f}'.format(self.p.data.tolist()[0]) + ', ' + 'eps=' + str(self.eps) + ')'"
   ]
  },
  {
   "cell_type": "code",
   "execution_count": 9,
   "metadata": {},
   "outputs": [],
   "source": [
    "def mkmdl():  \n",
    "    mdl = EfficientNet.from_pretrained(param.ARCH, num_classes=1)\n",
    "    mdl._avg_pooling = GeM()\n",
    "    return mdl"
   ]
  },
  {
   "cell_type": "code",
   "execution_count": 10,
   "metadata": {},
   "outputs": [
    {
     "name": "stdout",
     "output_type": "stream",
     "text": [
      "Loaded pretrained weights for efficientnet-b0\n"
     ]
    }
   ],
   "source": [
    "mdl = mkmdl()"
   ]
  },
  {
   "cell_type": "code",
   "execution_count": 11,
   "metadata": {
    "scrolled": false
   },
   "outputs": [
    {
     "data": {
      "text/plain": [
       "EfficientNet(\n",
       "  (_conv_stem): Conv2dStaticSamePadding(\n",
       "    3, 32, kernel_size=(3, 3), stride=(2, 2), bias=False\n",
       "    (static_padding): ZeroPad2d(padding=(0, 1, 0, 1), value=0.0)\n",
       "  )\n",
       "  (_bn0): BatchNorm2d(32, eps=0.001, momentum=0.010000000000000009, affine=True, track_running_stats=True)\n",
       "  (_blocks): ModuleList(\n",
       "    (0): MBConvBlock(\n",
       "      (_depthwise_conv): Conv2dStaticSamePadding(\n",
       "        32, 32, kernel_size=(3, 3), stride=[1, 1], groups=32, bias=False\n",
       "        (static_padding): ZeroPad2d(padding=(1, 1, 1, 1), value=0.0)\n",
       "      )\n",
       "      (_bn1): BatchNorm2d(32, eps=0.001, momentum=0.010000000000000009, affine=True, track_running_stats=True)\n",
       "      (_se_reduce): Conv2dStaticSamePadding(\n",
       "        32, 8, kernel_size=(1, 1), stride=(1, 1)\n",
       "        (static_padding): Identity()\n",
       "      )\n",
       "      (_se_expand): Conv2dStaticSamePadding(\n",
       "        8, 32, kernel_size=(1, 1), stride=(1, 1)\n",
       "        (static_padding): Identity()\n",
       "      )\n",
       "      (_project_conv): Conv2dStaticSamePadding(\n",
       "        32, 16, kernel_size=(1, 1), stride=(1, 1), bias=False\n",
       "        (static_padding): Identity()\n",
       "      )\n",
       "      (_bn2): BatchNorm2d(16, eps=0.001, momentum=0.010000000000000009, affine=True, track_running_stats=True)\n",
       "      (_swish): MemoryEfficientSwish()\n",
       "    )\n",
       "    (1): MBConvBlock(\n",
       "      (_expand_conv): Conv2dStaticSamePadding(\n",
       "        16, 96, kernel_size=(1, 1), stride=(1, 1), bias=False\n",
       "        (static_padding): Identity()\n",
       "      )\n",
       "      (_bn0): BatchNorm2d(96, eps=0.001, momentum=0.010000000000000009, affine=True, track_running_stats=True)\n",
       "      (_depthwise_conv): Conv2dStaticSamePadding(\n",
       "        96, 96, kernel_size=(3, 3), stride=[2, 2], groups=96, bias=False\n",
       "        (static_padding): ZeroPad2d(padding=(0, 1, 0, 1), value=0.0)\n",
       "      )\n",
       "      (_bn1): BatchNorm2d(96, eps=0.001, momentum=0.010000000000000009, affine=True, track_running_stats=True)\n",
       "      (_se_reduce): Conv2dStaticSamePadding(\n",
       "        96, 4, kernel_size=(1, 1), stride=(1, 1)\n",
       "        (static_padding): Identity()\n",
       "      )\n",
       "      (_se_expand): Conv2dStaticSamePadding(\n",
       "        4, 96, kernel_size=(1, 1), stride=(1, 1)\n",
       "        (static_padding): Identity()\n",
       "      )\n",
       "      (_project_conv): Conv2dStaticSamePadding(\n",
       "        96, 24, kernel_size=(1, 1), stride=(1, 1), bias=False\n",
       "        (static_padding): Identity()\n",
       "      )\n",
       "      (_bn2): BatchNorm2d(24, eps=0.001, momentum=0.010000000000000009, affine=True, track_running_stats=True)\n",
       "      (_swish): MemoryEfficientSwish()\n",
       "    )\n",
       "    (2): MBConvBlock(\n",
       "      (_expand_conv): Conv2dStaticSamePadding(\n",
       "        24, 144, kernel_size=(1, 1), stride=(1, 1), bias=False\n",
       "        (static_padding): Identity()\n",
       "      )\n",
       "      (_bn0): BatchNorm2d(144, eps=0.001, momentum=0.010000000000000009, affine=True, track_running_stats=True)\n",
       "      (_depthwise_conv): Conv2dStaticSamePadding(\n",
       "        144, 144, kernel_size=(3, 3), stride=(1, 1), groups=144, bias=False\n",
       "        (static_padding): ZeroPad2d(padding=(1, 1, 1, 1), value=0.0)\n",
       "      )\n",
       "      (_bn1): BatchNorm2d(144, eps=0.001, momentum=0.010000000000000009, affine=True, track_running_stats=True)\n",
       "      (_se_reduce): Conv2dStaticSamePadding(\n",
       "        144, 6, kernel_size=(1, 1), stride=(1, 1)\n",
       "        (static_padding): Identity()\n",
       "      )\n",
       "      (_se_expand): Conv2dStaticSamePadding(\n",
       "        6, 144, kernel_size=(1, 1), stride=(1, 1)\n",
       "        (static_padding): Identity()\n",
       "      )\n",
       "      (_project_conv): Conv2dStaticSamePadding(\n",
       "        144, 24, kernel_size=(1, 1), stride=(1, 1), bias=False\n",
       "        (static_padding): Identity()\n",
       "      )\n",
       "      (_bn2): BatchNorm2d(24, eps=0.001, momentum=0.010000000000000009, affine=True, track_running_stats=True)\n",
       "      (_swish): MemoryEfficientSwish()\n",
       "    )\n",
       "    (3): MBConvBlock(\n",
       "      (_expand_conv): Conv2dStaticSamePadding(\n",
       "        24, 144, kernel_size=(1, 1), stride=(1, 1), bias=False\n",
       "        (static_padding): Identity()\n",
       "      )\n",
       "      (_bn0): BatchNorm2d(144, eps=0.001, momentum=0.010000000000000009, affine=True, track_running_stats=True)\n",
       "      (_depthwise_conv): Conv2dStaticSamePadding(\n",
       "        144, 144, kernel_size=(5, 5), stride=[2, 2], groups=144, bias=False\n",
       "        (static_padding): ZeroPad2d(padding=(1, 2, 1, 2), value=0.0)\n",
       "      )\n",
       "      (_bn1): BatchNorm2d(144, eps=0.001, momentum=0.010000000000000009, affine=True, track_running_stats=True)\n",
       "      (_se_reduce): Conv2dStaticSamePadding(\n",
       "        144, 6, kernel_size=(1, 1), stride=(1, 1)\n",
       "        (static_padding): Identity()\n",
       "      )\n",
       "      (_se_expand): Conv2dStaticSamePadding(\n",
       "        6, 144, kernel_size=(1, 1), stride=(1, 1)\n",
       "        (static_padding): Identity()\n",
       "      )\n",
       "      (_project_conv): Conv2dStaticSamePadding(\n",
       "        144, 40, kernel_size=(1, 1), stride=(1, 1), bias=False\n",
       "        (static_padding): Identity()\n",
       "      )\n",
       "      (_bn2): BatchNorm2d(40, eps=0.001, momentum=0.010000000000000009, affine=True, track_running_stats=True)\n",
       "      (_swish): MemoryEfficientSwish()\n",
       "    )\n",
       "    (4): MBConvBlock(\n",
       "      (_expand_conv): Conv2dStaticSamePadding(\n",
       "        40, 240, kernel_size=(1, 1), stride=(1, 1), bias=False\n",
       "        (static_padding): Identity()\n",
       "      )\n",
       "      (_bn0): BatchNorm2d(240, eps=0.001, momentum=0.010000000000000009, affine=True, track_running_stats=True)\n",
       "      (_depthwise_conv): Conv2dStaticSamePadding(\n",
       "        240, 240, kernel_size=(5, 5), stride=(1, 1), groups=240, bias=False\n",
       "        (static_padding): ZeroPad2d(padding=(2, 2, 2, 2), value=0.0)\n",
       "      )\n",
       "      (_bn1): BatchNorm2d(240, eps=0.001, momentum=0.010000000000000009, affine=True, track_running_stats=True)\n",
       "      (_se_reduce): Conv2dStaticSamePadding(\n",
       "        240, 10, kernel_size=(1, 1), stride=(1, 1)\n",
       "        (static_padding): Identity()\n",
       "      )\n",
       "      (_se_expand): Conv2dStaticSamePadding(\n",
       "        10, 240, kernel_size=(1, 1), stride=(1, 1)\n",
       "        (static_padding): Identity()\n",
       "      )\n",
       "      (_project_conv): Conv2dStaticSamePadding(\n",
       "        240, 40, kernel_size=(1, 1), stride=(1, 1), bias=False\n",
       "        (static_padding): Identity()\n",
       "      )\n",
       "      (_bn2): BatchNorm2d(40, eps=0.001, momentum=0.010000000000000009, affine=True, track_running_stats=True)\n",
       "      (_swish): MemoryEfficientSwish()\n",
       "    )\n",
       "    (5): MBConvBlock(\n",
       "      (_expand_conv): Conv2dStaticSamePadding(\n",
       "        40, 240, kernel_size=(1, 1), stride=(1, 1), bias=False\n",
       "        (static_padding): Identity()\n",
       "      )\n",
       "      (_bn0): BatchNorm2d(240, eps=0.001, momentum=0.010000000000000009, affine=True, track_running_stats=True)\n",
       "      (_depthwise_conv): Conv2dStaticSamePadding(\n",
       "        240, 240, kernel_size=(3, 3), stride=[2, 2], groups=240, bias=False\n",
       "        (static_padding): ZeroPad2d(padding=(0, 1, 0, 1), value=0.0)\n",
       "      )\n",
       "      (_bn1): BatchNorm2d(240, eps=0.001, momentum=0.010000000000000009, affine=True, track_running_stats=True)\n",
       "      (_se_reduce): Conv2dStaticSamePadding(\n",
       "        240, 10, kernel_size=(1, 1), stride=(1, 1)\n",
       "        (static_padding): Identity()\n",
       "      )\n",
       "      (_se_expand): Conv2dStaticSamePadding(\n",
       "        10, 240, kernel_size=(1, 1), stride=(1, 1)\n",
       "        (static_padding): Identity()\n",
       "      )\n",
       "      (_project_conv): Conv2dStaticSamePadding(\n",
       "        240, 80, kernel_size=(1, 1), stride=(1, 1), bias=False\n",
       "        (static_padding): Identity()\n",
       "      )\n",
       "      (_bn2): BatchNorm2d(80, eps=0.001, momentum=0.010000000000000009, affine=True, track_running_stats=True)\n",
       "      (_swish): MemoryEfficientSwish()\n",
       "    )\n",
       "    (6): MBConvBlock(\n",
       "      (_expand_conv): Conv2dStaticSamePadding(\n",
       "        80, 480, kernel_size=(1, 1), stride=(1, 1), bias=False\n",
       "        (static_padding): Identity()\n",
       "      )\n",
       "      (_bn0): BatchNorm2d(480, eps=0.001, momentum=0.010000000000000009, affine=True, track_running_stats=True)\n",
       "      (_depthwise_conv): Conv2dStaticSamePadding(\n",
       "        480, 480, kernel_size=(3, 3), stride=(1, 1), groups=480, bias=False\n",
       "        (static_padding): ZeroPad2d(padding=(1, 1, 1, 1), value=0.0)\n",
       "      )\n",
       "      (_bn1): BatchNorm2d(480, eps=0.001, momentum=0.010000000000000009, affine=True, track_running_stats=True)\n",
       "      (_se_reduce): Conv2dStaticSamePadding(\n",
       "        480, 20, kernel_size=(1, 1), stride=(1, 1)\n",
       "        (static_padding): Identity()\n",
       "      )\n",
       "      (_se_expand): Conv2dStaticSamePadding(\n",
       "        20, 480, kernel_size=(1, 1), stride=(1, 1)\n",
       "        (static_padding): Identity()\n",
       "      )\n",
       "      (_project_conv): Conv2dStaticSamePadding(\n",
       "        480, 80, kernel_size=(1, 1), stride=(1, 1), bias=False\n",
       "        (static_padding): Identity()\n",
       "      )\n",
       "      (_bn2): BatchNorm2d(80, eps=0.001, momentum=0.010000000000000009, affine=True, track_running_stats=True)\n",
       "      (_swish): MemoryEfficientSwish()\n",
       "    )\n",
       "    (7): MBConvBlock(\n",
       "      (_expand_conv): Conv2dStaticSamePadding(\n",
       "        80, 480, kernel_size=(1, 1), stride=(1, 1), bias=False\n",
       "        (static_padding): Identity()\n",
       "      )\n",
       "      (_bn0): BatchNorm2d(480, eps=0.001, momentum=0.010000000000000009, affine=True, track_running_stats=True)\n",
       "      (_depthwise_conv): Conv2dStaticSamePadding(\n",
       "        480, 480, kernel_size=(3, 3), stride=(1, 1), groups=480, bias=False\n",
       "        (static_padding): ZeroPad2d(padding=(1, 1, 1, 1), value=0.0)\n",
       "      )\n",
       "      (_bn1): BatchNorm2d(480, eps=0.001, momentum=0.010000000000000009, affine=True, track_running_stats=True)\n",
       "      (_se_reduce): Conv2dStaticSamePadding(\n",
       "        480, 20, kernel_size=(1, 1), stride=(1, 1)\n",
       "        (static_padding): Identity()\n",
       "      )\n",
       "      (_se_expand): Conv2dStaticSamePadding(\n",
       "        20, 480, kernel_size=(1, 1), stride=(1, 1)\n",
       "        (static_padding): Identity()\n",
       "      )\n",
       "      (_project_conv): Conv2dStaticSamePadding(\n",
       "        480, 80, kernel_size=(1, 1), stride=(1, 1), bias=False\n",
       "        (static_padding): Identity()\n",
       "      )\n",
       "      (_bn2): BatchNorm2d(80, eps=0.001, momentum=0.010000000000000009, affine=True, track_running_stats=True)\n",
       "      (_swish): MemoryEfficientSwish()\n",
       "    )\n",
       "    (8): MBConvBlock(\n",
       "      (_expand_conv): Conv2dStaticSamePadding(\n",
       "        80, 480, kernel_size=(1, 1), stride=(1, 1), bias=False\n",
       "        (static_padding): Identity()\n",
       "      )\n",
       "      (_bn0): BatchNorm2d(480, eps=0.001, momentum=0.010000000000000009, affine=True, track_running_stats=True)\n",
       "      (_depthwise_conv): Conv2dStaticSamePadding(\n",
       "        480, 480, kernel_size=(5, 5), stride=[1, 1], groups=480, bias=False\n",
       "        (static_padding): ZeroPad2d(padding=(2, 2, 2, 2), value=0.0)\n",
       "      )\n",
       "      (_bn1): BatchNorm2d(480, eps=0.001, momentum=0.010000000000000009, affine=True, track_running_stats=True)\n",
       "      (_se_reduce): Conv2dStaticSamePadding(\n",
       "        480, 20, kernel_size=(1, 1), stride=(1, 1)\n",
       "        (static_padding): Identity()\n",
       "      )\n",
       "      (_se_expand): Conv2dStaticSamePadding(\n",
       "        20, 480, kernel_size=(1, 1), stride=(1, 1)\n",
       "        (static_padding): Identity()\n",
       "      )\n",
       "      (_project_conv): Conv2dStaticSamePadding(\n",
       "        480, 112, kernel_size=(1, 1), stride=(1, 1), bias=False\n",
       "        (static_padding): Identity()\n",
       "      )\n",
       "      (_bn2): BatchNorm2d(112, eps=0.001, momentum=0.010000000000000009, affine=True, track_running_stats=True)\n",
       "      (_swish): MemoryEfficientSwish()\n",
       "    )\n",
       "    (9): MBConvBlock(\n",
       "      (_expand_conv): Conv2dStaticSamePadding(\n",
       "        112, 672, kernel_size=(1, 1), stride=(1, 1), bias=False\n",
       "        (static_padding): Identity()\n",
       "      )\n",
       "      (_bn0): BatchNorm2d(672, eps=0.001, momentum=0.010000000000000009, affine=True, track_running_stats=True)\n",
       "      (_depthwise_conv): Conv2dStaticSamePadding(\n",
       "        672, 672, kernel_size=(5, 5), stride=(1, 1), groups=672, bias=False\n",
       "        (static_padding): ZeroPad2d(padding=(2, 2, 2, 2), value=0.0)\n",
       "      )\n",
       "      (_bn1): BatchNorm2d(672, eps=0.001, momentum=0.010000000000000009, affine=True, track_running_stats=True)\n",
       "      (_se_reduce): Conv2dStaticSamePadding(\n",
       "        672, 28, kernel_size=(1, 1), stride=(1, 1)\n",
       "        (static_padding): Identity()\n",
       "      )\n",
       "      (_se_expand): Conv2dStaticSamePadding(\n",
       "        28, 672, kernel_size=(1, 1), stride=(1, 1)\n",
       "        (static_padding): Identity()\n",
       "      )\n",
       "      (_project_conv): Conv2dStaticSamePadding(\n",
       "        672, 112, kernel_size=(1, 1), stride=(1, 1), bias=False\n",
       "        (static_padding): Identity()\n",
       "      )\n",
       "      (_bn2): BatchNorm2d(112, eps=0.001, momentum=0.010000000000000009, affine=True, track_running_stats=True)\n",
       "      (_swish): MemoryEfficientSwish()\n",
       "    )\n",
       "    (10): MBConvBlock(\n",
       "      (_expand_conv): Conv2dStaticSamePadding(\n",
       "        112, 672, kernel_size=(1, 1), stride=(1, 1), bias=False\n",
       "        (static_padding): Identity()\n",
       "      )\n",
       "      (_bn0): BatchNorm2d(672, eps=0.001, momentum=0.010000000000000009, affine=True, track_running_stats=True)\n",
       "      (_depthwise_conv): Conv2dStaticSamePadding(\n",
       "        672, 672, kernel_size=(5, 5), stride=(1, 1), groups=672, bias=False\n",
       "        (static_padding): ZeroPad2d(padding=(2, 2, 2, 2), value=0.0)\n",
       "      )\n",
       "      (_bn1): BatchNorm2d(672, eps=0.001, momentum=0.010000000000000009, affine=True, track_running_stats=True)\n",
       "      (_se_reduce): Conv2dStaticSamePadding(\n",
       "        672, 28, kernel_size=(1, 1), stride=(1, 1)\n",
       "        (static_padding): Identity()\n",
       "      )\n",
       "      (_se_expand): Conv2dStaticSamePadding(\n",
       "        28, 672, kernel_size=(1, 1), stride=(1, 1)\n",
       "        (static_padding): Identity()\n",
       "      )\n",
       "      (_project_conv): Conv2dStaticSamePadding(\n",
       "        672, 112, kernel_size=(1, 1), stride=(1, 1), bias=False\n",
       "        (static_padding): Identity()\n",
       "      )\n",
       "      (_bn2): BatchNorm2d(112, eps=0.001, momentum=0.010000000000000009, affine=True, track_running_stats=True)\n",
       "      (_swish): MemoryEfficientSwish()\n",
       "    )\n",
       "    (11): MBConvBlock(\n",
       "      (_expand_conv): Conv2dStaticSamePadding(\n",
       "        112, 672, kernel_size=(1, 1), stride=(1, 1), bias=False\n",
       "        (static_padding): Identity()\n",
       "      )\n",
       "      (_bn0): BatchNorm2d(672, eps=0.001, momentum=0.010000000000000009, affine=True, track_running_stats=True)\n",
       "      (_depthwise_conv): Conv2dStaticSamePadding(\n",
       "        672, 672, kernel_size=(5, 5), stride=[2, 2], groups=672, bias=False\n",
       "        (static_padding): ZeroPad2d(padding=(1, 2, 1, 2), value=0.0)\n",
       "      )\n",
       "      (_bn1): BatchNorm2d(672, eps=0.001, momentum=0.010000000000000009, affine=True, track_running_stats=True)\n",
       "      (_se_reduce): Conv2dStaticSamePadding(\n",
       "        672, 28, kernel_size=(1, 1), stride=(1, 1)\n",
       "        (static_padding): Identity()\n",
       "      )\n",
       "      (_se_expand): Conv2dStaticSamePadding(\n",
       "        28, 672, kernel_size=(1, 1), stride=(1, 1)\n",
       "        (static_padding): Identity()\n",
       "      )\n",
       "      (_project_conv): Conv2dStaticSamePadding(\n",
       "        672, 192, kernel_size=(1, 1), stride=(1, 1), bias=False\n",
       "        (static_padding): Identity()\n",
       "      )\n",
       "      (_bn2): BatchNorm2d(192, eps=0.001, momentum=0.010000000000000009, affine=True, track_running_stats=True)\n",
       "      (_swish): MemoryEfficientSwish()\n",
       "    )\n",
       "    (12): MBConvBlock(\n",
       "      (_expand_conv): Conv2dStaticSamePadding(\n",
       "        192, 1152, kernel_size=(1, 1), stride=(1, 1), bias=False\n",
       "        (static_padding): Identity()\n",
       "      )\n",
       "      (_bn0): BatchNorm2d(1152, eps=0.001, momentum=0.010000000000000009, affine=True, track_running_stats=True)\n",
       "      (_depthwise_conv): Conv2dStaticSamePadding(\n",
       "        1152, 1152, kernel_size=(5, 5), stride=(1, 1), groups=1152, bias=False\n",
       "        (static_padding): ZeroPad2d(padding=(2, 2, 2, 2), value=0.0)\n",
       "      )\n",
       "      (_bn1): BatchNorm2d(1152, eps=0.001, momentum=0.010000000000000009, affine=True, track_running_stats=True)\n",
       "      (_se_reduce): Conv2dStaticSamePadding(\n",
       "        1152, 48, kernel_size=(1, 1), stride=(1, 1)\n",
       "        (static_padding): Identity()\n",
       "      )\n",
       "      (_se_expand): Conv2dStaticSamePadding(\n",
       "        48, 1152, kernel_size=(1, 1), stride=(1, 1)\n",
       "        (static_padding): Identity()\n",
       "      )\n",
       "      (_project_conv): Conv2dStaticSamePadding(\n",
       "        1152, 192, kernel_size=(1, 1), stride=(1, 1), bias=False\n",
       "        (static_padding): Identity()\n",
       "      )\n",
       "      (_bn2): BatchNorm2d(192, eps=0.001, momentum=0.010000000000000009, affine=True, track_running_stats=True)\n",
       "      (_swish): MemoryEfficientSwish()\n",
       "    )\n",
       "    (13): MBConvBlock(\n",
       "      (_expand_conv): Conv2dStaticSamePadding(\n",
       "        192, 1152, kernel_size=(1, 1), stride=(1, 1), bias=False\n",
       "        (static_padding): Identity()\n",
       "      )\n",
       "      (_bn0): BatchNorm2d(1152, eps=0.001, momentum=0.010000000000000009, affine=True, track_running_stats=True)\n",
       "      (_depthwise_conv): Conv2dStaticSamePadding(\n",
       "        1152, 1152, kernel_size=(5, 5), stride=(1, 1), groups=1152, bias=False\n",
       "        (static_padding): ZeroPad2d(padding=(2, 2, 2, 2), value=0.0)\n",
       "      )\n",
       "      (_bn1): BatchNorm2d(1152, eps=0.001, momentum=0.010000000000000009, affine=True, track_running_stats=True)\n",
       "      (_se_reduce): Conv2dStaticSamePadding(\n",
       "        1152, 48, kernel_size=(1, 1), stride=(1, 1)\n",
       "        (static_padding): Identity()\n",
       "      )\n",
       "      (_se_expand): Conv2dStaticSamePadding(\n",
       "        48, 1152, kernel_size=(1, 1), stride=(1, 1)\n",
       "        (static_padding): Identity()\n",
       "      )\n",
       "      (_project_conv): Conv2dStaticSamePadding(\n",
       "        1152, 192, kernel_size=(1, 1), stride=(1, 1), bias=False\n",
       "        (static_padding): Identity()\n",
       "      )\n",
       "      (_bn2): BatchNorm2d(192, eps=0.001, momentum=0.010000000000000009, affine=True, track_running_stats=True)\n",
       "      (_swish): MemoryEfficientSwish()\n",
       "    )\n",
       "    (14): MBConvBlock(\n",
       "      (_expand_conv): Conv2dStaticSamePadding(\n",
       "        192, 1152, kernel_size=(1, 1), stride=(1, 1), bias=False\n",
       "        (static_padding): Identity()\n",
       "      )\n",
       "      (_bn0): BatchNorm2d(1152, eps=0.001, momentum=0.010000000000000009, affine=True, track_running_stats=True)\n",
       "      (_depthwise_conv): Conv2dStaticSamePadding(\n",
       "        1152, 1152, kernel_size=(5, 5), stride=(1, 1), groups=1152, bias=False\n",
       "        (static_padding): ZeroPad2d(padding=(2, 2, 2, 2), value=0.0)\n",
       "      )\n",
       "      (_bn1): BatchNorm2d(1152, eps=0.001, momentum=0.010000000000000009, affine=True, track_running_stats=True)\n",
       "      (_se_reduce): Conv2dStaticSamePadding(\n",
       "        1152, 48, kernel_size=(1, 1), stride=(1, 1)\n",
       "        (static_padding): Identity()\n",
       "      )\n",
       "      (_se_expand): Conv2dStaticSamePadding(\n",
       "        48, 1152, kernel_size=(1, 1), stride=(1, 1)\n",
       "        (static_padding): Identity()\n",
       "      )\n",
       "      (_project_conv): Conv2dStaticSamePadding(\n",
       "        1152, 192, kernel_size=(1, 1), stride=(1, 1), bias=False\n",
       "        (static_padding): Identity()\n",
       "      )\n",
       "      (_bn2): BatchNorm2d(192, eps=0.001, momentum=0.010000000000000009, affine=True, track_running_stats=True)\n",
       "      (_swish): MemoryEfficientSwish()\n",
       "    )\n",
       "    (15): MBConvBlock(\n",
       "      (_expand_conv): Conv2dStaticSamePadding(\n",
       "        192, 1152, kernel_size=(1, 1), stride=(1, 1), bias=False\n",
       "        (static_padding): Identity()\n",
       "      )\n",
       "      (_bn0): BatchNorm2d(1152, eps=0.001, momentum=0.010000000000000009, affine=True, track_running_stats=True)\n",
       "      (_depthwise_conv): Conv2dStaticSamePadding(\n",
       "        1152, 1152, kernel_size=(3, 3), stride=[1, 1], groups=1152, bias=False\n",
       "        (static_padding): ZeroPad2d(padding=(1, 1, 1, 1), value=0.0)\n",
       "      )\n",
       "      (_bn1): BatchNorm2d(1152, eps=0.001, momentum=0.010000000000000009, affine=True, track_running_stats=True)\n",
       "      (_se_reduce): Conv2dStaticSamePadding(\n",
       "        1152, 48, kernel_size=(1, 1), stride=(1, 1)\n",
       "        (static_padding): Identity()\n",
       "      )\n",
       "      (_se_expand): Conv2dStaticSamePadding(\n",
       "        48, 1152, kernel_size=(1, 1), stride=(1, 1)\n",
       "        (static_padding): Identity()\n",
       "      )\n",
       "      (_project_conv): Conv2dStaticSamePadding(\n",
       "        1152, 320, kernel_size=(1, 1), stride=(1, 1), bias=False\n",
       "        (static_padding): Identity()\n",
       "      )\n",
       "      (_bn2): BatchNorm2d(320, eps=0.001, momentum=0.010000000000000009, affine=True, track_running_stats=True)\n",
       "      (_swish): MemoryEfficientSwish()\n",
       "    )\n",
       "  )\n",
       "  (_conv_head): Conv2dStaticSamePadding(\n",
       "    320, 1280, kernel_size=(1, 1), stride=(1, 1), bias=False\n",
       "    (static_padding): Identity()\n",
       "  )\n",
       "  (_bn1): BatchNorm2d(1280, eps=0.001, momentum=0.010000000000000009, affine=True, track_running_stats=True)\n",
       "  (_avg_pooling): GeM(p=3.0000, eps=1e-06)\n",
       "  (_dropout): Dropout(p=0.2, inplace=False)\n",
       "  (_fc): Linear(in_features=1280, out_features=1, bias=True)\n",
       "  (_swish): MemoryEfficientSwish()\n",
       ")"
      ]
     },
     "execution_count": 11,
     "metadata": {},
     "output_type": "execute_result"
    }
   ],
   "source": [
    "mdl"
   ]
  },
  {
   "cell_type": "markdown",
   "metadata": {},
   "source": [
    "# train"
   ]
  },
  {
   "cell_type": "code",
   "execution_count": 12,
   "metadata": {},
   "outputs": [],
   "source": [
    "def evaluate(model, dl):\n",
    "    model.eval()\n",
    "    prd = []\n",
    "    y = []\n",
    "    for step, dat in enumerate(dl):\n",
    "        xb, yb = (o.to(device) for o in dat)\n",
    "        with torch.no_grad(): prdb = model(xb)\n",
    "        prd.append(prdb.cpu().detach().numpy())\n",
    "        y.append(yb.cpu().detach().numpy())\n",
    "    prd = np.concatenate(prd)    \n",
    "    y = np.concatenate(y)    \n",
    "    lss = F.binary_cross_entropy_with_logits(torch.tensor(prd),torch.tensor(y).unsqueeze(1)).item()\n",
    "    scr = roc_auc(y, prd)\n",
    "    return lss, scr, y, prd"
   ]
  },
  {
   "cell_type": "markdown",
   "metadata": {},
   "source": [
    "## set up model"
   ]
  },
  {
   "cell_type": "code",
   "execution_count": 13,
   "metadata": {},
   "outputs": [
    {
     "name": "stdout",
     "output_type": "stream",
     "text": [
      "Loaded pretrained weights for efficientnet-b0\n"
     ]
    }
   ],
   "source": [
    "mdl = mkmdl()\n",
    "mdl = mdl.to(device)\n",
    "\n",
    "if param.PRFX_B4 is not None: \n",
    "    fnm_mdl_b4 = f'{p_b4}/model_{param.PRFX_B4}_fld_{param.FLD2USE_B4}_best.p'\n",
    "    print('load previously trained', fnm_mdl_b4)\n",
    "    mdl.load_state_dict(torch.load(fnm_mdl_b4, map_location=torch.device(DEVICE)))\n",
    "\n",
    "\n",
    "# opt = optim.SGD(mdl.parameters(), lr=param.LR, momentum=param.MOMENTUM, weight_decay=param.WD)\n",
    "opt = optim.Adam(mdl.parameters(), lr=param.LR, weight_decay=param.WD)\n",
    "schdl = optim.lr_scheduler.ReduceLROnPlateau(opt, mode='max', factor=param.PLTFACTOR, patience=param.PATIENCE, min_lr=param.MIN_LR, verbose=True)\n",
    "if param.FP16: mdl, opt = amp.initialize(mdl, opt, opt_level='O1', verbosity=0)\n",
    "mdl.zero_grad()\n"
   ]
  },
  {
   "cell_type": "markdown",
   "metadata": {},
   "source": [
    "## set up data"
   ]
  },
  {
   "cell_type": "code",
   "execution_count": 14,
   "metadata": {},
   "outputs": [
    {
     "name": "stdout",
     "output_type": "stream",
     "text": [
      "46765 11692\n",
      "46765 11692\n",
      "975 122\n"
     ]
    }
   ],
   "source": [
    "tr,vl=fld2trvl[param.FLD2USE]\n",
    "dftr=dftrn.iloc[tr]\n",
    "dfvl=dftrn.iloc[vl]\n",
    "ystr=dftr.target.values\n",
    "ysvl=dfvl.target.values\n",
    "print(len(dftr), len(dfvl))\n",
    "dstr = MelDataset(dftr, mode='trn')\n",
    "dsvl = MelDataset(dfvl, mode='val')\n",
    "print(len(dstr), len(dsvl))\n",
    "dltr = DataLoader(dstr, batch_size=param.BS,   shuffle=True,  num_workers=N_WORKERS, pin_memory=PIN_MEM)\n",
    "dlvl = DataLoader(dsvl, batch_size=param.BS*2, shuffle=False, num_workers=N_WORKERS, pin_memory=PIN_MEM)\n",
    "print(len(dltr), len(dlvl))\n",
    "lendl=len(dltr)"
   ]
  },
  {
   "cell_type": "markdown",
   "metadata": {},
   "source": [
    "## set up results"
   ]
  },
  {
   "cell_type": "code",
   "execution_count": 15,
   "metadata": {},
   "outputs": [],
   "source": [
    "results = {}\n",
    "results['fld2trvl'] = fld2trvl\n",
    "results['param'] = param\n",
    "\n",
    "stats = {\n",
    "    'lss': {'tr':[],'vl':[]},\n",
    "    'scr': {'tr':[],'vl':[]},\n",
    "}\n",
    "oof = {'y':[], 'prd':[]}\n",
    "\n",
    "\n",
    "def save_results():\n",
    "    results['oof'] = oof\n",
    "    stats['best_scr'] = best_scr\n",
    "    stats['best_epc'] = best_epc\n",
    "    results['stats'] = stats\n",
    "    pickle.dump(results, open(f'{p_out}/results_{param.PRFX}.p', 'wb'))"
   ]
  },
  {
   "cell_type": "markdown",
   "metadata": {},
   "source": [
    "## run train"
   ]
  },
  {
   "cell_type": "code",
   "execution_count": 16,
   "metadata": {
    "scrolled": false
   },
   "outputs": [
    {
     "name": "stdout",
     "output_type": "stream",
     "text": [
      "2020-07-02 04:33:51 ep 0: lss_tr 0.247; lss_vl 0.310; scr_tr 0.801; scr_vl 0.844; \n",
      "better scr -inf -> 0.844\n",
      "2020-07-02 04:42:45 ep 1: lss_tr 0.228; lss_vl 0.340; scr_tr 0.838; scr_vl 0.836; \n",
      "2020-07-02 04:51:40 ep 2: lss_tr 0.229; lss_vl 0.319; scr_tr 0.835; scr_vl 0.859; \n",
      "better scr 0.844 -> 0.859\n",
      "2020-07-02 05:00:29 ep 3: lss_tr 0.230; lss_vl 0.322; scr_tr 0.834; scr_vl 0.860; \n",
      "better scr 0.859 -> 0.860\n",
      "2020-07-02 05:09:30 ep 4: lss_tr 0.229; lss_vl 0.274; scr_tr 0.836; scr_vl 0.865; \n",
      "better scr 0.860 -> 0.865\n",
      "2020-07-02 05:18:38 ep 5: lss_tr 0.230; lss_vl 0.295; scr_tr 0.833; scr_vl 0.848; \n",
      "2020-07-02 05:28:04 ep 6: lss_tr 0.228; lss_vl 0.223; scr_tr 0.838; scr_vl 0.873; \n",
      "better scr 0.865 -> 0.873\n",
      "2020-07-02 05:37:11 ep 7: lss_tr 0.227; lss_vl 0.225; scr_tr 0.840; scr_vl 0.867; \n",
      "2020-07-02 05:46:32 ep 8: lss_tr 0.227; lss_vl 0.280; scr_tr 0.840; scr_vl 0.867; \n",
      "2020-07-02 05:56:02 ep 9: lss_tr 0.229; lss_vl 0.225; scr_tr 0.836; scr_vl 0.868; \n",
      "2020-07-02 06:05:20 ep 10: lss_tr 0.228; lss_vl 0.247; scr_tr 0.837; scr_vl 0.879; \n",
      "better scr 0.873 -> 0.879\n",
      "2020-07-02 06:14:41 ep 11: lss_tr 0.227; lss_vl 0.252; scr_tr 0.839; scr_vl 0.879; \n",
      "2020-07-02 06:23:34 ep 12: lss_tr 0.227; lss_vl 0.261; scr_tr 0.839; scr_vl 0.860; \n",
      "2020-07-02 06:32:47 ep 13: lss_tr 0.227; lss_vl 0.234; scr_tr 0.840; scr_vl 0.871; \n",
      "2020-07-02 06:41:50 ep 14: lss_tr 0.227; lss_vl 0.257; scr_tr 0.839; scr_vl 0.872; \n",
      "2020-07-02 06:50:47 ep 15: lss_tr 0.227; lss_vl 0.355; scr_tr 0.840; scr_vl 0.877; \n",
      "2020-07-02 06:59:45 ep 16: lss_tr 0.227; lss_vl 0.266; scr_tr 0.839; scr_vl 0.867; \n",
      "Epoch    17: reducing learning rate of group 0 to 1.5000e-03.\n",
      "2020-07-02 07:08:41 ep 17: lss_tr 0.224; lss_vl 0.303; scr_tr 0.847; scr_vl 0.866; \n",
      "2020-07-02 07:17:36 ep 18: lss_tr 0.222; lss_vl 0.228; scr_tr 0.849; scr_vl 0.878; \n",
      "2020-07-02 07:26:28 ep 19: lss_tr 0.223; lss_vl 0.219; scr_tr 0.848; scr_vl 0.882; \n",
      "better scr 0.879 -> 0.882\n",
      "2020-07-02 07:35:21 ep 20: lss_tr 0.223; lss_vl 0.231; scr_tr 0.849; scr_vl 0.880; \n",
      "2020-07-02 07:44:34 ep 21: lss_tr 0.222; lss_vl 0.296; scr_tr 0.850; scr_vl 0.866; \n",
      "2020-07-02 07:53:52 ep 22: lss_tr 0.222; lss_vl 0.224; scr_tr 0.850; scr_vl 0.871; \n",
      "2020-07-02 08:02:53 ep 23: lss_tr 0.223; lss_vl 0.222; scr_tr 0.848; scr_vl 0.874; \n",
      "2020-07-02 08:11:52 ep 24: lss_tr 0.223; lss_vl 0.260; scr_tr 0.848; scr_vl 0.874; \n",
      "2020-07-02 08:20:36 ep 25: lss_tr 0.222; lss_vl 0.216; scr_tr 0.851; scr_vl 0.884; \n",
      "better scr 0.882 -> 0.884\n",
      "2020-07-02 08:29:35 ep 26: lss_tr 0.222; lss_vl 0.226; scr_tr 0.850; scr_vl 0.882; \n",
      "2020-07-02 08:38:37 ep 27: lss_tr 0.222; lss_vl 0.231; scr_tr 0.849; scr_vl 0.881; \n",
      "2020-07-02 08:47:38 ep 28: lss_tr 0.221; lss_vl 0.246; scr_tr 0.851; scr_vl 0.873; \n",
      "2020-07-02 08:56:28 ep 29: lss_tr 0.222; lss_vl 0.243; scr_tr 0.849; scr_vl 0.878; \n",
      "2020-07-02 09:05:25 ep 30: lss_tr 0.222; lss_vl 0.225; scr_tr 0.849; scr_vl 0.884; \n",
      "2020-07-02 09:14:19 ep 31: lss_tr 0.221; lss_vl 0.218; scr_tr 0.852; scr_vl 0.881; \n",
      "Epoch    32: reducing learning rate of group 0 to 7.5000e-04.\n",
      "2020-07-02 09:23:13 ep 32: lss_tr 0.220; lss_vl 0.215; scr_tr 0.854; scr_vl 0.884; \n",
      "better scr 0.884 -> 0.884\n",
      "2020-07-02 09:32:14 ep 33: lss_tr 0.220; lss_vl 0.216; scr_tr 0.854; scr_vl 0.883; \n",
      "2020-07-02 09:41:14 ep 34: lss_tr 0.219; lss_vl 0.244; scr_tr 0.855; scr_vl 0.886; \n",
      "better scr 0.884 -> 0.886\n",
      "2020-07-02 09:50:13 ep 35: lss_tr 0.219; lss_vl 0.213; scr_tr 0.855; scr_vl 0.888; \n",
      "better scr 0.886 -> 0.888\n",
      "2020-07-02 09:59:28 ep 36: lss_tr 0.220; lss_vl 0.218; scr_tr 0.854; scr_vl 0.881; \n",
      "2020-07-02 10:08:57 ep 37: lss_tr 0.220; lss_vl 0.213; scr_tr 0.854; scr_vl 0.884; \n",
      "2020-07-02 10:18:21 ep 38: lss_tr 0.219; lss_vl 0.221; scr_tr 0.855; scr_vl 0.882; \n",
      "2020-07-02 10:27:32 ep 39: lss_tr 0.219; lss_vl 0.219; scr_tr 0.855; scr_vl 0.884; \n",
      "2020-07-02 10:36:29 ep 40: lss_tr 0.218; lss_vl 0.214; scr_tr 0.856; scr_vl 0.886; \n",
      "2020-07-02 10:45:23 ep 41: lss_tr 0.220; lss_vl 0.220; scr_tr 0.854; scr_vl 0.884; \n",
      "Epoch    42: reducing learning rate of group 0 to 3.7500e-04.\n",
      "2020-07-02 10:54:16 ep 42: lss_tr 0.217; lss_vl 0.211; scr_tr 0.860; scr_vl 0.887; \n",
      "2020-07-02 11:03:15 ep 43: lss_tr 0.217; lss_vl 0.237; scr_tr 0.859; scr_vl 0.881; \n",
      "2020-07-02 11:12:07 ep 44: lss_tr 0.217; lss_vl 0.213; scr_tr 0.859; scr_vl 0.885; \n",
      "2020-07-02 11:21:07 ep 45: lss_tr 0.217; lss_vl 0.213; scr_tr 0.859; scr_vl 0.885; \n",
      "2020-07-02 11:29:44 ep 46: lss_tr 0.216; lss_vl 0.211; scr_tr 0.860; scr_vl 0.887; \n",
      "2020-07-02 11:37:19 ep 47: lss_tr 0.216; lss_vl 0.218; scr_tr 0.861; scr_vl 0.885; \n",
      "Epoch    48: reducing learning rate of group 0 to 1.8750e-04.\n",
      "2020-07-02 11:46:13 ep 48: lss_tr 0.216; lss_vl 0.213; scr_tr 0.860; scr_vl 0.886; \n",
      "2020-07-02 11:55:29 ep 49: lss_tr 0.217; lss_vl 0.212; scr_tr 0.859; scr_vl 0.887; \n",
      "2020-07-02 12:04:24 ep 50: lss_tr 0.216; lss_vl 0.215; scr_tr 0.862; scr_vl 0.886; \n",
      "2020-07-02 12:13:30 ep 51: lss_tr 0.216; lss_vl 0.216; scr_tr 0.860; scr_vl 0.888; \n",
      "better scr 0.888 -> 0.888\n",
      "2020-07-02 12:22:32 ep 52: lss_tr 0.216; lss_vl 0.210; scr_tr 0.862; scr_vl 0.888; \n",
      "better scr 0.888 -> 0.888\n",
      "2020-07-02 12:31:41 ep 53: lss_tr 0.216; lss_vl 0.215; scr_tr 0.861; scr_vl 0.887; \n",
      "2020-07-02 12:40:44 ep 54: lss_tr 0.217; lss_vl 0.213; scr_tr 0.859; scr_vl 0.888; \n",
      "better scr 0.888 -> 0.888\n",
      "2020-07-02 12:50:33 ep 55: lss_tr 0.216; lss_vl 0.211; scr_tr 0.862; scr_vl 0.888; \n",
      "2020-07-02 12:59:36 ep 56: lss_tr 0.216; lss_vl 0.214; scr_tr 0.861; scr_vl 0.888; \n",
      "2020-07-02 13:08:41 ep 57: lss_tr 0.217; lss_vl 0.211; scr_tr 0.859; scr_vl 0.888; \n"
     ]
    },
    {
     "ename": "KeyboardInterrupt",
     "evalue": "",
     "output_type": "error",
     "traceback": [
      "\u001b[0;31m---------------------------------------------------------------------------\u001b[0m",
      "\u001b[0;31mKeyboardInterrupt\u001b[0m                         Traceback (most recent call last)",
      "\u001b[0;32m<ipython-input-16-6b2e6594f842>\u001b[0m in \u001b[0;36m<module>\u001b[0;34m\u001b[0m\n\u001b[1;32m     12\u001b[0m         \u001b[0;32mif\u001b[0m \u001b[0mparam\u001b[0m\u001b[0;34m.\u001b[0m\u001b[0mFP16\u001b[0m\u001b[0;34m:\u001b[0m\u001b[0;34m\u001b[0m\u001b[0;34m\u001b[0m\u001b[0m\n\u001b[1;32m     13\u001b[0m             \u001b[0;32mwith\u001b[0m \u001b[0mamp\u001b[0m\u001b[0;34m.\u001b[0m\u001b[0mscale_loss\u001b[0m\u001b[0;34m(\u001b[0m\u001b[0mloss\u001b[0m\u001b[0;34m,\u001b[0m \u001b[0mopt\u001b[0m\u001b[0;34m)\u001b[0m \u001b[0;32mas\u001b[0m \u001b[0mscaled_loss\u001b[0m\u001b[0;34m:\u001b[0m\u001b[0;34m\u001b[0m\u001b[0;34m\u001b[0m\u001b[0m\n\u001b[0;32m---> 14\u001b[0;31m                 \u001b[0mscaled_loss\u001b[0m\u001b[0;34m.\u001b[0m\u001b[0mbackward\u001b[0m\u001b[0;34m(\u001b[0m\u001b[0;34m)\u001b[0m\u001b[0;34m\u001b[0m\u001b[0;34m\u001b[0m\u001b[0m\n\u001b[0m\u001b[1;32m     15\u001b[0m         \u001b[0;32melse\u001b[0m\u001b[0;34m:\u001b[0m\u001b[0;34m\u001b[0m\u001b[0;34m\u001b[0m\u001b[0m\n\u001b[1;32m     16\u001b[0m             \u001b[0mloss\u001b[0m\u001b[0;34m.\u001b[0m\u001b[0mbackward\u001b[0m\u001b[0;34m(\u001b[0m\u001b[0;34m)\u001b[0m\u001b[0;34m\u001b[0m\u001b[0;34m\u001b[0m\u001b[0m\n",
      "\u001b[0;32m/data/anaconda3/envs/mel/lib/python3.7/site-packages/torch/tensor.py\u001b[0m in \u001b[0;36mbackward\u001b[0;34m(self, gradient, retain_graph, create_graph)\u001b[0m\n\u001b[1;32m    193\u001b[0m                 \u001b[0mproducts\u001b[0m\u001b[0;34m.\u001b[0m \u001b[0mDefaults\u001b[0m \u001b[0mto\u001b[0m\u001b[0;31m \u001b[0m\u001b[0;31m`\u001b[0m\u001b[0;31m`\u001b[0m\u001b[0;32mFalse\u001b[0m\u001b[0;31m`\u001b[0m\u001b[0;31m`\u001b[0m\u001b[0;34m.\u001b[0m\u001b[0;34m\u001b[0m\u001b[0;34m\u001b[0m\u001b[0m\n\u001b[1;32m    194\u001b[0m         \"\"\"\n\u001b[0;32m--> 195\u001b[0;31m         \u001b[0mtorch\u001b[0m\u001b[0;34m.\u001b[0m\u001b[0mautograd\u001b[0m\u001b[0;34m.\u001b[0m\u001b[0mbackward\u001b[0m\u001b[0;34m(\u001b[0m\u001b[0mself\u001b[0m\u001b[0;34m,\u001b[0m \u001b[0mgradient\u001b[0m\u001b[0;34m,\u001b[0m \u001b[0mretain_graph\u001b[0m\u001b[0;34m,\u001b[0m \u001b[0mcreate_graph\u001b[0m\u001b[0;34m)\u001b[0m\u001b[0;34m\u001b[0m\u001b[0;34m\u001b[0m\u001b[0m\n\u001b[0m\u001b[1;32m    196\u001b[0m \u001b[0;34m\u001b[0m\u001b[0m\n\u001b[1;32m    197\u001b[0m     \u001b[0;32mdef\u001b[0m \u001b[0mregister_hook\u001b[0m\u001b[0;34m(\u001b[0m\u001b[0mself\u001b[0m\u001b[0;34m,\u001b[0m \u001b[0mhook\u001b[0m\u001b[0;34m)\u001b[0m\u001b[0;34m:\u001b[0m\u001b[0;34m\u001b[0m\u001b[0;34m\u001b[0m\u001b[0m\n",
      "\u001b[0;32m/data/anaconda3/envs/mel/lib/python3.7/site-packages/torch/autograd/__init__.py\u001b[0m in \u001b[0;36mbackward\u001b[0;34m(tensors, grad_tensors, retain_graph, create_graph, grad_variables)\u001b[0m\n\u001b[1;32m     97\u001b[0m     Variable._execution_engine.run_backward(\n\u001b[1;32m     98\u001b[0m         \u001b[0mtensors\u001b[0m\u001b[0;34m,\u001b[0m \u001b[0mgrad_tensors\u001b[0m\u001b[0;34m,\u001b[0m \u001b[0mretain_graph\u001b[0m\u001b[0;34m,\u001b[0m \u001b[0mcreate_graph\u001b[0m\u001b[0;34m,\u001b[0m\u001b[0;34m\u001b[0m\u001b[0;34m\u001b[0m\u001b[0m\n\u001b[0;32m---> 99\u001b[0;31m         allow_unreachable=True)  # allow_unreachable flag\n\u001b[0m\u001b[1;32m    100\u001b[0m \u001b[0;34m\u001b[0m\u001b[0m\n\u001b[1;32m    101\u001b[0m \u001b[0;34m\u001b[0m\u001b[0m\n",
      "\u001b[0;31mKeyboardInterrupt\u001b[0m: "
     ]
    }
   ],
   "source": [
    "best_scr = float('-inf')\n",
    "best_epc = -1\n",
    "for epc in range(param.EPOCHS):\n",
    "    prdtr_ep=[]\n",
    "    ytr_ep=[]\n",
    "    for step, dat in enumerate(dltr):\n",
    "        mdl.train()\n",
    "        xb,yb=(o.to(device) for o in dat)\n",
    "        yb = yb.unsqueeze(1)\n",
    "        prdb = mdl(xb)\n",
    "        loss = F.binary_cross_entropy_with_logits(prdb, yb)\n",
    "        if param.FP16:\n",
    "            with amp.scale_loss(loss, opt) as scaled_loss:\n",
    "                scaled_loss.backward()\n",
    "        else:\n",
    "            loss.backward()\n",
    "        if param.FP16:\n",
    "            torch.nn.utils.clip_grad_norm_(amp.master_params(opt), 1)\n",
    "        else:\n",
    "            torch.nn.utils.clip_grad_norm_(mdl.parameters(), 1)\n",
    "        opt.step()\n",
    "        opt.zero_grad()\n",
    "        prdtr_ep.append(prdb.cpu().detach().numpy())\n",
    "        ytr_ep.append(yb.cpu().detach().numpy())\n",
    "        if step>0 and step%1000==0: print(dtnow(), f'ep {epc} step {step}/{lendl}')\n",
    "    \n",
    "    prdtr_ep = np.concatenate(prdtr_ep)\n",
    "    ytr_ep = np.concatenate(ytr_ep)    \n",
    "    lss_tr_ep = F.binary_cross_entropy_with_logits(torch.tensor(prdtr_ep),torch.tensor(ytr_ep)).item()\n",
    "    scr_tr_ep = roc_auc(ytr_ep, prdtr_ep)\n",
    "    stats['lss']['tr'].append(lss_tr_ep)\n",
    "    stats['scr']['tr'].append(scr_tr_ep)\n",
    "    \n",
    "    lss_vl_ep, scr_vl_ep, yvl_ep, prdvl_ep = evaluate(mdl, dlvl)\n",
    "    stats['lss']['vl'].append(lss_vl_ep)\n",
    "    stats['scr']['vl'].append(scr_vl_ep)\n",
    "    oof['y'].append(yvl_ep)\n",
    "    oof['prd'].append(prdvl_ep)\n",
    "    \n",
    "    print(dtnow(), f'ep {epc}: lss_tr {lss_tr_ep:.3f}; lss_vl {lss_vl_ep:.3f}; scr_tr {scr_tr_ep:.3f}; scr_vl {scr_vl_ep:.3f}; ')\n",
    "    \n",
    "    if scr_vl_ep>best_scr:\n",
    "        print(f'better scr {best_scr:.3f} -> {scr_vl_ep:.3f}')\n",
    "        best_scr = scr_vl_ep\n",
    "        best_epc = epc\n",
    "        torch.save(mdl.state_dict(), f'{p_out}/model_{param.PRFX}_fld_{param.FLD2USE}_best.p')\n",
    "    if not param.DEBUG: torch.save(mdl.state_dict(), f'{p_out}/model_{param.PRFX}_fld_{param.FLD2USE}_epc_{epc}.p')\n",
    "        \n",
    "    schdl.step(scr_vl_ep)  # Update learning rate schedule\n",
    "    save_results()    \n",
    "    "
   ]
  },
  {
   "cell_type": "markdown",
   "metadata": {},
   "source": [
    "## run done"
   ]
  },
  {
   "cell_type": "code",
   "execution_count": 17,
   "metadata": {
    "scrolled": true
   },
   "outputs": [
    {
     "name": "stdout",
     "output_type": "stream",
     "text": [
      "best_scr 0.8884; best_epc 54\n"
     ]
    }
   ],
   "source": [
    "print(f'best_scr {best_scr:.4f}; best_epc {best_epc}')"
   ]
  },
  {
   "cell_type": "raw",
   "metadata": {
    "scrolled": true
   },
   "source": [
    "pd.DataFrame(stats['lss'])\n",
    "\n",
    "pd.DataFrame(stats['scr'])"
   ]
  },
  {
   "cell_type": "code",
   "execution_count": 18,
   "metadata": {},
   "outputs": [
    {
     "data": {
      "image/png": "[encoded data removed]",
      "text/plain": [
       "<Figure size 432x288 with 1 Axes>"
      ]
     },
     "metadata": {
      "needs_background": "light"
     },
     "output_type": "display_data"
    },
    {
     "data": {
      "image/png": "[encoded data removed]",
      "text/plain": [
       "<Figure size 432x288 with 1 Axes>"
      ]
     },
     "metadata": {
      "needs_background": "light"
     },
     "output_type": "display_data"
    }
   ],
   "source": [
    "for mtrc in ['lss', 'scr']:\n",
    "    recs=stats[mtrc]\n",
    "    for tv,vs in recs.items():\n",
    "        plt.title(f'{mtrc}')\n",
    "        plt.plot(vs, 'o--')\n",
    "    plt.show()"
   ]
  },
  {
   "cell_type": "markdown",
   "metadata": {},
   "source": [
    "# inference"
   ]
  },
  {
   "cell_type": "code",
   "execution_count": 19,
   "metadata": {},
   "outputs": [
    {
     "data": {
      "text/html": [
       "<div>\n",
       "<style scoped>\n",
       "    .dataframe tbody tr th:only-of-type {\n",
       "        vertical-align: middle;\n",
       "    }\n",
       "\n",
       "    .dataframe tbody tr th {\n",
       "        vertical-align: top;\n",
       "    }\n",
       "\n",
       "    .dataframe thead th {\n",
       "        text-align: right;\n",
       "    }\n",
       "</style>\n",
       "<table border=\"1\" class=\"dataframe\">\n",
       "  <thead>\n",
       "    <tr style=\"text-align: right;\">\n",
       "      <th></th>\n",
       "      <th>image_name</th>\n",
       "      <th>patient_id</th>\n",
       "      <th>sex</th>\n",
       "      <th>age_approx</th>\n",
       "      <th>anatom_site_general_challenge</th>\n",
       "      <th>im_pth</th>\n",
       "    </tr>\n",
       "  </thead>\n",
       "  <tbody>\n",
       "    <tr>\n",
       "      <th>0</th>\n",
       "      <td>ISIC_0052060</td>\n",
       "      <td>IP_3579794</td>\n",
       "      <td>male</td>\n",
       "      <td>70.0</td>\n",
       "      <td>NaN</td>\n",
       "      <td>../output/MelPrp0630B1/siim-isic-melanoma-clas...</td>\n",
       "    </tr>\n",
       "    <tr>\n",
       "      <th>1</th>\n",
       "      <td>ISIC_0052349</td>\n",
       "      <td>IP_7782715</td>\n",
       "      <td>male</td>\n",
       "      <td>40.0</td>\n",
       "      <td>lower extremity</td>\n",
       "      <td>../output/MelPrp0630B1/siim-isic-melanoma-clas...</td>\n",
       "    </tr>\n",
       "    <tr>\n",
       "      <th>2</th>\n",
       "      <td>ISIC_0058510</td>\n",
       "      <td>IP_7960270</td>\n",
       "      <td>female</td>\n",
       "      <td>55.0</td>\n",
       "      <td>torso</td>\n",
       "      <td>../output/MelPrp0630B1/siim-isic-melanoma-clas...</td>\n",
       "    </tr>\n",
       "  </tbody>\n",
       "</table>\n",
       "</div>"
      ],
      "text/plain": [
       "     image_name  patient_id     sex  age_approx anatom_site_general_challenge  \\\n",
       "0  ISIC_0052060  IP_3579794    male        70.0                           NaN   \n",
       "1  ISIC_0052349  IP_7782715    male        40.0               lower extremity   \n",
       "2  ISIC_0058510  IP_7960270  female        55.0                         torso   \n",
       "\n",
       "                                              im_pth  \n",
       "0  ../output/MelPrp0630B1/siim-isic-melanoma-clas...  \n",
       "1  ../output/MelPrp0630B1/siim-isic-melanoma-clas...  \n",
       "2  ../output/MelPrp0630B1/siim-isic-melanoma-clas...  "
      ]
     },
     "metadata": {},
     "output_type": "display_data"
    },
    {
     "name": "stdout",
     "output_type": "stream",
     "text": [
      "10982\n",
      "115\n"
     ]
    }
   ],
   "source": [
    "dftst = pd.read_csv(f'{p_prp}/test.csv', nrows=128 if param.DEBUG else None) \n",
    "display(dftst.head(3))\n",
    "\n",
    "dfsub = pd.read_csv(f'{p_cmp}/sample_submission.csv', nrows=128 if param.DEBUG else None) \n",
    "\n",
    "dstst = MelDataset(dftst, mode='tst')\n",
    "print(len(dstst))\n",
    "dltst = DataLoader(dstst, batch_size=param.BS*2, shuffle=False, num_workers=N_WORKERS, pin_memory=PIN_MEM)\n",
    "print(len(dltst))\n",
    "lendl=len(dltst)"
   ]
  },
  {
   "cell_type": "code",
   "execution_count": 20,
   "metadata": {},
   "outputs": [
    {
     "name": "stdout",
     "output_type": "stream",
     "text": [
      "Loaded pretrained weights for efficientnet-b0\n",
      "load model ../output/Mel0701E1/model_Mel0701E1_fld_0_best.p\n"
     ]
    },
    {
     "ename": "RuntimeError",
     "evalue": "Error(s) in loading state_dict for EfficientNet:\n\tMissing key(s) in state_dict: \"_blocks.1._expand_conv.weight\", \"_blocks.1._bn0.weight\", \"_blocks.1._bn0.bias\", \"_blocks.1._bn0.running_mean\", \"_blocks.1._bn0.running_var\", \"_avg_pooling.p\". \n\tUnexpected key(s) in state_dict: \"_blocks.16._expand_conv.weight\", \"_blocks.16._bn0.weight\", \"_blocks.16._bn0.bias\", \"_blocks.16._bn0.running_mean\", \"_blocks.16._bn0.running_var\", \"_blocks.16._bn0.num_batches_tracked\", \"_blocks.16._depthwise_conv.weight\", \"_blocks.16._bn1.weight\", \"_blocks.16._bn1.bias\", \"_blocks.16._bn1.running_mean\", \"_blocks.16._bn1.running_var\", \"_blocks.16._bn1.num_batches_tracked\", \"_blocks.16._se_reduce.weight\", \"_blocks.16._se_reduce.bias\", \"_blocks.16._se_expand.weight\", \"_blocks.16._se_expand.bias\", \"_blocks.16._project_conv.weight\", \"_blocks.16._bn2.weight\", \"_blocks.16._bn2.bias\", \"_blocks.16._bn2.running_mean\", \"_blocks.16._bn2.running_var\", \"_blocks.16._bn2.num_batches_tracked\", \"_blocks.17._expand_conv.weight\", \"_blocks.17._bn0.weight\", \"_blocks.17._bn0.bias\", \"_blocks.17._bn0.running_mean\", \"_blocks.17._bn0.running_var\", \"_blocks.17._bn0.num_batches_tracked\", \"_blocks.17._depthwise_conv.weight\", \"_blocks.17._bn1.weight\", \"_blocks.17._bn1.bias\", \"_blocks.17._bn1.running_mean\", \"_blocks.17._bn1.running_var\", \"_blocks.17._bn1.num_batches_tracked\", \"_blocks.17._se_reduce.weight\", \"_blocks.17._se_reduce.bias\", \"_blocks.17._se_expand.weight\", \"_blocks.17._se_expand.bias\", \"_blocks.17._project_conv.weight\", \"_blocks.17._bn2.weight\", \"_blocks.17._bn2.bias\", \"_blocks.17._bn2.running_mean\", \"_blocks.17._bn2.running_var\", \"_blocks.17._bn2.num_batches_tracked\", \"_blocks.18._expand_conv.weight\", \"_blocks.18._bn0.weight\", \"_blocks.18._bn0.bias\", \"_blocks.18._bn0.running_mean\", \"_blocks.18._bn0.running_var\", \"_blocks.18._bn0.num_batches_tracked\", \"_blocks.18._depthwise_conv.weight\", \"_blocks.18._bn1.weight\", \"_blocks.18._bn1.bias\", \"_blocks.18._bn1.running_mean\", \"_blocks.18._bn1.running_var\", \"_blocks.18._bn1.num_batches_tracked\", \"_blocks.18._se_reduce.weight\", \"_blocks.18._se_reduce.bias\", \"_blocks.18._se_expand.weight\", \"_blocks.18._se_expand.bias\", \"_blocks.18._project_conv.weight\", \"_blocks.18._bn2.weight\", \"_blocks.18._bn2.bias\", \"_blocks.18._bn2.running_mean\", \"_blocks.18._bn2.running_var\", \"_blocks.18._bn2.num_batches_tracked\", \"_blocks.19._expand_conv.weight\", \"_blocks.19._bn0.weight\", \"_blocks.19._bn0.bias\", \"_blocks.19._bn0.running_mean\", \"_blocks.19._bn0.running_var\", \"_blocks.19._bn0.num_batches_tracked\", \"_blocks.19._depthwise_conv.weight\", \"_blocks.19._bn1.weight\", \"_blocks.19._bn1.bias\", \"_blocks.19._bn1.running_mean\", \"_blocks.19._bn1.running_var\", \"_blocks.19._bn1.num_batches_tracked\", \"_blocks.19._se_reduce.weight\", \"_blocks.19._se_reduce.bias\", \"_blocks.19._se_expand.weight\", \"_blocks.19._se_expand.bias\", \"_blocks.19._project_conv.weight\", \"_blocks.19._bn2.weight\", \"_blocks.19._bn2.bias\", \"_blocks.19._bn2.running_mean\", \"_blocks.19._bn2.running_var\", \"_blocks.19._bn2.num_batches_tracked\", \"_blocks.20._expand_conv.weight\", \"_blocks.20._bn0.weight\", \"_blocks.20._bn0.bias\", \"_blocks.20._bn0.running_mean\", \"_blocks.20._bn0.running_var\", \"_blocks.20._bn0.num_batches_tracked\", \"_blocks.20._depthwise_conv.weight\", \"_blocks.20._bn1.weight\", \"_blocks.20._bn1.bias\", \"_blocks.20._bn1.running_mean\", \"_blocks.20._bn1.running_var\", \"_blocks.20._bn1.num_batches_tracked\", \"_blocks.20._se_reduce.weight\", \"_blocks.20._se_reduce.bias\", \"_blocks.20._se_expand.weight\", \"_blocks.20._se_expand.bias\", \"_blocks.20._project_conv.weight\", \"_blocks.20._bn2.weight\", \"_blocks.20._bn2.bias\", \"_blocks.20._bn2.running_mean\", \"_blocks.20._bn2.running_var\", \"_blocks.20._bn2.num_batches_tracked\", \"_blocks.21._expand_conv.weight\", \"_blocks.21._bn0.weight\", \"_blocks.21._bn0.bias\", \"_blocks.21._bn0.running_mean\", \"_blocks.21._bn0.running_var\", \"_blocks.21._bn0.num_batches_tracked\", \"_blocks.21._depthwise_conv.weight\", \"_blocks.21._bn1.weight\", \"_blocks.21._bn1.bias\", \"_blocks.21._bn1.running_mean\", \"_blocks.21._bn1.running_var\", \"_blocks.21._bn1.num_batches_tracked\", \"_blocks.21._se_reduce.weight\", \"_blocks.21._se_reduce.bias\", \"_blocks.21._se_expand.weight\", \"_blocks.21._se_expand.bias\", \"_blocks.21._project_conv.weight\", \"_blocks.21._bn2.weight\", \"_blocks.21._bn2.bias\", \"_blocks.21._bn2.running_mean\", \"_blocks.21._bn2.running_var\", \"_blocks.21._bn2.num_batches_tracked\", \"_blocks.22._expand_conv.weight\", \"_blocks.22._bn0.weight\", \"_blocks.22._bn0.bias\", \"_blocks.22._bn0.running_mean\", \"_blocks.22._bn0.running_var\", \"_blocks.22._bn0.num_batches_tracked\", \"_blocks.22._depthwise_conv.weight\", \"_blocks.22._bn1.weight\", \"_blocks.22._bn1.bias\", \"_blocks.22._bn1.running_mean\", \"_blocks.22._bn1.running_var\", \"_blocks.22._bn1.num_batches_tracked\", \"_blocks.22._se_reduce.weight\", \"_blocks.22._se_reduce.bias\", \"_blocks.22._se_expand.weight\", \"_blocks.22._se_expand.bias\", \"_blocks.22._project_conv.weight\", \"_blocks.22._bn2.weight\", \"_blocks.22._bn2.bias\", \"_blocks.22._bn2.running_mean\", \"_blocks.22._bn2.running_var\", \"_blocks.22._bn2.num_batches_tracked\". \n\tsize mismatch for _blocks.1._depthwise_conv.weight: copying a param with shape torch.Size([16, 1, 3, 3]) from checkpoint, the shape in current model is torch.Size([96, 1, 3, 3]).\n\tsize mismatch for _blocks.1._bn1.weight: copying a param with shape torch.Size([16]) from checkpoint, the shape in current model is torch.Size([96]).\n\tsize mismatch for _blocks.1._bn1.bias: copying a param with shape torch.Size([16]) from checkpoint, the shape in current model is torch.Size([96]).\n\tsize mismatch for _blocks.1._bn1.running_mean: copying a param with shape torch.Size([16]) from checkpoint, the shape in current model is torch.Size([96]).\n\tsize mismatch for _blocks.1._bn1.running_var: copying a param with shape torch.Size([16]) from checkpoint, the shape in current model is torch.Size([96]).\n\tsize mismatch for _blocks.1._se_reduce.weight: copying a param with shape torch.Size([4, 16, 1, 1]) from checkpoint, the shape in current model is torch.Size([4, 96, 1, 1]).\n\tsize mismatch for _blocks.1._se_expand.weight: copying a param with shape torch.Size([16, 4, 1, 1]) from checkpoint, the shape in current model is torch.Size([96, 4, 1, 1]).\n\tsize mismatch for _blocks.1._se_expand.bias: copying a param with shape torch.Size([16]) from checkpoint, the shape in current model is torch.Size([96]).\n\tsize mismatch for _blocks.1._project_conv.weight: copying a param with shape torch.Size([16, 16, 1, 1]) from checkpoint, the shape in current model is torch.Size([24, 96, 1, 1]).\n\tsize mismatch for _blocks.1._bn2.weight: copying a param with shape torch.Size([16]) from checkpoint, the shape in current model is torch.Size([24]).\n\tsize mismatch for _blocks.1._bn2.bias: copying a param with shape torch.Size([16]) from checkpoint, the shape in current model is torch.Size([24]).\n\tsize mismatch for _blocks.1._bn2.running_mean: copying a param with shape torch.Size([16]) from checkpoint, the shape in current model is torch.Size([24]).\n\tsize mismatch for _blocks.1._bn2.running_var: copying a param with shape torch.Size([16]) from checkpoint, the shape in current model is torch.Size([24]).\n\tsize mismatch for _blocks.2._expand_conv.weight: copying a param with shape torch.Size([96, 16, 1, 1]) from checkpoint, the shape in current model is torch.Size([144, 24, 1, 1]).\n\tsize mismatch for _blocks.2._bn0.weight: copying a param with shape torch.Size([96]) from checkpoint, the shape in current model is torch.Size([144]).\n\tsize mismatch for _blocks.2._bn0.bias: copying a param with shape torch.Size([96]) from checkpoint, the shape in current model is torch.Size([144]).\n\tsize mismatch for _blocks.2._bn0.running_mean: copying a param with shape torch.Size([96]) from checkpoint, the shape in current model is torch.Size([144]).\n\tsize mismatch for _blocks.2._bn0.running_var: copying a param with shape torch.Size([96]) from checkpoint, the shape in current model is torch.Size([144]).\n\tsize mismatch for _blocks.2._depthwise_conv.weight: copying a param with shape torch.Size([96, 1, 3, 3]) from checkpoint, the shape in current model is torch.Size([144, 1, 3, 3]).\n\tsize mismatch for _blocks.2._bn1.weight: copying a param with shape torch.Size([96]) from checkpoint, the shape in current model is torch.Size([144]).\n\tsize mismatch for _blocks.2._bn1.bias: copying a param with shape torch.Size([96]) from checkpoint, the shape in current model is torch.Size([144]).\n\tsize mismatch for _blocks.2._bn1.running_mean: copying a param with shape torch.Size([96]) from checkpoint, the shape in current model is torch.Size([144]).\n\tsize mismatch for _blocks.2._bn1.running_var: copying a param with shape torch.Size([96]) from checkpoint, the shape in current model is torch.Size([144]).\n\tsize mismatch for _blocks.2._se_reduce.weight: copying a param with shape torch.Size([4, 96, 1, 1]) from checkpoint, the shape in current model is torch.Size([6, 144, 1, 1]).\n\tsize mismatch for _blocks.2._se_reduce.bias: copying a param with shape torch.Size([4]) from checkpoint, the shape in current model is torch.Size([6]).\n\tsize mismatch for _blocks.2._se_expand.weight: copying a param with shape torch.Size([96, 4, 1, 1]) from checkpoint, the shape in current model is torch.Size([144, 6, 1, 1]).\n\tsize mismatch for _blocks.2._se_expand.bias: copying a param with shape torch.Size([96]) from checkpoint, the shape in current model is torch.Size([144]).\n\tsize mismatch for _blocks.2._project_conv.weight: copying a param with shape torch.Size([24, 96, 1, 1]) from checkpoint, the shape in current model is torch.Size([24, 144, 1, 1]).\n\tsize mismatch for _blocks.3._depthwise_conv.weight: copying a param with shape torch.Size([144, 1, 3, 3]) from checkpoint, the shape in current model is torch.Size([144, 1, 5, 5]).\n\tsize mismatch for _blocks.3._project_conv.weight: copying a param with shape torch.Size([24, 144, 1, 1]) from checkpoint, the shape in current model is torch.Size([40, 144, 1, 1]).\n\tsize mismatch for _blocks.3._bn2.weight: copying a param with shape torch.Size([24]) from checkpoint, the shape in current model is torch.Size([40]).\n\tsize mismatch for _blocks.3._bn2.bias: copying a param with shape torch.Size([24]) from checkpoint, the shape in current model is torch.Size([40]).\n\tsize mismatch for _blocks.3._bn2.running_mean: copying a param with shape torch.Size([24]) from checkpoint, the shape in current model is torch.Size([40]).\n\tsize mismatch for _blocks.3._bn2.running_var: copying a param with shape torch.Size([24]) from checkpoint, the shape in current model is torch.Size([40]).\n\tsize mismatch for _blocks.4._expand_conv.weight: copying a param with shape torch.Size([144, 24, 1, 1]) from checkpoint, the shape in current model is torch.Size([240, 40, 1, 1]).\n\tsize mismatch for _blocks.4._bn0.weight: copying a param with shape torch.Size([144]) from checkpoint, the shape in current model is torch.Size([240]).\n\tsize mismatch for _blocks.4._bn0.bias: copying a param with shape torch.Size([144]) from checkpoint, the shape in current model is torch.Size([240]).\n\tsize mismatch for _blocks.4._bn0.running_mean: copying a param with shape torch.Size([144]) from checkpoint, the shape in current model is torch.Size([240]).\n\tsize mismatch for _blocks.4._bn0.running_var: copying a param with shape torch.Size([144]) from checkpoint, the shape in current model is torch.Size([240]).\n\tsize mismatch for _blocks.4._depthwise_conv.weight: copying a param with shape torch.Size([144, 1, 3, 3]) from checkpoint, the shape in current model is torch.Size([240, 1, 5, 5]).\n\tsize mismatch for _blocks.4._bn1.weight: copying a param with shape torch.Size([144]) from checkpoint, the shape in current model is torch.Size([240]).\n\tsize mismatch for _blocks.4._bn1.bias: copying a param with shape torch.Size([144]) from checkpoint, the shape in current model is torch.Size([240]).\n\tsize mismatch for _blocks.4._bn1.running_mean: copying a param with shape torch.Size([144]) from checkpoint, the shape in current model is torch.Size([240]).\n\tsize mismatch for _blocks.4._bn1.running_var: copying a param with shape torch.Size([144]) from checkpoint, the shape in current model is torch.Size([240]).\n\tsize mismatch for _blocks.4._se_reduce.weight: copying a param with shape torch.Size([6, 144, 1, 1]) from checkpoint, the shape in current model is torch.Size([10, 240, 1, 1]).\n\tsize mismatch for _blocks.4._se_reduce.bias: copying a param with shape torch.Size([6]) from checkpoint, the shape in current model is torch.Size([10]).\n\tsize mismatch for _blocks.4._se_expand.weight: copying a param with shape torch.Size([144, 6, 1, 1]) from checkpoint, the shape in current model is torch.Size([240, 10, 1, 1]).\n\tsize mismatch for _blocks.4._se_expand.bias: copying a param with shape torch.Size([144]) from checkpoint, the shape in current model is torch.Size([240]).\n\tsize mismatch for _blocks.4._project_conv.weight: copying a param with shape torch.Size([24, 144, 1, 1]) from checkpoint, the shape in current model is torch.Size([40, 240, 1, 1]).\n\tsize mismatch for _blocks.4._bn2.weight: copying a param with shape torch.Size([24]) from checkpoint, the shape in current model is torch.Size([40]).\n\tsize mismatch for _blocks.4._bn2.bias: copying a param with shape torch.Size([24]) from checkpoint, the shape in current model is torch.Size([40]).\n\tsize mismatch for _blocks.4._bn2.running_mean: copying a param with shape torch.Size([24]) from checkpoint, the shape in current model is torch.Size([40]).\n\tsize mismatch for _blocks.4._bn2.running_var: copying a param with shape torch.Size([24]) from checkpoint, the shape in current model is torch.Size([40]).\n\tsize mismatch for _blocks.5._expand_conv.weight: copying a param with shape torch.Size([144, 24, 1, 1]) from checkpoint, the shape in current model is torch.Size([240, 40, 1, 1]).\n\tsize mismatch for _blocks.5._bn0.weight: copying a param with shape torch.Size([144]) from checkpoint, the shape in current model is torch.Size([240]).\n\tsize mismatch for _blocks.5._bn0.bias: copying a param with shape torch.Size([144]) from checkpoint, the shape in current model is torch.Size([240]).\n\tsize mismatch for _blocks.5._bn0.running_mean: copying a param with shape torch.Size([144]) from checkpoint, the shape in current model is torch.Size([240]).\n\tsize mismatch for _blocks.5._bn0.running_var: copying a param with shape torch.Size([144]) from checkpoint, the shape in current model is torch.Size([240]).\n\tsize mismatch for _blocks.5._depthwise_conv.weight: copying a param with shape torch.Size([144, 1, 5, 5]) from checkpoint, the shape in current model is torch.Size([240, 1, 3, 3]).\n\tsize mismatch for _blocks.5._bn1.weight: copying a param with shape torch.Size([144]) from checkpoint, the shape in current model is torch.Size([240]).\n\tsize mismatch for _blocks.5._bn1.bias: copying a param with shape torch.Size([144]) from checkpoint, the shape in current model is torch.Size([240]).\n\tsize mismatch for _blocks.5._bn1.running_mean: copying a param with shape torch.Size([144]) from checkpoint, the shape in current model is torch.Size([240]).\n\tsize mismatch for _blocks.5._bn1.running_var: copying a param with shape torch.Size([144]) from checkpoint, the shape in current model is torch.Size([240]).\n\tsize mismatch for _blocks.5._se_reduce.weight: copying a param with shape torch.Size([6, 144, 1, 1]) from checkpoint, the shape in current model is torch.Size([10, 240, 1, 1]).\n\tsize mismatch for _blocks.5._se_reduce.bias: copying a param with shape torch.Size([6]) from checkpoint, the shape in current model is torch.Size([10]).\n\tsize mismatch for _blocks.5._se_expand.weight: copying a param with shape torch.Size([144, 6, 1, 1]) from checkpoint, the shape in current model is torch.Size([240, 10, 1, 1]).\n\tsize mismatch for _blocks.5._se_expand.bias: copying a param with shape torch.Size([144]) from checkpoint, the shape in current model is torch.Size([240]).\n\tsize mismatch for _blocks.5._project_conv.weight: copying a param with shape torch.Size([40, 144, 1, 1]) from checkpoint, the shape in current model is torch.Size([80, 240, 1, 1]).\n\tsize mismatch for _blocks.5._bn2.weight: copying a param with shape torch.Size([40]) from checkpoint, the shape in current model is torch.Size([80]).\n\tsize mismatch for _blocks.5._bn2.bias: copying a param with shape torch.Size([40]) from checkpoint, the shape in current model is torch.Size([80]).\n\tsize mismatch for _blocks.5._bn2.running_mean: copying a param with shape torch.Size([40]) from checkpoint, the shape in current model is torch.Size([80]).\n\tsize mismatch for _blocks.5._bn2.running_var: copying a param with shape torch.Size([40]) from checkpoint, the shape in current model is torch.Size([80]).\n\tsize mismatch for _blocks.6._expand_conv.weight: copying a param with shape torch.Size([240, 40, 1, 1]) from checkpoint, the shape in current model is torch.Size([480, 80, 1, 1]).\n\tsize mismatch for _blocks.6._bn0.weight: copying a param with shape torch.Size([240]) from checkpoint, the shape in current model is torch.Size([480]).\n\tsize mismatch for _blocks.6._bn0.bias: copying a param with shape torch.Size([240]) from checkpoint, the shape in current model is torch.Size([480]).\n\tsize mismatch for _blocks.6._bn0.running_mean: copying a param with shape torch.Size([240]) from checkpoint, the shape in current model is torch.Size([480]).\n\tsize mismatch for _blocks.6._bn0.running_var: copying a param with shape torch.Size([240]) from checkpoint, the shape in current model is torch.Size([480]).\n\tsize mismatch for _blocks.6._depthwise_conv.weight: copying a param with shape torch.Size([240, 1, 5, 5]) from checkpoint, the shape in current model is torch.Size([480, 1, 3, 3]).\n\tsize mismatch for _blocks.6._bn1.weight: copying a param with shape torch.Size([240]) from checkpoint, the shape in current model is torch.Size([480]).\n\tsize mismatch for _blocks.6._bn1.bias: copying a param with shape torch.Size([240]) from checkpoint, the shape in current model is torch.Size([480]).\n\tsize mismatch for _blocks.6._bn1.running_mean: copying a param with shape torch.Size([240]) from checkpoint, the shape in current model is torch.Size([480]).\n\tsize mismatch for _blocks.6._bn1.running_var: copying a param with shape torch.Size([240]) from checkpoint, the shape in current model is torch.Size([480]).\n\tsize mismatch for _blocks.6._se_reduce.weight: copying a param with shape torch.Size([10, 240, 1, 1]) from checkpoint, the shape in current model is torch.Size([20, 480, 1, 1]).\n\tsize mismatch for _blocks.6._se_reduce.bias: copying a param with shape torch.Size([10]) from checkpoint, the shape in current model is torch.Size([20]).\n\tsize mismatch for _blocks.6._se_expand.weight: copying a param with shape torch.Size([240, 10, 1, 1]) from checkpoint, the shape in current model is torch.Size([480, 20, 1, 1]).\n\tsize mismatch for _blocks.6._se_expand.bias: copying a param with shape torch.Size([240]) from checkpoint, the shape in current model is torch.Size([480]).\n\tsize mismatch for _blocks.6._project_conv.weight: copying a param with shape torch.Size([40, 240, 1, 1]) from checkpoint, the shape in current model is torch.Size([80, 480, 1, 1]).\n\tsize mismatch for _blocks.6._bn2.weight: copying a param with shape torch.Size([40]) from checkpoint, the shape in current model is torch.Size([80]).\n\tsize mismatch for _blocks.6._bn2.bias: copying a param with shape torch.Size([40]) from checkpoint, the shape in current model is torch.Size([80]).\n\tsize mismatch for _blocks.6._bn2.running_mean: copying a param with shape torch.Size([40]) from checkpoint, the shape in current model is torch.Size([80]).\n\tsize mismatch for _blocks.6._bn2.running_var: copying a param with shape torch.Size([40]) from checkpoint, the shape in current model is torch.Size([80]).\n\tsize mismatch for _blocks.7._expand_conv.weight: copying a param with shape torch.Size([240, 40, 1, 1]) from checkpoint, the shape in current model is torch.Size([480, 80, 1, 1]).\n\tsize mismatch for _blocks.7._bn0.weight: copying a param with shape torch.Size([240]) from checkpoint, the shape in current model is torch.Size([480]).\n\tsize mismatch for _blocks.7._bn0.bias: copying a param with shape torch.Size([240]) from checkpoint, the shape in current model is torch.Size([480]).\n\tsize mismatch for _blocks.7._bn0.running_mean: copying a param with shape torch.Size([240]) from checkpoint, the shape in current model is torch.Size([480]).\n\tsize mismatch for _blocks.7._bn0.running_var: copying a param with shape torch.Size([240]) from checkpoint, the shape in current model is torch.Size([480]).\n\tsize mismatch for _blocks.7._depthwise_conv.weight: copying a param with shape torch.Size([240, 1, 5, 5]) from checkpoint, the shape in current model is torch.Size([480, 1, 3, 3]).\n\tsize mismatch for _blocks.7._bn1.weight: copying a param with shape torch.Size([240]) from checkpoint, the shape in current model is torch.Size([480]).\n\tsize mismatch for _blocks.7._bn1.bias: copying a param with shape torch.Size([240]) from checkpoint, the shape in current model is torch.Size([480]).\n\tsize mismatch for _blocks.7._bn1.running_mean: copying a param with shape torch.Size([240]) from checkpoint, the shape in current model is torch.Size([480]).\n\tsize mismatch for _blocks.7._bn1.running_var: copying a param with shape torch.Size([240]) from checkpoint, the shape in current model is torch.Size([480]).\n\tsize mismatch for _blocks.7._se_reduce.weight: copying a param with shape torch.Size([10, 240, 1, 1]) from checkpoint, the shape in current model is torch.Size([20, 480, 1, 1]).\n\tsize mismatch for _blocks.7._se_reduce.bias: copying a param with shape torch.Size([10]) from checkpoint, the shape in current model is torch.Size([20]).\n\tsize mismatch for _blocks.7._se_expand.weight: copying a param with shape torch.Size([240, 10, 1, 1]) from checkpoint, the shape in current model is torch.Size([480, 20, 1, 1]).\n\tsize mismatch for _blocks.7._se_expand.bias: copying a param with shape torch.Size([240]) from checkpoint, the shape in current model is torch.Size([480]).\n\tsize mismatch for _blocks.7._project_conv.weight: copying a param with shape torch.Size([40, 240, 1, 1]) from checkpoint, the shape in current model is torch.Size([80, 480, 1, 1]).\n\tsize mismatch for _blocks.7._bn2.weight: copying a param with shape torch.Size([40]) from checkpoint, the shape in current model is torch.Size([80]).\n\tsize mismatch for _blocks.7._bn2.bias: copying a param with shape torch.Size([40]) from checkpoint, the shape in current model is torch.Size([80]).\n\tsize mismatch for _blocks.7._bn2.running_mean: copying a param with shape torch.Size([40]) from checkpoint, the shape in current model is torch.Size([80]).\n\tsize mismatch for _blocks.7._bn2.running_var: copying a param with shape torch.Size([40]) from checkpoint, the shape in current model is torch.Size([80]).\n\tsize mismatch for _blocks.8._expand_conv.weight: copying a param with shape torch.Size([240, 40, 1, 1]) from checkpoint, the shape in current model is torch.Size([480, 80, 1, 1]).\n\tsize mismatch for _blocks.8._bn0.weight: copying a param with shape torch.Size([240]) from checkpoint, the shape in current model is torch.Size([480]).\n\tsize mismatch for _blocks.8._bn0.bias: copying a param with shape torch.Size([240]) from checkpoint, the shape in current model is torch.Size([480]).\n\tsize mismatch for _blocks.8._bn0.running_mean: copying a param with shape torch.Size([240]) from checkpoint, the shape in current model is torch.Size([480]).\n\tsize mismatch for _blocks.8._bn0.running_var: copying a param with shape torch.Size([240]) from checkpoint, the shape in current model is torch.Size([480]).\n\tsize mismatch for _blocks.8._depthwise_conv.weight: copying a param with shape torch.Size([240, 1, 3, 3]) from checkpoint, the shape in current model is torch.Size([480, 1, 5, 5]).\n\tsize mismatch for _blocks.8._bn1.weight: copying a param with shape torch.Size([240]) from checkpoint, the shape in current model is torch.Size([480]).\n\tsize mismatch for _blocks.8._bn1.bias: copying a param with shape torch.Size([240]) from checkpoint, the shape in current model is torch.Size([480]).\n\tsize mismatch for _blocks.8._bn1.running_mean: copying a param with shape torch.Size([240]) from checkpoint, the shape in current model is torch.Size([480]).\n\tsize mismatch for _blocks.8._bn1.running_var: copying a param with shape torch.Size([240]) from checkpoint, the shape in current model is torch.Size([480]).\n\tsize mismatch for _blocks.8._se_reduce.weight: copying a param with shape torch.Size([10, 240, 1, 1]) from checkpoint, the shape in current model is torch.Size([20, 480, 1, 1]).\n\tsize mismatch for _blocks.8._se_reduce.bias: copying a param with shape torch.Size([10]) from checkpoint, the shape in current model is torch.Size([20]).\n\tsize mismatch for _blocks.8._se_expand.weight: copying a param with shape torch.Size([240, 10, 1, 1]) from checkpoint, the shape in current model is torch.Size([480, 20, 1, 1]).\n\tsize mismatch for _blocks.8._se_expand.bias: copying a param with shape torch.Size([240]) from checkpoint, the shape in current model is torch.Size([480]).\n\tsize mismatch for _blocks.8._project_conv.weight: copying a param with shape torch.Size([80, 240, 1, 1]) from checkpoint, the shape in current model is torch.Size([112, 480, 1, 1]).\n\tsize mismatch for _blocks.8._bn2.weight: copying a param with shape torch.Size([80]) from checkpoint, the shape in current model is torch.Size([112]).\n\tsize mismatch for _blocks.8._bn2.bias: copying a param with shape torch.Size([80]) from checkpoint, the shape in current model is torch.Size([112]).\n\tsize mismatch for _blocks.8._bn2.running_mean: copying a param with shape torch.Size([80]) from checkpoint, the shape in current model is torch.Size([112]).\n\tsize mismatch for _blocks.8._bn2.running_var: copying a param with shape torch.Size([80]) from checkpoint, the shape in current model is torch.Size([112]).\n\tsize mismatch for _blocks.9._expand_conv.weight: copying a param with shape torch.Size([480, 80, 1, 1]) from checkpoint, the shape in current model is torch.Size([672, 112, 1, 1]).\n\tsize mismatch for _blocks.9._bn0.weight: copying a param with shape torch.Size([480]) from checkpoint, the shape in current model is torch.Size([672]).\n\tsize mismatch for _blocks.9._bn0.bias: copying a param with shape torch.Size([480]) from checkpoint, the shape in current model is torch.Size([672]).\n\tsize mismatch for _blocks.9._bn0.running_mean: copying a param with shape torch.Size([480]) from checkpoint, the shape in current model is torch.Size([672]).\n\tsize mismatch for _blocks.9._bn0.running_var: copying a param with shape torch.Size([480]) from checkpoint, the shape in current model is torch.Size([672]).\n\tsize mismatch for _blocks.9._depthwise_conv.weight: copying a param with shape torch.Size([480, 1, 3, 3]) from checkpoint, the shape in current model is torch.Size([672, 1, 5, 5]).\n\tsize mismatch for _blocks.9._bn1.weight: copying a param with shape torch.Size([480]) from checkpoint, the shape in current model is torch.Size([672]).\n\tsize mismatch for _blocks.9._bn1.bias: copying a param with shape torch.Size([480]) from checkpoint, the shape in current model is torch.Size([672]).\n\tsize mismatch for _blocks.9._bn1.running_mean: copying a param with shape torch.Size([480]) from checkpoint, the shape in current model is torch.Size([672]).\n\tsize mismatch for _blocks.9._bn1.running_var: copying a param with shape torch.Size([480]) from checkpoint, the shape in current model is torch.Size([672]).\n\tsize mismatch for _blocks.9._se_reduce.weight: copying a param with shape torch.Size([20, 480, 1, 1]) from checkpoint, the shape in current model is torch.Size([28, 672, 1, 1]).\n\tsize mismatch for _blocks.9._se_reduce.bias: copying a param with shape torch.Size([20]) from checkpoint, the shape in current model is torch.Size([28]).\n\tsize mismatch for _blocks.9._se_expand.weight: copying a param with shape torch.Size([480, 20, 1, 1]) from checkpoint, the shape in current model is torch.Size([672, 28, 1, 1]).\n\tsize mismatch for _blocks.9._se_expand.bias: copying a param with shape torch.Size([480]) from checkpoint, the shape in current model is torch.Size([672]).\n\tsize mismatch for _blocks.9._project_conv.weight: copying a param with shape torch.Size([80, 480, 1, 1]) from checkpoint, the shape in current model is torch.Size([112, 672, 1, 1]).\n\tsize mismatch for _blocks.9._bn2.weight: copying a param with shape torch.Size([80]) from checkpoint, the shape in current model is torch.Size([112]).\n\tsize mismatch for _blocks.9._bn2.bias: copying a param with shape torch.Size([80]) from checkpoint, the shape in current model is torch.Size([112]).\n\tsize mismatch for _blocks.9._bn2.running_mean: copying a param with shape torch.Size([80]) from checkpoint, the shape in current model is torch.Size([112]).\n\tsize mismatch for _blocks.9._bn2.running_var: copying a param with shape torch.Size([80]) from checkpoint, the shape in current model is torch.Size([112]).\n\tsize mismatch for _blocks.10._expand_conv.weight: copying a param with shape torch.Size([480, 80, 1, 1]) from checkpoint, the shape in current model is torch.Size([672, 112, 1, 1]).\n\tsize mismatch for _blocks.10._bn0.weight: copying a param with shape torch.Size([480]) from checkpoint, the shape in current model is torch.Size([672]).\n\tsize mismatch for _blocks.10._bn0.bias: copying a param with shape torch.Size([480]) from checkpoint, the shape in current model is torch.Size([672]).\n\tsize mismatch for _blocks.10._bn0.running_mean: copying a param with shape torch.Size([480]) from checkpoint, the shape in current model is torch.Size([672]).\n\tsize mismatch for _blocks.10._bn0.running_var: copying a param with shape torch.Size([480]) from checkpoint, the shape in current model is torch.Size([672]).\n\tsize mismatch for _blocks.10._depthwise_conv.weight: copying a param with shape torch.Size([480, 1, 3, 3]) from checkpoint, the shape in current model is torch.Size([672, 1, 5, 5]).\n\tsize mismatch for _blocks.10._bn1.weight: copying a param with shape torch.Size([480]) from checkpoint, the shape in current model is torch.Size([672]).\n\tsize mismatch for _blocks.10._bn1.bias: copying a param with shape torch.Size([480]) from checkpoint, the shape in current model is torch.Size([672]).\n\tsize mismatch for _blocks.10._bn1.running_mean: copying a param with shape torch.Size([480]) from checkpoint, the shape in current model is torch.Size([672]).\n\tsize mismatch for _blocks.10._bn1.running_var: copying a param with shape torch.Size([480]) from checkpoint, the shape in current model is torch.Size([672]).\n\tsize mismatch for _blocks.10._se_reduce.weight: copying a param with shape torch.Size([20, 480, 1, 1]) from checkpoint, the shape in current model is torch.Size([28, 672, 1, 1]).\n\tsize mismatch for _blocks.10._se_reduce.bias: copying a param with shape torch.Size([20]) from checkpoint, the shape in current model is torch.Size([28]).\n\tsize mismatch for _blocks.10._se_expand.weight: copying a param with shape torch.Size([480, 20, 1, 1]) from checkpoint, the shape in current model is torch.Size([672, 28, 1, 1]).\n\tsize mismatch for _blocks.10._se_expand.bias: copying a param with shape torch.Size([480]) from checkpoint, the shape in current model is torch.Size([672]).\n\tsize mismatch for _blocks.10._project_conv.weight: copying a param with shape torch.Size([80, 480, 1, 1]) from checkpoint, the shape in current model is torch.Size([112, 672, 1, 1]).\n\tsize mismatch for _blocks.10._bn2.weight: copying a param with shape torch.Size([80]) from checkpoint, the shape in current model is torch.Size([112]).\n\tsize mismatch for _blocks.10._bn2.bias: copying a param with shape torch.Size([80]) from checkpoint, the shape in current model is torch.Size([112]).\n\tsize mismatch for _blocks.10._bn2.running_mean: copying a param with shape torch.Size([80]) from checkpoint, the shape in current model is torch.Size([112]).\n\tsize mismatch for _blocks.10._bn2.running_var: copying a param with shape torch.Size([80]) from checkpoint, the shape in current model is torch.Size([112]).\n\tsize mismatch for _blocks.11._expand_conv.weight: copying a param with shape torch.Size([480, 80, 1, 1]) from checkpoint, the shape in current model is torch.Size([672, 112, 1, 1]).\n\tsize mismatch for _blocks.11._bn0.weight: copying a param with shape torch.Size([480]) from checkpoint, the shape in current model is torch.Size([672]).\n\tsize mismatch for _blocks.11._bn0.bias: copying a param with shape torch.Size([480]) from checkpoint, the shape in current model is torch.Size([672]).\n\tsize mismatch for _blocks.11._bn0.running_mean: copying a param with shape torch.Size([480]) from checkpoint, the shape in current model is torch.Size([672]).\n\tsize mismatch for _blocks.11._bn0.running_var: copying a param with shape torch.Size([480]) from checkpoint, the shape in current model is torch.Size([672]).\n\tsize mismatch for _blocks.11._depthwise_conv.weight: copying a param with shape torch.Size([480, 1, 3, 3]) from checkpoint, the shape in current model is torch.Size([672, 1, 5, 5]).\n\tsize mismatch for _blocks.11._bn1.weight: copying a param with shape torch.Size([480]) from checkpoint, the shape in current model is torch.Size([672]).\n\tsize mismatch for _blocks.11._bn1.bias: copying a param with shape torch.Size([480]) from checkpoint, the shape in current model is torch.Size([672]).\n\tsize mismatch for _blocks.11._bn1.running_mean: copying a param with shape torch.Size([480]) from checkpoint, the shape in current model is torch.Size([672]).\n\tsize mismatch for _blocks.11._bn1.running_var: copying a param with shape torch.Size([480]) from checkpoint, the shape in current model is torch.Size([672]).\n\tsize mismatch for _blocks.11._se_reduce.weight: copying a param with shape torch.Size([20, 480, 1, 1]) from checkpoint, the shape in current model is torch.Size([28, 672, 1, 1]).\n\tsize mismatch for _blocks.11._se_reduce.bias: copying a param with shape torch.Size([20]) from checkpoint, the shape in current model is torch.Size([28]).\n\tsize mismatch for _blocks.11._se_expand.weight: copying a param with shape torch.Size([480, 20, 1, 1]) from checkpoint, the shape in current model is torch.Size([672, 28, 1, 1]).\n\tsize mismatch for _blocks.11._se_expand.bias: copying a param with shape torch.Size([480]) from checkpoint, the shape in current model is torch.Size([672]).\n\tsize mismatch for _blocks.11._project_conv.weight: copying a param with shape torch.Size([80, 480, 1, 1]) from checkpoint, the shape in current model is torch.Size([192, 672, 1, 1]).\n\tsize mismatch for _blocks.11._bn2.weight: copying a param with shape torch.Size([80]) from checkpoint, the shape in current model is torch.Size([192]).\n\tsize mismatch for _blocks.11._bn2.bias: copying a param with shape torch.Size([80]) from checkpoint, the shape in current model is torch.Size([192]).\n\tsize mismatch for _blocks.11._bn2.running_mean: copying a param with shape torch.Size([80]) from checkpoint, the shape in current model is torch.Size([192]).\n\tsize mismatch for _blocks.11._bn2.running_var: copying a param with shape torch.Size([80]) from checkpoint, the shape in current model is torch.Size([192]).\n\tsize mismatch for _blocks.12._expand_conv.weight: copying a param with shape torch.Size([480, 80, 1, 1]) from checkpoint, the shape in current model is torch.Size([1152, 192, 1, 1]).\n\tsize mismatch for _blocks.12._bn0.weight: copying a param with shape torch.Size([480]) from checkpoint, the shape in current model is torch.Size([1152]).\n\tsize mismatch for _blocks.12._bn0.bias: copying a param with shape torch.Size([480]) from checkpoint, the shape in current model is torch.Size([1152]).\n\tsize mismatch for _blocks.12._bn0.running_mean: copying a param with shape torch.Size([480]) from checkpoint, the shape in current model is torch.Size([1152]).\n\tsize mismatch for _blocks.12._bn0.running_var: copying a param with shape torch.Size([480]) from checkpoint, the shape in current model is torch.Size([1152]).\n\tsize mismatch for _blocks.12._depthwise_conv.weight: copying a param with shape torch.Size([480, 1, 5, 5]) from checkpoint, the shape in current model is torch.Size([1152, 1, 5, 5]).\n\tsize mismatch for _blocks.12._bn1.weight: copying a param with shape torch.Size([480]) from checkpoint, the shape in current model is torch.Size([1152]).\n\tsize mismatch for _blocks.12._bn1.bias: copying a param with shape torch.Size([480]) from checkpoint, the shape in current model is torch.Size([1152]).\n\tsize mismatch for _blocks.12._bn1.running_mean: copying a param with shape torch.Size([480]) from checkpoint, the shape in current model is torch.Size([1152]).\n\tsize mismatch for _blocks.12._bn1.running_var: copying a param with shape torch.Size([480]) from checkpoint, the shape in current model is torch.Size([1152]).\n\tsize mismatch for _blocks.12._se_reduce.weight: copying a param with shape torch.Size([20, 480, 1, 1]) from checkpoint, the shape in current model is torch.Size([48, 1152, 1, 1]).\n\tsize mismatch for _blocks.12._se_reduce.bias: copying a param with shape torch.Size([20]) from checkpoint, the shape in current model is torch.Size([48]).\n\tsize mismatch for _blocks.12._se_expand.weight: copying a param with shape torch.Size([480, 20, 1, 1]) from checkpoint, the shape in current model is torch.Size([1152, 48, 1, 1]).\n\tsize mismatch for _blocks.12._se_expand.bias: copying a param with shape torch.Size([480]) from checkpoint, the shape in current model is torch.Size([1152]).\n\tsize mismatch for _blocks.12._project_conv.weight: copying a param with shape torch.Size([112, 480, 1, 1]) from checkpoint, the shape in current model is torch.Size([192, 1152, 1, 1]).\n\tsize mismatch for _blocks.12._bn2.weight: copying a param with shape torch.Size([112]) from checkpoint, the shape in current model is torch.Size([192]).\n\tsize mismatch for _blocks.12._bn2.bias: copying a param with shape torch.Size([112]) from checkpoint, the shape in current model is torch.Size([192]).\n\tsize mismatch for _blocks.12._bn2.running_mean: copying a param with shape torch.Size([112]) from checkpoint, the shape in current model is torch.Size([192]).\n\tsize mismatch for _blocks.12._bn2.running_var: copying a param with shape torch.Size([112]) from checkpoint, the shape in current model is torch.Size([192]).\n\tsize mismatch for _blocks.13._expand_conv.weight: copying a param with shape torch.Size([672, 112, 1, 1]) from checkpoint, the shape in current model is torch.Size([1152, 192, 1, 1]).\n\tsize mismatch for _blocks.13._bn0.weight: copying a param with shape torch.Size([672]) from checkpoint, the shape in current model is torch.Size([1152]).\n\tsize mismatch for _blocks.13._bn0.bias: copying a param with shape torch.Size([672]) from checkpoint, the shape in current model is torch.Size([1152]).\n\tsize mismatch for _blocks.13._bn0.running_mean: copying a param with shape torch.Size([672]) from checkpoint, the shape in current model is torch.Size([1152]).\n\tsize mismatch for _blocks.13._bn0.running_var: copying a param with shape torch.Size([672]) from checkpoint, the shape in current model is torch.Size([1152]).\n\tsize mismatch for _blocks.13._depthwise_conv.weight: copying a param with shape torch.Size([672, 1, 5, 5]) from checkpoint, the shape in current model is torch.Size([1152, 1, 5, 5]).\n\tsize mismatch for _blocks.13._bn1.weight: copying a param with shape torch.Size([672]) from checkpoint, the shape in current model is torch.Size([1152]).\n\tsize mismatch for _blocks.13._bn1.bias: copying a param with shape torch.Size([672]) from checkpoint, the shape in current model is torch.Size([1152]).\n\tsize mismatch for _blocks.13._bn1.running_mean: copying a param with shape torch.Size([672]) from checkpoint, the shape in current model is torch.Size([1152]).\n\tsize mismatch for _blocks.13._bn1.running_var: copying a param with shape torch.Size([672]) from checkpoint, the shape in current model is torch.Size([1152]).\n\tsize mismatch for _blocks.13._se_reduce.weight: copying a param with shape torch.Size([28, 672, 1, 1]) from checkpoint, the shape in current model is torch.Size([48, 1152, 1, 1]).\n\tsize mismatch for _blocks.13._se_reduce.bias: copying a param with shape torch.Size([28]) from checkpoint, the shape in current model is torch.Size([48]).\n\tsize mismatch for _blocks.13._se_expand.weight: copying a param with shape torch.Size([672, 28, 1, 1]) from checkpoint, the shape in current model is torch.Size([1152, 48, 1, 1]).\n\tsize mismatch for _blocks.13._se_expand.bias: copying a param with shape torch.Size([672]) from checkpoint, the shape in current model is torch.Size([1152]).\n\tsize mismatch for _blocks.13._project_conv.weight: copying a param with shape torch.Size([112, 672, 1, 1]) from checkpoint, the shape in current model is torch.Size([192, 1152, 1, 1]).\n\tsize mismatch for _blocks.13._bn2.weight: copying a param with shape torch.Size([112]) from checkpoint, the shape in current model is torch.Size([192]).\n\tsize mismatch for _blocks.13._bn2.bias: copying a param with shape torch.Size([112]) from checkpoint, the shape in current model is torch.Size([192]).\n\tsize mismatch for _blocks.13._bn2.running_mean: copying a param with shape torch.Size([112]) from checkpoint, the shape in current model is torch.Size([192]).\n\tsize mismatch for _blocks.13._bn2.running_var: copying a param with shape torch.Size([112]) from checkpoint, the shape in current model is torch.Size([192]).\n\tsize mismatch for _blocks.14._expand_conv.weight: copying a param with shape torch.Size([672, 112, 1, 1]) from checkpoint, the shape in current model is torch.Size([1152, 192, 1, 1]).\n\tsize mismatch for _blocks.14._bn0.weight: copying a param with shape torch.Size([672]) from checkpoint, the shape in current model is torch.Size([1152]).\n\tsize mismatch for _blocks.14._bn0.bias: copying a param with shape torch.Size([672]) from checkpoint, the shape in current model is torch.Size([1152]).\n\tsize mismatch for _blocks.14._bn0.running_mean: copying a param with shape torch.Size([672]) from checkpoint, the shape in current model is torch.Size([1152]).\n\tsize mismatch for _blocks.14._bn0.running_var: copying a param with shape torch.Size([672]) from checkpoint, the shape in current model is torch.Size([1152]).\n\tsize mismatch for _blocks.14._depthwise_conv.weight: copying a param with shape torch.Size([672, 1, 5, 5]) from checkpoint, the shape in current model is torch.Size([1152, 1, 5, 5]).\n\tsize mismatch for _blocks.14._bn1.weight: copying a param with shape torch.Size([672]) from checkpoint, the shape in current model is torch.Size([1152]).\n\tsize mismatch for _blocks.14._bn1.bias: copying a param with shape torch.Size([672]) from checkpoint, the shape in current model is torch.Size([1152]).\n\tsize mismatch for _blocks.14._bn1.running_mean: copying a param with shape torch.Size([672]) from checkpoint, the shape in current model is torch.Size([1152]).\n\tsize mismatch for _blocks.14._bn1.running_var: copying a param with shape torch.Size([672]) from checkpoint, the shape in current model is torch.Size([1152]).\n\tsize mismatch for _blocks.14._se_reduce.weight: copying a param with shape torch.Size([28, 672, 1, 1]) from checkpoint, the shape in current model is torch.Size([48, 1152, 1, 1]).\n\tsize mismatch for _blocks.14._se_reduce.bias: copying a param with shape torch.Size([28]) from checkpoint, the shape in current model is torch.Size([48]).\n\tsize mismatch for _blocks.14._se_expand.weight: copying a param with shape torch.Size([672, 28, 1, 1]) from checkpoint, the shape in current model is torch.Size([1152, 48, 1, 1]).\n\tsize mismatch for _blocks.14._se_expand.bias: copying a param with shape torch.Size([672]) from checkpoint, the shape in current model is torch.Size([1152]).\n\tsize mismatch for _blocks.14._project_conv.weight: copying a param with shape torch.Size([112, 672, 1, 1]) from checkpoint, the shape in current model is torch.Size([192, 1152, 1, 1]).\n\tsize mismatch for _blocks.14._bn2.weight: copying a param with shape torch.Size([112]) from checkpoint, the shape in current model is torch.Size([192]).\n\tsize mismatch for _blocks.14._bn2.bias: copying a param with shape torch.Size([112]) from checkpoint, the shape in current model is torch.Size([192]).\n\tsize mismatch for _blocks.14._bn2.running_mean: copying a param with shape torch.Size([112]) from checkpoint, the shape in current model is torch.Size([192]).\n\tsize mismatch for _blocks.14._bn2.running_var: copying a param with shape torch.Size([112]) from checkpoint, the shape in current model is torch.Size([192]).\n\tsize mismatch for _blocks.15._expand_conv.weight: copying a param with shape torch.Size([672, 112, 1, 1]) from checkpoint, the shape in current model is torch.Size([1152, 192, 1, 1]).\n\tsize mismatch for _blocks.15._bn0.weight: copying a param with shape torch.Size([672]) from checkpoint, the shape in current model is torch.Size([1152]).\n\tsize mismatch for _blocks.15._bn0.bias: copying a param with shape torch.Size([672]) from checkpoint, the shape in current model is torch.Size([1152]).\n\tsize mismatch for _blocks.15._bn0.running_mean: copying a param with shape torch.Size([672]) from checkpoint, the shape in current model is torch.Size([1152]).\n\tsize mismatch for _blocks.15._bn0.running_var: copying a param with shape torch.Size([672]) from checkpoint, the shape in current model is torch.Size([1152]).\n\tsize mismatch for _blocks.15._depthwise_conv.weight: copying a param with shape torch.Size([672, 1, 5, 5]) from checkpoint, the shape in current model is torch.Size([1152, 1, 3, 3]).\n\tsize mismatch for _blocks.15._bn1.weight: copying a param with shape torch.Size([672]) from checkpoint, the shape in current model is torch.Size([1152]).\n\tsize mismatch for _blocks.15._bn1.bias: copying a param with shape torch.Size([672]) from checkpoint, the shape in current model is torch.Size([1152]).\n\tsize mismatch for _blocks.15._bn1.running_mean: copying a param with shape torch.Size([672]) from checkpoint, the shape in current model is torch.Size([1152]).\n\tsize mismatch for _blocks.15._bn1.running_var: copying a param with shape torch.Size([672]) from checkpoint, the shape in current model is torch.Size([1152]).\n\tsize mismatch for _blocks.15._se_reduce.weight: copying a param with shape torch.Size([28, 672, 1, 1]) from checkpoint, the shape in current model is torch.Size([48, 1152, 1, 1]).\n\tsize mismatch for _blocks.15._se_reduce.bias: copying a param with shape torch.Size([28]) from checkpoint, the shape in current model is torch.Size([48]).\n\tsize mismatch for _blocks.15._se_expand.weight: copying a param with shape torch.Size([672, 28, 1, 1]) from checkpoint, the shape in current model is torch.Size([1152, 48, 1, 1]).\n\tsize mismatch for _blocks.15._se_expand.bias: copying a param with shape torch.Size([672]) from checkpoint, the shape in current model is torch.Size([1152]).\n\tsize mismatch for _blocks.15._project_conv.weight: copying a param with shape torch.Size([112, 672, 1, 1]) from checkpoint, the shape in current model is torch.Size([320, 1152, 1, 1]).\n\tsize mismatch for _blocks.15._bn2.weight: copying a param with shape torch.Size([112]) from checkpoint, the shape in current model is torch.Size([320]).\n\tsize mismatch for _blocks.15._bn2.bias: copying a param with shape torch.Size([112]) from checkpoint, the shape in current model is torch.Size([320]).\n\tsize mismatch for _blocks.15._bn2.running_mean: copying a param with shape torch.Size([112]) from checkpoint, the shape in current model is torch.Size([320]).\n\tsize mismatch for _blocks.15._bn2.running_var: copying a param with shape torch.Size([112]) from checkpoint, the shape in current model is torch.Size([320]).",
     "output_type": "error",
     "traceback": [
      "\u001b[0;31m---------------------------------------------------------------------------\u001b[0m",
      "\u001b[0;31mRuntimeError\u001b[0m                              Traceback (most recent call last)",
      "\u001b[0;32m<ipython-input-20-500add1df844>\u001b[0m in \u001b[0;36m<module>\u001b[0;34m\u001b[0m\n\u001b[1;32m      2\u001b[0m \u001b[0mfnm_mdl\u001b[0m \u001b[0;34m=\u001b[0m \u001b[0;34mf'{p_out}/model_{param.PRFX}_fld_{param.FLD2USE}_best.p'\u001b[0m\u001b[0;34m\u001b[0m\u001b[0;34m\u001b[0m\u001b[0m\n\u001b[1;32m      3\u001b[0m \u001b[0mprint\u001b[0m\u001b[0;34m(\u001b[0m\u001b[0;34m'load model'\u001b[0m\u001b[0;34m,\u001b[0m \u001b[0mfnm_mdl\u001b[0m\u001b[0;34m)\u001b[0m\u001b[0;34m\u001b[0m\u001b[0;34m\u001b[0m\u001b[0m\n\u001b[0;32m----> 4\u001b[0;31m \u001b[0mmdl\u001b[0m\u001b[0;34m.\u001b[0m\u001b[0mload_state_dict\u001b[0m\u001b[0;34m(\u001b[0m\u001b[0mtorch\u001b[0m\u001b[0;34m.\u001b[0m\u001b[0mload\u001b[0m\u001b[0;34m(\u001b[0m\u001b[0mfnm_mdl\u001b[0m\u001b[0;34m,\u001b[0m \u001b[0mmap_location\u001b[0m\u001b[0;34m=\u001b[0m\u001b[0mtorch\u001b[0m\u001b[0;34m.\u001b[0m\u001b[0mdevice\u001b[0m\u001b[0;34m(\u001b[0m\u001b[0mDEVICE\u001b[0m\u001b[0;34m)\u001b[0m\u001b[0;34m)\u001b[0m\u001b[0;34m)\u001b[0m\u001b[0;34m\u001b[0m\u001b[0;34m\u001b[0m\u001b[0m\n\u001b[0m\u001b[1;32m      5\u001b[0m \u001b[0;34m\u001b[0m\u001b[0m\n\u001b[1;32m      6\u001b[0m \u001b[0mmdl\u001b[0m \u001b[0;34m=\u001b[0m \u001b[0mmdl\u001b[0m\u001b[0;34m.\u001b[0m\u001b[0mto\u001b[0m\u001b[0;34m(\u001b[0m\u001b[0mdevice\u001b[0m\u001b[0;34m)\u001b[0m\u001b[0;34m\u001b[0m\u001b[0;34m\u001b[0m\u001b[0m\n",
      "\u001b[0;32m/data/anaconda3/envs/mel/lib/python3.7/site-packages/torch/nn/modules/module.py\u001b[0m in \u001b[0;36mload_state_dict\u001b[0;34m(self, state_dict, strict)\u001b[0m\n\u001b[1;32m    828\u001b[0m         \u001b[0;32mif\u001b[0m \u001b[0mlen\u001b[0m\u001b[0;34m(\u001b[0m\u001b[0merror_msgs\u001b[0m\u001b[0;34m)\u001b[0m \u001b[0;34m>\u001b[0m \u001b[0;36m0\u001b[0m\u001b[0;34m:\u001b[0m\u001b[0;34m\u001b[0m\u001b[0;34m\u001b[0m\u001b[0m\n\u001b[1;32m    829\u001b[0m             raise RuntimeError('Error(s) in loading state_dict for {}:\\n\\t{}'.format(\n\u001b[0;32m--> 830\u001b[0;31m                                self.__class__.__name__, \"\\n\\t\".join(error_msgs)))\n\u001b[0m\u001b[1;32m    831\u001b[0m         \u001b[0;32mreturn\u001b[0m \u001b[0m_IncompatibleKeys\u001b[0m\u001b[0;34m(\u001b[0m\u001b[0mmissing_keys\u001b[0m\u001b[0;34m,\u001b[0m \u001b[0munexpected_keys\u001b[0m\u001b[0;34m)\u001b[0m\u001b[0;34m\u001b[0m\u001b[0;34m\u001b[0m\u001b[0m\n\u001b[1;32m    832\u001b[0m \u001b[0;34m\u001b[0m\u001b[0m\n",
      "\u001b[0;31mRuntimeError\u001b[0m: Error(s) in loading state_dict for EfficientNet:\n\tMissing key(s) in state_dict: \"_blocks.1._expand_conv.weight\", \"_blocks.1._bn0.weight\", \"_blocks.1._bn0.bias\", \"_blocks.1._bn0.running_mean\", \"_blocks.1._bn0.running_var\", \"_avg_pooling.p\". \n\tUnexpected key(s) in state_dict: \"_blocks.16._expand_conv.weight\", \"_blocks.16._bn0.weight\", \"_blocks.16._bn0.bias\", \"_blocks.16._bn0.running_mean\", \"_blocks.16._bn0.running_var\", \"_blocks.16._bn0.num_batches_tracked\", \"_blocks.16._depthwise_conv.weight\", \"_blocks.16._bn1.weight\", \"_blocks.16._bn1.bias\", \"_blocks.16._bn1.running_mean\", \"_blocks.16._bn1.running_var\", \"_blocks.16._bn1.num_batches_tracked\", \"_blocks.16._se_reduce.weight\", \"_blocks.16._se_reduce.bias\", \"_blocks.16._se_expand.weight\", \"_blocks.16._se_expand.bias\", \"_blocks.16._project_conv.weight\", \"_blocks.16._bn2.weight\", \"_blocks.16._bn2.bias\", \"_blocks.16._bn2.running_mean\", \"_blocks.16._bn2.running_var\", \"_blocks.16._bn2.num_batches_tracked\", \"_blocks.17._expand_conv.weight\", \"_blocks.17._bn0.weight\", \"_blocks.17._bn0.bias\", \"_blocks.17._bn0.running_mean\", \"_blocks.17._bn0.running_var\", \"_blocks.17._bn0.num_batches_tracked\", \"_blocks.17._depthwise_conv.weight\", \"_blocks.17._bn1.weight\", \"_blocks.17._bn1.bias\", \"_blocks.17._bn1.running_mean\", \"_blocks.17._bn1.running_var\", \"_blocks.17._bn1.num_batches_tracked\", \"_blocks.17._se_reduce.weight\", \"_blocks.17._se_reduce.bias\", \"_blocks.17._se_expand.weight\", \"_blocks.17._se_expand.bias\", \"_blocks.17._project_conv.weight\", \"_blocks.17._bn2.weight\", \"_blocks.17._bn2.bias\", \"_blocks.17._bn2.running_mean\", \"_blocks.17._bn2.running_var\", \"_blocks.17._bn2.num_batches_tracked\", \"_blocks.18._expand_conv.weight\", \"_blocks.18._bn0.weight\", \"_blocks.18._bn0.bias\", \"_blocks.18._bn0.running_mean\", \"_blocks.18._bn0.running_var\", \"_blocks.18._bn0.num_batches_tracked\", \"_blocks.18._depthwise_conv.weight\", \"_blocks.18._bn1.weight\", \"_blocks.18._bn1.bias\", \"_blocks.18._bn1.running_mean\", \"_blocks.18._bn1.running_var\", \"_blocks.18._bn1.num_batches_tracked\", \"_blocks.18._se_reduce.weight\", \"_blocks.18._se_reduce.bias\", \"_blocks.18._se_expand.weight\", \"_blocks.18._se_expand.bias\", \"_blocks.18._project_conv.weight\", \"_blocks.18._bn2.weight\", \"_blocks.18._bn2.bias\", \"_blocks.18._bn2.running_mean\", \"_blocks.18._bn2.running_var\", \"_blocks.18._bn2.num_batches_tracked\", \"_blocks.19._expand_conv.weight\", \"_blocks.19._bn0.weight\", \"_blocks.19._bn0.bias\", \"_blocks.19._bn0.running_mean\", \"_blocks.19._bn0.running_var\", \"_blocks.19._bn0.num_batches_tracked\", \"_blocks.19._depthwise_conv.weight\", \"_blocks.19._bn1.weight\", \"_blocks.19._bn1.bias\", \"_blocks.19._bn1.running_mean\", \"_blocks.19._bn1.running_var\", \"_blocks.19._bn1.num_batches_tracked\", \"_blocks.19._se_reduce.weight\", \"_blocks.19._se_reduce.bias\", \"_blocks.19._se_expand.weight\", \"_blocks.19._se_expand.bias\", \"_blocks.19._project_conv.weight\", \"_blocks.19._bn2.weight\", \"_blocks.19._bn2.bias\", \"_blocks.19._bn2.running_mean\", \"_blocks.19._bn2.running_var\", \"_blocks.19._bn2.num_batches_tracked\", \"_blocks.20._expand_conv.weight\", \"_blocks.20._bn0.weight\", \"_blocks.20._bn0.bias\", \"_blocks.20._bn0.running_mean\", \"_blocks.20._bn0.running_var\", \"_blocks.20._bn0.num_batches_tracked\", \"_blocks.20._depthwise_conv.weight\", \"_blocks.20._bn1.weight\", \"_blocks.20._bn1.bias\", \"_blocks.20._bn1.running_mean\", \"_blocks.20._bn1.running_var\", \"_blocks.20._bn1.num_batches_tracked\", \"_blocks.20._se_reduce.weight\", \"_blocks.20._se_reduce.bias\", \"_blocks.20._se_expand.weight\", \"_blocks.20._se_expand.bias\", \"_blocks.20._project_conv.weight\", \"_blocks.20._bn2.weight\", \"_blocks.20._bn2.bias\", \"_blocks.20._bn2.running_mean\", \"_blocks.20._bn2.running_var\", \"_blocks.20._bn2.num_batches_tracked\", \"_blocks.21._expand_conv.weight\", \"_blocks.21._bn0.weight\", \"_blocks.21._bn0.bias\", \"_blocks.21._bn0.running_mean\", \"_blocks.21._bn0.running_var\", \"_blocks.21._bn0.num_batches_tracked\", \"_blocks.21._depthwise_conv.weight\", \"_blocks.21._bn1.weight\", \"_blocks.21._bn1.bias\", \"_blocks.21._bn1.running_mean\", \"_blocks.21._bn1.running_var\", \"_blocks.21._bn1.num_batches_tracked\", \"_blocks.21._se_reduce.weight\", \"_blocks.21._se_reduce.bias\", \"_blocks.21._se_expand.weight\", \"_blocks.21._se_expand.bias\", \"_blocks.21._project_conv.weight\", \"_blocks.21._bn2.weight\", \"_blocks.21._bn2.bias\", \"_blocks.21._bn2.running_mean\", \"_blocks.21._bn2.running_var\", \"_blocks.21._bn2.num_batches_tracked\", \"_blocks.22._expand_conv.weight\", \"_blocks.22._bn0.weight\", \"_blocks.22._bn0.bias\", \"_blocks.22._bn0.running_mean\", \"_blocks.22._bn0.running_var\", \"_blocks.22._bn0.num_batches_tracked\", \"_blocks.22._depthwise_conv.weight\", \"_blocks.22._bn1.weight\", \"_blocks.22._bn1.bias\", \"_blocks.22._bn1.running_mean\", \"_blocks.22._bn1.running_var\", \"_blocks.22._bn1.num_batches_tracked\", \"_blocks.22._se_reduce.weight\", \"_blocks.22._se_reduce.bias\", \"_blocks.22._se_expand.weight\", \"_blocks.22._se_expand.bias\", \"_blocks.22._project_conv.weight\", \"_blocks.22._bn2.weight\", \"_blocks.22._bn2.bias\", \"_blocks.22._bn2.running_mean\", \"_blocks.22._bn2.running_var\", \"_blocks.22._bn2.num_batches_tracked\". \n\tsize mismatch for _blocks.1._depthwise_conv.weight: copying a param with shape torch.Size([16, 1, 3, 3]) from checkpoint, the shape in current model is torch.Size([96, 1, 3, 3]).\n\tsize mismatch for _blocks.1._bn1.weight: copying a param with shape torch.Size([16]) from checkpoint, the shape in current model is torch.Size([96]).\n\tsize mismatch for _blocks.1._bn1.bias: copying a param with shape torch.Size([16]) from checkpoint, the shape in current model is torch.Size([96]).\n\tsize mismatch for _blocks.1._bn1.running_mean: copying a param with shape torch.Size([16]) from checkpoint, the shape in current model is torch.Size([96]).\n\tsize mismatch for _blocks.1._bn1.running_var: copying a param with shape torch.Size([16]) from checkpoint, the shape in current model is torch.Size([96]).\n\tsize mismatch for _blocks.1._se_reduce.weight: copying a param with shape torch.Size([4, 16, 1, 1]) from checkpoint, the shape in current model is torch.Size([4, 96, 1, 1]).\n\tsize mismatch for _blocks.1._se_expand.weight: copying a param with shape torch.Size([16, 4, 1, 1]) from checkpoint, the shape in current model is torch.Size([96, 4, 1, 1]).\n\tsize mismatch for _blocks.1._se_expand.bias: copying a param with shape torch.Size([16]) from checkpoint, the shape in current model is torch.Size([96]).\n\tsize mismatch for _blocks.1._project_conv.weight: copying a param with shape torch.Size([16, 16, 1, 1]) from checkpoint, the shape in current model is torch.Size([24, 96, 1, 1]).\n\tsize mismatch for _blocks.1._bn2.weight: copying a param with shape torch.Size([16]) from checkpoint, the shape in current model is torch.Size([24]).\n\tsize mismatch for _blocks.1._bn2.bias: copying a param with shape torch.Size([16]) from checkpoint, the shape in current model is torch.Size([24]).\n\tsize mismatch for _blocks.1._bn2.running_mean: copying a param with shape torch.Size([16]) from checkpoint, the shape in current model is torch.Size([24]).\n\tsize mismatch for _blocks.1._bn2.running_var: copying a param with shape torch.Size([16]) from checkpoint, the shape in current model is torch.Size([24]).\n\tsize mismatch for _blocks.2._expand_conv.weight: copying a param with shape torch.Size([96, 16, 1, 1]) from checkpoint, the shape in current model is torch.Size([144, 24, 1, 1]).\n\tsize mismatch for _blocks.2._bn0.weight: copying a param with shape torch.Size([96]) from checkpoint, the shape in current model is torch.Size([144]).\n\tsize mismatch for _blocks.2._bn0.bias: copying a param with shape torch.Size([96]) from checkpoint, the shape in current model is torch.Size([144]).\n\tsize mismatch for _blocks.2._bn0.running_mean: copying a param with shape torch.Size([96]) from checkpoint, the shape in current model is torch.Size([144]).\n\tsize mismatch for _blocks.2._bn0.running_var: copying a param with shape torch.Size([96]) from checkpoint, the shape in current model is torch.Size([144]).\n\tsize mismatch for _blocks.2._depthwise_conv.weight: copying a param with shape torch.Size([96, 1, 3, 3]) from checkpoint, the shape in current model is torch.Size([144, 1, 3, 3]).\n\tsize mismatch for _blocks.2._bn1.weight: copying a param with shape torch.Size([96]) from checkpoint, the shape in current model is torch.Size([144]).\n\tsize mismatch for _blocks.2._bn1.bias: copying a param with shape torch.Size([96]) from checkpoint, the shape in current model is torch.Size([144]).\n\tsize mismatch for _blocks.2._bn1.running_mean: copying a param with shape torch.Size([96]) from checkpoint, the shape in current model is torch.Size([144]).\n\tsize mismatch for _blocks.2._bn1.running_var: copying a param with shape torch.Size([96]) from checkpoint, the shape in current model is torch.Size([144]).\n\tsize mismatch for _blocks.2._se_reduce.weight: copying a param with shape torch.Size([4, 96, 1, 1]) from checkpoint, the shape in current model is torch.Size([6, 144, 1, 1]).\n\tsize mismatch for _blocks.2._se_reduce.bias: copying a param with shape torch.Size([4]) from checkpoint, the shape in current model is torch.Size([6]).\n\tsize mismatch for _blocks.2._se_expand.weight: copying a param with shape torch.Size([96, 4, 1, 1]) from checkpoint, the shape in current model is torch.Size([144, 6, 1, 1]).\n\tsize mismatch for _blocks.2._se_expand.bias: copying a param with shape torch.Size([96]) from checkpoint, the shape in current model is torch.Size([144]).\n\tsize mismatch for _blocks.2._project_conv.weight: copying a param with shape torch.Size([24, 96, 1, 1]) from checkpoint, the shape in current model is torch.Size([24, 144, 1, 1]).\n\tsize mismatch for _blocks.3._depthwise_conv.weight: copying a param with shape torch.Size([144, 1, 3, 3]) from checkpoint, the shape in current model is torch.Size([144, 1, 5, 5]).\n\tsize mismatch for _blocks.3._project_conv.weight: copying a param with shape torch.Size([24, 144, 1, 1]) from checkpoint, the shape in current model is torch.Size([40, 144, 1, 1]).\n\tsize mismatch for _blocks.3._bn2.weight: copying a param with shape torch.Size([24]) from checkpoint, the shape in current model is torch.Size([40]).\n\tsize mismatch for _blocks.3._bn2.bias: copying a param with shape torch.Size([24]) from checkpoint, the shape in current model is torch.Size([40]).\n\tsize mismatch for _blocks.3._bn2.running_mean: copying a param with shape torch.Size([24]) from checkpoint, the shape in current model is torch.Size([40]).\n\tsize mismatch for _blocks.3._bn2.running_var: copying a param with shape torch.Size([24]) from checkpoint, the shape in current model is torch.Size([40]).\n\tsize mismatch for _blocks.4._expand_conv.weight: copying a param with shape torch.Size([144, 24, 1, 1]) from checkpoint, the shape in current model is torch.Size([240, 40, 1, 1]).\n\tsize mismatch for _blocks.4._bn0.weight: copying a param with shape torch.Size([144]) from checkpoint, the shape in current model is torch.Size([240]).\n\tsize mismatch for _blocks.4._bn0.bias: copying a param with shape torch.Size([144]) from checkpoint, the shape in current model is torch.Size([240]).\n\tsize mismatch for _blocks.4._bn0.running_mean: copying a param with shape torch.Size([144]) from checkpoint, the shape in current model is torch.Size([240]).\n\tsize mismatch for _blocks.4._bn0.running_var: copying a param with shape torch.Size([144]) from checkpoint, the shape in current model is torch.Size([240]).\n\tsize mismatch for _blocks.4._depthwise_conv.weight: copying a param with shape torch.Size([144, 1, 3, 3]) from checkpoint, the shape in current model is torch.Size([240, 1, 5, 5]).\n\tsize mismatch for _blocks.4._bn1.weight: copying a param with shape torch.Size([144]) from checkpoint, the shape in current model is torch.Size([240]).\n\tsize mismatch for _blocks.4._bn1.bias: copying a param with shape torch.Size([144]) from checkpoint, the shape in current model is torch.Size([240]).\n\tsize mismatch for _blocks.4._bn1.running_mean: copying a param with shape torch.Size([144]) from checkpoint, the shape in current model is torch.Size([240]).\n\tsize mismatch for _blocks.4._bn1.running_var: copying a param with shape torch.Size([144]) from checkpoint, the shape in current model is torch.Size([240]).\n\tsize mismatch for _blocks.4._se_reduce.weight: copying a param with shape torch.Size([6, 144, 1, 1]) from checkpoint, the shape in current model is torch.Size([10, 240, 1, 1]).\n\tsize mismatch for _blocks.4._se_reduce.bias: copying a param with shape torch.Size([6]) from checkpoint, the shape in current model is torch.Size([10]).\n\tsize mismatch for _blocks.4._se_expand.weight: copying a param with shape torch.Size([144, 6, 1, 1]) from checkpoint, the shape in current model is torch.Size([240, 10, 1, 1]).\n\tsize mismatch for _blocks.4._se_expand.bias: copying a param with shape torch.Size([144]) from checkpoint, the shape in current model is torch.Size([240]).\n\tsize mismatch for _blocks.4._project_conv.weight: copying a param with shape torch.Size([24, 144, 1, 1]) from checkpoint, the shape in current model is torch.Size([40, 240, 1, 1]).\n\tsize mismatch for _blocks.4._bn2.weight: copying a param with shape torch.Size([24]) from checkpoint, the shape in current model is torch.Size([40]).\n\tsize mismatch for _blocks.4._bn2.bias: copying a param with shape torch.Size([24]) from checkpoint, the shape in current model is torch.Size([40]).\n\tsize mismatch for _blocks.4._bn2.running_mean: copying a param with shape torch.Size([24]) from checkpoint, the shape in current model is torch.Size([40]).\n\tsize mismatch for _blocks.4._bn2.running_var: copying a param with shape torch.Size([24]) from checkpoint, the shape in current model is torch.Size([40]).\n\tsize mismatch for _blocks.5._expand_conv.weight: copying a param with shape torch.Size([144, 24, 1, 1]) from checkpoint, the shape in current model is torch.Size([240, 40, 1, 1]).\n\tsize mismatch for _blocks.5._bn0.weight: copying a param with shape torch.Size([144]) from checkpoint, the shape in current model is torch.Size([240]).\n\tsize mismatch for _blocks.5._bn0.bias: copying a param with shape torch.Size([144]) from checkpoint, the shape in current model is torch.Size([240]).\n\tsize mismatch for _blocks.5._bn0.running_mean: copying a param with shape torch.Size([144]) from checkpoint, the shape in current model is torch.Size([240]).\n\tsize mismatch for _blocks.5._bn0.running_var: copying a param with shape torch.Size([144]) from checkpoint, the shape in current model is torch.Size([240]).\n\tsize mismatch for _blocks.5._depthwise_conv.weight: copying a param with shape torch.Size([144, 1, 5, 5]) from checkpoint, the shape in current model is torch.Size([240, 1, 3, 3]).\n\tsize mismatch for _blocks.5._bn1.weight: copying a param with shape torch.Size([144]) from checkpoint, the shape in current model is torch.Size([240]).\n\tsize mismatch for _blocks.5._bn1.bias: copying a param with shape torch.Size([144]) from checkpoint, the shape in current model is torch.Size([240]).\n\tsize mismatch for _blocks.5._bn1.running_mean: copying a param with shape torch.Size([144]) from checkpoint, the shape in current model is torch.Size([240]).\n\tsize mismatch for _blocks.5._bn1.running_var: copying a param with shape torch.Size([144]) from checkpoint, the shape in current model is torch.Size([240]).\n\tsize mismatch for _blocks.5._se_reduce.weight: copying a param with shape torch.Size([6, 144, 1, 1]) from checkpoint, the shape in current model is torch.Size([10, 240, 1, 1]).\n\tsize mismatch for _blocks.5._se_reduce.bias: copying a param with shape torch.Size([6]) from checkpoint, the shape in current model is torch.Size([10]).\n\tsize mismatch for _blocks.5._se_expand.weight: copying a param with shape torch.Size([144, 6, 1, 1]) from checkpoint, the shape in current model is torch.Size([240, 10, 1, 1]).\n\tsize mismatch for _blocks.5._se_expand.bias: copying a param with shape torch.Size([144]) from checkpoint, the shape in current model is torch.Size([240]).\n\tsize mismatch for _blocks.5._project_conv.weight: copying a param with shape torch.Size([40, 144, 1, 1]) from checkpoint, the shape in current model is torch.Size([80, 240, 1, 1]).\n\tsize mismatch for _blocks.5._bn2.weight: copying a param with shape torch.Size([40]) from checkpoint, the shape in current model is torch.Size([80]).\n\tsize mismatch for _blocks.5._bn2.bias: copying a param with shape torch.Size([40]) from checkpoint, the shape in current model is torch.Size([80]).\n\tsize mismatch for _blocks.5._bn2.running_mean: copying a param with shape torch.Size([40]) from checkpoint, the shape in current model is torch.Size([80]).\n\tsize mismatch for _blocks.5._bn2.running_var: copying a param with shape torch.Size([40]) from checkpoint, the shape in current model is torch.Size([80]).\n\tsize mismatch for _blocks.6._expand_conv.weight: copying a param with shape torch.Size([240, 40, 1, 1]) from checkpoint, the shape in current model is torch.Size([480, 80, 1, 1]).\n\tsize mismatch for _blocks.6._bn0.weight: copying a param with shape torch.Size([240]) from checkpoint, the shape in current model is torch.Size([480]).\n\tsize mismatch for _blocks.6._bn0.bias: copying a param with shape torch.Size([240]) from checkpoint, the shape in current model is torch.Size([480]).\n\tsize mismatch for _blocks.6._bn0.running_mean: copying a param with shape torch.Size([240]) from checkpoint, the shape in current model is torch.Size([480]).\n\tsize mismatch for _blocks.6._bn0.running_var: copying a param with shape torch.Size([240]) from checkpoint, the shape in current model is torch.Size([480]).\n\tsize mismatch for _blocks.6._depthwise_conv.weight: copying a param with shape torch.Size([240, 1, 5, 5]) from checkpoint, the shape in current model is torch.Size([480, 1, 3, 3]).\n\tsize mismatch for _blocks.6._bn1.weight: copying a param with shape torch.Size([240]) from checkpoint, the shape in current model is torch.Size([480]).\n\tsize mismatch for _blocks.6._bn1.bias: copying a param with shape torch.Size([240]) from checkpoint, the shape in current model is torch.Size([480]).\n\tsize mismatch for _blocks.6._bn1.running_mean: copying a param with shape torch.Size([240]) from checkpoint, the shape in current model is torch.Size([480]).\n\tsize mismatch for _blocks.6._bn1.running_var: copying a param with shape torch.Size([240]) from checkpoint, the shape in current model is torch.Size([480]).\n\tsize mismatch for _blocks.6._se_reduce.weight: copying a param with shape torch.Size([10, 240, 1, 1]) from checkpoint, the shape in current model is torch.Size([20, 480, 1, 1]).\n\tsize mismatch for _blocks.6._se_reduce.bias: copying a param with shape torch.Size([10]) from checkpoint, the shape in current model is torch.Size([20]).\n\tsize mismatch for _blocks.6._se_expand.weight: copying a param with shape torch.Size([240, 10, 1, 1]) from checkpoint, the shape in current model is torch.Size([480, 20, 1, 1]).\n\tsize mismatch for _blocks.6._se_expand.bias: copying a param with shape torch.Size([240]) from checkpoint, the shape in current model is torch.Size([480]).\n\tsize mismatch for _blocks.6._project_conv.weight: copying a param with shape torch.Size([40, 240, 1, 1]) from checkpoint, the shape in current model is torch.Size([80, 480, 1, 1]).\n\tsize mismatch for _blocks.6._bn2.weight: copying a param with shape torch.Size([40]) from checkpoint, the shape in current model is torch.Size([80]).\n\tsize mismatch for _blocks.6._bn2.bias: copying a param with shape torch.Size([40]) from checkpoint, the shape in current model is torch.Size([80]).\n\tsize mismatch for _blocks.6._bn2.running_mean: copying a param with shape torch.Size([40]) from checkpoint, the shape in current model is torch.Size([80]).\n\tsize mismatch for _blocks.6._bn2.running_var: copying a param with shape torch.Size([40]) from checkpoint, the shape in current model is torch.Size([80]).\n\tsize mismatch for _blocks.7._expand_conv.weight: copying a param with shape torch.Size([240, 40, 1, 1]) from checkpoint, the shape in current model is torch.Size([480, 80, 1, 1]).\n\tsize mismatch for _blocks.7._bn0.weight: copying a param with shape torch.Size([240]) from checkpoint, the shape in current model is torch.Size([480]).\n\tsize mismatch for _blocks.7._bn0.bias: copying a param with shape torch.Size([240]) from checkpoint, the shape in current model is torch.Size([480]).\n\tsize mismatch for _blocks.7._bn0.running_mean: copying a param with shape torch.Size([240]) from checkpoint, the shape in current model is torch.Size([480]).\n\tsize mismatch for _blocks.7._bn0.running_var: copying a param with shape torch.Size([240]) from checkpoint, the shape in current model is torch.Size([480]).\n\tsize mismatch for _blocks.7._depthwise_conv.weight: copying a param with shape torch.Size([240, 1, 5, 5]) from checkpoint, the shape in current model is torch.Size([480, 1, 3, 3]).\n\tsize mismatch for _blocks.7._bn1.weight: copying a param with shape torch.Size([240]) from checkpoint, the shape in current model is torch.Size([480]).\n\tsize mismatch for _blocks.7._bn1.bias: copying a param with shape torch.Size([240]) from checkpoint, the shape in current model is torch.Size([480]).\n\tsize mismatch for _blocks.7._bn1.running_mean: copying a param with shape torch.Size([240]) from checkpoint, the shape in current model is torch.Size([480]).\n\tsize mismatch for _blocks.7._bn1.running_var: copying a param with shape torch.Size([240]) from checkpoint, the shape in current model is torch.Size([480]).\n\tsize mismatch for _blocks.7._se_reduce.weight: copying a param with shape torch.Size([10, 240, 1, 1]) from checkpoint, the shape in current model is torch.Size([20, 480, 1, 1]).\n\tsize mismatch for _blocks.7._se_reduce.bias: copying a param with shape torch.Size([10]) from checkpoint, the shape in current model is torch.Size([20]).\n\tsize mismatch for _blocks.7._se_expand.weight: copying a param with shape torch.Size([240, 10, 1, 1]) from checkpoint, the shape in current model is torch.Size([480, 20, 1, 1]).\n\tsize mismatch for _blocks.7._se_expand.bias: copying a param with shape torch.Size([240]) from checkpoint, the shape in current model is torch.Size([480]).\n\tsize mismatch for _blocks.7._project_conv.weight: copying a param with shape torch.Size([40, 240, 1, 1]) from checkpoint, the shape in current model is torch.Size([80, 480, 1, 1]).\n\tsize mismatch for _blocks.7._bn2.weight: copying a param with shape torch.Size([40]) from checkpoint, the shape in current model is torch.Size([80]).\n\tsize mismatch for _blocks.7._bn2.bias: copying a param with shape torch.Size([40]) from checkpoint, the shape in current model is torch.Size([80]).\n\tsize mismatch for _blocks.7._bn2.running_mean: copying a param with shape torch.Size([40]) from checkpoint, the shape in current model is torch.Size([80]).\n\tsize mismatch for _blocks.7._bn2.running_var: copying a param with shape torch.Size([40]) from checkpoint, the shape in current model is torch.Size([80]).\n\tsize mismatch for _blocks.8._expand_conv.weight: copying a param with shape torch.Size([240, 40, 1, 1]) from checkpoint, the shape in current model is torch.Size([480, 80, 1, 1]).\n\tsize mismatch for _blocks.8._bn0.weight: copying a param with shape torch.Size([240]) from checkpoint, the shape in current model is torch.Size([480]).\n\tsize mismatch for _blocks.8._bn0.bias: copying a param with shape torch.Size([240]) from checkpoint, the shape in current model is torch.Size([480]).\n\tsize mismatch for _blocks.8._bn0.running_mean: copying a param with shape torch.Size([240]) from checkpoint, the shape in current model is torch.Size([480]).\n\tsize mismatch for _blocks.8._bn0.running_var: copying a param with shape torch.Size([240]) from checkpoint, the shape in current model is torch.Size([480]).\n\tsize mismatch for _blocks.8._depthwise_conv.weight: copying a param with shape torch.Size([240, 1, 3, 3]) from checkpoint, the shape in current model is torch.Size([480, 1, 5, 5]).\n\tsize mismatch for _blocks.8._bn1.weight: copying a param with shape torch.Size([240]) from checkpoint, the shape in current model is torch.Size([480]).\n\tsize mismatch for _blocks.8._bn1.bias: copying a param with shape torch.Size([240]) from checkpoint, the shape in current model is torch.Size([480]).\n\tsize mismatch for _blocks.8._bn1.running_mean: copying a param with shape torch.Size([240]) from checkpoint, the shape in current model is torch.Size([480]).\n\tsize mismatch for _blocks.8._bn1.running_var: copying a param with shape torch.Size([240]) from checkpoint, the shape in current model is torch.Size([480]).\n\tsize mismatch for _blocks.8._se_reduce.weight: copying a param with shape torch.Size([10, 240, 1, 1]) from checkpoint, the shape in current model is torch.Size([20, 480, 1, 1]).\n\tsize mismatch for _blocks.8._se_reduce.bias: copying a param with shape torch.Size([10]) from checkpoint, the shape in current model is torch.Size([20]).\n\tsize mismatch for _blocks.8._se_expand.weight: copying a param with shape torch.Size([240, 10, 1, 1]) from checkpoint, the shape in current model is torch.Size([480, 20, 1, 1]).\n\tsize mismatch for _blocks.8._se_expand.bias: copying a param with shape torch.Size([240]) from checkpoint, the shape in current model is torch.Size([480]).\n\tsize mismatch for _blocks.8._project_conv.weight: copying a param with shape torch.Size([80, 240, 1, 1]) from checkpoint, the shape in current model is torch.Size([112, 480, 1, 1]).\n\tsize mismatch for _blocks.8._bn2.weight: copying a param with shape torch.Size([80]) from checkpoint, the shape in current model is torch.Size([112]).\n\tsize mismatch for _blocks.8._bn2.bias: copying a param with shape torch.Size([80]) from checkpoint, the shape in current model is torch.Size([112]).\n\tsize mismatch for _blocks.8._bn2.running_mean: copying a param with shape torch.Size([80]) from checkpoint, the shape in current model is torch.Size([112]).\n\tsize mismatch for _blocks.8._bn2.running_var: copying a param with shape torch.Size([80]) from checkpoint, the shape in current model is torch.Size([112]).\n\tsize mismatch for _blocks.9._expand_conv.weight: copying a param with shape torch.Size([480, 80, 1, 1]) from checkpoint, the shape in current model is torch.Size([672, 112, 1, 1]).\n\tsize mismatch for _blocks.9._bn0.weight: copying a param with shape torch.Size([480]) from checkpoint, the shape in current model is torch.Size([672]).\n\tsize mismatch for _blocks.9._bn0.bias: copying a param with shape torch.Size([480]) from checkpoint, the shape in current model is torch.Size([672]).\n\tsize mismatch for _blocks.9._bn0.running_mean: copying a param with shape torch.Size([480]) from checkpoint, the shape in current model is torch.Size([672]).\n\tsize mismatch for _blocks.9._bn0.running_var: copying a param with shape torch.Size([480]) from checkpoint, the shape in current model is torch.Size([672]).\n\tsize mismatch for _blocks.9._depthwise_conv.weight: copying a param with shape torch.Size([480, 1, 3, 3]) from checkpoint, the shape in current model is torch.Size([672, 1, 5, 5]).\n\tsize mismatch for _blocks.9._bn1.weight: copying a param with shape torch.Size([480]) from checkpoint, the shape in current model is torch.Size([672]).\n\tsize mismatch for _blocks.9._bn1.bias: copying a param with shape torch.Size([480]) from checkpoint, the shape in current model is torch.Size([672]).\n\tsize mismatch for _blocks.9._bn1.running_mean: copying a param with shape torch.Size([480]) from checkpoint, the shape in current model is torch.Size([672]).\n\tsize mismatch for _blocks.9._bn1.running_var: copying a param with shape torch.Size([480]) from checkpoint, the shape in current model is torch.Size([672]).\n\tsize mismatch for _blocks.9._se_reduce.weight: copying a param with shape torch.Size([20, 480, 1, 1]) from checkpoint, the shape in current model is torch.Size([28, 672, 1, 1]).\n\tsize mismatch for _blocks.9._se_reduce.bias: copying a param with shape torch.Size([20]) from checkpoint, the shape in current model is torch.Size([28]).\n\tsize mismatch for _blocks.9._se_expand.weight: copying a param with shape torch.Size([480, 20, 1, 1]) from checkpoint, the shape in current model is torch.Size([672, 28, 1, 1]).\n\tsize mismatch for _blocks.9._se_expand.bias: copying a param with shape torch.Size([480]) from checkpoint, the shape in current model is torch.Size([672]).\n\tsize mismatch for _blocks.9._project_conv.weight: copying a param with shape torch.Size([80, 480, 1, 1]) from checkpoint, the shape in current model is torch.Size([112, 672, 1, 1]).\n\tsize mismatch for _blocks.9._bn2.weight: copying a param with shape torch.Size([80]) from checkpoint, the shape in current model is torch.Size([112]).\n\tsize mismatch for _blocks.9._bn2.bias: copying a param with shape torch.Size([80]) from checkpoint, the shape in current model is torch.Size([112]).\n\tsize mismatch for _blocks.9._bn2.running_mean: copying a param with shape torch.Size([80]) from checkpoint, the shape in current model is torch.Size([112]).\n\tsize mismatch for _blocks.9._bn2.running_var: copying a param with shape torch.Size([80]) from checkpoint, the shape in current model is torch.Size([112]).\n\tsize mismatch for _blocks.10._expand_conv.weight: copying a param with shape torch.Size([480, 80, 1, 1]) from checkpoint, the shape in current model is torch.Size([672, 112, 1, 1]).\n\tsize mismatch for _blocks.10._bn0.weight: copying a param with shape torch.Size([480]) from checkpoint, the shape in current model is torch.Size([672]).\n\tsize mismatch for _blocks.10._bn0.bias: copying a param with shape torch.Size([480]) from checkpoint, the shape in current model is torch.Size([672]).\n\tsize mismatch for _blocks.10._bn0.running_mean: copying a param with shape torch.Size([480]) from checkpoint, the shape in current model is torch.Size([672]).\n\tsize mismatch for _blocks.10._bn0.running_var: copying a param with shape torch.Size([480]) from checkpoint, the shape in current model is torch.Size([672]).\n\tsize mismatch for _blocks.10._depthwise_conv.weight: copying a param with shape torch.Size([480, 1, 3, 3]) from checkpoint, the shape in current model is torch.Size([672, 1, 5, 5]).\n\tsize mismatch for _blocks.10._bn1.weight: copying a param with shape torch.Size([480]) from checkpoint, the shape in current model is torch.Size([672]).\n\tsize mismatch for _blocks.10._bn1.bias: copying a param with shape torch.Size([480]) from checkpoint, the shape in current model is torch.Size([672]).\n\tsize mismatch for _blocks.10._bn1.running_mean: copying a param with shape torch.Size([480]) from checkpoint, the shape in current model is torch.Size([672]).\n\tsize mismatch for _blocks.10._bn1.running_var: copying a param with shape torch.Size([480]) from checkpoint, the shape in current model is torch.Size([672]).\n\tsize mismatch for _blocks.10._se_reduce.weight: copying a param with shape torch.Size([20, 480, 1, 1]) from checkpoint, the shape in current model is torch.Size([28, 672, 1, 1]).\n\tsize mismatch for _blocks.10._se_reduce.bias: copying a param with shape torch.Size([20]) from checkpoint, the shape in current model is torch.Size([28]).\n\tsize mismatch for _blocks.10._se_expand.weight: copying a param with shape torch.Size([480, 20, 1, 1]) from checkpoint, the shape in current model is torch.Size([672, 28, 1, 1]).\n\tsize mismatch for _blocks.10._se_expand.bias: copying a param with shape torch.Size([480]) from checkpoint, the shape in current model is torch.Size([672]).\n\tsize mismatch for _blocks.10._project_conv.weight: copying a param with shape torch.Size([80, 480, 1, 1]) from checkpoint, the shape in current model is torch.Size([112, 672, 1, 1]).\n\tsize mismatch for _blocks.10._bn2.weight: copying a param with shape torch.Size([80]) from checkpoint, the shape in current model is torch.Size([112]).\n\tsize mismatch for _blocks.10._bn2.bias: copying a param with shape torch.Size([80]) from checkpoint, the shape in current model is torch.Size([112]).\n\tsize mismatch for _blocks.10._bn2.running_mean: copying a param with shape torch.Size([80]) from checkpoint, the shape in current model is torch.Size([112]).\n\tsize mismatch for _blocks.10._bn2.running_var: copying a param with shape torch.Size([80]) from checkpoint, the shape in current model is torch.Size([112]).\n\tsize mismatch for _blocks.11._expand_conv.weight: copying a param with shape torch.Size([480, 80, 1, 1]) from checkpoint, the shape in current model is torch.Size([672, 112, 1, 1]).\n\tsize mismatch for _blocks.11._bn0.weight: copying a param with shape torch.Size([480]) from checkpoint, the shape in current model is torch.Size([672]).\n\tsize mismatch for _blocks.11._bn0.bias: copying a param with shape torch.Size([480]) from checkpoint, the shape in current model is torch.Size([672]).\n\tsize mismatch for _blocks.11._bn0.running_mean: copying a param with shape torch.Size([480]) from checkpoint, the shape in current model is torch.Size([672]).\n\tsize mismatch for _blocks.11._bn0.running_var: copying a param with shape torch.Size([480]) from checkpoint, the shape in current model is torch.Size([672]).\n\tsize mismatch for _blocks.11._depthwise_conv.weight: copying a param with shape torch.Size([480, 1, 3, 3]) from checkpoint, the shape in current model is torch.Size([672, 1, 5, 5]).\n\tsize mismatch for _blocks.11._bn1.weight: copying a param with shape torch.Size([480]) from checkpoint, the shape in current model is torch.Size([672]).\n\tsize mismatch for _blocks.11._bn1.bias: copying a param with shape torch.Size([480]) from checkpoint, the shape in current model is torch.Size([672]).\n\tsize mismatch for _blocks.11._bn1.running_mean: copying a param with shape torch.Size([480]) from checkpoint, the shape in current model is torch.Size([672]).\n\tsize mismatch for _blocks.11._bn1.running_var: copying a param with shape torch.Size([480]) from checkpoint, the shape in current model is torch.Size([672]).\n\tsize mismatch for _blocks.11._se_reduce.weight: copying a param with shape torch.Size([20, 480, 1, 1]) from checkpoint, the shape in current model is torch.Size([28, 672, 1, 1]).\n\tsize mismatch for _blocks.11._se_reduce.bias: copying a param with shape torch.Size([20]) from checkpoint, the shape in current model is torch.Size([28]).\n\tsize mismatch for _blocks.11._se_expand.weight: copying a param with shape torch.Size([480, 20, 1, 1]) from checkpoint, the shape in current model is torch.Size([672, 28, 1, 1]).\n\tsize mismatch for _blocks.11._se_expand.bias: copying a param with shape torch.Size([480]) from checkpoint, the shape in current model is torch.Size([672]).\n\tsize mismatch for _blocks.11._project_conv.weight: copying a param with shape torch.Size([80, 480, 1, 1]) from checkpoint, the shape in current model is torch.Size([192, 672, 1, 1]).\n\tsize mismatch for _blocks.11._bn2.weight: copying a param with shape torch.Size([80]) from checkpoint, the shape in current model is torch.Size([192]).\n\tsize mismatch for _blocks.11._bn2.bias: copying a param with shape torch.Size([80]) from checkpoint, the shape in current model is torch.Size([192]).\n\tsize mismatch for _blocks.11._bn2.running_mean: copying a param with shape torch.Size([80]) from checkpoint, the shape in current model is torch.Size([192]).\n\tsize mismatch for _blocks.11._bn2.running_var: copying a param with shape torch.Size([80]) from checkpoint, the shape in current model is torch.Size([192]).\n\tsize mismatch for _blocks.12._expand_conv.weight: copying a param with shape torch.Size([480, 80, 1, 1]) from checkpoint, the shape in current model is torch.Size([1152, 192, 1, 1]).\n\tsize mismatch for _blocks.12._bn0.weight: copying a param with shape torch.Size([480]) from checkpoint, the shape in current model is torch.Size([1152]).\n\tsize mismatch for _blocks.12._bn0.bias: copying a param with shape torch.Size([480]) from checkpoint, the shape in current model is torch.Size([1152]).\n\tsize mismatch for _blocks.12._bn0.running_mean: copying a param with shape torch.Size([480]) from checkpoint, the shape in current model is torch.Size([1152]).\n\tsize mismatch for _blocks.12._bn0.running_var: copying a param with shape torch.Size([480]) from checkpoint, the shape in current model is torch.Size([1152]).\n\tsize mismatch for _blocks.12._depthwise_conv.weight: copying a param with shape torch.Size([480, 1, 5, 5]) from checkpoint, the shape in current model is torch.Size([1152, 1, 5, 5]).\n\tsize mismatch for _blocks.12._bn1.weight: copying a param with shape torch.Size([480]) from checkpoint, the shape in current model is torch.Size([1152]).\n\tsize mismatch for _blocks.12._bn1.bias: copying a param with shape torch.Size([480]) from checkpoint, the shape in current model is torch.Size([1152]).\n\tsize mismatch for _blocks.12._bn1.running_mean: copying a param with shape torch.Size([480]) from checkpoint, the shape in current model is torch.Size([1152]).\n\tsize mismatch for _blocks.12._bn1.running_var: copying a param with shape torch.Size([480]) from checkpoint, the shape in current model is torch.Size([1152]).\n\tsize mismatch for _blocks.12._se_reduce.weight: copying a param with shape torch.Size([20, 480, 1, 1]) from checkpoint, the shape in current model is torch.Size([48, 1152, 1, 1]).\n\tsize mismatch for _blocks.12._se_reduce.bias: copying a param with shape torch.Size([20]) from checkpoint, the shape in current model is torch.Size([48]).\n\tsize mismatch for _blocks.12._se_expand.weight: copying a param with shape torch.Size([480, 20, 1, 1]) from checkpoint, the shape in current model is torch.Size([1152, 48, 1, 1]).\n\tsize mismatch for _blocks.12._se_expand.bias: copying a param with shape torch.Size([480]) from checkpoint, the shape in current model is torch.Size([1152]).\n\tsize mismatch for _blocks.12._project_conv.weight: copying a param with shape torch.Size([112, 480, 1, 1]) from checkpoint, the shape in current model is torch.Size([192, 1152, 1, 1]).\n\tsize mismatch for _blocks.12._bn2.weight: copying a param with shape torch.Size([112]) from checkpoint, the shape in current model is torch.Size([192]).\n\tsize mismatch for _blocks.12._bn2.bias: copying a param with shape torch.Size([112]) from checkpoint, the shape in current model is torch.Size([192]).\n\tsize mismatch for _blocks.12._bn2.running_mean: copying a param with shape torch.Size([112]) from checkpoint, the shape in current model is torch.Size([192]).\n\tsize mismatch for _blocks.12._bn2.running_var: copying a param with shape torch.Size([112]) from checkpoint, the shape in current model is torch.Size([192]).\n\tsize mismatch for _blocks.13._expand_conv.weight: copying a param with shape torch.Size([672, 112, 1, 1]) from checkpoint, the shape in current model is torch.Size([1152, 192, 1, 1]).\n\tsize mismatch for _blocks.13._bn0.weight: copying a param with shape torch.Size([672]) from checkpoint, the shape in current model is torch.Size([1152]).\n\tsize mismatch for _blocks.13._bn0.bias: copying a param with shape torch.Size([672]) from checkpoint, the shape in current model is torch.Size([1152]).\n\tsize mismatch for _blocks.13._bn0.running_mean: copying a param with shape torch.Size([672]) from checkpoint, the shape in current model is torch.Size([1152]).\n\tsize mismatch for _blocks.13._bn0.running_var: copying a param with shape torch.Size([672]) from checkpoint, the shape in current model is torch.Size([1152]).\n\tsize mismatch for _blocks.13._depthwise_conv.weight: copying a param with shape torch.Size([672, 1, 5, 5]) from checkpoint, the shape in current model is torch.Size([1152, 1, 5, 5]).\n\tsize mismatch for _blocks.13._bn1.weight: copying a param with shape torch.Size([672]) from checkpoint, the shape in current model is torch.Size([1152]).\n\tsize mismatch for _blocks.13._bn1.bias: copying a param with shape torch.Size([672]) from checkpoint, the shape in current model is torch.Size([1152]).\n\tsize mismatch for _blocks.13._bn1.running_mean: copying a param with shape torch.Size([672]) from checkpoint, the shape in current model is torch.Size([1152]).\n\tsize mismatch for _blocks.13._bn1.running_var: copying a param with shape torch.Size([672]) from checkpoint, the shape in current model is torch.Size([1152]).\n\tsize mismatch for _blocks.13._se_reduce.weight: copying a param with shape torch.Size([28, 672, 1, 1]) from checkpoint, the shape in current model is torch.Size([48, 1152, 1, 1]).\n\tsize mismatch for _blocks.13._se_reduce.bias: copying a param with shape torch.Size([28]) from checkpoint, the shape in current model is torch.Size([48]).\n\tsize mismatch for _blocks.13._se_expand.weight: copying a param with shape torch.Size([672, 28, 1, 1]) from checkpoint, the shape in current model is torch.Size([1152, 48, 1, 1]).\n\tsize mismatch for _blocks.13._se_expand.bias: copying a param with shape torch.Size([672]) from checkpoint, the shape in current model is torch.Size([1152]).\n\tsize mismatch for _blocks.13._project_conv.weight: copying a param with shape torch.Size([112, 672, 1, 1]) from checkpoint, the shape in current model is torch.Size([192, 1152, 1, 1]).\n\tsize mismatch for _blocks.13._bn2.weight: copying a param with shape torch.Size([112]) from checkpoint, the shape in current model is torch.Size([192]).\n\tsize mismatch for _blocks.13._bn2.bias: copying a param with shape torch.Size([112]) from checkpoint, the shape in current model is torch.Size([192]).\n\tsize mismatch for _blocks.13._bn2.running_mean: copying a param with shape torch.Size([112]) from checkpoint, the shape in current model is torch.Size([192]).\n\tsize mismatch for _blocks.13._bn2.running_var: copying a param with shape torch.Size([112]) from checkpoint, the shape in current model is torch.Size([192]).\n\tsize mismatch for _blocks.14._expand_conv.weight: copying a param with shape torch.Size([672, 112, 1, 1]) from checkpoint, the shape in current model is torch.Size([1152, 192, 1, 1]).\n\tsize mismatch for _blocks.14._bn0.weight: copying a param with shape torch.Size([672]) from checkpoint, the shape in current model is torch.Size([1152]).\n\tsize mismatch for _blocks.14._bn0.bias: copying a param with shape torch.Size([672]) from checkpoint, the shape in current model is torch.Size([1152]).\n\tsize mismatch for _blocks.14._bn0.running_mean: copying a param with shape torch.Size([672]) from checkpoint, the shape in current model is torch.Size([1152]).\n\tsize mismatch for _blocks.14._bn0.running_var: copying a param with shape torch.Size([672]) from checkpoint, the shape in current model is torch.Size([1152]).\n\tsize mismatch for _blocks.14._depthwise_conv.weight: copying a param with shape torch.Size([672, 1, 5, 5]) from checkpoint, the shape in current model is torch.Size([1152, 1, 5, 5]).\n\tsize mismatch for _blocks.14._bn1.weight: copying a param with shape torch.Size([672]) from checkpoint, the shape in current model is torch.Size([1152]).\n\tsize mismatch for _blocks.14._bn1.bias: copying a param with shape torch.Size([672]) from checkpoint, the shape in current model is torch.Size([1152]).\n\tsize mismatch for _blocks.14._bn1.running_mean: copying a param with shape torch.Size([672]) from checkpoint, the shape in current model is torch.Size([1152]).\n\tsize mismatch for _blocks.14._bn1.running_var: copying a param with shape torch.Size([672]) from checkpoint, the shape in current model is torch.Size([1152]).\n\tsize mismatch for _blocks.14._se_reduce.weight: copying a param with shape torch.Size([28, 672, 1, 1]) from checkpoint, the shape in current model is torch.Size([48, 1152, 1, 1]).\n\tsize mismatch for _blocks.14._se_reduce.bias: copying a param with shape torch.Size([28]) from checkpoint, the shape in current model is torch.Size([48]).\n\tsize mismatch for _blocks.14._se_expand.weight: copying a param with shape torch.Size([672, 28, 1, 1]) from checkpoint, the shape in current model is torch.Size([1152, 48, 1, 1]).\n\tsize mismatch for _blocks.14._se_expand.bias: copying a param with shape torch.Size([672]) from checkpoint, the shape in current model is torch.Size([1152]).\n\tsize mismatch for _blocks.14._project_conv.weight: copying a param with shape torch.Size([112, 672, 1, 1]) from checkpoint, the shape in current model is torch.Size([192, 1152, 1, 1]).\n\tsize mismatch for _blocks.14._bn2.weight: copying a param with shape torch.Size([112]) from checkpoint, the shape in current model is torch.Size([192]).\n\tsize mismatch for _blocks.14._bn2.bias: copying a param with shape torch.Size([112]) from checkpoint, the shape in current model is torch.Size([192]).\n\tsize mismatch for _blocks.14._bn2.running_mean: copying a param with shape torch.Size([112]) from checkpoint, the shape in current model is torch.Size([192]).\n\tsize mismatch for _blocks.14._bn2.running_var: copying a param with shape torch.Size([112]) from checkpoint, the shape in current model is torch.Size([192]).\n\tsize mismatch for _blocks.15._expand_conv.weight: copying a param with shape torch.Size([672, 112, 1, 1]) from checkpoint, the shape in current model is torch.Size([1152, 192, 1, 1]).\n\tsize mismatch for _blocks.15._bn0.weight: copying a param with shape torch.Size([672]) from checkpoint, the shape in current model is torch.Size([1152]).\n\tsize mismatch for _blocks.15._bn0.bias: copying a param with shape torch.Size([672]) from checkpoint, the shape in current model is torch.Size([1152]).\n\tsize mismatch for _blocks.15._bn0.running_mean: copying a param with shape torch.Size([672]) from checkpoint, the shape in current model is torch.Size([1152]).\n\tsize mismatch for _blocks.15._bn0.running_var: copying a param with shape torch.Size([672]) from checkpoint, the shape in current model is torch.Size([1152]).\n\tsize mismatch for _blocks.15._depthwise_conv.weight: copying a param with shape torch.Size([672, 1, 5, 5]) from checkpoint, the shape in current model is torch.Size([1152, 1, 3, 3]).\n\tsize mismatch for _blocks.15._bn1.weight: copying a param with shape torch.Size([672]) from checkpoint, the shape in current model is torch.Size([1152]).\n\tsize mismatch for _blocks.15._bn1.bias: copying a param with shape torch.Size([672]) from checkpoint, the shape in current model is torch.Size([1152]).\n\tsize mismatch for _blocks.15._bn1.running_mean: copying a param with shape torch.Size([672]) from checkpoint, the shape in current model is torch.Size([1152]).\n\tsize mismatch for _blocks.15._bn1.running_var: copying a param with shape torch.Size([672]) from checkpoint, the shape in current model is torch.Size([1152]).\n\tsize mismatch for _blocks.15._se_reduce.weight: copying a param with shape torch.Size([28, 672, 1, 1]) from checkpoint, the shape in current model is torch.Size([48, 1152, 1, 1]).\n\tsize mismatch for _blocks.15._se_reduce.bias: copying a param with shape torch.Size([28]) from checkpoint, the shape in current model is torch.Size([48]).\n\tsize mismatch for _blocks.15._se_expand.weight: copying a param with shape torch.Size([672, 28, 1, 1]) from checkpoint, the shape in current model is torch.Size([1152, 48, 1, 1]).\n\tsize mismatch for _blocks.15._se_expand.bias: copying a param with shape torch.Size([672]) from checkpoint, the shape in current model is torch.Size([1152]).\n\tsize mismatch for _blocks.15._project_conv.weight: copying a param with shape torch.Size([112, 672, 1, 1]) from checkpoint, the shape in current model is torch.Size([320, 1152, 1, 1]).\n\tsize mismatch for _blocks.15._bn2.weight: copying a param with shape torch.Size([112]) from checkpoint, the shape in current model is torch.Size([320]).\n\tsize mismatch for _blocks.15._bn2.bias: copying a param with shape torch.Size([112]) from checkpoint, the shape in current model is torch.Size([320]).\n\tsize mismatch for _blocks.15._bn2.running_mean: copying a param with shape torch.Size([112]) from checkpoint, the shape in current model is torch.Size([320]).\n\tsize mismatch for _blocks.15._bn2.running_var: copying a param with shape torch.Size([112]) from checkpoint, the shape in current model is torch.Size([320])."
     ]
    }
   ],
   "source": [
    "mdl = mkmdl()\n",
    "fnm_mdl = f'{p_out}/model_{param.PRFX}_fld_{param.FLD2USE}_best.p'\n",
    "print('load model', fnm_mdl)\n",
    "mdl.load_state_dict(torch.load(fnm_mdl, map_location=torch.device(DEVICE)))\n",
    "\n",
    "mdl = mdl.to(device)"
   ]
  },
  {
   "cell_type": "code",
   "execution_count": null,
   "metadata": {},
   "outputs": [],
   "source": []
  },
  {
   "cell_type": "code",
   "execution_count": null,
   "metadata": {},
   "outputs": [],
   "source": [
    "def infer(model, dl):\n",
    "    lendl=len(dl)\n",
    "    model.eval()\n",
    "    prd = []\n",
    "    for step, dat in enumerate(dl):\n",
    "        if step%1000==0: print(dtnow(), f'step {step}/{lendl}')\n",
    "        xb=dat[0].to(device)\n",
    "        with torch.no_grad(): prdb = model(xb)\n",
    "        prd.append(prdb.cpu().detach().numpy())\n",
    "    prd = np.concatenate(prd)    \n",
    "    return prd"
   ]
  },
  {
   "cell_type": "code",
   "execution_count": 21,
   "metadata": {},
   "outputs": [
    {
     "ename": "NameError",
     "evalue": "name 'infer' is not defined",
     "output_type": "error",
     "traceback": [
      "\u001b[0;31m---------------------------------------------------------------------------\u001b[0m",
      "\u001b[0;31mNameError\u001b[0m                                 Traceback (most recent call last)",
      "\u001b[0;32m<ipython-input-21-2c98b818d0a7>\u001b[0m in \u001b[0;36m<module>\u001b[0;34m\u001b[0m\n\u001b[0;32m----> 1\u001b[0;31m \u001b[0mprdtst\u001b[0m \u001b[0;34m=\u001b[0m \u001b[0minfer\u001b[0m\u001b[0;34m(\u001b[0m\u001b[0mmdl\u001b[0m\u001b[0;34m,\u001b[0m \u001b[0mdltst\u001b[0m\u001b[0;34m)\u001b[0m\u001b[0;34m\u001b[0m\u001b[0;34m\u001b[0m\u001b[0m\n\u001b[0m",
      "\u001b[0;31mNameError\u001b[0m: name 'infer' is not defined"
     ]
    }
   ],
   "source": [
    "prdtst = infer(mdl, dltst)"
   ]
  },
  {
   "cell_type": "code",
   "execution_count": 22,
   "metadata": {},
   "outputs": [
    {
     "ename": "NameError",
     "evalue": "name 'prdtst' is not defined",
     "output_type": "error",
     "traceback": [
      "\u001b[0;31m---------------------------------------------------------------------------\u001b[0m",
      "\u001b[0;31mNameError\u001b[0m                                 Traceback (most recent call last)",
      "\u001b[0;32m<ipython-input-22-df7f665ef9ea>\u001b[0m in \u001b[0;36m<module>\u001b[0;34m\u001b[0m\n\u001b[0;32m----> 1\u001b[0;31m \u001b[0mdfsub\u001b[0m\u001b[0;34m.\u001b[0m\u001b[0mtarget\u001b[0m \u001b[0;34m=\u001b[0m \u001b[0msigmoid\u001b[0m\u001b[0;34m(\u001b[0m\u001b[0mprdtst\u001b[0m\u001b[0;34m)\u001b[0m\u001b[0;34m\u001b[0m\u001b[0;34m\u001b[0m\u001b[0m\n\u001b[0m\u001b[1;32m      2\u001b[0m \u001b[0mprint\u001b[0m\u001b[0;34m(\u001b[0m\u001b[0mdfsub\u001b[0m\u001b[0;34m.\u001b[0m\u001b[0mtarget\u001b[0m\u001b[0;34m.\u001b[0m\u001b[0mmean\u001b[0m\u001b[0;34m(\u001b[0m\u001b[0;34m)\u001b[0m\u001b[0;34m)\u001b[0m\u001b[0;34m\u001b[0m\u001b[0;34m\u001b[0m\u001b[0m\n\u001b[1;32m      3\u001b[0m \u001b[0mdfsub\u001b[0m\u001b[0;34m.\u001b[0m\u001b[0mhead\u001b[0m\u001b[0;34m(\u001b[0m\u001b[0;34m)\u001b[0m\u001b[0;34m\u001b[0m\u001b[0;34m\u001b[0m\u001b[0m\n",
      "\u001b[0;31mNameError\u001b[0m: name 'prdtst' is not defined"
     ]
    }
   ],
   "source": [
    "dfsub.target = sigmoid(prdtst)\n",
    "print(dfsub.target.mean())\n",
    "dfsub.head()"
   ]
  },
  {
   "cell_type": "code",
   "execution_count": 23,
   "metadata": {},
   "outputs": [
    {
     "data": {
      "image/png": "[encoded data removed]",
      "text/plain": [
       "<Figure size 432x288 with 1 Axes>"
      ]
     },
     "metadata": {
      "needs_background": "light"
     },
     "output_type": "display_data"
    }
   ],
   "source": [
    "plt.hist(dfsub.target, bins=50);"
   ]
  },
  {
   "cell_type": "code",
   "execution_count": null,
   "metadata": {},
   "outputs": [],
   "source": []
  },
  {
   "cell_type": "code",
   "execution_count": 24,
   "metadata": {},
   "outputs": [],
   "source": [
    "dfsub.to_csv(f'{p_out}/submission_{param.PRFX}.csv', index=False)"
   ]
  },
  {
   "cell_type": "code",
   "execution_count": null,
   "metadata": {},
   "outputs": [],
   "source": []
  },
  {
   "cell_type": "markdown",
   "metadata": {},
   "source": [
    "# fin"
   ]
  },
  {
   "cell_type": "code",
   "execution_count": null,
   "metadata": {},
   "outputs": [],
   "source": [
    "print(f'best_scr {best_scr:.4f}; best_epc {best_epc}')"
   ]
  },
  {
   "cell_type": "code",
   "execution_count": null,
   "metadata": {},
   "outputs": [],
   "source": [
    "param.__dict__"
   ]
  },
  {
   "cell_type": "code",
   "execution_count": null,
   "metadata": {},
   "outputs": [],
   "source": [
    "!nvidia-smi"
   ]
  },
  {
   "cell_type": "code",
   "execution_count": null,
   "metadata": {},
   "outputs": [],
   "source": []
  },
  {
   "cell_type": "code",
   "execution_count": null,
   "metadata": {},
   "outputs": [],
   "source": []
  },
  {
   "cell_type": "code",
   "execution_count": null,
   "metadata": {},
   "outputs": [],
   "source": []
  }
 ],
 "metadata": {
  "kernelspec": {
   "display_name": "mel",
   "language": "python",
   "name": "mel"
  },
  "language_info": {
   "codemirror_mode": {
    "name": "ipython",
    "version": 3
   },
   "file_extension": ".py",
   "mimetype": "text/x-python",
   "name": "python",
   "nbconvert_exporter": "python",
   "pygments_lexer": "ipython3",
   "version": "3.7.7"
  },
  "toc": {
   "base_numbering": 1,
   "nav_menu": {},
   "number_sections": true,
   "sideBar": true,
   "skip_h1_title": false,
   "title_cell": "Table of Contents",
   "title_sidebar": "Contents",
   "toc_cell": false,
   "toc_position": {},
   "toc_section_display": true,
   "toc_window_display": true
  }
 },
 "nbformat": 4,
 "nbformat_minor": 4
}
