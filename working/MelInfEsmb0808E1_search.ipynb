{
 "cells": [
  {
   "cell_type": "code",
   "execution_count": 9,
   "metadata": {},
   "outputs": [],
   "source": [
    "PRFX_ESMB = 'MelInfEsmb0808C1'"
   ]
  },
  {
   "cell_type": "code",
   "execution_count": 18,
   "metadata": {},
   "outputs": [],
   "source": [
    "from pathlib import Path\n",
    "import pickle\n",
    "import pandas as pd\n",
    "import numpy as np\n",
    "from sklearn.metrics import roc_auc_score as roc_auc\n",
    "import matplotlib.pyplot as plt\n",
    "from tqdm import tqdm\n",
    "\n",
    "class Param: pass\n",
    "\n",
    "p_esmb = f'../output/{PRFX_ESMB}'; Path(p_esmb).mkdir(exist_ok=True,parents=True)\n",
    "p_cmp = '../input/siim-isic-melanoma-classification'"
   ]
  },
  {
   "cell_type": "code",
   "execution_count": 11,
   "metadata": {},
   "outputs": [],
   "source": [
    "prfx2wgt = {\n",
    "    'MelInf0726B2tta16': 0.25,\n",
    "    'MelInf0805A1tta16': 0.25,\n",
    "    'MelInf0728A1tta16': 1.0,\n",
    "    'MelInf0728B1tta16': 0.25,\n",
    "    'MelInf0805C1tta16': 0.25,\n",
    "    'MelInf0727A1tta16': 0.25,\n",
    "    'MelInf0805D1tta16': 0.25,\n",
    "    'MelInf0727B1tta16': 0.5,\n",
    "    'MelInf0805E1tta16': 0.5,\n",
    "    'MelInf0726G2tta16': 0.25,\n",
    "    'MelInf0726G4tta16': 0.25,\n",
    "    'MelInf0726H2tta16': 1,\n",
    "    'MelInf0729H1tta16': 1,\n",
    "    'MelInf0729E1tta16': 1,\n",
    "    'MelInf0729D1tta16': 1,\n",
    "#     'MelInf0806C1tta16': 1,\n",
    "    'MelInf0729F1tta16': 0.5,\n",
    "    'MelInf0806D1tta16': 0.5,\n",
    "    'MelInf0729C1tta16': 0.5,\n",
    "    'MelInf0729C1tta16epc456': 0.5,\n",
    "    'Mel0806E1tta16epc345': 0.5,\n",
    "    'MelInf0729G3tta16epc567': 1,\n",
    "    'MelInf0801A1tta16': 1,\n",
    "}"
   ]
  },
  {
   "cell_type": "code",
   "execution_count": 12,
   "metadata": {},
   "outputs": [
    {
     "name": "stdout",
     "output_type": "stream",
     "text": [
      "efficientnet-b0 224 0.9279 0.8960 0.25 MelInf0726B2tta16\n",
      "efficientnet-b0 224 0.9236 0.8962 0.25 MelInf0805A1tta16\n",
      "efficientnet-b1 224 0.9301 0.9082 1.0 MelInf0728A1tta16\n",
      "efficientnet-b2 224 0.9298 0.9062 0.25 MelInf0728B1tta16\n",
      "efficientnet-b2 224 0.9287 0.9053 0.25 MelInf0805C1tta16\n",
      "efficientnet-b3 224 0.9294 0.9063 0.25 MelInf0727A1tta16\n",
      "efficientnet-b3 224 0.9292 0.9064 0.25 MelInf0805D1tta16\n",
      "efficientnet-b4 224 0.9318 0.9094 0.5 MelInf0727B1tta16\n",
      "efficientnet-b4 224 0.9312 0.9103 0.5 MelInf0805E1tta16\n",
      "efficientnet-b5 224 0.9288 0.9113 0.25 MelInf0726G2tta16\n",
      "efficientnet-b5 224 0.9277 0.8979 0.25 MelInf0726G4tta16\n",
      "efficientnet-b6 224 0.9317 0.9139 1 MelInf0726H2tta16\n",
      "efficientnet-b0 384 0.9336 0.9063 1 MelInf0729H1tta16\n",
      "efficientnet-b1 384 0.9340 0.9196 1 MelInf0729E1tta16\n",
      "efficientnet-b2 384 0.9347 0.9205 1 MelInf0729D1tta16\n",
      "efficientnet-b3 384 0.9330 0.9169 0.5 MelInf0729F1tta16\n",
      "efficientnet-b3 384 0.9353 0.9219 0.5 MelInf0806D1tta16\n",
      "efficientnet-b4 384 0.9344 0.9224 0.5 MelInf0729C1tta16\n",
      "efficientnet-b4 384 0.9363 0.9179 0.5 MelInf0729C1tta16epc456\n",
      "efficientnet-b4 384 0.9385 0.9226 0.5 Mel0806E1tta16epc345\n",
      "efficientnet-b5 384 0.9354 0.9152 1 MelInf0729G3tta16epc567\n",
      "efficientnet-b0 512 0.9348 0.9135 1 MelInf0801A1tta16\n"
     ]
    }
   ],
   "source": [
    "prfx2oofs = {}\n",
    "for prfx in prfx2wgt.keys():\n",
    "    p_out = f'../output/{prfx}'\n",
    "    res = pickle.load(open(f'{p_out}/results_{prfx}.p', 'rb'))\n",
    "    param = res['param']\n",
    "    p_prp = f'../output/{param.PRFX_PREP}'\n",
    "    dftrn = pd.read_csv(f'{p_prp}/train_all_dedup.csv') \n",
    "\n",
    "    vls=[]\n",
    "    oofs=[]\n",
    "    for fld in range(4):\n",
    "        ep2oof = pickle.load(open(f'{p_out}/ep2oof_{prfx}_fld_{fld}.p', 'rb'))\n",
    "        _,vl= res['fld2trvl'][fld]\n",
    "        vls += list(vl)\n",
    "        ep2oof = np.concatenate(ep2oof, 1)\n",
    "        oof = ep2oof.mean(1)\n",
    "        oofs += list(oof)\n",
    "\n",
    "    ys = dftrn.target.iloc[vls]\n",
    "    sortedzip = sorted(zip(vls, oofs, ys))\n",
    "    _, oofs, ys = list(zip(*sortedzip))\n",
    "    assert np.all(dftrn.target==ys)\n",
    "\n",
    "    oofs = np.array(oofs)\n",
    "    prfx2oofs[prfx] = oofs\n",
    "    \n",
    "    scr = roc_auc(ys, oofs)\n",
    "    print(param.ARCH, param.SZ, f'{scr:.4f}', end=' ')\n",
    "    \n",
    "    idx20 = np.where(dftrn.source==20)[0]\n",
    "    scr20 = roc_auc(dftrn.target.iloc[idx20], oofs[idx20])\n",
    "    print(f'{scr20:.4f}', prfx2wgt[prfx], prfx)"
   ]
  },
  {
   "cell_type": "code",
   "execution_count": 13,
   "metadata": {},
   "outputs": [
    {
     "name": "stdout",
     "output_type": "stream",
     "text": [
      "MelInfEsmb0808C1 0.9415 0.9257\n"
     ]
    }
   ],
   "source": [
    "oofs_esmb= np.zeros(len(dftrn))\n",
    "for prfx,wgt in prfx2wgt.items():\n",
    "    p_out = f'../output/{prfx}'\n",
    "    res = pickle.load(open(f'{p_out}/results_{prfx}.p', 'rb'))\n",
    "    param = res['param']\n",
    "    p_prp = f'../output/{param.PRFX_PREP}'\n",
    "    dftrn = pd.read_csv(f'{p_prp}/train_all_dedup.csv') \n",
    "\n",
    "    oofs_esmb += wgt*prfx2oofs[prfx]\n",
    "    scr = roc_auc(ys, oofs_esmb)\n",
    "    scr20 = roc_auc(dftrn.target.iloc[idx20], oofs_esmb[idx20])\n",
    "print(PRFX_ESMB, f'{scr:.4f}', f'{scr20:.4f}')"
   ]
  },
  {
   "cell_type": "code",
   "execution_count": 19,
   "metadata": {},
   "outputs": [
    {
     "name": "stderr",
     "output_type": "stream",
     "text": [
      "100%|██████████| 200/200 [00:08<00:00, 22.89it/s]\n"
     ]
    },
    {
     "data": {
      "image/png": "[encoded data removed]",
      "text/plain": [
       "<Figure size 432x288 with 1 Axes>"
      ]
     },
     "metadata": {
      "needs_background": "light"
     },
     "output_type": "display_data"
    }
   ],
   "source": [
    "bstscr = 0\n",
    "bstscr20 = 0\n",
    "for i in tqdm(range(200)):\n",
    "    rndwgts = np.random.rand(len(prfx2oofs))\n",
    "    oofs = np.vstack(list(prfx2oofs.values())).T\n",
    "    oofswgted = np.average(oofs, axis=1, weights=rndwgts,)\n",
    "    scr = roc_auc(ys, oofswgted)\n",
    "    scr20 = roc_auc(dftrn.target.iloc[idx20], oofswgted[idx20])\n",
    "    if scr>bstscr: \n",
    "        bstscr=scr\n",
    "        rndwgts_bstscr=rndwgts\n",
    "    if scr20>bstscr20: \n",
    "        bstscr20=scr20\n",
    "        rndwgts_bstscr20=rndwgts\n",
    "    plt.scatter(scr, scr20, alpha=.1)"
   ]
  },
  {
   "cell_type": "code",
   "execution_count": 20,
   "metadata": {},
   "outputs": [
    {
     "name": "stdout",
     "output_type": "stream",
     "text": [
      "0.9414322916148912\n",
      "[0.08302721 0.11943938 0.30415411 0.01025295 0.23759729 0.41835569\n",
      " 0.41702716 0.72375205 0.47878806 0.69023412 0.21723009 0.15140517\n",
      " 0.00920996 0.99432106 0.31876522 0.98532757 0.47326301 0.49539533\n",
      " 0.46772053 0.85447496 0.93127703 0.9559595 ]\n",
      "0.9414,0.9264\n"
     ]
    }
   ],
   "source": [
    "print(bstscr)\n",
    "rndwgts = rndwgts_bstscr\n",
    "print(rndwgts)\n",
    "oofs = np.vstack(list(prfx2oofs.values())).T\n",
    "oofs.shape, rndwgts.shape\n",
    "oofswgted = np.average(oofs, axis=1, weights=rndwgts,)\n",
    "scr = roc_auc(ys, oofswgted)\n",
    "scr20 = roc_auc(dftrn.target.iloc[idx20], oofswgted[idx20])\n",
    "print(f'{scr:.4f},{scr20:.4f}')\n"
   ]
  },
  {
   "cell_type": "code",
   "execution_count": 22,
   "metadata": {},
   "outputs": [
    {
     "name": "stdout",
     "output_type": "stream",
     "text": [
      "0.9263867960723877\n",
      "0.9414,0.9264\n"
     ]
    }
   ],
   "source": [
    "print(bstscr20)\n",
    "rndwgts = rndwgts_bstscr20\n",
    "oofs = np.vstack(list(prfx2oofs.values())).T\n",
    "oofs.shape, rndwgts.shape\n",
    "oofswgted = np.average(oofs, axis=1, weights=rndwgts,)\n",
    "scr = roc_auc(ys, oofswgted)\n",
    "scr20 = roc_auc(dftrn.target.iloc[idx20], oofswgted[idx20])\n",
    "print(f'{scr:.4f},{scr20:.4f}')\n"
   ]
  },
  {
   "cell_type": "code",
   "execution_count": null,
   "metadata": {},
   "outputs": [],
   "source": []
  }
 ],
 "metadata": {
  "kernelspec": {
   "display_name": "mel",
   "language": "python",
   "name": "mel"
  },
  "language_info": {
   "codemirror_mode": {
    "name": "ipython",
    "version": 3
   },
   "file_extension": ".py",
   "mimetype": "text/x-python",
   "name": "python",
   "nbconvert_exporter": "python",
   "pygments_lexer": "ipython3",
   "version": "3.7.7"
  },
  "toc": {
   "base_numbering": 1,
   "nav_menu": {},
   "number_sections": true,
   "sideBar": true,
   "skip_h1_title": false,
   "title_cell": "Table of Contents",
   "title_sidebar": "Contents",
   "toc_cell": false,
   "toc_position": {},
   "toc_section_display": true,
   "toc_window_display": false
  }
 },
 "nbformat": 4,
 "nbformat_minor": 4
}
