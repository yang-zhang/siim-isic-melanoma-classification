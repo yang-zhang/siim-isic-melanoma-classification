{
 "cells": [
  {
   "cell_type": "code",
   "execution_count": 1,
   "metadata": {},
   "outputs": [],
   "source": [
    "PRFX_ESMB = 'MelInfEsmb0815C2'"
   ]
  },
  {
   "cell_type": "code",
   "execution_count": 2,
   "metadata": {},
   "outputs": [],
   "source": [
    "from pathlib import Path\n",
    "import pickle\n",
    "import pandas as pd\n",
    "import numpy as np\n",
    "from sklearn.metrics import roc_auc_score as roc_auc\n",
    "import matplotlib.pyplot as plt\n",
    "\n",
    "class Param: pass\n",
    "\n",
    "p_esmb = f'../output/{PRFX_ESMB}'; Path(p_esmb).mkdir(exist_ok=True,parents=True)\n",
    "p_cmp = '../input/siim-isic-melanoma-classification'"
   ]
  },
  {
   "cell_type": "markdown",
   "metadata": {},
   "source": [
    "# starting weights"
   ]
  },
  {
   "cell_type": "code",
   "execution_count": 3,
   "metadata": {},
   "outputs": [],
   "source": [
    "prfx2wgt0 = {\n",
    "    'MelInf0726B2tta16': 0.15,\n",
    "    'MelInf0805A1tta16': 0.15,\n",
    "    'MelInf0728A1tta16': 0.25,\n",
    "    'MelInf0728B1tta16': 0.15,\n",
    "    'MelInf0805C1tta16': 0.15,\n",
    "    'MelInf0727A1tta16': 0.2,\n",
    "    'MelInf0805D1tta16': 0.2,\n",
    "    'MelInf0727B1tta16': 0.2,\n",
    "    'MelInf0805E1tta16': 0.2,\n",
    "    'MelInf0726G2tta16': 0.15,\n",
    "    'MelInf0726G4tta16': 0.15,\n",
    "    'MelInf0726H2tta16': 1,\n",
    "    'MelInf0729H1tta16': 1,\n",
    "    'MelInf0729E1tta16': 1,\n",
    "    'MelInf0729D1tta16': 0.3,\n",
    "    'MelInf0806C1tta16': 1.0,\n",
    "    'MelInf0729F1tta16': 0.5,\n",
    "    'MelInf0806D1tta16': 0.5,\n",
    "    'MelInf0729C1tta16': 0.5,\n",
    "    'MelInf0729C1tta16epc456': 0.5,\n",
    "    'Mel0806E1tta16epc345': 1.5,\n",
    "    'MelInf0808A1tta16': 0.5,\n",
    "    'MelInf0729G3tta16epc567': 1,\n",
    "    'MelInf0801A1tta16': 1,\n",
    "    'MelInf0801B1tta16epc567':1,\n",
    "    'MelInf0801C1tta16':1,\n",
    "    'MelInf0801D2tta16':0.3,\n",
    "    'MelInf0801E1tta16':0.3,\n",
    "    'MelInf0801F1tta16epc489':1.5,\n",
    "}"
   ]
  },
  {
   "cell_type": "code",
   "execution_count": 4,
   "metadata": {},
   "outputs": [
    {
     "name": "stdout",
     "output_type": "stream",
     "text": [
      "efficientnet-b0 224 0.9279 0.8960 0.15 MelInf0726B2tta16\n",
      "efficientnet-b0 224 0.9236 0.8962 0.15 MelInf0805A1tta16\n",
      "efficientnet-b1 224 0.9301 0.9082 0.25 MelInf0728A1tta16\n",
      "efficientnet-b2 224 0.9298 0.9062 0.15 MelInf0728B1tta16\n",
      "efficientnet-b2 224 0.9287 0.9053 0.15 MelInf0805C1tta16\n",
      "efficientnet-b3 224 0.9294 0.9063 0.2 MelInf0727A1tta16\n",
      "efficientnet-b3 224 0.9292 0.9064 0.2 MelInf0805D1tta16\n",
      "efficientnet-b4 224 0.9318 0.9094 0.2 MelInf0727B1tta16\n",
      "efficientnet-b4 224 0.9312 0.9103 0.2 MelInf0805E1tta16\n",
      "efficientnet-b5 224 0.9288 0.9113 0.15 MelInf0726G2tta16\n",
      "efficientnet-b5 224 0.9277 0.8979 0.15 MelInf0726G4tta16\n",
      "efficientnet-b6 224 0.9317 0.9139 1 MelInf0726H2tta16\n",
      "efficientnet-b0 384 0.9336 0.9063 1 MelInf0729H1tta16\n",
      "efficientnet-b1 384 0.9340 0.9196 1 MelInf0729E1tta16\n",
      "efficientnet-b2 384 0.9347 0.9205 0.3 MelInf0729D1tta16\n",
      "efficientnet-b2 384 0.9375 0.9302 1.0 MelInf0806C1tta16\n",
      "efficientnet-b3 384 0.9330 0.9169 0.5 MelInf0729F1tta16\n",
      "efficientnet-b3 384 0.9353 0.9219 0.5 MelInf0806D1tta16\n",
      "efficientnet-b4 384 0.9344 0.9224 0.5 MelInf0729C1tta16\n",
      "efficientnet-b4 384 0.9363 0.9179 0.5 MelInf0729C1tta16epc456\n",
      "efficientnet-b4 384 0.9385 0.9226 1.5 Mel0806E1tta16epc345\n",
      "efficientnet-b4 384 0.9357 0.9195 0.5 MelInf0808A1tta16\n",
      "efficientnet-b5 384 0.9354 0.9152 1 MelInf0729G3tta16epc567\n",
      "efficientnet-b0 512 0.9348 0.9135 1 MelInf0801A1tta16\n",
      "efficientnet-b1 512 0.9357 0.9177 1 MelInf0801B1tta16epc567\n",
      "efficientnet-b2 512 0.9350 0.9131 1 MelInf0801C1tta16\n",
      "efficientnet-b3 512 0.9329 0.9110 0.3 MelInf0801D2tta16\n",
      "efficientnet-b4 512 0.9312 0.9077 0.3 MelInf0801E1tta16\n",
      "efficientnet-b5 512 0.9397 0.9241 1.5 MelInf0801F1tta16epc489\n"
     ]
    }
   ],
   "source": [
    "prfx2oofs = {}\n",
    "for prfx in prfx2wgt0.keys():\n",
    "    p_out = f'../output/{prfx}'\n",
    "    res = pickle.load(open(f'{p_out}/results_{prfx}.p', 'rb'))\n",
    "    param = res['param']\n",
    "    p_prp = f'../output/{param.PRFX_PREP}'\n",
    "    dftrn = pd.read_csv(f'{p_prp}/train_all_dedup.csv') \n",
    "\n",
    "    vls=[]\n",
    "    oofs=[]\n",
    "    for fld in range(4):\n",
    "        ep2oof = pickle.load(open(f'{p_out}/ep2oof_{prfx}_fld_{fld}.p', 'rb'))\n",
    "        _,vl= res['fld2trvl'][fld]\n",
    "        vls += list(vl)\n",
    "        ep2oof = np.concatenate(ep2oof, 1)\n",
    "        oof = ep2oof.mean(1)\n",
    "        oofs += list(oof)\n",
    "\n",
    "    ys = dftrn.target.iloc[vls]\n",
    "    sortedzip = sorted(zip(vls, oofs, ys))\n",
    "    _, oofs, ys = list(zip(*sortedzip))\n",
    "    assert np.all(dftrn.target==ys)\n",
    "\n",
    "    oofs = np.array(oofs)\n",
    "    prfx2oofs[prfx] = oofs\n",
    "    \n",
    "    scr = roc_auc(ys, oofs)\n",
    "    print(param.ARCH, param.SZ, f'{scr:.4f}', end=' ')\n",
    "    \n",
    "    idx20 = np.where(dftrn.source==20)[0]\n",
    "    scr20 = roc_auc(dftrn.target.iloc[idx20], oofs[idx20])\n",
    "    print(f'{scr20:.4f}', prfx2wgt0[prfx], prfx)"
   ]
  },
  {
   "cell_type": "code",
   "execution_count": 5,
   "metadata": {},
   "outputs": [
    {
     "name": "stdout",
     "output_type": "stream",
     "text": [
      "MelInfEsmb0815C2 0.9429 0.9281\n"
     ]
    }
   ],
   "source": [
    "oofs_esmb= np.zeros(len(dftrn))\n",
    "for prfx,wgt in prfx2wgt0.items():\n",
    "    p_out = f'../output/{prfx}'\n",
    "    res = pickle.load(open(f'{p_out}/results_{prfx}.p', 'rb'))\n",
    "    param = res['param']\n",
    "    p_prp = f'../output/{param.PRFX_PREP}'\n",
    "    dftrn = pd.read_csv(f'{p_prp}/train_all_dedup.csv') \n",
    "\n",
    "    oofs_esmb += wgt*prfx2oofs[prfx]\n",
    "    scr = roc_auc(ys, oofs_esmb)\n",
    "    scr20 = roc_auc(dftrn.target.iloc[idx20], oofs_esmb[idx20])\n",
    "print(PRFX_ESMB, f'{scr:.4f}', f'{scr20:.4f}')"
   ]
  },
  {
   "cell_type": "markdown",
   "metadata": {},
   "source": [
    "# optimize"
   ]
  },
  {
   "cell_type": "code",
   "execution_count": 6,
   "metadata": {},
   "outputs": [],
   "source": [
    "prfxes, wgts0 = list(zip(*prfx2wgt0.items()))"
   ]
  },
  {
   "cell_type": "markdown",
   "metadata": {},
   "source": [
    "- https://www.kaggle.com/abhishek/optimizer-for-quadratic-weighted-kappa\n",
    "- http://localhost:8080/notebooks/git/google-quest-challenge/working/QstPstp0208_4.ipynb"
   ]
  },
  {
   "cell_type": "code",
   "execution_count": 7,
   "metadata": {},
   "outputs": [
    {
     "name": "stdout",
     "output_type": "stream",
     "text": [
      "[0, 1, 4, 6, 10, 15, 17, 19, 21, 29, 32, 33, 43, 47, 53]\n",
      "[0, 1, 4, 6, 10, 15, 17, 19, 21, 29, 32, 33, 43, 47, 53]\n",
      "[0, 1, 4, 6, 10, 15, 17, 19, 21, 29, 32, 33, 43, 47, 53]\n",
      "[0, 1, 4, 6, 10, 15, 17, 19, 21, 29, 32, 33, 43, 47, 53]\n",
      "[0, 1, 4, 6, 10, 15, 17, 19, 21, 29, 32, 33, 43, 47, 53]\n",
      "[0, 1, 4, 6, 10, 15, 17, 19, 21, 29, 32, 33, 43, 47, 53]\n",
      "[0, 1, 4, 6, 10, 15, 17, 19, 21, 29, 32, 33, 43, 47, 53]\n",
      "[0, 1, 4, 6, 10, 15, 17, 19, 21, 29, 32, 33, 43, 47, 53]\n",
      "[0, 1, 4, 6, 10, 15, 17, 19, 21, 29, 32, 33, 43, 47, 53]\n",
      "[0, 1, 4, 6, 10, 15, 17, 19, 21, 29, 32, 33, 43, 47, 53]\n",
      "[0, 1, 4, 6, 10, 15, 17, 19, 21, 29, 32, 33, 43, 47, 53]\n",
      "[0, 1, 4, 6, 10, 15, 17, 19, 21, 29, 32, 33, 43, 47, 53]\n",
      "[0, 1, 4, 6, 10, 15, 17, 19, 21, 29, 32, 33, 43, 47, 53]\n",
      "[0, 1, 4, 6, 10, 15, 17, 19, 21, 29, 32, 33, 43, 47, 53]\n",
      "[0, 1, 4, 6, 10, 15, 17, 19, 21, 29, 32, 33, 43, 47, 53]\n",
      "[0, 1, 4, 6, 10, 15, 17, 19, 21, 29, 32, 33, 43, 47, 53]\n",
      "[0, 1, 4, 6, 10, 15, 17, 19, 21, 29, 32, 33, 43, 47, 53]\n",
      "[0, 1, 4, 6, 10, 15, 17, 19, 21, 29, 32, 33, 43, 47, 53]\n",
      "[0, 1, 4, 6, 10, 15, 17, 19, 21, 29, 32, 33, 43, 47, 53]\n",
      "[0, 1, 4, 6, 10, 15, 17, 19, 21, 29, 32, 33, 43, 47, 53]\n",
      "[0, 1, 4, 6, 10, 15, 17, 19, 21, 29, 32, 33, 43, 47, 53]\n",
      "[0, 1, 4, 6, 10, 15, 17, 19, 21, 29, 32, 33, 43, 47, 53]\n",
      "[0, 1, 4, 6, 10, 15, 17, 19, 21, 29, 32, 33, 43, 47, 53]\n",
      "[0, 1, 4, 6, 10, 15, 17, 19, 21, 29, 32, 33, 43, 47, 53]\n",
      "[0, 1, 4, 6, 10, 15, 17, 19, 21, 29, 32, 33, 43, 47, 53]\n",
      "[0, 1, 4, 6, 10, 15, 17, 19, 21, 29, 32, 33, 43, 47, 53]\n",
      "[0, 1, 4, 6, 10, 15, 17, 19, 21, 29, 32, 33, 43, 47, 53]\n",
      "[0, 1, 4, 6, 10, 15, 17, 19, 21, 29, 32, 33, 43, 47, 53]\n",
      "[0, 1, 4, 6, 10, 15, 17, 19, 21, 29, 32, 33, 43, 47, 53]\n"
     ]
    }
   ],
   "source": [
    "oofss = []\n",
    "for prfx in prfxes:\n",
    "    p_out = f'../output/{prfx}'\n",
    "    res = pickle.load(open(f'{p_out}/results_{prfx}.p', 'rb'))\n",
    "    param = res['param']\n",
    "    p_prp = f'../output/{param.PRFX_PREP}'\n",
    "    dftrn = pd.read_csv(f'{p_prp}/train_all_dedup.csv') \n",
    "\n",
    "    vls=[]\n",
    "    oofs=[]\n",
    "    for fld in range(4):\n",
    "        ep2oof = pickle.load(open(f'{p_out}/ep2oof_{prfx}_fld_{fld}.p', 'rb'))\n",
    "        _,vl= res['fld2trvl'][fld]\n",
    "        vls += list(vl)\n",
    "        ep2oof = np.concatenate(ep2oof, 1)\n",
    "        oof = ep2oof.mean(1)\n",
    "        oofs += list(oof)\n",
    "\n",
    "    ys = dftrn.target.iloc[vls]\n",
    "    sortedzip = sorted(zip(vls, oofs, ys))\n",
    "    _, oofs, ys = list(zip(*sortedzip))\n",
    "    assert np.all(dftrn.target==ys)\n",
    "    print(vls[:15])\n",
    "    oofss.append(oofs)\n",
    "oofss = np.array(oofss)"
   ]
  },
  {
   "cell_type": "code",
   "execution_count": 8,
   "metadata": {},
   "outputs": [
    {
     "data": {
      "text/plain": [
       "(29, 58032)"
      ]
     },
     "execution_count": 8,
     "metadata": {},
     "output_type": "execute_result"
    }
   ],
   "source": [
    "oofss.shape"
   ]
  },
  {
   "cell_type": "code",
   "execution_count": 9,
   "metadata": {},
   "outputs": [],
   "source": [
    "import scipy as sp\n",
    "\n",
    "class OptimizedRounder(object):\n",
    "    def __init__(self):\n",
    "        self.coef_ = 0\n",
    "    \n",
    "    def _minus_scr(self, coef):\n",
    "        prd = np.average(oofss, axis=0, weights=coef)\n",
    "        scr = roc_auc(ys, prd)\n",
    "        return -scr\n",
    "    \n",
    "    def fit(self):\n",
    "        initial_coef = wgts0\n",
    "        self.coef_ = sp.optimize.minimize(self._minus_scr, initial_coef, method='Nelder-Mead')\n",
    "    \n",
    "    def get_coef(self):\n",
    "        return self.coef_['x']"
   ]
  },
  {
   "cell_type": "code",
   "execution_count": 10,
   "metadata": {},
   "outputs": [
    {
     "name": "stdout",
     "output_type": "stream",
     "text": [
      "CPU times: user 2min 51s, sys: 157 ms, total: 2min 51s\n",
      "Wall time: 2min 53s\n"
     ]
    }
   ],
   "source": [
    "%%time\n",
    "optR = OptimizedRounder()\n",
    "optR.fit()\n",
    "coef = optR.get_coef()\n"
   ]
  },
  {
   "cell_type": "code",
   "execution_count": 11,
   "metadata": {
    "scrolled": true
   },
   "outputs": [
    {
     "data": {
      "text/plain": [
       "array([ 41.27185888,   5.12519794, -42.7370966 ,  10.12139774,\n",
       "        -6.13003714, -23.88242032, -59.81617658,   5.80192998,\n",
       "        -1.43943641,  -5.77893379,  -6.16850648, 180.82143232,\n",
       "       -16.73590179, -12.1643857 , -17.94853396, 107.79550153,\n",
       "         5.31851335, -29.03681374,  51.87712034, -30.34458973,\n",
       "       218.36897022, -65.50486321, -20.65808317,  75.61411792,\n",
       "       134.04428374,  27.17309749, -82.84454033, -51.10187709,\n",
       "       274.21928051])"
      ]
     },
     "execution_count": 11,
     "metadata": {},
     "output_type": "execute_result"
    }
   ],
   "source": [
    "coef"
   ]
  },
  {
   "cell_type": "code",
   "execution_count": 12,
   "metadata": {},
   "outputs": [
    {
     "data": {
      "text/plain": [
       "0.9448725374406388"
      ]
     },
     "execution_count": 12,
     "metadata": {},
     "output_type": "execute_result"
    }
   ],
   "source": [
    "prd=np.average(oofss, axis=0, weights=coef)\n",
    "roc_auc(ys, prd)"
   ]
  },
  {
   "cell_type": "code",
   "execution_count": 13,
   "metadata": {},
   "outputs": [],
   "source": [
    "prfx2wgt = dict(zip(prfxes, coef))"
   ]
  },
  {
   "cell_type": "code",
   "execution_count": 14,
   "metadata": {},
   "outputs": [
    {
     "name": "stdout",
     "output_type": "stream",
     "text": [
      "efficientnet-b0 224 0.9279 0.8960 41.271858882738414 MelInf0726B2tta16\n",
      "efficientnet-b0 224 0.9236 0.8962 5.125197943165626 MelInf0805A1tta16\n",
      "efficientnet-b1 224 0.9301 0.9082 -42.73709660254936 MelInf0728A1tta16\n",
      "efficientnet-b2 224 0.9298 0.9062 10.121397741206607 MelInf0728B1tta16\n",
      "efficientnet-b2 224 0.9287 0.9053 -6.1300371439331 MelInf0805C1tta16\n",
      "efficientnet-b3 224 0.9294 0.9063 -23.882420318588434 MelInf0727A1tta16\n",
      "efficientnet-b3 224 0.9292 0.9064 -59.81617658116517 MelInf0805D1tta16\n",
      "efficientnet-b4 224 0.9318 0.9094 5.801929980342871 MelInf0727B1tta16\n",
      "efficientnet-b4 224 0.9312 0.9103 -1.4394364066258551 MelInf0805E1tta16\n",
      "efficientnet-b5 224 0.9288 0.9113 -5.778933790325924 MelInf0726G2tta16\n",
      "efficientnet-b5 224 0.9277 0.8979 -6.168506481417703 MelInf0726G4tta16\n",
      "efficientnet-b6 224 0.9317 0.9139 180.82143231822027 MelInf0726H2tta16\n",
      "efficientnet-b0 384 0.9336 0.9063 -16.735901789793182 MelInf0729H1tta16\n",
      "efficientnet-b1 384 0.9340 0.9196 -12.164385699327994 MelInf0729E1tta16\n",
      "efficientnet-b2 384 0.9347 0.9205 -17.94853395820707 MelInf0729D1tta16\n",
      "efficientnet-b2 384 0.9375 0.9302 107.79550153073787 MelInf0806C1tta16\n",
      "efficientnet-b3 384 0.9330 0.9169 5.318513346891991 MelInf0729F1tta16\n",
      "efficientnet-b3 384 0.9353 0.9219 -29.036813739702247 MelInf0806D1tta16\n",
      "efficientnet-b4 384 0.9344 0.9224 51.87712034206426 MelInf0729C1tta16\n",
      "efficientnet-b4 384 0.9363 0.9179 -30.34458973374164 MelInf0729C1tta16epc456\n",
      "efficientnet-b4 384 0.9385 0.9226 218.36897022486448 Mel0806E1tta16epc345\n",
      "efficientnet-b4 384 0.9357 0.9195 -65.50486321195989 MelInf0808A1tta16\n",
      "efficientnet-b5 384 0.9354 0.9152 -20.65808316815572 MelInf0729G3tta16epc567\n",
      "efficientnet-b0 512 0.9348 0.9135 75.61411792415967 MelInf0801A1tta16\n",
      "efficientnet-b1 512 0.9357 0.9177 134.04428374235647 MelInf0801B1tta16epc567\n",
      "efficientnet-b2 512 0.9350 0.9131 27.173097490631946 MelInf0801C1tta16\n",
      "efficientnet-b3 512 0.9329 0.9110 -82.8445403271302 MelInf0801D2tta16\n",
      "efficientnet-b4 512 0.9312 0.9077 -51.10187709421225 MelInf0801E1tta16\n",
      "efficientnet-b5 512 0.9397 0.9241 274.21928050847686 MelInf0801F1tta16epc489\n"
     ]
    }
   ],
   "source": [
    "prfx2oofs = {}\n",
    "for prfx in prfx2wgt.keys():\n",
    "    p_out = f'../output/{prfx}'\n",
    "    res = pickle.load(open(f'{p_out}/results_{prfx}.p', 'rb'))\n",
    "    param = res['param']\n",
    "    p_prp = f'../output/{param.PRFX_PREP}'\n",
    "    dftrn = pd.read_csv(f'{p_prp}/train_all_dedup.csv') \n",
    "\n",
    "    vls=[]\n",
    "    oofs=[]\n",
    "    for fld in range(4):\n",
    "        ep2oof = pickle.load(open(f'{p_out}/ep2oof_{prfx}_fld_{fld}.p', 'rb'))\n",
    "        _,vl= res['fld2trvl'][fld]\n",
    "        vls += list(vl)\n",
    "        ep2oof = np.concatenate(ep2oof, 1)\n",
    "        oof = ep2oof.mean(1)\n",
    "        oofs += list(oof)\n",
    "\n",
    "    ys = dftrn.target.iloc[vls]\n",
    "    sortedzip = sorted(zip(vls, oofs, ys))\n",
    "    _, oofs, ys = list(zip(*sortedzip))\n",
    "    assert np.all(dftrn.target==ys)\n",
    "\n",
    "    oofs = np.array(oofs)\n",
    "    prfx2oofs[prfx] = oofs\n",
    "    \n",
    "    scr = roc_auc(ys, oofs)\n",
    "    print(param.ARCH, param.SZ, f'{scr:.4f}', end=' ')\n",
    "    \n",
    "    idx20 = np.where(dftrn.source==20)[0]\n",
    "    scr20 = roc_auc(dftrn.target.iloc[idx20], oofs[idx20])\n",
    "    print(f'{scr20:.4f}', prfx2wgt[prfx], prfx)"
   ]
  },
  {
   "cell_type": "code",
   "execution_count": 15,
   "metadata": {},
   "outputs": [
    {
     "name": "stdout",
     "output_type": "stream",
     "text": [
      "MelInfEsmb0815C2 0.9449 0.9321\n"
     ]
    }
   ],
   "source": [
    "oofs_esmb= np.zeros(len(dftrn))\n",
    "for prfx,wgt in prfx2wgt.items():\n",
    "    p_out = f'../output/{prfx}'\n",
    "    res = pickle.load(open(f'{p_out}/results_{prfx}.p', 'rb'))\n",
    "    param = res['param']\n",
    "    p_prp = f'../output/{param.PRFX_PREP}'\n",
    "    dftrn = pd.read_csv(f'{p_prp}/train_all_dedup.csv') \n",
    "\n",
    "    oofs_esmb += wgt*prfx2oofs[prfx]\n",
    "    scr = roc_auc(ys, oofs_esmb)\n",
    "    scr20 = roc_auc(dftrn.target.iloc[idx20], oofs_esmb[idx20])\n",
    "print(PRFX_ESMB, f'{scr:.4f}', f'{scr20:.4f}')"
   ]
  },
  {
   "cell_type": "code",
   "execution_count": 16,
   "metadata": {},
   "outputs": [
    {
     "name": "stdout",
     "output_type": "stream",
     "text": [
      "MelInf0726B2tta16 0.17577293900882407\n",
      "MelInf0805A1tta16 0.1852360767356046\n",
      "MelInf0728A1tta16 0.1697970152984186\n",
      "MelInf0728B1tta16 0.15783098760570596\n",
      "MelInf0805C1tta16 0.18550869943493037\n",
      "MelInf0727A1tta16 0.15930823437581493\n",
      "MelInf0805D1tta16 0.17837462669376472\n",
      "MelInf0727B1tta16 0.15253438272176548\n",
      "MelInf0805E1tta16 0.17570575343026482\n",
      "MelInf0726G2tta16 0.15595904496625135\n",
      "MelInf0726G4tta16 0.195412380182344\n",
      "MelInf0726H2tta16 0.15230585584603645\n",
      "MelInf0729H1tta16 0.15282431964950818\n",
      "MelInf0729E1tta16 0.14824956054377292\n",
      "MelInf0729D1tta16 0.1499509768921909\n",
      "MelInf0806C1tta16 0.1632805076088609\n",
      "MelInf0729F1tta16 0.1487084176636413\n",
      "MelInf0806D1tta16 0.17213049339909336\n",
      "MelInf0729C1tta16 0.1371323752740608\n",
      "MelInf0729C1tta16epc456 0.1582704462621681\n",
      "Mel0806E1tta16epc345 0.1657605117769836\n",
      "MelInf0808A1tta16 0.1786412484494178\n",
      "MelInf0729G3tta16epc567 0.18763088324121233\n",
      "MelInf0801A1tta16 0.16702342384519106\n",
      "MelInf0801B1tta16epc567 0.17403774669167732\n",
      "MelInf0801C1tta16 0.1757464726584606\n",
      "MelInf0801D2tta16 0.19602787448723205\n",
      "MelInf0801E1tta16 0.19845013254322255\n",
      "MelInf0801F1tta16epc489 0.16567061367103075\n"
     ]
    }
   ],
   "source": [
    "dfsub = pd.read_csv(f'{p_cmp}/sample_submission.csv') \n",
    "\n",
    "\n",
    "wgt_ttl=0\n",
    "sub_esmb=np.zeros(len(dfsub))\n",
    "for prfx,wgt in prfx2wgt.items():\n",
    "    p_out = f'../output/{prfx}'\n",
    "    res = pickle.load(open(f'{p_out}/results_{prfx}.p', 'rb'))\n",
    "    param = res['param']\n",
    "    dfsubi = pd.read_csv(f'{p_out}/submission_{prfx}_avglast{param.LASTM}.csv')\n",
    "    wgt_ttl+=wgt\n",
    "    subi = dfsubi.target\n",
    "    print(prfx, subi.mean())\n",
    "#     plt.hist(subi, bins=50);\n",
    "#     plt.show()\n",
    "    sub_esmb += wgt*subi\n",
    "sub_esmb/=wgt_ttl"
   ]
  },
  {
   "cell_type": "code",
   "execution_count": 17,
   "metadata": {},
   "outputs": [
    {
     "name": "stdout",
     "output_type": "stream",
     "text": [
      "0.1534032008704594\n"
     ]
    },
    {
     "data": {
      "text/html": [
       "<div>\n",
       "<style scoped>\n",
       "    .dataframe tbody tr th:only-of-type {\n",
       "        vertical-align: middle;\n",
       "    }\n",
       "\n",
       "    .dataframe tbody tr th {\n",
       "        vertical-align: top;\n",
       "    }\n",
       "\n",
       "    .dataframe thead th {\n",
       "        text-align: right;\n",
       "    }\n",
       "</style>\n",
       "<table border=\"1\" class=\"dataframe\">\n",
       "  <thead>\n",
       "    <tr style=\"text-align: right;\">\n",
       "      <th></th>\n",
       "      <th>image_name</th>\n",
       "      <th>target</th>\n",
       "    </tr>\n",
       "  </thead>\n",
       "  <tbody>\n",
       "    <tr>\n",
       "      <th>0</th>\n",
       "      <td>ISIC_0052060</td>\n",
       "      <td>0.063037</td>\n",
       "    </tr>\n",
       "    <tr>\n",
       "      <th>1</th>\n",
       "      <td>ISIC_0052349</td>\n",
       "      <td>0.042306</td>\n",
       "    </tr>\n",
       "    <tr>\n",
       "      <th>2</th>\n",
       "      <td>ISIC_0058510</td>\n",
       "      <td>0.074914</td>\n",
       "    </tr>\n",
       "  </tbody>\n",
       "</table>\n",
       "</div>"
      ],
      "text/plain": [
       "     image_name    target\n",
       "0  ISIC_0052060  0.063037\n",
       "1  ISIC_0052349  0.042306\n",
       "2  ISIC_0058510  0.074914"
      ]
     },
     "metadata": {},
     "output_type": "display_data"
    },
    {
     "data": {
      "image/png": "[encoded data removed]",
      "text/plain": [
       "<Figure size 432x288 with 1 Axes>"
      ]
     },
     "metadata": {
      "needs_background": "light"
     },
     "output_type": "display_data"
    }
   ],
   "source": [
    "print(sub_esmb.mean())\n",
    "dfsub.target = sub_esmb\n",
    "\n",
    "display(dfsub.head(3))\n",
    "plt.hist(dfsub.target, bins=50);"
   ]
  },
  {
   "cell_type": "code",
   "execution_count": 18,
   "metadata": {},
   "outputs": [],
   "source": [
    "dfsub.to_csv(f'{p_esmb}/submission_{PRFX_ESMB}.csv', index=False)"
   ]
  },
  {
   "cell_type": "code",
   "execution_count": null,
   "metadata": {},
   "outputs": [],
   "source": []
  },
  {
   "cell_type": "code",
   "execution_count": null,
   "metadata": {},
   "outputs": [],
   "source": []
  },
  {
   "cell_type": "code",
   "execution_count": null,
   "metadata": {},
   "outputs": [],
   "source": []
  }
 ],
 "metadata": {
  "kernelspec": {
   "display_name": "mel",
   "language": "python",
   "name": "mel"
  },
  "language_info": {
   "codemirror_mode": {
    "name": "ipython",
    "version": 3
   },
   "file_extension": ".py",
   "mimetype": "text/x-python",
   "name": "python",
   "nbconvert_exporter": "python",
   "pygments_lexer": "ipython3",
   "version": "3.7.7"
  },
  "toc": {
   "base_numbering": 1,
   "nav_menu": {},
   "number_sections": true,
   "sideBar": true,
   "skip_h1_title": false,
   "title_cell": "Table of Contents",
   "title_sidebar": "Contents",
   "toc_cell": false,
   "toc_position": {},
   "toc_section_display": true,
   "toc_window_display": true
  }
 },
 "nbformat": 4,
 "nbformat_minor": 4
}
