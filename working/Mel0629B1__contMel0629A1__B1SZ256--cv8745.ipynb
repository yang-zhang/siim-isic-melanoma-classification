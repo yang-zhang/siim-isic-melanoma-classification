{
 "cells": [
  {
   "cell_type": "markdown",
   "metadata": {},
   "source": [
    "mainly looking at https://github.com/ngessert/isic2019/blob/master/models.py"
   ]
  },
  {
   "cell_type": "markdown",
   "metadata": {},
   "source": [
    "# start"
   ]
  },
  {
   "cell_type": "code",
   "execution_count": 1,
   "metadata": {},
   "outputs": [
    {
     "data": {
      "text/plain": [
       "{'PRFX': 'Mel0629B1',\n",
       " 'PRFX_B4': 'Mel0629A1',\n",
       " 'FLD2USE_B4': 0,\n",
       " 'PRFX_PREP': 'MelPrp0629A1',\n",
       " 'ARCH': 'efficientnet-b1',\n",
       " 'SZ': 256,\n",
       " 'EPOCHS': 100,\n",
       " 'BS': 128,\n",
       " 'K': 5,\n",
       " 'SEED': 101,\n",
       " 'FLD2USE': 0,\n",
       " 'FP16': True,\n",
       " 'PLTFACTOR': 0.5,\n",
       " 'PATIENCE': 5,\n",
       " 'MIN_LR': 1e-08,\n",
       " 'LR': 0.0001,\n",
       " 'WD': 0.001,\n",
       " 'N_SAMPL': None,\n",
       " 'DEBUG': False}"
      ]
     },
     "execution_count": 1,
     "metadata": {},
     "output_type": "execute_result"
    }
   ],
   "source": [
    "class Param: pass\n",
    "param = Param()\n",
    "\n",
    "#########################\n",
    "param.PRFX = 'Mel0629B1'#\n",
    "#########################\n",
    "\n",
    "param.PRFX_B4 = 'Mel0629A1'; param.FLD2USE_B4 = 0\n",
    "param.PRFX_PREP = 'MelPrp0629A1'\n",
    "param.ARCH = 'efficientnet-b1'\n",
    "param.SZ = 256\n",
    "param.EPOCHS = 100\n",
    "\n",
    "# p2: efficientnet-b1 64\n",
    "param.BS = 128\n",
    "\n",
    "param.K=5; param.SEED=101; param.FLD2USE=0\n",
    "param.FP16 = True\n",
    "param.PLTFACTOR=0.5; param.PATIENCE=5; param.MIN_LR=1e-8\n",
    "\n",
    "param.LR=1e-4\n",
    "param.WD=1e-3\n",
    "\n",
    "param.N_SAMPL = None\n",
    "\n",
    "param.DEBUG = False\n",
    "if param.DEBUG: \n",
    "    param.EPOCHS = 5\n",
    "    param.K = 5\n",
    "    param.N_SAMPL = 2048\n",
    "\n",
    "DEVICE = 'cuda'; PIN_MEM = (DEVICE=='cuda'); N_WORKERS=4\n",
    "\n",
    "param.__dict__"
   ]
  },
  {
   "cell_type": "code",
   "execution_count": 2,
   "metadata": {},
   "outputs": [
    {
     "name": "stdout",
     "output_type": "stream",
     "text": [
      "Tue Jun 30 02:38:49 2020       \n",
      "+-----------------------------------------------------------------------------+\n",
      "| NVIDIA-SMI 440.100      Driver Version: 440.100      CUDA Version: 10.2     |\n",
      "|-------------------------------+----------------------+----------------------+\n",
      "| GPU  Name        Persistence-M| Bus-Id        Disp.A | Volatile Uncorr. ECC |\n",
      "| Fan  Temp  Perf  Pwr:Usage/Cap|         Memory-Usage | GPU-Util  Compute M. |\n",
      "|===============================+======================+======================|\n",
      "|   0  Tesla V100-SXM2...  Off  | 00000000:00:1E.0 Off |                    0 |\n",
      "| N/A   49C    P0    57W / 300W |     11MiB / 16160MiB |      0%      Default |\n",
      "+-------------------------------+----------------------+----------------------+\n",
      "                                                                               \n",
      "+-----------------------------------------------------------------------------+\n",
      "| Processes:                                                       GPU Memory |\n",
      "|  GPU       PID   Type   Process name                             Usage      |\n",
      "|=============================================================================|\n",
      "|  No running processes found                                                 |\n",
      "+-----------------------------------------------------------------------------+\n"
     ]
    }
   ],
   "source": [
    "!nvidia-smi"
   ]
  },
  {
   "cell_type": "markdown",
   "metadata": {},
   "source": [
    "# setup"
   ]
  },
  {
   "cell_type": "code",
   "execution_count": 3,
   "metadata": {},
   "outputs": [],
   "source": [
    "from pathlib import Path\n",
    "import pickle\n",
    "import pandas as pd\n",
    "import numpy as np\n",
    "import random\n",
    "import os, sys, gc\n",
    "import datetime\n",
    "from collections import defaultdict, Counter\n",
    "import matplotlib.pyplot as plt\n",
    "from PIL import Image\n",
    "from tqdm import tqdm\n",
    "from sklearn.model_selection import GroupKFold\n",
    "from sklearn.metrics import roc_auc_score as roc_auc\n",
    "\n",
    "# https://github.com/eriklindernoren/PyTorch-YOLOv3/issues/162#issuecomment-491115265\n",
    "from PIL import ImageFile; ImageFile.LOAD_TRUNCATED_IMAGES = True\n",
    "\n",
    "def dtnow(): return datetime.datetime.now().strftime('%Y-%m-%d %H:%M:%S')\n",
    "\n",
    "import torch\n",
    "device=torch.device(DEVICE)\n",
    "import torch.nn as nn\n",
    "import torch.nn.functional as F\n",
    "from torch.utils.data import Dataset, DataLoader\n",
    "import torchvision.transforms as transforms\n",
    "import torch.optim as optim\n",
    "from torch.optim import lr_scheduler\n",
    "\n",
    "from efficientnet_pytorch import EfficientNet\n",
    "\n",
    "from apex import amp\n",
    "\n",
    "def sigmoid(x): return 1 / (1 + np.exp(-x))\n",
    "\n",
    "def set_seed(seed):\n",
    "    random.seed(seed)\n",
    "    os.environ['PYTHONHASHSEED'] = str(seed)\n",
    "    np.random.seed(seed)\n",
    "    torch.manual_seed(seed)\n",
    "    torch.cuda.manual_seed(seed)\n",
    "    torch.backends.cudnn.deterministic = True\n",
    "set_seed(param.SEED)\n",
    "\n",
    "\n",
    "\n",
    "p_out = f'../output/{param.PRFX}'; Path(p_out).mkdir(exist_ok=True,parents=True)\n",
    "p_cmp = '../input/siim-isic-melanoma-classification'\n",
    "p_b4  = f'../output/{param.PRFX_B4}'\n"
   ]
  },
  {
   "cell_type": "markdown",
   "metadata": {},
   "source": [
    "# prep"
   ]
  },
  {
   "cell_type": "code",
   "execution_count": 4,
   "metadata": {
    "scrolled": false
   },
   "outputs": [
    {
     "name": "stdout",
     "output_type": "stream",
     "text": [
      "(58457, 4)\n"
     ]
    },
    {
     "data": {
      "text/html": [
       "<div>\n",
       "<style scoped>\n",
       "    .dataframe tbody tr th:only-of-type {\n",
       "        vertical-align: middle;\n",
       "    }\n",
       "\n",
       "    .dataframe tbody tr th {\n",
       "        vertical-align: top;\n",
       "    }\n",
       "\n",
       "    .dataframe thead th {\n",
       "        text-align: right;\n",
       "    }\n",
       "</style>\n",
       "<table border=\"1\" class=\"dataframe\">\n",
       "  <thead>\n",
       "    <tr style=\"text-align: right;\">\n",
       "      <th></th>\n",
       "      <th>source</th>\n",
       "      <th>im_pth</th>\n",
       "      <th>patient_id</th>\n",
       "      <th>target</th>\n",
       "    </tr>\n",
       "  </thead>\n",
       "  <tbody>\n",
       "    <tr>\n",
       "      <th>24437</th>\n",
       "      <td>20</td>\n",
       "      <td>../output/MelPrp0629A1/siim-isic-melanoma-clas...</td>\n",
       "      <td>IP_4021847</td>\n",
       "      <td>0.0</td>\n",
       "    </tr>\n",
       "    <tr>\n",
       "      <th>57432</th>\n",
       "      <td>19</td>\n",
       "      <td>../output/MelPrp0629A1/andrewmvd--isic-2019/IS...</td>\n",
       "      <td>BCN_0004730</td>\n",
       "      <td>1.0</td>\n",
       "    </tr>\n",
       "  </tbody>\n",
       "</table>\n",
       "</div>"
      ],
      "text/plain": [
       "       source                                             im_pth   patient_id  \\\n",
       "24437      20  ../output/MelPrp0629A1/siim-isic-melanoma-clas...   IP_4021847   \n",
       "57432      19  ../output/MelPrp0629A1/andrewmvd--isic-2019/IS...  BCN_0004730   \n",
       "\n",
       "       target  \n",
       "24437     0.0  \n",
       "57432     1.0  "
      ]
     },
     "metadata": {},
     "output_type": "display_data"
    },
    {
     "data": {
      "text/plain": [
       "(58457, 4)"
      ]
     },
     "metadata": {},
     "output_type": "display_data"
    },
    {
     "data": {
      "text/plain": [
       "20    33126\n",
       "19    25331\n",
       "Name: source, dtype: int64"
      ]
     },
     "metadata": {},
     "output_type": "display_data"
    },
    {
     "data": {
      "text/plain": [
       "source\n",
       "19    0.178516\n",
       "20    0.017630\n",
       "Name: target, dtype: float64"
      ]
     },
     "metadata": {},
     "output_type": "display_data"
    }
   ],
   "source": [
    "p_prp = f'../output/{param.PRFX_PREP}'\n",
    "dftrn = pd.read_csv(f'{p_prp}/train_all.csv') \n",
    "print(dftrn.shape)\n",
    "\n",
    "set_seed(param.SEED); dftrn = dftrn.sample(frac=1.)\n",
    "\n",
    "if param.N_SAMPL is not None: dftrn = dftrn.head(param.N_SAMPL)\n",
    "    \n",
    "display(dftrn.head(2))\n",
    "display(dftrn.shape)\n",
    "display(dftrn.source.value_counts())\n",
    "display(dftrn.groupby('source').target.mean())"
   ]
  },
  {
   "cell_type": "markdown",
   "metadata": {},
   "source": [
    "## folds"
   ]
  },
  {
   "cell_type": "code",
   "execution_count": 5,
   "metadata": {},
   "outputs": [
    {
     "name": "stdout",
     "output_type": "stream",
     "text": [
      "2084\n"
     ]
    },
    {
     "name": "stderr",
     "output_type": "stream",
     "text": [
      "/data/anaconda3/envs/mel/lib/python3.7/site-packages/pandas/core/indexing.py:671: SettingWithCopyWarning: \n",
      "A value is trying to be set on a copy of a slice from a DataFrame\n",
      "\n",
      "See the caveats in the documentation: https://pandas.pydata.org/pandas-docs/stable/user_guide/indexing.html#returning-a-view-versus-a-copy\n",
      "  self._setitem_with_indexer(indexer, value)\n"
     ]
    }
   ],
   "source": [
    "idx_nopid=np.where(dftrn.patient_id.isna())[0]\n",
    "print(len(idx_nopid))\n",
    "dftrn['patient_id'].iloc[idx_nopid]=[f'Nan_{i}' for i in range(len(idx_nopid))]\n",
    "assert dftrn.patient_id.isna().mean()==0"
   ]
  },
  {
   "cell_type": "code",
   "execution_count": 6,
   "metadata": {},
   "outputs": [
    {
     "name": "stdout",
     "output_type": "stream",
     "text": [
      "0 46765 11692\n",
      "1 46765 11692\n",
      "2 46766 11691\n",
      "3 46766 11691\n",
      "4 46766 11691\n"
     ]
    },
    {
     "data": {
      "text/plain": [
       "0.0    0.913953\n",
       "1.0    0.086047\n",
       "Name: target, dtype: float64"
      ]
     },
     "metadata": {},
     "output_type": "display_data"
    },
    {
     "data": {
      "text/plain": [
       "0.0    0.911066\n",
       "1.0    0.088934\n",
       "Name: target, dtype: float64"
      ]
     },
     "metadata": {},
     "output_type": "display_data"
    },
    {
     "data": {
      "text/plain": [
       "0.0    0.915173\n",
       "1.0    0.084827\n",
       "Name: target, dtype: float64"
      ]
     },
     "metadata": {},
     "output_type": "display_data"
    },
    {
     "data": {
      "text/plain": [
       "0.0    0.91218\n",
       "1.0    0.08782\n",
       "Name: target, dtype: float64"
      ]
     },
     "metadata": {},
     "output_type": "display_data"
    },
    {
     "data": {
      "text/plain": [
       "0.0    0.910897\n",
       "1.0    0.089103\n",
       "Name: target, dtype: float64"
      ]
     },
     "metadata": {},
     "output_type": "display_data"
    },
    {
     "data": {
      "text/plain": [
       "20    26536\n",
       "19    20229\n",
       "Name: source, dtype: int64"
      ]
     },
     "metadata": {},
     "output_type": "display_data"
    },
    {
     "data": {
      "text/plain": [
       "20    26644\n",
       "19    20121\n",
       "Name: source, dtype: int64"
      ]
     },
     "metadata": {},
     "output_type": "display_data"
    },
    {
     "data": {
      "text/plain": [
       "20    26529\n",
       "19    20237\n",
       "Name: source, dtype: int64"
      ]
     },
     "metadata": {},
     "output_type": "display_data"
    },
    {
     "data": {
      "text/plain": [
       "20    26491\n",
       "19    20275\n",
       "Name: source, dtype: int64"
      ]
     },
     "metadata": {},
     "output_type": "display_data"
    },
    {
     "data": {
      "text/plain": [
       "20    26304\n",
       "19    20462\n",
       "Name: source, dtype: int64"
      ]
     },
     "metadata": {},
     "output_type": "display_data"
    }
   ],
   "source": [
    "set_seed(param.SEED)\n",
    "kf = GroupKFold(n_splits=param.K)\n",
    "fld2trvl={fld:(tr,vl) for fld,(tr,vl) in enumerate(kf.split(dftrn, groups=dftrn.patient_id))}\n",
    "\n",
    "for fld, (tr, vl) in fld2trvl.items():\n",
    "    print(fld, len(tr), len(vl))\n",
    "    dftr=dftrn.iloc[tr]\n",
    "    dfvl=dftrn.iloc[vl]\n",
    "    assert set(dftr.patient_id)&set(dfvl.patient_id)==set()\n",
    "for fld, (tr, vl) in fld2trvl.items():\n",
    "    dftr=dftrn.iloc[tr]\n",
    "    display(dftr.target.value_counts()/len(tr))\n",
    "for fld, (tr, vl) in fld2trvl.items():\n",
    "    dftr=dftrn.iloc[tr]\n",
    "    display(dftr.source.value_counts())\n"
   ]
  },
  {
   "cell_type": "markdown",
   "metadata": {},
   "source": [
    "# dataset"
   ]
  },
  {
   "cell_type": "code",
   "execution_count": 7,
   "metadata": {},
   "outputs": [],
   "source": [
    "class MelDataset(Dataset):\n",
    "    def __init__(self, df, istrn=True):\n",
    "        self.df = df\n",
    "        self.istrn = istrn\n",
    "        self.composed = transforms.Compose([\n",
    "            transforms.RandomResizedCrop(param.SZ),\n",
    "            transforms.RandomHorizontalFlip(),\n",
    "            transforms.RandomVerticalFlip(),\n",
    "            transforms.ColorJitter(brightness=32. / 255.,saturation=0.5),\n",
    "            transforms.ToTensor(),\n",
    "            transforms.Normalize([0.485, 0.456, 0.406], [0.229, 0.224, 0.225]),\n",
    "        ])    \n",
    "    def __getitem__(self, i):\n",
    "        x = Image.open(self.df.im_pth.values[i]) \n",
    "        x = self.composed(x)\n",
    "        if self.istrn:\n",
    "            y = self.df.target.values[i]\n",
    "            return x, y\n",
    "        else:\n",
    "            return (x,)\n",
    "    \n",
    "    def __len__(self):\n",
    "        return len(self.df)    "
   ]
  },
  {
   "cell_type": "markdown",
   "metadata": {},
   "source": [
    "# model"
   ]
  },
  {
   "cell_type": "code",
   "execution_count": 8,
   "metadata": {},
   "outputs": [],
   "source": [
    "def mkmdl():  \n",
    "    mdl = EfficientNet.from_pretrained(param.ARCH, num_classes=1)\n",
    "    return mdl"
   ]
  },
  {
   "cell_type": "code",
   "execution_count": 9,
   "metadata": {},
   "outputs": [],
   "source": [
    "# mdl = mkmdl()"
   ]
  },
  {
   "cell_type": "markdown",
   "metadata": {},
   "source": [
    "# train"
   ]
  },
  {
   "cell_type": "code",
   "execution_count": 10,
   "metadata": {},
   "outputs": [],
   "source": [
    "def evaluate(model, dl):\n",
    "    model.eval()\n",
    "    prd = []\n",
    "    y = []\n",
    "    for step, dat in enumerate(dl):\n",
    "        xb, yb = (o.to(device) for o in dat)\n",
    "        with torch.no_grad(): prdb = model(xb)\n",
    "        prd.append(prdb.cpu().detach().numpy())\n",
    "        y.append(yb.cpu().detach().numpy())\n",
    "    prd = np.concatenate(prd)    \n",
    "    y = np.concatenate(y)    \n",
    "    lss = F.binary_cross_entropy_with_logits(torch.tensor(prd),torch.tensor(y).unsqueeze(1)).item()\n",
    "    scr = roc_auc(y, prd)\n",
    "    return lss, scr, y, prd"
   ]
  },
  {
   "cell_type": "markdown",
   "metadata": {},
   "source": [
    "## set up model"
   ]
  },
  {
   "cell_type": "code",
   "execution_count": 11,
   "metadata": {},
   "outputs": [
    {
     "name": "stdout",
     "output_type": "stream",
     "text": [
      "Loaded pretrained weights for efficientnet-b1\n",
      "load previously trained ../output/Mel0629A1/model_Mel0629A1_fld_0_best.p\n"
     ]
    }
   ],
   "source": [
    "mdl = mkmdl()\n",
    "mdl = mdl.to(device)\n",
    "\n",
    "if param.PRFX_B4 is not None: \n",
    "    fnm_mdl_b4 = f'{p_b4}/model_{param.PRFX_B4}_fld_{param.FLD2USE_B4}_best.p'\n",
    "    print('load previously trained', fnm_mdl_b4)\n",
    "    mdl.load_state_dict(torch.load(fnm_mdl_b4, map_location=torch.device(DEVICE)))\n",
    "\n",
    "\n",
    "# opt = optim.SGD(mdl.parameters(), lr=param.LR, momentum=param.MOMENTUM, weight_decay=param.WD)\n",
    "opt = optim.Adam(mdl.parameters(), lr=param.LR, weight_decay=param.WD)\n",
    "schdl = optim.lr_scheduler.ReduceLROnPlateau(opt, mode='max', factor=param.PLTFACTOR, patience=param.PATIENCE, min_lr=param.MIN_LR, verbose=True)\n",
    "if param.FP16: mdl, opt = amp.initialize(mdl, opt, opt_level='O1', verbosity=0)\n",
    "mdl.zero_grad()\n"
   ]
  },
  {
   "cell_type": "markdown",
   "metadata": {},
   "source": [
    "## set up data"
   ]
  },
  {
   "cell_type": "code",
   "execution_count": 12,
   "metadata": {},
   "outputs": [
    {
     "name": "stdout",
     "output_type": "stream",
     "text": [
      "46765 11692\n",
      "46765 11692\n",
      "366 46\n"
     ]
    }
   ],
   "source": [
    "tr,vl=fld2trvl[param.FLD2USE]\n",
    "dftr=dftrn.iloc[tr]\n",
    "dfvl=dftrn.iloc[vl]\n",
    "ystr=dftr.target.values\n",
    "ysvl=dfvl.target.values\n",
    "print(len(dftr), len(dfvl))\n",
    "dstr = MelDataset(dftr)\n",
    "dsvl = MelDataset(dfvl)\n",
    "print(len(dstr), len(dsvl))\n",
    "dltr = DataLoader(dstr, batch_size=param.BS,   shuffle=True,  num_workers=N_WORKERS, pin_memory=PIN_MEM)\n",
    "dlvl = DataLoader(dsvl, batch_size=param.BS*2, shuffle=False, num_workers=N_WORKERS, pin_memory=PIN_MEM)\n",
    "print(len(dltr), len(dlvl))\n",
    "lendl=len(dltr)"
   ]
  },
  {
   "cell_type": "markdown",
   "metadata": {},
   "source": [
    "## set up results"
   ]
  },
  {
   "cell_type": "code",
   "execution_count": 13,
   "metadata": {},
   "outputs": [],
   "source": [
    "results = {}\n",
    "results['fld2trvl'] = fld2trvl\n",
    "results['param'] = param\n",
    "\n",
    "stats = {\n",
    "    'lss': {'tr':[],'vl':[]},\n",
    "    'scr': {'tr':[],'vl':[]},\n",
    "}\n",
    "oof = {'y':[], 'prd':[]}\n",
    "\n",
    "\n",
    "def save_results():\n",
    "    results['oof'] = oof\n",
    "    stats['best_scr'] = best_scr\n",
    "    stats['best_epc'] = best_epc\n",
    "    results['stats'] = stats\n",
    "    pickle.dump(results, open(f'{p_out}/results_{param.PRFX}.p', 'wb'))"
   ]
  },
  {
   "cell_type": "markdown",
   "metadata": {},
   "source": [
    "## run train"
   ]
  },
  {
   "cell_type": "code",
   "execution_count": 14,
   "metadata": {
    "scrolled": false
   },
   "outputs": [
    {
     "name": "stdout",
     "output_type": "stream",
     "text": [
      "2020-06-30 02:44:54 ep 0: lss_tr 0.219; lss_vl 0.221; scr_tr 0.853; scr_vl 0.866; \n",
      "better scr -inf -> 0.866\n",
      "2020-06-30 02:50:49 ep 1: lss_tr 0.219; lss_vl 0.220; scr_tr 0.853; scr_vl 0.867; \n",
      "better scr 0.866 -> 0.867\n",
      "2020-06-30 02:56:40 ep 2: lss_tr 0.218; lss_vl 0.219; scr_tr 0.855; scr_vl 0.866; \n",
      "2020-06-30 03:02:30 ep 3: lss_tr 0.219; lss_vl 0.222; scr_tr 0.853; scr_vl 0.867; \n",
      "better scr 0.867 -> 0.867\n",
      "2020-06-30 03:08:24 ep 4: lss_tr 0.219; lss_vl 0.222; scr_tr 0.852; scr_vl 0.861; \n",
      "2020-06-30 03:14:20 ep 5: lss_tr 0.219; lss_vl 0.219; scr_tr 0.852; scr_vl 0.870; \n",
      "better scr 0.867 -> 0.870\n",
      "2020-06-30 03:20:20 ep 6: lss_tr 0.218; lss_vl 0.219; scr_tr 0.855; scr_vl 0.868; \n",
      "2020-06-30 03:26:18 ep 7: lss_tr 0.217; lss_vl 0.220; scr_tr 0.855; scr_vl 0.872; \n",
      "better scr 0.870 -> 0.872\n",
      "2020-06-30 03:32:11 ep 8: lss_tr 0.219; lss_vl 0.219; scr_tr 0.854; scr_vl 0.869; \n",
      "2020-06-30 03:38:04 ep 9: lss_tr 0.219; lss_vl 0.217; scr_tr 0.854; scr_vl 0.870; \n",
      "2020-06-30 03:43:54 ep 10: lss_tr 0.218; lss_vl 0.224; scr_tr 0.854; scr_vl 0.860; \n",
      "2020-06-30 03:49:44 ep 11: lss_tr 0.219; lss_vl 0.220; scr_tr 0.853; scr_vl 0.870; \n",
      "2020-06-30 03:55:40 ep 12: lss_tr 0.218; lss_vl 0.219; scr_tr 0.856; scr_vl 0.868; \n",
      "2020-06-30 04:01:34 ep 13: lss_tr 0.217; lss_vl 0.218; scr_tr 0.857; scr_vl 0.870; \n",
      "Epoch    14: reducing learning rate of group 0 to 5.0000e-05.\n",
      "2020-06-30 04:07:25 ep 14: lss_tr 0.219; lss_vl 0.222; scr_tr 0.853; scr_vl 0.863; \n",
      "2020-06-30 04:13:25 ep 15: lss_tr 0.218; lss_vl 0.222; scr_tr 0.854; scr_vl 0.865; \n",
      "2020-06-30 04:19:32 ep 16: lss_tr 0.218; lss_vl 0.219; scr_tr 0.855; scr_vl 0.868; \n",
      "2020-06-30 04:25:34 ep 17: lss_tr 0.217; lss_vl 0.218; scr_tr 0.857; scr_vl 0.872; \n",
      "better scr 0.872 -> 0.872\n",
      "2020-06-30 04:31:34 ep 18: lss_tr 0.219; lss_vl 0.218; scr_tr 0.854; scr_vl 0.872; \n",
      "2020-06-30 04:37:29 ep 19: lss_tr 0.219; lss_vl 0.219; scr_tr 0.853; scr_vl 0.867; \n",
      "2020-06-30 04:43:21 ep 20: lss_tr 0.217; lss_vl 0.220; scr_tr 0.857; scr_vl 0.867; \n",
      "2020-06-30 04:49:11 ep 21: lss_tr 0.218; lss_vl 0.219; scr_tr 0.854; scr_vl 0.868; \n",
      "2020-06-30 04:55:04 ep 22: lss_tr 0.219; lss_vl 0.219; scr_tr 0.853; scr_vl 0.867; \n",
      "2020-06-30 05:01:06 ep 23: lss_tr 0.218; lss_vl 0.220; scr_tr 0.855; scr_vl 0.867; \n",
      "Epoch    24: reducing learning rate of group 0 to 2.5000e-05.\n",
      "2020-06-30 05:07:07 ep 24: lss_tr 0.218; lss_vl 0.219; scr_tr 0.855; scr_vl 0.869; \n",
      "2020-06-30 05:13:02 ep 25: lss_tr 0.217; lss_vl 0.218; scr_tr 0.856; scr_vl 0.871; \n",
      "2020-06-30 05:18:58 ep 26: lss_tr 0.218; lss_vl 0.219; scr_tr 0.855; scr_vl 0.867; \n",
      "2020-06-30 05:24:51 ep 27: lss_tr 0.218; lss_vl 0.217; scr_tr 0.854; scr_vl 0.870; \n",
      "2020-06-30 05:30:54 ep 28: lss_tr 0.218; lss_vl 0.219; scr_tr 0.855; scr_vl 0.864; \n",
      "2020-06-30 05:37:06 ep 29: lss_tr 0.217; lss_vl 0.219; scr_tr 0.857; scr_vl 0.867; \n",
      "Epoch    30: reducing learning rate of group 0 to 1.2500e-05.\n",
      "2020-06-30 05:43:01 ep 30: lss_tr 0.218; lss_vl 0.219; scr_tr 0.855; scr_vl 0.865; \n",
      "2020-06-30 05:48:58 ep 31: lss_tr 0.218; lss_vl 0.218; scr_tr 0.855; scr_vl 0.869; \n",
      "2020-06-30 05:54:57 ep 32: lss_tr 0.216; lss_vl 0.218; scr_tr 0.858; scr_vl 0.870; \n",
      "2020-06-30 06:00:57 ep 33: lss_tr 0.216; lss_vl 0.220; scr_tr 0.858; scr_vl 0.866; \n",
      "2020-06-30 06:06:51 ep 34: lss_tr 0.218; lss_vl 0.218; scr_tr 0.853; scr_vl 0.869; \n",
      "2020-06-30 06:12:46 ep 35: lss_tr 0.218; lss_vl 0.218; scr_tr 0.855; scr_vl 0.869; \n",
      "Epoch    36: reducing learning rate of group 0 to 6.2500e-06.\n",
      "2020-06-30 06:18:43 ep 36: lss_tr 0.217; lss_vl 0.217; scr_tr 0.858; scr_vl 0.870; \n",
      "2020-06-30 06:24:32 ep 37: lss_tr 0.217; lss_vl 0.218; scr_tr 0.857; scr_vl 0.869; \n",
      "2020-06-30 06:30:30 ep 38: lss_tr 0.218; lss_vl 0.217; scr_tr 0.855; scr_vl 0.871; \n",
      "2020-06-30 06:36:27 ep 39: lss_tr 0.217; lss_vl 0.219; scr_tr 0.857; scr_vl 0.866; \n",
      "2020-06-30 06:42:25 ep 40: lss_tr 0.217; lss_vl 0.218; scr_tr 0.856; scr_vl 0.869; \n",
      "2020-06-30 06:48:22 ep 41: lss_tr 0.218; lss_vl 0.218; scr_tr 0.854; scr_vl 0.869; \n",
      "Epoch    42: reducing learning rate of group 0 to 3.1250e-06.\n",
      "2020-06-30 06:54:19 ep 42: lss_tr 0.217; lss_vl 0.219; scr_tr 0.857; scr_vl 0.867; \n",
      "2020-06-30 07:00:15 ep 43: lss_tr 0.218; lss_vl 0.218; scr_tr 0.854; scr_vl 0.867; \n",
      "2020-06-30 07:06:13 ep 44: lss_tr 0.219; lss_vl 0.219; scr_tr 0.853; scr_vl 0.867; \n",
      "2020-06-30 07:12:13 ep 45: lss_tr 0.219; lss_vl 0.216; scr_tr 0.854; scr_vl 0.872; \n",
      "2020-06-30 07:18:10 ep 46: lss_tr 0.218; lss_vl 0.218; scr_tr 0.854; scr_vl 0.870; \n",
      "2020-06-30 07:24:08 ep 47: lss_tr 0.217; lss_vl 0.218; scr_tr 0.857; scr_vl 0.869; \n",
      "Epoch    48: reducing learning rate of group 0 to 1.5625e-06.\n",
      "2020-06-30 07:30:06 ep 48: lss_tr 0.217; lss_vl 0.219; scr_tr 0.856; scr_vl 0.867; \n",
      "2020-06-30 07:36:13 ep 49: lss_tr 0.218; lss_vl 0.218; scr_tr 0.855; scr_vl 0.870; \n",
      "2020-06-30 07:42:16 ep 50: lss_tr 0.219; lss_vl 0.218; scr_tr 0.853; scr_vl 0.868; \n",
      "2020-06-30 07:48:13 ep 51: lss_tr 0.216; lss_vl 0.217; scr_tr 0.859; scr_vl 0.870; \n",
      "2020-06-30 07:54:16 ep 52: lss_tr 0.217; lss_vl 0.219; scr_tr 0.858; scr_vl 0.867; \n",
      "2020-06-30 08:00:20 ep 53: lss_tr 0.217; lss_vl 0.217; scr_tr 0.856; scr_vl 0.871; \n",
      "Epoch    54: reducing learning rate of group 0 to 7.8125e-07.\n",
      "2020-06-30 08:06:15 ep 54: lss_tr 0.218; lss_vl 0.216; scr_tr 0.854; scr_vl 0.873; \n",
      "better scr 0.872 -> 0.873\n",
      "2020-06-30 08:12:12 ep 55: lss_tr 0.217; lss_vl 0.219; scr_tr 0.856; scr_vl 0.867; \n",
      "2020-06-30 08:18:11 ep 56: lss_tr 0.218; lss_vl 0.217; scr_tr 0.854; scr_vl 0.871; \n",
      "2020-06-30 08:24:10 ep 57: lss_tr 0.217; lss_vl 0.220; scr_tr 0.856; scr_vl 0.865; \n",
      "2020-06-30 08:30:08 ep 58: lss_tr 0.218; lss_vl 0.218; scr_tr 0.854; scr_vl 0.868; \n",
      "2020-06-30 08:36:04 ep 59: lss_tr 0.217; lss_vl 0.218; scr_tr 0.856; scr_vl 0.869; \n",
      "2020-06-30 08:42:00 ep 60: lss_tr 0.215; lss_vl 0.217; scr_tr 0.860; scr_vl 0.872; \n",
      "Epoch    61: reducing learning rate of group 0 to 3.9063e-07.\n",
      "2020-06-30 08:47:59 ep 61: lss_tr 0.219; lss_vl 0.217; scr_tr 0.853; scr_vl 0.869; \n",
      "2020-06-30 08:53:59 ep 62: lss_tr 0.217; lss_vl 0.218; scr_tr 0.857; scr_vl 0.869; \n",
      "2020-06-30 08:59:57 ep 63: lss_tr 0.217; lss_vl 0.219; scr_tr 0.857; scr_vl 0.866; \n",
      "2020-06-30 09:05:55 ep 64: lss_tr 0.217; lss_vl 0.218; scr_tr 0.858; scr_vl 0.870; \n",
      "2020-06-30 09:11:47 ep 65: lss_tr 0.217; lss_vl 0.219; scr_tr 0.856; scr_vl 0.868; \n"
     ]
    },
    {
     "name": "stderr",
     "output_type": "stream",
     "text": [
      "Traceback (most recent call last):\n",
      "  File \"/data/anaconda3/envs/mel/lib/python3.7/multiprocessing/queues.py\", line 242, in _feed\n",
      "    send_bytes(obj)\n",
      "  File \"/data/anaconda3/envs/mel/lib/python3.7/multiprocessing/connection.py\", line 200, in send_bytes\n",
      "    self._send_bytes(m[offset:offset + size])\n",
      "  File \"/data/anaconda3/envs/mel/lib/python3.7/multiprocessing/connection.py\", line 404, in _send_bytes\n",
      "    self._send(header + buf)\n",
      "  File \"/data/anaconda3/envs/mel/lib/python3.7/multiprocessing/connection.py\", line 368, in _send\n",
      "    n = write(self._handle, buf)\n",
      "BrokenPipeError: [Errno 32] Broken pipe\n"
     ]
    },
    {
     "name": "stdout",
     "output_type": "stream",
     "text": [
      "2020-06-30 09:17:46 ep 66: lss_tr 0.216; lss_vl 0.218; scr_tr 0.856; scr_vl 0.870; \n",
      "Epoch    67: reducing learning rate of group 0 to 1.9531e-07.\n",
      "2020-06-30 09:23:44 ep 67: lss_tr 0.217; lss_vl 0.218; scr_tr 0.856; scr_vl 0.867; \n",
      "2020-06-30 09:29:40 ep 68: lss_tr 0.217; lss_vl 0.219; scr_tr 0.856; scr_vl 0.867; \n",
      "2020-06-30 09:35:36 ep 69: lss_tr 0.219; lss_vl 0.217; scr_tr 0.852; scr_vl 0.875; \n",
      "better scr 0.873 -> 0.875\n",
      "2020-06-30 09:41:32 ep 70: lss_tr 0.218; lss_vl 0.219; scr_tr 0.854; scr_vl 0.865; \n",
      "2020-06-30 09:47:28 ep 71: lss_tr 0.218; lss_vl 0.217; scr_tr 0.853; scr_vl 0.871; \n",
      "2020-06-30 09:53:25 ep 72: lss_tr 0.218; lss_vl 0.217; scr_tr 0.854; scr_vl 0.872; \n",
      "2020-06-30 09:59:23 ep 73: lss_tr 0.218; lss_vl 0.218; scr_tr 0.855; scr_vl 0.870; \n",
      "2020-06-30 10:05:16 ep 74: lss_tr 0.218; lss_vl 0.219; scr_tr 0.855; scr_vl 0.868; \n",
      "2020-06-30 10:11:11 ep 75: lss_tr 0.217; lss_vl 0.218; scr_tr 0.857; scr_vl 0.866; \n",
      "Epoch    76: reducing learning rate of group 0 to 9.7656e-08.\n",
      "2020-06-30 10:17:04 ep 76: lss_tr 0.216; lss_vl 0.217; scr_tr 0.857; scr_vl 0.870; \n",
      "2020-06-30 10:23:01 ep 77: lss_tr 0.218; lss_vl 0.217; scr_tr 0.855; scr_vl 0.870; \n",
      "2020-06-30 10:28:53 ep 78: lss_tr 0.218; lss_vl 0.217; scr_tr 0.854; scr_vl 0.872; \n",
      "2020-06-30 10:34:46 ep 79: lss_tr 0.217; lss_vl 0.218; scr_tr 0.856; scr_vl 0.870; \n",
      "2020-06-30 10:40:40 ep 80: lss_tr 0.218; lss_vl 0.219; scr_tr 0.855; scr_vl 0.867; \n",
      "2020-06-30 10:46:32 ep 81: lss_tr 0.218; lss_vl 0.217; scr_tr 0.855; scr_vl 0.871; \n",
      "Epoch    82: reducing learning rate of group 0 to 4.8828e-08.\n",
      "2020-06-30 10:52:28 ep 82: lss_tr 0.217; lss_vl 0.220; scr_tr 0.855; scr_vl 0.867; \n",
      "2020-06-30 10:58:20 ep 83: lss_tr 0.219; lss_vl 0.218; scr_tr 0.852; scr_vl 0.868; \n",
      "2020-06-30 11:04:22 ep 84: lss_tr 0.217; lss_vl 0.217; scr_tr 0.858; scr_vl 0.870; \n",
      "2020-06-30 11:10:24 ep 85: lss_tr 0.218; lss_vl 0.220; scr_tr 0.855; scr_vl 0.865; \n",
      "2020-06-30 11:16:14 ep 86: lss_tr 0.218; lss_vl 0.218; scr_tr 0.854; scr_vl 0.870; \n",
      "2020-06-30 11:22:09 ep 87: lss_tr 0.217; lss_vl 0.218; scr_tr 0.856; scr_vl 0.870; \n",
      "Epoch    88: reducing learning rate of group 0 to 2.4414e-08.\n",
      "2020-06-30 11:28:02 ep 88: lss_tr 0.216; lss_vl 0.219; scr_tr 0.858; scr_vl 0.869; \n",
      "2020-06-30 11:33:56 ep 89: lss_tr 0.218; lss_vl 0.218; scr_tr 0.855; scr_vl 0.868; \n",
      "2020-06-30 11:39:47 ep 90: lss_tr 0.218; lss_vl 0.219; scr_tr 0.855; scr_vl 0.867; \n",
      "2020-06-30 11:45:41 ep 91: lss_tr 0.217; lss_vl 0.219; scr_tr 0.856; scr_vl 0.869; \n",
      "2020-06-30 11:51:33 ep 92: lss_tr 0.218; lss_vl 0.218; scr_tr 0.853; scr_vl 0.869; \n",
      "2020-06-30 11:57:25 ep 93: lss_tr 0.216; lss_vl 0.218; scr_tr 0.857; scr_vl 0.869; \n",
      "Epoch    94: reducing learning rate of group 0 to 1.2207e-08.\n",
      "2020-06-30 12:03:19 ep 94: lss_tr 0.218; lss_vl 0.217; scr_tr 0.856; scr_vl 0.870; \n",
      "2020-06-30 12:09:10 ep 95: lss_tr 0.218; lss_vl 0.218; scr_tr 0.854; scr_vl 0.868; \n",
      "2020-06-30 12:15:02 ep 96: lss_tr 0.217; lss_vl 0.218; scr_tr 0.856; scr_vl 0.870; \n",
      "2020-06-30 12:20:59 ep 97: lss_tr 0.217; lss_vl 0.217; scr_tr 0.857; scr_vl 0.869; \n",
      "2020-06-30 12:26:53 ep 98: lss_tr 0.218; lss_vl 0.217; scr_tr 0.854; scr_vl 0.871; \n",
      "2020-06-30 12:32:47 ep 99: lss_tr 0.218; lss_vl 0.218; scr_tr 0.855; scr_vl 0.870; \n"
     ]
    }
   ],
   "source": [
    "best_scr = float('-inf')\n",
    "best_epc = -1\n",
    "for epc in range(param.EPOCHS):\n",
    "    prdtr_ep=[]\n",
    "    ytr_ep=[]\n",
    "    for step, dat in enumerate(dltr):\n",
    "        mdl.train()\n",
    "        xb,yb=(o.to(device) for o in dat)\n",
    "        yb = yb.unsqueeze(1)\n",
    "        prdb = mdl(xb)\n",
    "        loss = F.binary_cross_entropy_with_logits(prdb, yb)\n",
    "        if param.FP16:\n",
    "            with amp.scale_loss(loss, opt) as scaled_loss:\n",
    "                scaled_loss.backward()\n",
    "        else:\n",
    "            loss.backward()\n",
    "        if param.FP16:\n",
    "            torch.nn.utils.clip_grad_norm_(amp.master_params(opt), 1)\n",
    "        else:\n",
    "            torch.nn.utils.clip_grad_norm_(mdl.parameters(), 1)\n",
    "        opt.step()\n",
    "        opt.zero_grad()\n",
    "        prdtr_ep.append(prdb.cpu().detach().numpy())\n",
    "        ytr_ep.append(yb.cpu().detach().numpy())\n",
    "        if step>0 and step%1000==0: print(dtnow(), f'ep {epc} step {step}/{lendl}')\n",
    "    \n",
    "    prdtr_ep = np.concatenate(prdtr_ep)\n",
    "    ytr_ep = np.concatenate(ytr_ep)    \n",
    "    lss_tr_ep = F.binary_cross_entropy_with_logits(torch.tensor(prdtr_ep),torch.tensor(ytr_ep)).item()\n",
    "    scr_tr_ep = roc_auc(ytr_ep, prdtr_ep)\n",
    "    stats['lss']['tr'].append(lss_tr_ep)\n",
    "    stats['scr']['tr'].append(scr_tr_ep)\n",
    "    \n",
    "    lss_vl_ep, scr_vl_ep, yvl_ep, prdvl_ep = evaluate(mdl, dlvl)\n",
    "    stats['lss']['vl'].append(lss_vl_ep)\n",
    "    stats['scr']['vl'].append(scr_vl_ep)\n",
    "    oof['y'].append(yvl_ep)\n",
    "    oof['prd'].append(prdvl_ep)\n",
    "    \n",
    "    print(dtnow(), f'ep {epc}: lss_tr {lss_tr_ep:.3f}; lss_vl {lss_vl_ep:.3f}; scr_tr {scr_tr_ep:.3f}; scr_vl {scr_vl_ep:.3f}; ')\n",
    "    \n",
    "    if scr_vl_ep>best_scr:\n",
    "        print(f'better scr {best_scr:.3f} -> {scr_vl_ep:.3f}')\n",
    "        best_scr = scr_vl_ep\n",
    "        best_epc = epc\n",
    "        torch.save(mdl.state_dict(), f'{p_out}/model_{param.PRFX}_fld_{param.FLD2USE}_best.p')\n",
    "    if not param.DEBUG: torch.save(mdl.state_dict(), f'{p_out}/model_{param.PRFX}_fld_{param.FLD2USE}_epc_{epc}.p')\n",
    "        \n",
    "    schdl.step(scr_vl_ep)  # Update learning rate schedule\n",
    "    save_results()    \n",
    "    "
   ]
  },
  {
   "cell_type": "markdown",
   "metadata": {},
   "source": [
    "## run done"
   ]
  },
  {
   "cell_type": "code",
   "execution_count": 15,
   "metadata": {
    "scrolled": true
   },
   "outputs": [
    {
     "name": "stdout",
     "output_type": "stream",
     "text": [
      "best_scr 0.8745\n"
     ]
    }
   ],
   "source": [
    "print(f'best_scr {best_scr:.4f}')"
   ]
  },
  {
   "cell_type": "code",
   "execution_count": 16,
   "metadata": {
    "scrolled": true
   },
   "outputs": [
    {
     "data": {
      "text/html": [
       "<div>\n",
       "<style scoped>\n",
       "    .dataframe tbody tr th:only-of-type {\n",
       "        vertical-align: middle;\n",
       "    }\n",
       "\n",
       "    .dataframe tbody tr th {\n",
       "        vertical-align: top;\n",
       "    }\n",
       "\n",
       "    .dataframe thead th {\n",
       "        text-align: right;\n",
       "    }\n",
       "</style>\n",
       "<table border=\"1\" class=\"dataframe\">\n",
       "  <thead>\n",
       "    <tr style=\"text-align: right;\">\n",
       "      <th></th>\n",
       "      <th>tr</th>\n",
       "      <th>vl</th>\n",
       "    </tr>\n",
       "  </thead>\n",
       "  <tbody>\n",
       "    <tr>\n",
       "      <th>0</th>\n",
       "      <td>0.219255</td>\n",
       "      <td>0.221083</td>\n",
       "    </tr>\n",
       "    <tr>\n",
       "      <th>1</th>\n",
       "      <td>0.219078</td>\n",
       "      <td>0.220101</td>\n",
       "    </tr>\n",
       "    <tr>\n",
       "      <th>2</th>\n",
       "      <td>0.218426</td>\n",
       "      <td>0.219218</td>\n",
       "    </tr>\n",
       "    <tr>\n",
       "      <th>3</th>\n",
       "      <td>0.218885</td>\n",
       "      <td>0.221827</td>\n",
       "    </tr>\n",
       "    <tr>\n",
       "      <th>4</th>\n",
       "      <td>0.219169</td>\n",
       "      <td>0.222066</td>\n",
       "    </tr>\n",
       "    <tr>\n",
       "      <th>...</th>\n",
       "      <td>...</td>\n",
       "      <td>...</td>\n",
       "    </tr>\n",
       "    <tr>\n",
       "      <th>95</th>\n",
       "      <td>0.218064</td>\n",
       "      <td>0.218355</td>\n",
       "    </tr>\n",
       "    <tr>\n",
       "      <th>96</th>\n",
       "      <td>0.217119</td>\n",
       "      <td>0.217521</td>\n",
       "    </tr>\n",
       "    <tr>\n",
       "      <th>97</th>\n",
       "      <td>0.216947</td>\n",
       "      <td>0.217348</td>\n",
       "    </tr>\n",
       "    <tr>\n",
       "      <th>98</th>\n",
       "      <td>0.217941</td>\n",
       "      <td>0.217495</td>\n",
       "    </tr>\n",
       "    <tr>\n",
       "      <th>99</th>\n",
       "      <td>0.217942</td>\n",
       "      <td>0.217825</td>\n",
       "    </tr>\n",
       "  </tbody>\n",
       "</table>\n",
       "<p>100 rows × 2 columns</p>\n",
       "</div>"
      ],
      "text/plain": [
       "          tr        vl\n",
       "0   0.219255  0.221083\n",
       "1   0.219078  0.220101\n",
       "2   0.218426  0.219218\n",
       "3   0.218885  0.221827\n",
       "4   0.219169  0.222066\n",
       "..       ...       ...\n",
       "95  0.218064  0.218355\n",
       "96  0.217119  0.217521\n",
       "97  0.216947  0.217348\n",
       "98  0.217941  0.217495\n",
       "99  0.217942  0.217825\n",
       "\n",
       "[100 rows x 2 columns]"
      ]
     },
     "execution_count": 16,
     "metadata": {},
     "output_type": "execute_result"
    }
   ],
   "source": [
    "pd.DataFrame(stats['lss'])"
   ]
  },
  {
   "cell_type": "code",
   "execution_count": 17,
   "metadata": {
    "scrolled": true
   },
   "outputs": [
    {
     "data": {
      "text/html": [
       "<div>\n",
       "<style scoped>\n",
       "    .dataframe tbody tr th:only-of-type {\n",
       "        vertical-align: middle;\n",
       "    }\n",
       "\n",
       "    .dataframe tbody tr th {\n",
       "        vertical-align: top;\n",
       "    }\n",
       "\n",
       "    .dataframe thead th {\n",
       "        text-align: right;\n",
       "    }\n",
       "</style>\n",
       "<table border=\"1\" class=\"dataframe\">\n",
       "  <thead>\n",
       "    <tr style=\"text-align: right;\">\n",
       "      <th></th>\n",
       "      <th>tr</th>\n",
       "      <th>vl</th>\n",
       "    </tr>\n",
       "  </thead>\n",
       "  <tbody>\n",
       "    <tr>\n",
       "      <th>0</th>\n",
       "      <td>0.853191</td>\n",
       "      <td>0.865693</td>\n",
       "    </tr>\n",
       "    <tr>\n",
       "      <th>1</th>\n",
       "      <td>0.852978</td>\n",
       "      <td>0.866682</td>\n",
       "    </tr>\n",
       "    <tr>\n",
       "      <th>2</th>\n",
       "      <td>0.854588</td>\n",
       "      <td>0.866397</td>\n",
       "    </tr>\n",
       "    <tr>\n",
       "      <th>3</th>\n",
       "      <td>0.852994</td>\n",
       "      <td>0.866724</td>\n",
       "    </tr>\n",
       "    <tr>\n",
       "      <th>4</th>\n",
       "      <td>0.852478</td>\n",
       "      <td>0.861422</td>\n",
       "    </tr>\n",
       "    <tr>\n",
       "      <th>...</th>\n",
       "      <td>...</td>\n",
       "      <td>...</td>\n",
       "    </tr>\n",
       "    <tr>\n",
       "      <th>95</th>\n",
       "      <td>0.854383</td>\n",
       "      <td>0.868302</td>\n",
       "    </tr>\n",
       "    <tr>\n",
       "      <th>96</th>\n",
       "      <td>0.856442</td>\n",
       "      <td>0.870220</td>\n",
       "    </tr>\n",
       "    <tr>\n",
       "      <th>97</th>\n",
       "      <td>0.856767</td>\n",
       "      <td>0.869244</td>\n",
       "    </tr>\n",
       "    <tr>\n",
       "      <th>98</th>\n",
       "      <td>0.854192</td>\n",
       "      <td>0.871246</td>\n",
       "    </tr>\n",
       "    <tr>\n",
       "      <th>99</th>\n",
       "      <td>0.854726</td>\n",
       "      <td>0.869811</td>\n",
       "    </tr>\n",
       "  </tbody>\n",
       "</table>\n",
       "<p>100 rows × 2 columns</p>\n",
       "</div>"
      ],
      "text/plain": [
       "          tr        vl\n",
       "0   0.853191  0.865693\n",
       "1   0.852978  0.866682\n",
       "2   0.854588  0.866397\n",
       "3   0.852994  0.866724\n",
       "4   0.852478  0.861422\n",
       "..       ...       ...\n",
       "95  0.854383  0.868302\n",
       "96  0.856442  0.870220\n",
       "97  0.856767  0.869244\n",
       "98  0.854192  0.871246\n",
       "99  0.854726  0.869811\n",
       "\n",
       "[100 rows x 2 columns]"
      ]
     },
     "execution_count": 17,
     "metadata": {},
     "output_type": "execute_result"
    }
   ],
   "source": [
    "pd.DataFrame(stats['scr'])"
   ]
  },
  {
   "cell_type": "code",
   "execution_count": 18,
   "metadata": {},
   "outputs": [
    {
     "data": {
      "image/png": "[encoded data removed]",
      "text/plain": [
       "<Figure size 432x288 with 1 Axes>"
      ]
     },
     "metadata": {
      "needs_background": "light"
     },
     "output_type": "display_data"
    },
    {
     "data": {
      "image/png": "[encoded data removed]",
      "text/plain": [
       "<Figure size 432x288 with 1 Axes>"
      ]
     },
     "metadata": {
      "needs_background": "light"
     },
     "output_type": "display_data"
    }
   ],
   "source": [
    "for mtrc in ['lss', 'scr']:\n",
    "    recs=stats[mtrc]\n",
    "    for tv,vs in recs.items():\n",
    "        plt.title(f'{mtrc} {tv}')\n",
    "        plt.plot(vs, 'o--')\n",
    "    plt.show()"
   ]
  },
  {
   "cell_type": "markdown",
   "metadata": {},
   "source": [
    "# inference"
   ]
  },
  {
   "cell_type": "code",
   "execution_count": 19,
   "metadata": {},
   "outputs": [
    {
     "data": {
      "text/html": [
       "<div>\n",
       "<style scoped>\n",
       "    .dataframe tbody tr th:only-of-type {\n",
       "        vertical-align: middle;\n",
       "    }\n",
       "\n",
       "    .dataframe tbody tr th {\n",
       "        vertical-align: top;\n",
       "    }\n",
       "\n",
       "    .dataframe thead th {\n",
       "        text-align: right;\n",
       "    }\n",
       "</style>\n",
       "<table border=\"1\" class=\"dataframe\">\n",
       "  <thead>\n",
       "    <tr style=\"text-align: right;\">\n",
       "      <th></th>\n",
       "      <th>image_name</th>\n",
       "      <th>patient_id</th>\n",
       "      <th>sex</th>\n",
       "      <th>age_approx</th>\n",
       "      <th>anatom_site_general_challenge</th>\n",
       "      <th>im_pth</th>\n",
       "    </tr>\n",
       "  </thead>\n",
       "  <tbody>\n",
       "    <tr>\n",
       "      <th>0</th>\n",
       "      <td>ISIC_0052060</td>\n",
       "      <td>IP_3579794</td>\n",
       "      <td>male</td>\n",
       "      <td>70.0</td>\n",
       "      <td>NaN</td>\n",
       "      <td>../output/MelPrp0629A1/siim-isic-melanoma-clas...</td>\n",
       "    </tr>\n",
       "    <tr>\n",
       "      <th>1</th>\n",
       "      <td>ISIC_0052349</td>\n",
       "      <td>IP_7782715</td>\n",
       "      <td>male</td>\n",
       "      <td>40.0</td>\n",
       "      <td>lower extremity</td>\n",
       "      <td>../output/MelPrp0629A1/siim-isic-melanoma-clas...</td>\n",
       "    </tr>\n",
       "    <tr>\n",
       "      <th>2</th>\n",
       "      <td>ISIC_0058510</td>\n",
       "      <td>IP_7960270</td>\n",
       "      <td>female</td>\n",
       "      <td>55.0</td>\n",
       "      <td>torso</td>\n",
       "      <td>../output/MelPrp0629A1/siim-isic-melanoma-clas...</td>\n",
       "    </tr>\n",
       "  </tbody>\n",
       "</table>\n",
       "</div>"
      ],
      "text/plain": [
       "     image_name  patient_id     sex  age_approx anatom_site_general_challenge  \\\n",
       "0  ISIC_0052060  IP_3579794    male        70.0                           NaN   \n",
       "1  ISIC_0052349  IP_7782715    male        40.0               lower extremity   \n",
       "2  ISIC_0058510  IP_7960270  female        55.0                         torso   \n",
       "\n",
       "                                              im_pth  \n",
       "0  ../output/MelPrp0629A1/siim-isic-melanoma-clas...  \n",
       "1  ../output/MelPrp0629A1/siim-isic-melanoma-clas...  \n",
       "2  ../output/MelPrp0629A1/siim-isic-melanoma-clas...  "
      ]
     },
     "metadata": {},
     "output_type": "display_data"
    },
    {
     "name": "stdout",
     "output_type": "stream",
     "text": [
      "10982\n",
      "43\n"
     ]
    }
   ],
   "source": [
    "dftst = pd.read_csv(f'{p_prp}/test.csv', nrows=128 if param.DEBUG else None) \n",
    "display(dftst.head(3))\n",
    "\n",
    "dfsub = pd.read_csv(f'{p_cmp}/sample_submission.csv', nrows=128 if param.DEBUG else None) \n",
    "\n",
    "dstst = MelDataset(dftst, istrn=False)\n",
    "print(len(dstst))\n",
    "dltst = DataLoader(dstst, batch_size=param.BS*2, shuffle=False, num_workers=N_WORKERS, pin_memory=PIN_MEM)\n",
    "print(len(dltst))\n",
    "lendl=len(dltst)"
   ]
  },
  {
   "cell_type": "code",
   "execution_count": 20,
   "metadata": {},
   "outputs": [
    {
     "name": "stdout",
     "output_type": "stream",
     "text": [
      "Loaded pretrained weights for efficientnet-b1\n",
      "load model ../output/Mel0629B1/model_Mel0629B1_fld_0_best.p\n"
     ]
    }
   ],
   "source": [
    "mdl = mkmdl()\n",
    "fnm_mdl = f'{p_out}/model_{param.PRFX}_fld_{param.FLD2USE}_best.p'\n",
    "print('load model', fnm_mdl)\n",
    "mdl.load_state_dict(torch.load(fnm_mdl, map_location=torch.device(DEVICE)))\n",
    "\n",
    "mdl = mdl.to(device)"
   ]
  },
  {
   "cell_type": "code",
   "execution_count": 21,
   "metadata": {},
   "outputs": [],
   "source": [
    "def infer(model, dl):\n",
    "    lendl=len(dl)\n",
    "    model.eval()\n",
    "    prd = []\n",
    "    for step, dat in enumerate(dl):\n",
    "        if step%1000==0: print(dtnow(), f'step {step}/{lendl}')\n",
    "        xb=dat[0].to(device)\n",
    "        with torch.no_grad(): prdb = model(xb)\n",
    "        prd.append(prdb.cpu().detach().numpy())\n",
    "    prd = np.concatenate(prd)    \n",
    "    return prd"
   ]
  },
  {
   "cell_type": "code",
   "execution_count": 22,
   "metadata": {},
   "outputs": [
    {
     "name": "stdout",
     "output_type": "stream",
     "text": [
      "2020-06-30 12:32:56 step 0/43\n"
     ]
    }
   ],
   "source": [
    "prdtst = infer(mdl, dltst)"
   ]
  },
  {
   "cell_type": "code",
   "execution_count": 23,
   "metadata": {},
   "outputs": [
    {
     "name": "stdout",
     "output_type": "stream",
     "text": [
      "0.037269506603479385\n"
     ]
    },
    {
     "data": {
      "text/html": [
       "<div>\n",
       "<style scoped>\n",
       "    .dataframe tbody tr th:only-of-type {\n",
       "        vertical-align: middle;\n",
       "    }\n",
       "\n",
       "    .dataframe tbody tr th {\n",
       "        vertical-align: top;\n",
       "    }\n",
       "\n",
       "    .dataframe thead th {\n",
       "        text-align: right;\n",
       "    }\n",
       "</style>\n",
       "<table border=\"1\" class=\"dataframe\">\n",
       "  <thead>\n",
       "    <tr style=\"text-align: right;\">\n",
       "      <th></th>\n",
       "      <th>image_name</th>\n",
       "      <th>target</th>\n",
       "    </tr>\n",
       "  </thead>\n",
       "  <tbody>\n",
       "    <tr>\n",
       "      <th>0</th>\n",
       "      <td>ISIC_0052060</td>\n",
       "      <td>0.002463</td>\n",
       "    </tr>\n",
       "    <tr>\n",
       "      <th>1</th>\n",
       "      <td>ISIC_0052349</td>\n",
       "      <td>0.010777</td>\n",
       "    </tr>\n",
       "    <tr>\n",
       "      <th>2</th>\n",
       "      <td>ISIC_0058510</td>\n",
       "      <td>0.015724</td>\n",
       "    </tr>\n",
       "    <tr>\n",
       "      <th>3</th>\n",
       "      <td>ISIC_0073313</td>\n",
       "      <td>0.007317</td>\n",
       "    </tr>\n",
       "    <tr>\n",
       "      <th>4</th>\n",
       "      <td>ISIC_0073502</td>\n",
       "      <td>0.057282</td>\n",
       "    </tr>\n",
       "  </tbody>\n",
       "</table>\n",
       "</div>"
      ],
      "text/plain": [
       "     image_name    target\n",
       "0  ISIC_0052060  0.002463\n",
       "1  ISIC_0052349  0.010777\n",
       "2  ISIC_0058510  0.015724\n",
       "3  ISIC_0073313  0.007317\n",
       "4  ISIC_0073502  0.057282"
      ]
     },
     "execution_count": 23,
     "metadata": {},
     "output_type": "execute_result"
    }
   ],
   "source": [
    "dfsub.target = sigmoid(prdtst)\n",
    "print(dfsub.target.mean())\n",
    "dfsub.head()"
   ]
  },
  {
   "cell_type": "code",
   "execution_count": 24,
   "metadata": {},
   "outputs": [
    {
     "data": {
      "image/png": "[encoded data removed]",
      "text/plain": [
       "<Figure size 432x288 with 1 Axes>"
      ]
     },
     "metadata": {
      "needs_background": "light"
     },
     "output_type": "display_data"
    }
   ],
   "source": [
    "plt.hist(dfsub.target, bins=50);"
   ]
  },
  {
   "cell_type": "code",
   "execution_count": null,
   "metadata": {},
   "outputs": [],
   "source": []
  },
  {
   "cell_type": "code",
   "execution_count": 25,
   "metadata": {},
   "outputs": [],
   "source": [
    "dfsub.to_csv(f'{p_out}/submission_{param.PRFX}.csv', index=False)"
   ]
  },
  {
   "cell_type": "code",
   "execution_count": null,
   "metadata": {},
   "outputs": [],
   "source": []
  },
  {
   "cell_type": "markdown",
   "metadata": {},
   "source": [
    "# fin"
   ]
  },
  {
   "cell_type": "code",
   "execution_count": 26,
   "metadata": {},
   "outputs": [
    {
     "name": "stdout",
     "output_type": "stream",
     "text": [
      "best_scr 0.8745\n"
     ]
    }
   ],
   "source": [
    "print(f'best_scr {best_scr:.4f}')"
   ]
  },
  {
   "cell_type": "code",
   "execution_count": 27,
   "metadata": {},
   "outputs": [
    {
     "data": {
      "text/plain": [
       "{'PRFX': 'Mel0629B1',\n",
       " 'PRFX_B4': 'Mel0629A1',\n",
       " 'FLD2USE_B4': 0,\n",
       " 'PRFX_PREP': 'MelPrp0629A1',\n",
       " 'ARCH': 'efficientnet-b1',\n",
       " 'SZ': 256,\n",
       " 'EPOCHS': 100,\n",
       " 'BS': 128,\n",
       " 'K': 5,\n",
       " 'SEED': 101,\n",
       " 'FLD2USE': 0,\n",
       " 'FP16': True,\n",
       " 'PLTFACTOR': 0.5,\n",
       " 'PATIENCE': 5,\n",
       " 'MIN_LR': 1e-08,\n",
       " 'LR': 0.0001,\n",
       " 'WD': 0.001,\n",
       " 'N_SAMPL': None,\n",
       " 'DEBUG': False}"
      ]
     },
     "execution_count": 27,
     "metadata": {},
     "output_type": "execute_result"
    }
   ],
   "source": [
    "param.__dict__"
   ]
  },
  {
   "cell_type": "code",
   "execution_count": 28,
   "metadata": {},
   "outputs": [
    {
     "name": "stdout",
     "output_type": "stream",
     "text": [
      "Tue Jun 30 12:33:54 2020       \r\n",
      "+-----------------------------------------------------------------------------+\r\n",
      "| NVIDIA-SMI 440.100      Driver Version: 440.100      CUDA Version: 10.2     |\r\n",
      "|-------------------------------+----------------------+----------------------+\r\n",
      "| GPU  Name        Persistence-M| Bus-Id        Disp.A | Volatile Uncorr. ECC |\r\n",
      "| Fan  Temp  Perf  Pwr:Usage/Cap|         Memory-Usage | GPU-Util  Compute M. |\r\n",
      "|===============================+======================+======================|\r\n",
      "|   0  Tesla V100-SXM2...  Off  | 00000000:00:1E.0 Off |                    0 |\r\n",
      "| N/A   53C    P0    59W / 300W |  14314MiB / 16160MiB |      0%      Default |\r\n",
      "+-------------------------------+----------------------+----------------------+\r\n",
      "                                                                               \r\n",
      "+-----------------------------------------------------------------------------+\r\n",
      "| Processes:                                                       GPU Memory |\r\n",
      "|  GPU       PID   Type   Process name                             Usage      |\r\n",
      "|=============================================================================|\r\n",
      "|    0     23177      C   /data/anaconda3/envs/mel/bin/python        14299MiB |\r\n",
      "+-----------------------------------------------------------------------------+\r\n"
     ]
    }
   ],
   "source": [
    "!nvidia-smi"
   ]
  },
  {
   "cell_type": "code",
   "execution_count": null,
   "metadata": {},
   "outputs": [],
   "source": []
  },
  {
   "cell_type": "code",
   "execution_count": null,
   "metadata": {},
   "outputs": [],
   "source": []
  },
  {
   "cell_type": "code",
   "execution_count": null,
   "metadata": {},
   "outputs": [],
   "source": []
  }
 ],
 "metadata": {
  "kernelspec": {
   "display_name": "mel",
   "language": "python",
   "name": "mel"
  },
  "language_info": {
   "codemirror_mode": {
    "name": "ipython",
    "version": 3
   },
   "file_extension": ".py",
   "mimetype": "text/x-python",
   "name": "python",
   "nbconvert_exporter": "python",
   "pygments_lexer": "ipython3",
   "version": "3.7.7"
  },
  "toc": {
   "base_numbering": 1,
   "nav_menu": {},
   "number_sections": true,
   "sideBar": true,
   "skip_h1_title": false,
   "title_cell": "Table of Contents",
   "title_sidebar": "Contents",
   "toc_cell": false,
   "toc_position": {},
   "toc_section_display": true,
   "toc_window_display": true
  }
 },
 "nbformat": 4,
 "nbformat_minor": 4
}
