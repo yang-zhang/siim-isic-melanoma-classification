{
 "cells": [
  {
   "cell_type": "markdown",
   "metadata": {},
   "source": [
    "# start"
   ]
  },
  {
   "cell_type": "code",
   "execution_count": 1,
   "metadata": {},
   "outputs": [
    {
     "data": {
      "text/plain": [
       "{'PRFX': 'Mel0729D1',\n",
       " 'F_PSD': None,\n",
       " 'PRFX_B4': None,\n",
       " 'ARCH': 'efficientnet-b2',\n",
       " 'SZ': 384,\n",
       " 'PRFX_PREP': 'MelPrp0909B384',\n",
       " 'LASTM': 3,\n",
       " 'BS': 32,\n",
       " 'SEED': 101,\n",
       " 'EPOCHS': 10,\n",
       " 'K': 4,\n",
       " 'FLDS2USE': range(0, 4),\n",
       " 'FP16': True,\n",
       " 'RandomResizedCrop_scale': (0.75, 1.0),\n",
       " 'LR': 0.001,\n",
       " 'WD': 0,\n",
       " 'N_SAMPL': None,\n",
       " 'DEBUG': False}"
      ]
     },
     "execution_count": 1,
     "metadata": {},
     "output_type": "execute_result"
    }
   ],
   "source": [
    "#########################\n",
    "PRFX = 'MelInf0729D1tta16'#\n",
    "PRFX_B4 = 'Mel0729D1'\n",
    "N_TTA = 16\n",
    "#########################\n",
    "\n",
    "p_b4 = f'../output/{PRFX_B4}'\n",
    "\n",
    "BS = 8\n",
    "\n",
    "class Param: pass\n",
    "import pickle\n",
    "res_b4 = pickle.load(open(f'{p_b4}/results_{PRFX_B4}.p', 'rb'))\n",
    "param = res_b4['param']\n",
    "param.__dict__"
   ]
  },
  {
   "cell_type": "code",
   "execution_count": 2,
   "metadata": {},
   "outputs": [],
   "source": [
    "DEVICE = 'cuda'; \n",
    "PIN_MEM = (DEVICE=='cuda'); N_WORKERS=4"
   ]
  },
  {
   "cell_type": "code",
   "execution_count": 3,
   "metadata": {
    "scrolled": true
   },
   "outputs": [
    {
     "name": "stdout",
     "output_type": "stream",
     "text": [
      "Sun Aug  2 03:10:19 2020       \r\n",
      "+-----------------------------------------------------------------------------+\r\n",
      "| NVIDIA-SMI 440.100      Driver Version: 440.100      CUDA Version: 10.2     |\r\n",
      "|-------------------------------+----------------------+----------------------+\r\n",
      "| GPU  Name        Persistence-M| Bus-Id        Disp.A | Volatile Uncorr. ECC |\r\n",
      "| Fan  Temp  Perf  Pwr:Usage/Cap|         Memory-Usage | GPU-Util  Compute M. |\r\n",
      "|===============================+======================+======================|\r\n",
      "|   0  Tesla V100-SXM2...  Off  | 00000000:00:1E.0 Off |                    0 |\r\n",
      "| N/A   65C    P0    62W / 300W |  13774MiB / 16160MiB |     17%      Default |\r\n",
      "+-------------------------------+----------------------+----------------------+\r\n",
      "                                                                               \r\n",
      "+-----------------------------------------------------------------------------+\r\n",
      "| Processes:                                                       GPU Memory |\r\n",
      "|  GPU       PID   Type   Process name                             Usage      |\r\n",
      "|=============================================================================|\r\n",
      "|    0     15539      C   /data/anaconda3/envs/mel/bin/python        13763MiB |\r\n",
      "+-----------------------------------------------------------------------------+\r\n"
     ]
    }
   ],
   "source": [
    "!nvidia-smi"
   ]
  },
  {
   "cell_type": "markdown",
   "metadata": {},
   "source": [
    "# setup"
   ]
  },
  {
   "cell_type": "code",
   "execution_count": 4,
   "metadata": {},
   "outputs": [],
   "source": [
    "from pathlib import Path\n",
    "import pickle\n",
    "import pandas as pd\n",
    "import numpy as np\n",
    "import random\n",
    "import os, sys, gc\n",
    "import datetime\n",
    "from collections import defaultdict, Counter\n",
    "import matplotlib.pyplot as plt\n",
    "from PIL import Image\n",
    "from tqdm import tqdm\n",
    "from sklearn.model_selection import GroupKFold\n",
    "from sklearn.metrics import roc_auc_score as roc_auc\n",
    "\n",
    "# https://github.com/eriklindernoren/PyTorch-YOLOv3/issues/162#issuecomment-491115265\n",
    "from PIL import ImageFile; ImageFile.LOAD_TRUNCATED_IMAGES = True\n",
    "\n",
    "def dtnow(): return datetime.datetime.now().strftime('%Y-%m-%d %H:%M:%S')\n",
    "\n",
    "import torch\n",
    "device=torch.device(DEVICE)\n",
    "import torch.nn as nn\n",
    "import torch.nn.functional as F\n",
    "from torch.utils.data import Dataset, DataLoader\n",
    "import torchvision.transforms as transforms\n",
    "import torch.optim as optim\n",
    "from torch.optim import lr_scheduler\n",
    "\n",
    "# import pretrainedmodels\n",
    "from efficientnet_pytorch import EfficientNet\n",
    "# import geffnet\n",
    "import cv2\n",
    "import albumentations as A\n",
    "from albumentations import pytorch as AT\n",
    "\n",
    "from apex import amp\n",
    "\n",
    "import warnings; warnings.filterwarnings(\"ignore\")\n",
    "\n",
    "\n",
    "def sigmoid(x): return 1 / (1 + np.exp(-x))\n",
    "\n",
    "def set_seed(seed):\n",
    "    random.seed(seed)\n",
    "    os.environ['PYTHONHASHSEED'] = str(seed)\n",
    "    np.random.seed(seed)\n",
    "    torch.manual_seed(seed)\n",
    "    torch.cuda.manual_seed(seed)\n",
    "    torch.backends.cudnn.deterministic = True\n",
    "set_seed(param.SEED)\n",
    "\n",
    "\n",
    "\n",
    "p_out = f'../output/{PRFX}'; Path(p_out).mkdir(exist_ok=True,parents=True)\n",
    "p_cmp = '../input/siim-isic-melanoma-classification'"
   ]
  },
  {
   "cell_type": "markdown",
   "metadata": {},
   "source": [
    "# prep"
   ]
  },
  {
   "cell_type": "code",
   "execution_count": 5,
   "metadata": {
    "scrolled": false
   },
   "outputs": [
    {
     "name": "stdout",
     "output_type": "stream",
     "text": [
      "(58032, 4)\n"
     ]
    },
    {
     "data": {
      "text/html": [
       "<div>\n",
       "<style scoped>\n",
       "    .dataframe tbody tr th:only-of-type {\n",
       "        vertical-align: middle;\n",
       "    }\n",
       "\n",
       "    .dataframe tbody tr th {\n",
       "        vertical-align: top;\n",
       "    }\n",
       "\n",
       "    .dataframe thead th {\n",
       "        text-align: right;\n",
       "    }\n",
       "</style>\n",
       "<table border=\"1\" class=\"dataframe\">\n",
       "  <thead>\n",
       "    <tr style=\"text-align: right;\">\n",
       "      <th></th>\n",
       "      <th>source</th>\n",
       "      <th>im_pth</th>\n",
       "      <th>patient_id</th>\n",
       "      <th>target</th>\n",
       "    </tr>\n",
       "  </thead>\n",
       "  <tbody>\n",
       "    <tr>\n",
       "      <th>0</th>\n",
       "      <td>20</td>\n",
       "      <td>../output/MelPrp0909B384/siim-isic-melanoma-cl...</td>\n",
       "      <td>IP_7279968</td>\n",
       "      <td>0.0</td>\n",
       "    </tr>\n",
       "    <tr>\n",
       "      <th>1</th>\n",
       "      <td>20</td>\n",
       "      <td>../output/MelPrp0909B384/siim-isic-melanoma-cl...</td>\n",
       "      <td>IP_3075186</td>\n",
       "      <td>0.0</td>\n",
       "    </tr>\n",
       "  </tbody>\n",
       "</table>\n",
       "</div>"
      ],
      "text/plain": [
       "   source                                             im_pth  patient_id  \\\n",
       "0      20  ../output/MelPrp0909B384/siim-isic-melanoma-cl...  IP_7279968   \n",
       "1      20  ../output/MelPrp0909B384/siim-isic-melanoma-cl...  IP_3075186   \n",
       "\n",
       "   target  \n",
       "0     0.0  \n",
       "1     0.0  "
      ]
     },
     "metadata": {},
     "output_type": "display_data"
    },
    {
     "data": {
      "text/plain": [
       "(58032, 4)"
      ]
     },
     "metadata": {},
     "output_type": "display_data"
    },
    {
     "data": {
      "text/plain": [
       "20    32701\n",
       "19    25331\n",
       "Name: source, dtype: int64"
      ]
     },
     "metadata": {},
     "output_type": "display_data"
    },
    {
     "data": {
      "text/plain": [
       "source\n",
       "19    0.178516\n",
       "20    0.017767\n",
       "Name: target, dtype: float64"
      ]
     },
     "metadata": {},
     "output_type": "display_data"
    }
   ],
   "source": [
    "p_prp = f'../output/{param.PRFX_PREP}'\n",
    "dftrn = pd.read_csv(f'{p_prp}/train_all_dedup.csv') \n",
    "print(dftrn.shape)\n",
    "\n",
    "if param.N_SAMPL is not None: dftrn = dftrn.sample(param.N_SAMPL)\n",
    "    \n",
    "display(dftrn.head(2))\n",
    "display(dftrn.shape)\n",
    "display(dftrn.source.value_counts())\n",
    "display(dftrn.groupby('source').target.mean())"
   ]
  },
  {
   "cell_type": "markdown",
   "metadata": {},
   "source": [
    "## folds"
   ]
  },
  {
   "cell_type": "code",
   "execution_count": 6,
   "metadata": {
    "scrolled": true
   },
   "outputs": [
    {
     "name": "stdout",
     "output_type": "stream",
     "text": [
      "2084\n"
     ]
    }
   ],
   "source": [
    "idx_nopid=np.where(dftrn.patient_id.isna())[0]\n",
    "print(len(idx_nopid))\n",
    "dftrn['patient_id'].iloc[idx_nopid]=[f'Nan_{i}' for i in range(len(idx_nopid))]\n",
    "assert dftrn.patient_id.isna().mean()==0"
   ]
  },
  {
   "cell_type": "code",
   "execution_count": 7,
   "metadata": {},
   "outputs": [
    {
     "name": "stdout",
     "output_type": "stream",
     "text": [
      "0 43524 14508\n",
      "1 43524 14508\n",
      "2 43524 14508\n",
      "3 43524 14508\n"
     ]
    },
    {
     "data": {
      "text/plain": [
       "0.0    0.910739\n",
       "1.0    0.089261\n",
       "Name: target, dtype: float64"
      ]
     },
     "metadata": {},
     "output_type": "display_data"
    },
    {
     "data": {
      "text/plain": [
       "0.0    0.911704\n",
       "1.0    0.088296\n",
       "Name: target, dtype: float64"
      ]
     },
     "metadata": {},
     "output_type": "display_data"
    },
    {
     "data": {
      "text/plain": [
       "0.0    0.911221\n",
       "1.0    0.088779\n",
       "Name: target, dtype: float64"
      ]
     },
     "metadata": {},
     "output_type": "display_data"
    },
    {
     "data": {
      "text/plain": [
       "0.0    0.914599\n",
       "1.0    0.085401\n",
       "Name: target, dtype: float64"
      ]
     },
     "metadata": {},
     "output_type": "display_data"
    },
    {
     "data": {
      "text/plain": [
       "20    24544\n",
       "19    18980\n",
       "Name: source, dtype: int64"
      ]
     },
     "metadata": {},
     "output_type": "display_data"
    },
    {
     "data": {
      "text/plain": [
       "20    24521\n",
       "19    19003\n",
       "Name: source, dtype: int64"
      ]
     },
     "metadata": {},
     "output_type": "display_data"
    },
    {
     "data": {
      "text/plain": [
       "20    24435\n",
       "19    19089\n",
       "Name: source, dtype: int64"
      ]
     },
     "metadata": {},
     "output_type": "display_data"
    },
    {
     "data": {
      "text/plain": [
       "20    24603\n",
       "19    18921\n",
       "Name: source, dtype: int64"
      ]
     },
     "metadata": {},
     "output_type": "display_data"
    }
   ],
   "source": [
    "set_seed(param.SEED)\n",
    "kf = GroupKFold(n_splits=param.K)\n",
    "fld2trvl=list(kf.split(dftrn, groups=dftrn.patient_id))\n",
    "\n",
    "for fld, (tr, vl) in enumerate(fld2trvl):\n",
    "    print(fld, len(tr), len(vl))\n",
    "    dftr=dftrn.iloc[tr]\n",
    "    dfvl=dftrn.iloc[vl]\n",
    "    assert set(dftr.patient_id)&set(dfvl.patient_id)==set()\n",
    "for fld, (tr, vl) in enumerate(fld2trvl):\n",
    "    dftr=dftrn.iloc[tr]\n",
    "    display(dftr.target.value_counts()/len(tr))\n",
    "for fld, (tr, vl) in enumerate(fld2trvl):\n",
    "    dftr=dftrn.iloc[tr]\n",
    "    display(dftr.source.value_counts())"
   ]
  },
  {
   "cell_type": "code",
   "execution_count": 8,
   "metadata": {},
   "outputs": [
    {
     "data": {
      "text/plain": [
       "20    32701\n",
       "19    25331\n",
       "Name: source, dtype: int64"
      ]
     },
     "metadata": {},
     "output_type": "display_data"
    },
    {
     "data": {
      "text/plain": [
       "32701"
      ]
     },
     "execution_count": 8,
     "metadata": {},
     "output_type": "execute_result"
    }
   ],
   "source": [
    "display(dftrn.source.value_counts())\n",
    "idx20 = np.where(dftrn.source==20)[0]\n",
    "len(idx20)"
   ]
  },
  {
   "cell_type": "code",
   "execution_count": 9,
   "metadata": {
    "scrolled": true
   },
   "outputs": [
    {
     "name": "stdout",
     "output_type": "stream",
     "text": [
      "14508 8157\n",
      "14508 8180\n",
      "14508 8266\n",
      "14508 8098\n"
     ]
    }
   ],
   "source": [
    "fld2vl20 = []\n",
    "for tr, vl in fld2trvl:\n",
    "    vl20 = np.array([o for o in vl if o in idx20])\n",
    "    print(len(vl), len(vl20))\n",
    "    fld2vl20.append(vl20)"
   ]
  },
  {
   "cell_type": "markdown",
   "metadata": {},
   "source": [
    "# dataset"
   ]
  },
  {
   "cell_type": "code",
   "execution_count": 10,
   "metadata": {},
   "outputs": [],
   "source": [
    "class MelDataset(Dataset):\n",
    "    def __init__(self, df, mode='trn'):\n",
    "        self.df = df\n",
    "        self.mode = mode\n",
    "        if self.mode == 'no_tta':\n",
    "            self.composed = A.Compose([\n",
    "                A.Resize(param.SZ,param.SZ),\n",
    "                A.Normalize(), \n",
    "                AT.ToTensor(),\n",
    "            ]) \n",
    "        else:\n",
    "            self.composed = A.Compose([\n",
    "                A.RandomResizedCrop(param.SZ,param.SZ, scale=param.RandomResizedCrop_scale),\n",
    "                A.Transpose(),\n",
    "                A.Flip(),\n",
    "                A.Rotate(360),\n",
    "                A.OneOf([A.RandomBrightnessContrast(), A.CLAHE(),]),\n",
    "                A.HueSaturationValue(hue_shift_limit=3, sat_shift_limit=3),\n",
    "                A.OneOf([A.Blur(blur_limit=2), A.IAASharpen()]),\n",
    "                A.Normalize(), \n",
    "                AT.ToTensor(),\n",
    "            ])    \n",
    "    def __getitem__(self, i):\n",
    "        x = cv2.imread(self.df.im_pth.values[i]) \n",
    "        x = cv2.cvtColor(x, cv2.COLOR_BGR2RGB)\n",
    "        x = self.composed(image=x)['image']\n",
    "        if self.mode !='tst':\n",
    "            y = self.df.target.values[i]\n",
    "            return x, y\n",
    "        else:\n",
    "            return (x,)\n",
    "    \n",
    "    def __len__(self):\n",
    "        return len(self.df)    "
   ]
  },
  {
   "cell_type": "code",
   "execution_count": 11,
   "metadata": {},
   "outputs": [],
   "source": [
    "if param.DEBUG: \n",
    "    dstrn = MelDataset(dftrn, mode='trn')\n",
    "    i = np.random.choice(len(dstrn))\n",
    "    print(dstrn[i][0].shape)"
   ]
  },
  {
   "cell_type": "code",
   "execution_count": 12,
   "metadata": {},
   "outputs": [],
   "source": [
    "# better comment out A.Normalize() when showing \n",
    "if param.DEBUG:\n",
    "    plt.imshow(dstrn[i][0].permute(1, 2, 0))"
   ]
  },
  {
   "cell_type": "markdown",
   "metadata": {},
   "source": [
    "# model"
   ]
  },
  {
   "cell_type": "code",
   "execution_count": 13,
   "metadata": {},
   "outputs": [],
   "source": [
    "def mkmdl():  \n",
    "    mdl = EfficientNet.from_pretrained(param.ARCH, num_classes=1)\n",
    "    return mdl"
   ]
  },
  {
   "cell_type": "markdown",
   "metadata": {},
   "source": [
    "# train"
   ]
  },
  {
   "cell_type": "markdown",
   "metadata": {},
   "source": [
    "## TTA"
   ]
  },
  {
   "cell_type": "raw",
   "metadata": {},
   "source": [
    "def evaluate(model, dl):\n",
    "    model.eval()\n",
    "    prd=[]\n",
    "    y=[]\n",
    "    for step, dat in enumerate(dl):\n",
    "        xb, yb = (o.to(device) for o in dat)\n",
    "        with torch.no_grad(): prdb = model(xb)\n",
    "        prd.append(prdb.cpu().detach().numpy())\n",
    "        y.append(yb.cpu().detach().numpy())\n",
    "    prd = np.concatenate(prd)    \n",
    "    y = np.concatenate(y)    \n",
    "    lss = F.binary_cross_entropy_with_logits(torch.tensor(prd),torch.tensor(y).unsqueeze(1)).item()\n",
    "    scr = roc_auc(y, prd)\n",
    "    return lss, scr, y, prd"
   ]
  },
  {
   "cell_type": "raw",
   "metadata": {},
   "source": [
    "# Diheral TTA outside dataloader\n",
    "def get_trans(img, I):\n",
    "    if I >= 4:\n",
    "        img = img.transpose(2,3)\n",
    "    if I % 4 == 0:\n",
    "        return img\n",
    "    elif I % 4 == 1:\n",
    "        return img.flip(2)\n",
    "    elif I % 4 == 2:\n",
    "        return img.flip(3)\n",
    "    elif I % 4 == 3:\n",
    "        return img.flip(2).flip(3)\n",
    "\n",
    "def evaluate(model, dl):\n",
    "    model.eval()\n",
    "    prd = []\n",
    "    y = []   \n",
    "    for step, dat in enumerate(dl):\n",
    "        xb, yb = (o.to(device) for o in dat)\n",
    "        y.append(yb.cpu().detach().numpy())\n",
    "        with torch.no_grad(): \n",
    "            for I in range(N_TTA):\n",
    "                if I==0: \n",
    "                    prdb = model(get_trans(xb, I))\n",
    "                else:\n",
    "                    prdb += model(get_trans(xb, I))    \n",
    "        prd.append((prdb/N_TTA).cpu().detach().numpy())\n",
    "    prd = np.concatenate(prd)    \n",
    "    y = np.concatenate(y)    \n",
    "    lss = F.binary_cross_entropy_with_logits(torch.tensor(prd),torch.tensor(y).unsqueeze(1)).item()\n",
    "    scr = roc_auc(y, prd)\n",
    "    return lss, scr, y, prd"
   ]
  },
  {
   "cell_type": "code",
   "execution_count": 14,
   "metadata": {},
   "outputs": [],
   "source": [
    "def evaluate(model, dl, ntta=N_TTA):\n",
    "    model.eval()\n",
    "    prd=[]\n",
    "    y=[]   \n",
    "    for i in range(ntta):\n",
    "        prdi = []\n",
    "        for step, dat in enumerate(dl):\n",
    "            xb, yb = (o.to(device) for o in dat)\n",
    "            if i==0: y.append(yb.cpu().detach().numpy())\n",
    "            with torch.no_grad(): \n",
    "                prdb = model(xb)\n",
    "            prdi.append(prdb.cpu().detach().numpy())\n",
    "        prdi = np.concatenate(prdi) \n",
    "        if i==0: y=np.concatenate(y)  \n",
    "        prd.append(prdi)\n",
    "    prd = np.mean(prd, 0)\n",
    "    lss = F.binary_cross_entropy_with_logits(torch.tensor(prd),torch.tensor(y).unsqueeze(1)).item()\n",
    "    scr = roc_auc(y, prd)\n",
    "    return lss, scr, y, prd"
   ]
  },
  {
   "cell_type": "markdown",
   "metadata": {},
   "source": [
    "## infer"
   ]
  },
  {
   "cell_type": "raw",
   "metadata": {},
   "source": [
    "def infer(model, dl):\n",
    "    lendl=len(dl)\n",
    "    model.eval()\n",
    "    prd = []\n",
    "    for step, dat in enumerate(dl):\n",
    "        xb=dat[0].to(device)\n",
    "        with torch.no_grad(): \n",
    "            for I in range(N_TTA):\n",
    "                if I==0: \n",
    "                    prdb = model(get_trans(xb, I))\n",
    "                else:\n",
    "                    prdb += model(get_trans(xb, I))    \n",
    "        prd.append((prdb/N_TTA).cpu().detach().numpy())\n",
    "    prd = np.concatenate(prd)    \n",
    "\n",
    "    return prd"
   ]
  },
  {
   "cell_type": "code",
   "execution_count": 15,
   "metadata": {},
   "outputs": [],
   "source": [
    "def infer(model, dl):\n",
    "    model.eval()\n",
    "    prd=[]\n",
    "    for i in range(N_TTA):\n",
    "        prdi = []\n",
    "        for step, dat in enumerate(dl):\n",
    "            xb=dat[0].to(device)\n",
    "            with torch.no_grad(): \n",
    "                prdb = model(xb)\n",
    "            prdi.append(prdb.cpu().detach().numpy())\n",
    "        prdi = np.concatenate(prdi)    \n",
    "        prd.append(prdi)\n",
    "    prd = np.mean(prd, 0)\n",
    "    return prd"
   ]
  },
  {
   "cell_type": "raw",
   "metadata": {},
   "source": [
    "def infer(model, dl):\n",
    "    lendl=len(dl)\n",
    "    model.eval()\n",
    "    prd = []\n",
    "    for step, dat in enumerate(dl):\n",
    "        xb=dat[0].to(device)\n",
    "        with torch.no_grad(): prdb = model(xb)\n",
    "        prd.append(prdb.cpu().detach().numpy())\n",
    "    prd = np.concatenate(prd)    \n",
    "    return prd"
   ]
  },
  {
   "cell_type": "markdown",
   "metadata": {},
   "source": [
    "## set up data"
   ]
  },
  {
   "cell_type": "code",
   "execution_count": 16,
   "metadata": {},
   "outputs": [],
   "source": [
    "def getdls(fld):\n",
    "    tr,vl=fld2trvl[fld]\n",
    "    dftr=dftrn.iloc[tr]\n",
    "    dfvl=dftrn.iloc[vl]\n",
    "    ystr=dftr.target.values\n",
    "    ysvl=dfvl.target.values\n",
    "    cols2use=['im_pth', 'target']\n",
    "    if param.F_PSD is not None:\n",
    "        dftr= pd.concat([dftrn[cols2use].iloc[tr], dfpsd[cols2use]])\n",
    "    dstr = MelDataset(dftr, mode='trn')\n",
    "    dsvl = MelDataset(dfvl, mode='val')\n",
    "    dltr = DataLoader(dstr, batch_size=BS,   shuffle=True,  num_workers=N_WORKERS, pin_memory=PIN_MEM)\n",
    "    dlvl = DataLoader(dsvl, batch_size=BS*2, shuffle=False, num_workers=N_WORKERS, pin_memory=PIN_MEM)\n",
    "    return dltr,dlvl"
   ]
  },
  {
   "cell_type": "markdown",
   "metadata": {},
   "source": [
    "## run val"
   ]
  },
  {
   "cell_type": "code",
   "execution_count": 17,
   "metadata": {},
   "outputs": [],
   "source": [
    "set_seed(param.SEED)\n",
    "\n",
    "results = {}\n",
    "results['fld2trvl'] = fld2trvl\n",
    "results['param'] = param\n",
    "results['fld2stats']={}"
   ]
  },
  {
   "cell_type": "code",
   "execution_count": 18,
   "metadata": {
    "scrolled": false
   },
   "outputs": [
    {
     "name": "stdout",
     "output_type": "stream",
     "text": [
      "fld:0; dltr,dlvl: 5441 907\n",
      "Loaded pretrained weights for efficientnet-b2\n",
      "load previously trained ../output/Mel0729D1/model_Mel0729D1_fld_0_epc_7.p\n",
      "2020-08-02 03:28:35 fld 0 ep 7: lss_vl 0.260; scr_vl 0.932; \n",
      "better scr -inf -> 0.932\n",
      "load previously trained ../output/Mel0729D1/model_Mel0729D1_fld_0_epc_8.p\n",
      "2020-08-02 03:46:36 fld 0 ep 8: lss_vl 0.277; scr_vl 0.932; \n",
      "better scr 0.932 -> 0.932\n",
      "load previously trained ../output/Mel0729D1/model_Mel0729D1_fld_0_epc_9.p\n",
      "2020-08-02 04:05:28 fld 0 ep 9: lss_vl 0.235; scr_vl 0.933; \n",
      "better scr 0.932 -> 0.933\n",
      "fld:1; dltr,dlvl: 5441 907\n",
      "Loaded pretrained weights for efficientnet-b2\n",
      "load previously trained ../output/Mel0729D1/model_Mel0729D1_fld_1_epc_7.p\n",
      "2020-08-02 04:23:38 fld 1 ep 7: lss_vl 0.249; scr_vl 0.931; \n",
      "better scr -inf -> 0.931\n",
      "load previously trained ../output/Mel0729D1/model_Mel0729D1_fld_1_epc_8.p\n",
      "2020-08-02 04:41:55 fld 1 ep 8: lss_vl 0.245; scr_vl 0.935; \n",
      "better scr 0.931 -> 0.935\n",
      "load previously trained ../output/Mel0729D1/model_Mel0729D1_fld_1_epc_9.p\n",
      "2020-08-02 04:59:54 fld 1 ep 9: lss_vl 0.257; scr_vl 0.934; \n",
      "fld:2; dltr,dlvl: 5441 907\n",
      "Loaded pretrained weights for efficientnet-b2\n",
      "load previously trained ../output/Mel0729D1/model_Mel0729D1_fld_2_epc_7.p\n",
      "2020-08-02 05:17:54 fld 2 ep 7: lss_vl 0.245; scr_vl 0.930; \n",
      "better scr -inf -> 0.930\n",
      "load previously trained ../output/Mel0729D1/model_Mel0729D1_fld_2_epc_8.p\n",
      "2020-08-02 05:36:20 fld 2 ep 8: lss_vl 0.253; scr_vl 0.929; \n",
      "load previously trained ../output/Mel0729D1/model_Mel0729D1_fld_2_epc_9.p\n",
      "2020-08-02 05:54:25 fld 2 ep 9: lss_vl 0.247; scr_vl 0.928; \n",
      "fld:3; dltr,dlvl: 5441 907\n",
      "Loaded pretrained weights for efficientnet-b2\n",
      "load previously trained ../output/Mel0729D1/model_Mel0729D1_fld_3_epc_7.p\n",
      "2020-08-02 06:13:06 fld 3 ep 7: lss_vl 0.269; scr_vl 0.931; \n",
      "better scr -inf -> 0.931\n",
      "load previously trained ../output/Mel0729D1/model_Mel0729D1_fld_3_epc_8.p\n",
      "2020-08-02 06:31:34 fld 3 ep 8: lss_vl 0.263; scr_vl 0.927; \n",
      "load previously trained ../output/Mel0729D1/model_Mel0729D1_fld_3_epc_9.p\n",
      "2020-08-02 06:49:29 fld 3 ep 9: lss_vl 0.250; scr_vl 0.932; \n",
      "better scr 0.931 -> 0.932\n"
     ]
    }
   ],
   "source": [
    "for fld in param.FLDS2USE:    \n",
    "    tr,vl=fld2trvl[fld]\n",
    "    dltr,dlvl=getdls(fld)\n",
    "    print(f'fld:{fld};', 'dltr,dlvl:', len(dltr), len(dlvl))\n",
    "\n",
    "    mdl = mkmdl().to(device)\n",
    "\n",
    "    stats = {\n",
    "    'lss': {'tr':[],'vl':[],},\n",
    "    'scr': {'tr':[],'vl':[],},\n",
    "    }\n",
    "    ep2oof = []\n",
    "    best_scr = float('-inf')\n",
    "    best_epc = -1    \n",
    "    \n",
    "    for epc in range(param.EPOCHS-param.LASTM, param.EPOCHS):\n",
    "        fnm_mdl_b4 = f'{p_b4}/model_{PRFX_B4}_fld_{fld}_epc_{epc}.p'\n",
    "        print('load previously trained', fnm_mdl_b4)\n",
    "        mdl.load_state_dict(torch.load(fnm_mdl_b4, map_location=torch.device(DEVICE)))\n",
    "\n",
    "        lss_vl_ep, scr_vl_ep, yvl_ep, prdvl_ep = evaluate(mdl, dlvl)\n",
    "        stats['lss']['vl'].append(lss_vl_ep)\n",
    "        stats['scr']['vl'].append(scr_vl_ep)\n",
    "        ep2oof.append(prdvl_ep)\n",
    "\n",
    "        print(dtnow(), f'fld {fld} ep {epc}: lss_vl {lss_vl_ep:.3f}; scr_vl {scr_vl_ep:.3f}; ')\n",
    "\n",
    "        if scr_vl_ep>best_scr:\n",
    "            print(f'better scr {best_scr:.3f} -> {scr_vl_ep:.3f}')\n",
    "            best_scr = scr_vl_ep\n",
    "            best_epc = epc\n",
    "\n",
    "        stats['best_scr'] = best_scr\n",
    "        stats['best_epc'] = best_epc\n",
    "        results['fld2stats'][fld] = stats\n",
    "        pickle.dump(results, open(f'{p_out}/results_{PRFX}.p', 'wb'))  \n",
    "    \n",
    "    gc.collect()    \n",
    "    pickle.dump(ep2oof, open(f'{p_out}/ep2oof_{PRFX}_fld_{fld}.p', 'wb'))  "
   ]
  },
  {
   "cell_type": "code",
   "execution_count": null,
   "metadata": {},
   "outputs": [],
   "source": []
  },
  {
   "cell_type": "code",
   "execution_count": 19,
   "metadata": {},
   "outputs": [],
   "source": [
    "pickle.dump(results, open(f'{p_out}/results_{PRFX}.p', 'wb'))  "
   ]
  },
  {
   "cell_type": "code",
   "execution_count": null,
   "metadata": {},
   "outputs": [],
   "source": []
  },
  {
   "cell_type": "markdown",
   "metadata": {},
   "source": [
    "# training trajec"
   ]
  },
  {
   "cell_type": "code",
   "execution_count": 20,
   "metadata": {},
   "outputs": [
    {
     "name": "stdout",
     "output_type": "stream",
     "text": [
      "fld 0 best_epc: 9; best_scr: 0.9329;\n",
      "fld 1 best_epc: 8; best_scr: 0.9347;\n",
      "fld 2 best_epc: 7; best_scr: 0.9302;\n",
      "fld 3 best_epc: 9; best_scr: 0.9324;\n"
     ]
    }
   ],
   "source": [
    "for fld,stats in results['fld2stats'].items():\n",
    "    print(f\"fld {fld} best_epc: {stats['best_epc']}; best_scr: {stats['best_scr']:.4f};\")"
   ]
  },
  {
   "cell_type": "code",
   "execution_count": 21,
   "metadata": {},
   "outputs": [
    {
     "data": {
      "image/png": "[encoded data removed]",
      "text/plain": [
       "<Figure size 432x288 with 1 Axes>"
      ]
     },
     "metadata": {
      "needs_background": "light"
     },
     "output_type": "display_data"
    },
    {
     "data": {
      "image/png": "[encoded data removed]",
      "text/plain": [
       "<Figure size 432x288 with 1 Axes>"
      ]
     },
     "metadata": {
      "needs_background": "light"
     },
     "output_type": "display_data"
    }
   ],
   "source": [
    "for mtrc in ['lss', 'scr']:\n",
    "    for k in ['vl',]:\n",
    "        plt.title(f'{mtrc} {k}')\n",
    "        for fld in param.FLDS2USE:\n",
    "            plt.plot(results['fld2stats'][fld][mtrc][k], 'o--')\n",
    "        plt.show()"
   ]
  },
  {
   "cell_type": "markdown",
   "metadata": {},
   "source": [
    "# oofs"
   ]
  },
  {
   "cell_type": "code",
   "execution_count": 22,
   "metadata": {},
   "outputs": [
    {
     "data": {
      "text/plain": [
       "(58032, [0, 1, 4, 6, 10, 15, 17, 19, 21, 29])"
      ]
     },
     "execution_count": 22,
     "metadata": {},
     "output_type": "execute_result"
    }
   ],
   "source": [
    "vls = []\n",
    "for fld in param.FLDS2USE:\n",
    "    _,vl=fld2trvl[fld]\n",
    "    vls += list(vl)\n",
    "len(vls), vls[:10]"
   ]
  },
  {
   "cell_type": "markdown",
   "metadata": {},
   "source": [
    "## only last epoch "
   ]
  },
  {
   "cell_type": "code",
   "execution_count": 23,
   "metadata": {},
   "outputs": [
    {
     "data": {
      "text/plain": [
       "0.9315062072568109"
      ]
     },
     "execution_count": 23,
     "metadata": {},
     "output_type": "execute_result"
    }
   ],
   "source": [
    "oofs = []\n",
    "for fld in param.FLDS2USE:\n",
    "    ep2oof = pickle.load(open(f'{p_out}/ep2oof_{PRFX}_fld_{fld}.p', 'rb'))\n",
    "    ep2oof = np.concatenate(ep2oof,1)\n",
    "    oof = list(ep2oof[:,-1])\n",
    "    oofs += list(oof)\n",
    "    \n",
    "roc_auc(dftrn.target.iloc[vls], oofs)"
   ]
  },
  {
   "cell_type": "code",
   "execution_count": 24,
   "metadata": {
    "scrolled": true
   },
   "outputs": [
    {
     "data": {
      "text/plain": [
       "0.911846335707534"
      ]
     },
     "execution_count": 24,
     "metadata": {},
     "output_type": "execute_result"
    }
   ],
   "source": [
    "roc_auc(dftrn.target.iloc[[o for o in vls if o in idx20]],\n",
    "        [o[0] for o in zip(oofs,vls) if o[1] in idx20])"
   ]
  },
  {
   "cell_type": "markdown",
   "metadata": {},
   "source": [
    "## only best_scr epoch"
   ]
  },
  {
   "cell_type": "code",
   "execution_count": 25,
   "metadata": {},
   "outputs": [
    {
     "data": {
      "text/plain": [
       "0.932503170614603"
      ]
     },
     "execution_count": 25,
     "metadata": {},
     "output_type": "execute_result"
    }
   ],
   "source": [
    "oofs = []\n",
    "for fld in param.FLDS2USE:\n",
    "    ep2oof = pickle.load(open(f'{p_out}/ep2oof_{PRFX}_fld_{fld}.p', 'rb'))\n",
    "    ep2oof = np.concatenate(ep2oof,1)\n",
    "    best_epc =  results['fld2stats'][fld]['best_epc'] - (param.EPOCHS - param.LASTM)\n",
    "    oof = list(ep2oof[:,best_epc])\n",
    "    oofs += list(oof)\n",
    "roc_auc(dftrn.target.iloc[vls], oofs)"
   ]
  },
  {
   "cell_type": "code",
   "execution_count": 26,
   "metadata": {},
   "outputs": [
    {
     "data": {
      "text/plain": [
       "0.9126355984335849"
      ]
     },
     "execution_count": 26,
     "metadata": {},
     "output_type": "execute_result"
    }
   ],
   "source": [
    "roc_auc(dftrn.target.iloc[[o for o in vls if o in idx20]],\n",
    "        [o[0] for o in zip(oofs,vls) if o[1] in idx20])"
   ]
  },
  {
   "cell_type": "markdown",
   "metadata": {},
   "source": [
    "## avg last m epochs"
   ]
  },
  {
   "cell_type": "code",
   "execution_count": 27,
   "metadata": {},
   "outputs": [
    {
     "data": {
      "text/plain": [
       "0.9346533302720592"
      ]
     },
     "execution_count": 27,
     "metadata": {},
     "output_type": "execute_result"
    }
   ],
   "source": [
    "oofs = []\n",
    "for fld in param.FLDS2USE:\n",
    "    ep2oof = pickle.load(open(f'{p_out}/ep2oof_{PRFX}_fld_{fld}.p', 'rb'))\n",
    "    ep2oof = np.concatenate(ep2oof,1)\n",
    "    oof = list(ep2oof[:, -3:].mean(1))\n",
    "    oofs += list(oof)\n",
    "roc_auc(dftrn.target.iloc[vls], oofs)"
   ]
  },
  {
   "cell_type": "code",
   "execution_count": 28,
   "metadata": {},
   "outputs": [
    {
     "data": {
      "text/plain": [
       "0.9204991822833051"
      ]
     },
     "execution_count": 28,
     "metadata": {},
     "output_type": "execute_result"
    }
   ],
   "source": [
    "roc_auc(dftrn.target.iloc[[o for o in vls if o in idx20]],\n",
    "        [o[0] for o in zip(oofs,vls) if o[1] in idx20])"
   ]
  },
  {
   "cell_type": "code",
   "execution_count": 29,
   "metadata": {},
   "outputs": [],
   "source": [
    "def get_oof_avg_last_m(m):\n",
    "    oofs = []\n",
    "    for fld in param.FLDS2USE:\n",
    "        ep2oof = pickle.load(open(f'{p_out}/ep2oof_{PRFX}_fld_{fld}.p', 'rb'))\n",
    "        ep2oof = np.concatenate(ep2oof,1)\n",
    "        oof = list(ep2oof[:, -m:].mean(1))\n",
    "        oofs += list(oof)\n",
    "    return oofs"
   ]
  },
  {
   "cell_type": "code",
   "execution_count": 30,
   "metadata": {},
   "outputs": [
    {
     "name": "stdout",
     "output_type": "stream",
     "text": [
      "1 0.9315\n",
      "2 0.9337\n",
      "3 0.9347\n"
     ]
    }
   ],
   "source": [
    "for m in range(1,param.LASTM+1):\n",
    "    oofs = get_oof_avg_last_m(m)\n",
    "    oof_sorted = np.array([o[1] for o in sorted(zip(vls,oofs))])\n",
    "    print(m, f'{roc_auc(dftrn.target.iloc[vls], oofs):.4f}', )"
   ]
  },
  {
   "cell_type": "code",
   "execution_count": 31,
   "metadata": {},
   "outputs": [
    {
     "name": "stdout",
     "output_type": "stream",
     "text": [
      "1 0.9118\n",
      "2 0.9186\n",
      "3 0.9205\n"
     ]
    }
   ],
   "source": [
    "for m in range(1, param.LASTM+1):\n",
    "    oofs = get_oof_avg_last_m(m)\n",
    "    oof_sorted = np.array([o[1] for o in sorted(zip(vls,oofs))])\n",
    "    auc20=roc_auc(dftrn.target.iloc[[o for o in vls if o in idx20]],\n",
    "        [o[0] for o in zip(oofs,vls) if o[1] in idx20])\n",
    "    print(m, f'{auc20:.4f}')\n"
   ]
  },
  {
   "cell_type": "markdown",
   "metadata": {},
   "source": [
    "# Inference"
   ]
  },
  {
   "cell_type": "code",
   "execution_count": 32,
   "metadata": {},
   "outputs": [
    {
     "data": {
      "text/html": [
       "<div>\n",
       "<style scoped>\n",
       "    .dataframe tbody tr th:only-of-type {\n",
       "        vertical-align: middle;\n",
       "    }\n",
       "\n",
       "    .dataframe tbody tr th {\n",
       "        vertical-align: top;\n",
       "    }\n",
       "\n",
       "    .dataframe thead th {\n",
       "        text-align: right;\n",
       "    }\n",
       "</style>\n",
       "<table border=\"1\" class=\"dataframe\">\n",
       "  <thead>\n",
       "    <tr style=\"text-align: right;\">\n",
       "      <th></th>\n",
       "      <th>image_name</th>\n",
       "      <th>patient_id</th>\n",
       "      <th>sex</th>\n",
       "      <th>age_approx</th>\n",
       "      <th>anatom_site_general_challenge</th>\n",
       "      <th>im_pth</th>\n",
       "    </tr>\n",
       "  </thead>\n",
       "  <tbody>\n",
       "    <tr>\n",
       "      <th>0</th>\n",
       "      <td>ISIC_0052060</td>\n",
       "      <td>IP_3579794</td>\n",
       "      <td>male</td>\n",
       "      <td>70.0</td>\n",
       "      <td>NaN</td>\n",
       "      <td>../output/MelPrp0909B384/siim-isic-melanoma-cl...</td>\n",
       "    </tr>\n",
       "    <tr>\n",
       "      <th>1</th>\n",
       "      <td>ISIC_0052349</td>\n",
       "      <td>IP_7782715</td>\n",
       "      <td>male</td>\n",
       "      <td>40.0</td>\n",
       "      <td>lower extremity</td>\n",
       "      <td>../output/MelPrp0909B384/siim-isic-melanoma-cl...</td>\n",
       "    </tr>\n",
       "    <tr>\n",
       "      <th>2</th>\n",
       "      <td>ISIC_0058510</td>\n",
       "      <td>IP_7960270</td>\n",
       "      <td>female</td>\n",
       "      <td>55.0</td>\n",
       "      <td>torso</td>\n",
       "      <td>../output/MelPrp0909B384/siim-isic-melanoma-cl...</td>\n",
       "    </tr>\n",
       "  </tbody>\n",
       "</table>\n",
       "</div>"
      ],
      "text/plain": [
       "     image_name  patient_id     sex  age_approx anatom_site_general_challenge  \\\n",
       "0  ISIC_0052060  IP_3579794    male        70.0                           NaN   \n",
       "1  ISIC_0052349  IP_7782715    male        40.0               lower extremity   \n",
       "2  ISIC_0058510  IP_7960270  female        55.0                         torso   \n",
       "\n",
       "                                              im_pth  \n",
       "0  ../output/MelPrp0909B384/siim-isic-melanoma-cl...  \n",
       "1  ../output/MelPrp0909B384/siim-isic-melanoma-cl...  \n",
       "2  ../output/MelPrp0909B384/siim-isic-melanoma-cl...  "
      ]
     },
     "metadata": {},
     "output_type": "display_data"
    },
    {
     "name": "stdout",
     "output_type": "stream",
     "text": [
      "10982\n",
      "687\n"
     ]
    }
   ],
   "source": [
    "dftst = pd.read_csv(f'{p_prp}/test.csv', nrows=128 if param.DEBUG else None) \n",
    "display(dftst.head(3))\n",
    "\n",
    "dfsub = pd.read_csv(f'{p_cmp}/sample_submission.csv', nrows=128 if param.DEBUG else None) \n",
    "\n",
    "dstst = MelDataset(dftst, mode='tst')\n",
    "print(len(dstst))\n",
    "dltst = DataLoader(dstst, batch_size=BS*2, shuffle=False, num_workers=N_WORKERS, pin_memory=PIN_MEM)\n",
    "print(len(dltst))\n",
    "lendl=len(dltst)"
   ]
  },
  {
   "cell_type": "code",
   "execution_count": 33,
   "metadata": {
    "scrolled": true
   },
   "outputs": [
    {
     "name": "stdout",
     "output_type": "stream",
     "text": [
      "Loaded pretrained weights for efficientnet-b2\n",
      "2020-08-02 07:04:10 fld 0 ep 7 0.1581\n",
      "2020-08-02 07:18:03 fld 0 ep 8 0.1661\n",
      "2020-08-02 07:31:30 fld 0 ep 9 0.1238\n",
      "2020-08-02 07:45:04 fld 1 ep 7 0.1482\n",
      "2020-08-02 07:59:11 fld 1 ep 8 0.1415\n",
      "2020-08-02 08:12:47 fld 1 ep 9 0.1523\n",
      "2020-08-02 08:26:24 fld 2 ep 7 0.1439\n",
      "2020-08-02 08:40:45 fld 2 ep 8 0.1534\n",
      "2020-08-02 08:54:45 fld 2 ep 9 0.1514\n",
      "2020-08-02 09:08:33 fld 3 ep 7 0.1565\n",
      "2020-08-02 09:22:27 fld 3 ep 8 0.1582\n",
      "2020-08-02 09:36:37 fld 3 ep 9 0.1460\n"
     ]
    }
   ],
   "source": [
    "# avg last m epochs\n",
    "mdl = mkmdl().to(device)\n",
    "for fld in param.FLDS2USE:\n",
    "    for epc in range(param.EPOCHS-param.LASTM, param.EPOCHS):\n",
    "        mdl.load_state_dict(torch.load(f'{p_b4}/model_{param.PRFX}_fld_{fld}_epc_{epc}.p'))\n",
    "        prdtst = infer(mdl, dltst)\n",
    "        dfsub.target = sigmoid(prdtst)\n",
    "        dfsub.to_csv(f'{p_out}/submission_{PRFX}_fld_{fld}_epc_{epc}.csv', index=False)\n",
    "        print(dtnow(), f'fld {fld} ep {epc}', f'{dfsub.target.mean():.4f}')\n"
   ]
  },
  {
   "cell_type": "code",
   "execution_count": 34,
   "metadata": {},
   "outputs": [
    {
     "name": "stdout",
     "output_type": "stream",
     "text": [
      "fld 0 epc 7 0.1581\n",
      "fld 0 epc 8 0.1661\n",
      "fld 0 epc 9 0.1238\n",
      "fld 1 epc 7 0.1482\n",
      "fld 1 epc 8 0.1415\n",
      "fld 1 epc 9 0.1523\n",
      "fld 2 epc 7 0.1439\n",
      "fld 2 epc 8 0.1534\n",
      "fld 2 epc 9 0.1514\n",
      "fld 3 epc 7 0.1565\n",
      "fld 3 epc 8 0.1582\n",
      "fld 3 epc 9 0.1460\n",
      "\n",
      "0.14995097689219145\n"
     ]
    },
    {
     "data": {
      "text/html": [
       "<div>\n",
       "<style scoped>\n",
       "    .dataframe tbody tr th:only-of-type {\n",
       "        vertical-align: middle;\n",
       "    }\n",
       "\n",
       "    .dataframe tbody tr th {\n",
       "        vertical-align: top;\n",
       "    }\n",
       "\n",
       "    .dataframe thead th {\n",
       "        text-align: right;\n",
       "    }\n",
       "</style>\n",
       "<table border=\"1\" class=\"dataframe\">\n",
       "  <thead>\n",
       "    <tr style=\"text-align: right;\">\n",
       "      <th></th>\n",
       "      <th>image_name</th>\n",
       "      <th>target</th>\n",
       "    </tr>\n",
       "  </thead>\n",
       "  <tbody>\n",
       "    <tr>\n",
       "      <th>0</th>\n",
       "      <td>ISIC_0052060</td>\n",
       "      <td>0.060198</td>\n",
       "    </tr>\n",
       "    <tr>\n",
       "      <th>1</th>\n",
       "      <td>ISIC_0052349</td>\n",
       "      <td>0.047450</td>\n",
       "    </tr>\n",
       "    <tr>\n",
       "      <th>2</th>\n",
       "      <td>ISIC_0058510</td>\n",
       "      <td>0.058479</td>\n",
       "    </tr>\n",
       "  </tbody>\n",
       "</table>\n",
       "</div>"
      ],
      "text/plain": [
       "     image_name    target\n",
       "0  ISIC_0052060  0.060198\n",
       "1  ISIC_0052349  0.047450\n",
       "2  ISIC_0058510  0.058479"
      ]
     },
     "metadata": {},
     "output_type": "display_data"
    },
    {
     "data": {
      "image/png": "[encoded data removed]",
      "text/plain": [
       "<Figure size 432x288 with 1 Axes>"
      ]
     },
     "metadata": {
      "needs_background": "light"
     },
     "output_type": "display_data"
    }
   ],
   "source": [
    "lst_sub = []\n",
    "for fld in param.FLDS2USE:\n",
    "    for epc in range(param.EPOCHS-param.LASTM, param.EPOCHS):\n",
    "        sub_fld_epc = pd.read_csv(f'{p_out}/submission_{PRFX}_fld_{fld}_epc_{epc}.csv') \n",
    "        print('fld', fld, 'epc', epc, f'{sub_fld_epc.target.mean():.4f}')\n",
    "        lst_sub.append(sub_fld_epc.target.values)\n",
    "print()\n",
    "sub = np.mean(lst_sub, 0)\n",
    "print(sub.mean())\n",
    "dfsub.target = sub\n",
    "\n",
    "display(dfsub.head(3))\n",
    "plt.hist(dfsub.target, bins=50);"
   ]
  },
  {
   "cell_type": "code",
   "execution_count": 35,
   "metadata": {},
   "outputs": [],
   "source": [
    "dfsub.to_csv(f'{p_out}/submission_{PRFX}_avglast{param.LASTM}.csv', index=False)"
   ]
  },
  {
   "cell_type": "markdown",
   "metadata": {},
   "source": [
    "# fin"
   ]
  },
  {
   "cell_type": "code",
   "execution_count": 36,
   "metadata": {},
   "outputs": [
    {
     "data": {
      "text/plain": [
       "('MelInf0729D1tta16', 'Mel0729D1')"
      ]
     },
     "execution_count": 36,
     "metadata": {},
     "output_type": "execute_result"
    }
   ],
   "source": [
    "PRFX, PRFX_B4"
   ]
  },
  {
   "cell_type": "code",
   "execution_count": 37,
   "metadata": {},
   "outputs": [
    {
     "data": {
      "text/plain": [
       "{'PRFX': 'Mel0729D1',\n",
       " 'F_PSD': None,\n",
       " 'PRFX_B4': None,\n",
       " 'ARCH': 'efficientnet-b2',\n",
       " 'SZ': 384,\n",
       " 'PRFX_PREP': 'MelPrp0909B384',\n",
       " 'LASTM': 3,\n",
       " 'BS': 32,\n",
       " 'SEED': 101,\n",
       " 'EPOCHS': 10,\n",
       " 'K': 4,\n",
       " 'FLDS2USE': range(0, 4),\n",
       " 'FP16': True,\n",
       " 'RandomResizedCrop_scale': (0.75, 1.0),\n",
       " 'LR': 0.001,\n",
       " 'WD': 0,\n",
       " 'N_SAMPL': None,\n",
       " 'DEBUG': False}"
      ]
     },
     "execution_count": 37,
     "metadata": {},
     "output_type": "execute_result"
    }
   ],
   "source": [
    "param.__dict__"
   ]
  },
  {
   "cell_type": "code",
   "execution_count": 38,
   "metadata": {},
   "outputs": [
    {
     "name": "stdout",
     "output_type": "stream",
     "text": [
      "Sun Aug  2 09:36:38 2020       \r\n",
      "+-----------------------------------------------------------------------------+\r\n",
      "| NVIDIA-SMI 440.100      Driver Version: 440.100      CUDA Version: 10.2     |\r\n",
      "|-------------------------------+----------------------+----------------------+\r\n",
      "| GPU  Name        Persistence-M| Bus-Id        Disp.A | Volatile Uncorr. ECC |\r\n",
      "| Fan  Temp  Perf  Pwr:Usage/Cap|         Memory-Usage | GPU-Util  Compute M. |\r\n",
      "|===============================+======================+======================|\r\n",
      "|   0  Tesla V100-SXM2...  Off  | 00000000:00:1E.0 Off |                    0 |\r\n",
      "| N/A   75C    P0   250W / 300W |  15829MiB / 16160MiB |     80%      Default |\r\n",
      "+-------------------------------+----------------------+----------------------+\r\n",
      "                                                                               \r\n",
      "+-----------------------------------------------------------------------------+\r\n",
      "| Processes:                                                       GPU Memory |\r\n",
      "|  GPU       PID   Type   Process name                             Usage      |\r\n",
      "|=============================================================================|\r\n",
      "|    0     15539      C   /data/anaconda3/envs/mel/bin/python        13459MiB |\r\n",
      "|    0     15972      C   /data/anaconda3/envs/mel/bin/python         2357MiB |\r\n",
      "+-----------------------------------------------------------------------------+\r\n"
     ]
    }
   ],
   "source": [
    "!nvidia-smi"
   ]
  },
  {
   "cell_type": "code",
   "execution_count": null,
   "metadata": {},
   "outputs": [],
   "source": []
  },
  {
   "cell_type": "code",
   "execution_count": null,
   "metadata": {},
   "outputs": [],
   "source": []
  },
  {
   "cell_type": "code",
   "execution_count": null,
   "metadata": {},
   "outputs": [],
   "source": []
  },
  {
   "cell_type": "code",
   "execution_count": null,
   "metadata": {},
   "outputs": [],
   "source": []
  },
  {
   "cell_type": "code",
   "execution_count": null,
   "metadata": {},
   "outputs": [],
   "source": []
  },
  {
   "cell_type": "code",
   "execution_count": null,
   "metadata": {},
   "outputs": [],
   "source": []
  },
  {
   "cell_type": "code",
   "execution_count": null,
   "metadata": {},
   "outputs": [],
   "source": []
  },
  {
   "cell_type": "code",
   "execution_count": null,
   "metadata": {},
   "outputs": [],
   "source": []
  }
 ],
 "metadata": {
  "kernelspec": {
   "display_name": "mel",
   "language": "python",
   "name": "mel"
  },
  "language_info": {
   "codemirror_mode": {
    "name": "ipython",
    "version": 3
   },
   "file_extension": ".py",
   "mimetype": "text/x-python",
   "name": "python",
   "nbconvert_exporter": "python",
   "pygments_lexer": "ipython3",
   "version": "3.7.7"
  },
  "toc": {
   "base_numbering": 1,
   "nav_menu": {},
   "number_sections": true,
   "sideBar": true,
   "skip_h1_title": false,
   "title_cell": "Table of Contents",
   "title_sidebar": "Contents",
   "toc_cell": false,
   "toc_position": {},
   "toc_section_display": true,
   "toc_window_display": true
  }
 },
 "nbformat": 4,
 "nbformat_minor": 4
}
