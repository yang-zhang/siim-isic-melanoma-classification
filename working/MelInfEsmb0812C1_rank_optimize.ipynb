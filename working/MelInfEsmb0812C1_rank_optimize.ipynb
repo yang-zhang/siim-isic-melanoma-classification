{
 "cells": [
  {
   "cell_type": "code",
   "execution_count": 64,
   "metadata": {},
   "outputs": [],
   "source": [
    "PRFX_ESMB = 'MelInfEsmb0812C1'"
   ]
  },
  {
   "cell_type": "code",
   "execution_count": 65,
   "metadata": {},
   "outputs": [],
   "source": [
    "from pathlib import Path\n",
    "import pickle\n",
    "import pandas as pd\n",
    "import numpy as np\n",
    "from sklearn.metrics import roc_auc_score as roc_auc\n",
    "import matplotlib.pyplot as plt\n",
    "import scipy.stats as ss\n",
    "\n",
    "class Param: pass\n",
    "\n",
    "p_esmb = f'../output/{PRFX_ESMB}'; Path(p_esmb).mkdir(exist_ok=True,parents=True)\n",
    "p_cmp = '../input/siim-isic-melanoma-classification'"
   ]
  },
  {
   "cell_type": "markdown",
   "metadata": {},
   "source": [
    "# starting weights"
   ]
  },
  {
   "cell_type": "code",
   "execution_count": 66,
   "metadata": {},
   "outputs": [],
   "source": [
    "# MelInfEsmb0809B1\n",
    "prfx2wgt0 = {\n",
    "    'MelInf0726B2tta16':1.0,\n",
    "    'MelInf0805A1tta16':1.0,\n",
    "    'MelInf0728A1tta16':1.0,\n",
    "    'MelInf0728B1tta16':1.0,\n",
    "    'MelInf0805C1tta16':1.0,\n",
    "    'MelInf0727A1tta16':1.0,\n",
    "    'MelInf0805D1tta16':1.0,\n",
    "    'MelInf0727B1tta16':1.0,\n",
    "    'MelInf0805E1tta16':1.0,\n",
    "    'MelInf0726G2tta16':1.0,\n",
    "    'MelInf0726G4tta16':1.0,\n",
    "#     'MelInf0726H2tta16':1.0,\n",
    "    'MelInf0726H2tta16epc456':1.0,\n",
    "    'MelInf0729H1tta16':1.0,\n",
    "    'MelInf0729E1tta16':1.0,\n",
    "    'MelInf0729D1tta16':1.0,\n",
    "    'MelInf0806C1tta16':1.0,\n",
    "    'MelInf0729F1tta16':1.0,\n",
    "    'MelInf0806D1tta16':1.0,\n",
    "    'MelInf0729C1tta16':1.0,\n",
    "    'MelInf0729C1tta16epc456':1.0,\n",
    "    'Mel0806E1tta16epc345':1.0,\n",
    "    'MelInf0808A1tta16':1.0,\n",
    "    'MelInf0729G3tta16epc567':1.0,\n",
    "    'MelInf0801A1tta16':1.0,\n",
    "    'MelInf0801B1tta16epc567':1.0,\n",
    "    'MelInf0801C1tta16':1.0,\n",
    "    'MelInf0801D2tta16':1.0,\n",
    "}"
   ]
  },
  {
   "cell_type": "code",
   "execution_count": 67,
   "metadata": {},
   "outputs": [
    {
     "name": "stdout",
     "output_type": "stream",
     "text": [
      "efficientnet-b0 224 0.9279 0.8960 1.0 MelInf0726B2tta16\n",
      "efficientnet-b0 224 0.9236 0.8962 1.0 MelInf0805A1tta16\n",
      "efficientnet-b1 224 0.9301 0.9082 1.0 MelInf0728A1tta16\n",
      "efficientnet-b2 224 0.9298 0.9062 1.0 MelInf0728B1tta16\n",
      "efficientnet-b2 224 0.9287 0.9053 1.0 MelInf0805C1tta16\n",
      "efficientnet-b3 224 0.9294 0.9063 1.0 MelInf0727A1tta16\n",
      "efficientnet-b3 224 0.9292 0.9064 1.0 MelInf0805D1tta16\n",
      "efficientnet-b4 224 0.9318 0.9094 1.0 MelInf0727B1tta16\n",
      "efficientnet-b4 224 0.9312 0.9103 1.0 MelInf0805E1tta16\n",
      "efficientnet-b5 224 0.9288 0.9113 1.0 MelInf0726G2tta16\n",
      "efficientnet-b5 224 0.9277 0.8979 1.0 MelInf0726G4tta16\n",
      "efficientnet-b6 224 0.9331 0.9120 1.0 MelInf0726H2tta16epc456\n",
      "efficientnet-b0 384 0.9336 0.9063 1.0 MelInf0729H1tta16\n",
      "efficientnet-b1 384 0.9340 0.9196 1.0 MelInf0729E1tta16\n",
      "efficientnet-b2 384 0.9347 0.9205 1.0 MelInf0729D1tta16\n",
      "efficientnet-b2 384 0.9375 0.9302 1.0 MelInf0806C1tta16\n",
      "efficientnet-b3 384 0.9330 0.9169 1.0 MelInf0729F1tta16\n",
      "efficientnet-b3 384 0.9353 0.9219 1.0 MelInf0806D1tta16\n",
      "efficientnet-b4 384 0.9344 0.9224 1.0 MelInf0729C1tta16\n",
      "efficientnet-b4 384 0.9363 0.9179 1.0 MelInf0729C1tta16epc456\n",
      "efficientnet-b4 384 0.9385 0.9226 1.0 Mel0806E1tta16epc345\n",
      "efficientnet-b4 384 0.9357 0.9195 1.0 MelInf0808A1tta16\n",
      "efficientnet-b5 384 0.9354 0.9152 1.0 MelInf0729G3tta16epc567\n",
      "efficientnet-b0 512 0.9348 0.9135 1.0 MelInf0801A1tta16\n",
      "efficientnet-b1 512 0.9357 0.9177 1.0 MelInf0801B1tta16epc567\n",
      "efficientnet-b2 512 0.9350 0.9131 1.0 MelInf0801C1tta16\n",
      "efficientnet-b3 512 0.9329 0.9110 1.0 MelInf0801D2tta16\n"
     ]
    }
   ],
   "source": [
    "prfx2oofs = {}\n",
    "for prfx in prfx2wgt0.keys():\n",
    "    p_out = f'../output/{prfx}'\n",
    "    res = pickle.load(open(f'{p_out}/results_{prfx}.p', 'rb'))\n",
    "    param = res['param']\n",
    "    p_prp = f'../output/{param.PRFX_PREP}'\n",
    "    dftrn = pd.read_csv(f'{p_prp}/train_all_dedup.csv') \n",
    "\n",
    "    vls=[]\n",
    "    oofs=[]\n",
    "    for fld in range(4):\n",
    "        ep2oof = pickle.load(open(f'{p_out}/ep2oof_{prfx}_fld_{fld}.p', 'rb'))\n",
    "        _,vl= res['fld2trvl'][fld]\n",
    "        vls += list(vl)\n",
    "        ep2oof = np.concatenate(ep2oof, 1)\n",
    "        oof = ep2oof.mean(1)\n",
    "        oofs += list(oof)\n",
    "\n",
    "    ys = dftrn.target.iloc[vls]\n",
    "    sortedzip = sorted(zip(vls, oofs, ys))\n",
    "    _, oofs, ys = list(zip(*sortedzip))\n",
    "    assert np.all(dftrn.target==ys)\n",
    "\n",
    "    oofs = np.array(oofs)\n",
    "    prfx2oofs[prfx] = ss.rankdata(oofs)\n",
    "    \n",
    "    scr = roc_auc(ys, oofs)\n",
    "    print(param.ARCH, param.SZ, f'{scr:.4f}', end=' ')\n",
    "    \n",
    "    idx20 = np.where(dftrn.source==20)[0]\n",
    "    scr20 = roc_auc(dftrn.target.iloc[idx20], oofs[idx20])\n",
    "    print(f'{scr20:.4f}', prfx2wgt0[prfx], prfx)"
   ]
  },
  {
   "cell_type": "code",
   "execution_count": 68,
   "metadata": {},
   "outputs": [
    {
     "name": "stdout",
     "output_type": "stream",
     "text": [
      "MelInfEsmb0812C1 0.9409 0.9242\n"
     ]
    }
   ],
   "source": [
    "oofs_esmb= np.zeros(len(dftrn))\n",
    "for prfx,wgt in prfx2wgt0.items():\n",
    "    p_out = f'../output/{prfx}'\n",
    "    res = pickle.load(open(f'{p_out}/results_{prfx}.p', 'rb'))\n",
    "    param = res['param']\n",
    "    p_prp = f'../output/{param.PRFX_PREP}'\n",
    "    dftrn = pd.read_csv(f'{p_prp}/train_all_dedup.csv') \n",
    "\n",
    "    oofs_esmb += wgt*ss.rankdata(prfx2oofs[prfx])\n",
    "    scr = roc_auc(ys, oofs_esmb)\n",
    "    scr20 = roc_auc(dftrn.target.iloc[idx20], oofs_esmb[idx20])\n",
    "print(PRFX_ESMB, f'{scr:.4f}', f'{scr20:.4f}')"
   ]
  },
  {
   "cell_type": "markdown",
   "metadata": {},
   "source": [
    "# optimize"
   ]
  },
  {
   "cell_type": "code",
   "execution_count": 69,
   "metadata": {},
   "outputs": [],
   "source": [
    "prfxes, wgts0 = list(zip(*prfx2wgt0.items()))"
   ]
  },
  {
   "cell_type": "markdown",
   "metadata": {},
   "source": [
    "- https://www.kaggle.com/abhishek/optimizer-for-quadratic-weighted-kappa\n",
    "- http://localhost:8080/notebooks/git/google-quest-challenge/working/QstPstp0208_4.ipynb"
   ]
  },
  {
   "cell_type": "code",
   "execution_count": 70,
   "metadata": {},
   "outputs": [
    {
     "name": "stdout",
     "output_type": "stream",
     "text": [
      "[0, 1, 4, 6, 10, 15, 17, 19, 21, 29, 32, 33, 43, 47, 53]\n",
      "[0, 1, 4, 6, 10, 15, 17, 19, 21, 29, 32, 33, 43, 47, 53]\n",
      "[0, 1, 4, 6, 10, 15, 17, 19, 21, 29, 32, 33, 43, 47, 53]\n",
      "[0, 1, 4, 6, 10, 15, 17, 19, 21, 29, 32, 33, 43, 47, 53]\n",
      "[0, 1, 4, 6, 10, 15, 17, 19, 21, 29, 32, 33, 43, 47, 53]\n",
      "[0, 1, 4, 6, 10, 15, 17, 19, 21, 29, 32, 33, 43, 47, 53]\n",
      "[0, 1, 4, 6, 10, 15, 17, 19, 21, 29, 32, 33, 43, 47, 53]\n",
      "[0, 1, 4, 6, 10, 15, 17, 19, 21, 29, 32, 33, 43, 47, 53]\n",
      "[0, 1, 4, 6, 10, 15, 17, 19, 21, 29, 32, 33, 43, 47, 53]\n",
      "[0, 1, 4, 6, 10, 15, 17, 19, 21, 29, 32, 33, 43, 47, 53]\n",
      "[0, 1, 4, 6, 10, 15, 17, 19, 21, 29, 32, 33, 43, 47, 53]\n",
      "[0, 1, 4, 6, 10, 15, 17, 19, 21, 29, 32, 33, 43, 47, 53]\n",
      "[0, 1, 4, 6, 10, 15, 17, 19, 21, 29, 32, 33, 43, 47, 53]\n",
      "[0, 1, 4, 6, 10, 15, 17, 19, 21, 29, 32, 33, 43, 47, 53]\n",
      "[0, 1, 4, 6, 10, 15, 17, 19, 21, 29, 32, 33, 43, 47, 53]\n",
      "[0, 1, 4, 6, 10, 15, 17, 19, 21, 29, 32, 33, 43, 47, 53]\n",
      "[0, 1, 4, 6, 10, 15, 17, 19, 21, 29, 32, 33, 43, 47, 53]\n",
      "[0, 1, 4, 6, 10, 15, 17, 19, 21, 29, 32, 33, 43, 47, 53]\n",
      "[0, 1, 4, 6, 10, 15, 17, 19, 21, 29, 32, 33, 43, 47, 53]\n",
      "[0, 1, 4, 6, 10, 15, 17, 19, 21, 29, 32, 33, 43, 47, 53]\n",
      "[0, 1, 4, 6, 10, 15, 17, 19, 21, 29, 32, 33, 43, 47, 53]\n",
      "[0, 1, 4, 6, 10, 15, 17, 19, 21, 29, 32, 33, 43, 47, 53]\n",
      "[0, 1, 4, 6, 10, 15, 17, 19, 21, 29, 32, 33, 43, 47, 53]\n",
      "[0, 1, 4, 6, 10, 15, 17, 19, 21, 29, 32, 33, 43, 47, 53]\n",
      "[0, 1, 4, 6, 10, 15, 17, 19, 21, 29, 32, 33, 43, 47, 53]\n",
      "[0, 1, 4, 6, 10, 15, 17, 19, 21, 29, 32, 33, 43, 47, 53]\n",
      "[0, 1, 4, 6, 10, 15, 17, 19, 21, 29, 32, 33, 43, 47, 53]\n"
     ]
    }
   ],
   "source": [
    "oofss = []\n",
    "for prfx in prfxes:\n",
    "    p_out = f'../output/{prfx}'\n",
    "    res = pickle.load(open(f'{p_out}/results_{prfx}.p', 'rb'))\n",
    "    param = res['param']\n",
    "    p_prp = f'../output/{param.PRFX_PREP}'\n",
    "    dftrn = pd.read_csv(f'{p_prp}/train_all_dedup.csv') \n",
    "\n",
    "    vls=[]\n",
    "    oofs=[]\n",
    "    for fld in range(4):\n",
    "        ep2oof = pickle.load(open(f'{p_out}/ep2oof_{prfx}_fld_{fld}.p', 'rb'))\n",
    "        _,vl= res['fld2trvl'][fld]\n",
    "        vls += list(vl)\n",
    "        ep2oof = np.concatenate(ep2oof, 1)\n",
    "        oof = ep2oof.mean(1)\n",
    "        oofs += list(oof)\n",
    "\n",
    "    ys = dftrn.target.iloc[vls]\n",
    "    sortedzip = sorted(zip(vls, oofs, ys))\n",
    "    _, oofs, ys = list(zip(*sortedzip))\n",
    "    assert np.all(dftrn.target==ys)\n",
    "    print(vls[:15])\n",
    "    oofss.append(oofs)\n",
    "oofss = np.array(oofss)"
   ]
  },
  {
   "cell_type": "code",
   "execution_count": 71,
   "metadata": {},
   "outputs": [
    {
     "data": {
      "text/plain": [
       "(27, 58032)"
      ]
     },
     "execution_count": 71,
     "metadata": {},
     "output_type": "execute_result"
    }
   ],
   "source": [
    "oofss.shape"
   ]
  },
  {
   "cell_type": "code",
   "execution_count": 72,
   "metadata": {},
   "outputs": [],
   "source": [
    "bnds = ((0, None),)*len(prfxes)"
   ]
  },
  {
   "cell_type": "code",
   "execution_count": 73,
   "metadata": {},
   "outputs": [],
   "source": [
    "import scipy as sp\n",
    "\n",
    "class OptimizedRounder(object):\n",
    "    def __init__(self):\n",
    "        self.coef_ = 0\n",
    "    \n",
    "    def _minus_scr(self, coef):\n",
    "        prd = np.average(oofss, axis=0, weights=coef)\n",
    "        scr = roc_auc(ys, prd)\n",
    "        return -scr\n",
    "    \n",
    "    def fit(self):\n",
    "        initial_coef = wgts0\n",
    "        self.coef_ = sp.optimize.minimize(self._minus_scr, initial_coef, bounds=bnds, method='Powell')\n",
    "    \n",
    "    def get_coef(self):\n",
    "        return self.coef_['x']"
   ]
  },
  {
   "cell_type": "code",
   "execution_count": 74,
   "metadata": {},
   "outputs": [
    {
     "name": "stdout",
     "output_type": "stream",
     "text": [
      "CPU times: user 33 s, sys: 6.51 ms, total: 33 s\n",
      "Wall time: 33 s\n"
     ]
    }
   ],
   "source": [
    "%%time\n",
    "optR = OptimizedRounder()\n",
    "optR.fit()\n",
    "coef = optR.get_coef()\n"
   ]
  },
  {
   "cell_type": "code",
   "execution_count": 75,
   "metadata": {
    "scrolled": true
   },
   "outputs": [
    {
     "data": {
      "text/plain": [
       "array([2.71891468e-04, 1.95435259e-03, 8.85065072e-04, 9.19960188e-05,\n",
       "       1.43938560e-03, 9.06294394e-04, 4.79841935e-04, 4.20595381e-01,\n",
       "       1.35310565e-03, 4.99678983e-01, 2.28637878e-03, 3.64022427e+00,\n",
       "       2.31738273e-02, 3.45505367e-04, 1.04845893e-03, 4.25232314e+00,\n",
       "       1.27131358e-03, 3.05711882e-03, 2.12417965e+00, 8.13119818e-04,\n",
       "       2.96774641e+00, 3.08092381e-04, 1.20729958e+00, 2.77314226e+00,\n",
       "       2.54553519e+00, 3.96439971e-01, 7.09862004e-03])"
      ]
     },
     "execution_count": 75,
     "metadata": {},
     "output_type": "execute_result"
    }
   ],
   "source": [
    "coef"
   ]
  },
  {
   "cell_type": "code",
   "execution_count": 76,
   "metadata": {},
   "outputs": [
    {
     "data": {
      "text/plain": [
       "0.9432921922511401"
      ]
     },
     "execution_count": 76,
     "metadata": {},
     "output_type": "execute_result"
    }
   ],
   "source": [
    "prd=np.average(oofss, axis=0, weights=coef)\n",
    "roc_auc(ys, prd)"
   ]
  },
  {
   "cell_type": "code",
   "execution_count": 77,
   "metadata": {},
   "outputs": [],
   "source": [
    "prfx2wgt = dict(zip(prfxes, coef))"
   ]
  },
  {
   "cell_type": "code",
   "execution_count": 87,
   "metadata": {},
   "outputs": [
    {
     "name": "stdout",
     "output_type": "stream",
     "text": [
      "efficientnet-b0 224 0.9279 0.8960 0.0002718914678142552 MelInf0726B2tta16\n",
      "efficientnet-b0 224 0.9236 0.8962 0.0019543525865038033 MelInf0805A1tta16\n",
      "efficientnet-b1 224 0.9301 0.9082 0.0008850650721204741 MelInf0728A1tta16\n",
      "efficientnet-b2 224 0.9298 0.9062 9.199601879976478e-05 MelInf0728B1tta16\n",
      "efficientnet-b2 224 0.9287 0.9053 0.001439385602978337 MelInf0805C1tta16\n",
      "efficientnet-b3 224 0.9294 0.9063 0.0009062943936730852 MelInf0727A1tta16\n",
      "efficientnet-b3 224 0.9292 0.9064 0.0004798419348727538 MelInf0805D1tta16\n",
      "efficientnet-b4 224 0.9318 0.9094 0.42059538136582025 MelInf0727B1tta16\n",
      "efficientnet-b4 224 0.9312 0.9103 0.0013531056543075917 MelInf0805E1tta16\n",
      "efficientnet-b5 224 0.9288 0.9113 0.4996789826688363 MelInf0726G2tta16\n",
      "efficientnet-b5 224 0.9277 0.8979 0.0022863787809564093 MelInf0726G4tta16\n",
      "efficientnet-b6 224 0.9331 0.9120 3.640224274334187 MelInf0726H2tta16epc456\n",
      "efficientnet-b0 384 0.9336 0.9063 0.023173827253221056 MelInf0729H1tta16\n",
      "efficientnet-b1 384 0.9340 0.9196 0.00034550536694987616 MelInf0729E1tta16\n",
      "efficientnet-b2 384 0.9347 0.9205 0.0010484589258401254 MelInf0729D1tta16\n",
      "efficientnet-b2 384 0.9375 0.9302 4.252323143839705 MelInf0806C1tta16\n",
      "efficientnet-b3 384 0.9330 0.9169 0.0012713135761567248 MelInf0729F1tta16\n",
      "efficientnet-b3 384 0.9353 0.9219 0.003057118818011032 MelInf0806D1tta16\n",
      "efficientnet-b4 384 0.9344 0.9224 2.124179650267789 MelInf0729C1tta16\n",
      "efficientnet-b4 384 0.9363 0.9179 0.0008131198176939431 MelInf0729C1tta16epc456\n",
      "efficientnet-b4 384 0.9385 0.9226 2.9677464073163016 Mel0806E1tta16epc345\n",
      "efficientnet-b4 384 0.9357 0.9195 0.0003080923808310547 MelInf0808A1tta16\n",
      "efficientnet-b5 384 0.9354 0.9152 1.207299578533501 MelInf0729G3tta16epc567\n",
      "efficientnet-b0 512 0.9348 0.9135 2.7731422599228956 MelInf0801A1tta16\n",
      "efficientnet-b1 512 0.9357 0.9177 2.5455351905159347 MelInf0801B1tta16epc567\n",
      "efficientnet-b2 512 0.9350 0.9131 0.39643997141354376 MelInf0801C1tta16\n",
      "efficientnet-b3 512 0.9329 0.9110 0.0070986200449198195 MelInf0801D2tta16\n"
     ]
    }
   ],
   "source": [
    "prfx2oofs = {}\n",
    "for prfx in prfx2wgt.keys():\n",
    "    p_out = f'../output/{prfx}'\n",
    "    res = pickle.load(open(f'{p_out}/results_{prfx}.p', 'rb'))\n",
    "    param = res['param']\n",
    "    p_prp = f'../output/{param.PRFX_PREP}'\n",
    "    dftrn = pd.read_csv(f'{p_prp}/train_all_dedup.csv') \n",
    "\n",
    "    vls=[]\n",
    "    oofs=[]\n",
    "    for fld in range(4):\n",
    "        ep2oof = pickle.load(open(f'{p_out}/ep2oof_{prfx}_fld_{fld}.p', 'rb'))\n",
    "        _,vl= res['fld2trvl'][fld]\n",
    "        vls += list(vl)\n",
    "        ep2oof = np.concatenate(ep2oof, 1)\n",
    "        oof = ep2oof.mean(1)\n",
    "        oofs += list(oof)\n",
    "\n",
    "    ys = dftrn.target.iloc[vls]\n",
    "    sortedzip = sorted(zip(vls, oofs, ys))\n",
    "    _, oofs, ys = list(zip(*sortedzip))\n",
    "    assert np.all(dftrn.target==ys)\n",
    "\n",
    "    oofs = np.array(oofs)\n",
    "    prfx2oofs[prfx] = ss.rankdata(oofs)\n",
    "    \n",
    "    scr = roc_auc(ys, oofs)\n",
    "    print(param.ARCH, param.SZ, f'{scr:.4f}', end=' ')\n",
    "    \n",
    "    idx20 = np.where(dftrn.source==20)[0]\n",
    "    scr20 = roc_auc(dftrn.target.iloc[idx20], oofs[idx20])\n",
    "    print(f'{scr20:.4f}', prfx2wgt[prfx], prfx)"
   ]
  },
  {
   "cell_type": "code",
   "execution_count": 86,
   "metadata": {},
   "outputs": [
    {
     "name": "stdout",
     "output_type": "stream",
     "text": [
      "MelInfEsmb0812C1 0.9432 0.9298\n"
     ]
    }
   ],
   "source": [
    "oofs_esmb= np.zeros(len(dftrn))\n",
    "for prfx,wgt in prfx2wgt.items():\n",
    "    p_out = f'../output/{prfx}'\n",
    "    res = pickle.load(open(f'{p_out}/results_{prfx}.p', 'rb'))\n",
    "    param = res['param']\n",
    "    p_prp = f'../output/{param.PRFX_PREP}'\n",
    "    dftrn = pd.read_csv(f'{p_prp}/train_all_dedup.csv') \n",
    "\n",
    "    oofs_esmb += wgt*ss.rankdata(prfx2oofs[prfx])\n",
    "    scr = roc_auc(ys, oofs_esmb)\n",
    "    scr20 = roc_auc(dftrn.target.iloc[idx20], oofs_esmb[idx20])\n",
    "print(PRFX_ESMB, f'{scr:.4f}', f'{scr20:.4f}')"
   ]
  },
  {
   "cell_type": "code",
   "execution_count": 83,
   "metadata": {},
   "outputs": [
    {
     "name": "stdout",
     "output_type": "stream",
     "text": [
      "MelInf0726B2tta16 5491.5\n",
      "MelInf0805A1tta16 5491.5\n",
      "MelInf0728A1tta16 5491.5\n",
      "MelInf0728B1tta16 5491.5\n",
      "MelInf0805C1tta16 5491.5\n",
      "MelInf0727A1tta16 5491.5\n",
      "MelInf0805D1tta16 5491.5\n",
      "MelInf0727B1tta16 5491.5\n",
      "MelInf0805E1tta16 5491.5\n",
      "MelInf0726G2tta16 5491.5\n",
      "MelInf0726G4tta16 5491.5\n",
      "MelInf0726H2tta16epc456 5491.5\n",
      "MelInf0729H1tta16 5491.5\n",
      "MelInf0729E1tta16 5491.5\n",
      "MelInf0729D1tta16 5491.5\n",
      "MelInf0806C1tta16 5491.5\n",
      "MelInf0729F1tta16 5491.5\n",
      "MelInf0806D1tta16 5491.5\n",
      "MelInf0729C1tta16 5491.5\n",
      "MelInf0729C1tta16epc456 5491.5\n",
      "Mel0806E1tta16epc345 5491.5\n",
      "MelInf0808A1tta16 5491.5\n",
      "MelInf0729G3tta16epc567 5491.5\n",
      "MelInf0801A1tta16 5491.5\n",
      "MelInf0801B1tta16epc567 5491.5\n",
      "MelInf0801C1tta16 5491.5\n",
      "MelInf0801D2tta16 5491.5\n"
     ]
    }
   ],
   "source": [
    "dfsub = pd.read_csv(f'{p_cmp}/sample_submission.csv') \n",
    "\n",
    "\n",
    "wgt_ttl=0\n",
    "sub_esmb=np.zeros(len(dfsub))\n",
    "for prfx,wgt in prfx2wgt.items():\n",
    "    p_out = f'../output/{prfx}'\n",
    "    res = pickle.load(open(f'{p_out}/results_{prfx}.p', 'rb'))\n",
    "    param = res['param']\n",
    "    dfsubi = pd.read_csv(f'{p_out}/submission_{prfx}_avglast{param.LASTM}.csv')\n",
    "    wgt_ttl+=wgt\n",
    "    subi = ss.rankdata(dfsubi.target)\n",
    "    print(prfx, subi.mean())\n",
    "#     plt.hist(subi, bins=50);\n",
    "#     plt.show()\n",
    "    sub_esmb += wgt*subi\n",
    "sub_esmb/=wgt_ttl"
   ]
  },
  {
   "cell_type": "code",
   "execution_count": 84,
   "metadata": {},
   "outputs": [
    {
     "name": "stdout",
     "output_type": "stream",
     "text": [
      "5491.499999999999\n"
     ]
    },
    {
     "data": {
      "text/html": [
       "<div>\n",
       "<style scoped>\n",
       "    .dataframe tbody tr th:only-of-type {\n",
       "        vertical-align: middle;\n",
       "    }\n",
       "\n",
       "    .dataframe tbody tr th {\n",
       "        vertical-align: top;\n",
       "    }\n",
       "\n",
       "    .dataframe thead th {\n",
       "        text-align: right;\n",
       "    }\n",
       "</style>\n",
       "<table border=\"1\" class=\"dataframe\">\n",
       "  <thead>\n",
       "    <tr style=\"text-align: right;\">\n",
       "      <th></th>\n",
       "      <th>image_name</th>\n",
       "      <th>target</th>\n",
       "    </tr>\n",
       "  </thead>\n",
       "  <tbody>\n",
       "    <tr>\n",
       "      <th>0</th>\n",
       "      <td>ISIC_0052060</td>\n",
       "      <td>1984.591893</td>\n",
       "    </tr>\n",
       "    <tr>\n",
       "      <th>1</th>\n",
       "      <td>ISIC_0052349</td>\n",
       "      <td>1234.528100</td>\n",
       "    </tr>\n",
       "    <tr>\n",
       "      <th>2</th>\n",
       "      <td>ISIC_0058510</td>\n",
       "      <td>2345.785981</td>\n",
       "    </tr>\n",
       "  </tbody>\n",
       "</table>\n",
       "</div>"
      ],
      "text/plain": [
       "     image_name       target\n",
       "0  ISIC_0052060  1984.591893\n",
       "1  ISIC_0052349  1234.528100\n",
       "2  ISIC_0058510  2345.785981"
      ]
     },
     "metadata": {},
     "output_type": "display_data"
    },
    {
     "data": {
      "image/png": "[encoded data removed]",
      "text/plain": [
       "<Figure size 432x288 with 1 Axes>"
      ]
     },
     "metadata": {
      "needs_background": "light"
     },
     "output_type": "display_data"
    }
   ],
   "source": [
    "print(sub_esmb.mean())\n",
    "dfsub.target = sub_esmb\n",
    "\n",
    "display(dfsub.head(3))\n",
    "plt.hist(dfsub.target, bins=50);"
   ]
  },
  {
   "cell_type": "code",
   "execution_count": 85,
   "metadata": {},
   "outputs": [],
   "source": [
    "dfsub.to_csv(f'{p_esmb}/submission_{PRFX_ESMB}.csv', index=False)"
   ]
  },
  {
   "cell_type": "code",
   "execution_count": null,
   "metadata": {},
   "outputs": [],
   "source": []
  },
  {
   "cell_type": "code",
   "execution_count": null,
   "metadata": {},
   "outputs": [],
   "source": []
  }
 ],
 "metadata": {
  "kernelspec": {
   "display_name": "mel",
   "language": "python",
   "name": "mel"
  },
  "language_info": {
   "codemirror_mode": {
    "name": "ipython",
    "version": 3
   },
   "file_extension": ".py",
   "mimetype": "text/x-python",
   "name": "python",
   "nbconvert_exporter": "python",
   "pygments_lexer": "ipython3",
   "version": "3.7.7"
  },
  "toc": {
   "base_numbering": 1,
   "nav_menu": {},
   "number_sections": true,
   "sideBar": true,
   "skip_h1_title": false,
   "title_cell": "Table of Contents",
   "title_sidebar": "Contents",
   "toc_cell": false,
   "toc_position": {},
   "toc_section_display": true,
   "toc_window_display": true
  }
 },
 "nbformat": 4,
 "nbformat_minor": 4
}
