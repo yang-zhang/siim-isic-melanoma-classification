{
 "cells": [
  {
   "cell_type": "markdown",
   "metadata": {},
   "source": [
    "# start"
   ]
  },
  {
   "cell_type": "code",
   "execution_count": 1,
   "metadata": {},
   "outputs": [
    {
     "data": {
      "text/plain": [
       "{'PRFX': 'Mel0630C1',\n",
       " 'PRFX_B4': None,\n",
       " 'FLD2USE_B4': 0,\n",
       " 'PRFX_PREP': 'MelPrp0629A1',\n",
       " 'ARCH': 'efficientnet-b0',\n",
       " 'SZ': 224,\n",
       " 'EPOCHS': 100,\n",
       " 'BS': 96,\n",
       " 'K': 5,\n",
       " 'SEED': 101,\n",
       " 'FLD2USE': 0,\n",
       " 'FP16': True,\n",
       " 'PLTFACTOR': 0.5,\n",
       " 'PATIENCE': 5,\n",
       " 'MIN_LR': 1e-08,\n",
       " 'LR': 0.003,\n",
       " 'WD': 0.001,\n",
       " 'N_SAMPL': None,\n",
       " 'DEBUG': False}"
      ]
     },
     "execution_count": 1,
     "metadata": {},
     "output_type": "execute_result"
    }
   ],
   "source": [
    "class Param: pass\n",
    "param = Param()\n",
    "\n",
    "#########################\n",
    "param.PRFX = 'Mel0630C1'#\n",
    "#########################\n",
    "\n",
    "param.PRFX_B4 = None; param.FLD2USE_B4 = 0\n",
    "param.PRFX_PREP = 'MelPrp0629A1' #MelPrp0629A1__crop_dark_edge_on_512data.ipynb\n",
    "param.ARCH = 'efficientnet-b0'\n",
    "\n",
    "from efficientnet_pytorch import EfficientNet\n",
    "param.SZ = EfficientNet.get_image_size('efficientnet-b0') \n",
    "\n",
    "param.EPOCHS = 100\n",
    "\n",
    "# p2: efficientnet-b1 64\n",
    "param.BS = 96\n",
    "\n",
    "param.K=5; param.SEED=101; param.FLD2USE=0\n",
    "param.FP16 = True\n",
    "param.PLTFACTOR=0.5; param.PATIENCE=5; param.MIN_LR=1e-8\n",
    "\n",
    "param.LR=3e-3\n",
    "param.WD=1e-3\n",
    "\n",
    "param.N_SAMPL = None\n",
    "\n",
    "param.DEBUG = False\n",
    "if param.DEBUG: \n",
    "    param.EPOCHS = 5\n",
    "    param.K = 5\n",
    "    param.N_SAMPL = 2048\n",
    "\n",
    "DEVICE = 'cuda'; PIN_MEM = (DEVICE=='cuda'); N_WORKERS=4\n",
    "\n",
    "param.__dict__"
   ]
  },
  {
   "cell_type": "code",
   "execution_count": 2,
   "metadata": {},
   "outputs": [
    {
     "name": "stdout",
     "output_type": "stream",
     "text": [
      "Wed Jul  1 01:38:01 2020       \r\n",
      "+-----------------------------------------------------------------------------+\r\n",
      "| NVIDIA-SMI 440.100      Driver Version: 440.100      CUDA Version: 10.2     |\r\n",
      "|-------------------------------+----------------------+----------------------+\r\n",
      "| GPU  Name        Persistence-M| Bus-Id        Disp.A | Volatile Uncorr. ECC |\r\n",
      "| Fan  Temp  Perf  Pwr:Usage/Cap|         Memory-Usage | GPU-Util  Compute M. |\r\n",
      "|===============================+======================+======================|\r\n",
      "|   0  Tesla V100-SXM2...  Off  | 00000000:00:1E.0 Off |                    0 |\r\n",
      "| N/A   44C    P0    48W / 300W |     11MiB / 16160MiB |      0%      Default |\r\n",
      "+-------------------------------+----------------------+----------------------+\r\n",
      "                                                                               \r\n",
      "+-----------------------------------------------------------------------------+\r\n",
      "| Processes:                                                       GPU Memory |\r\n",
      "|  GPU       PID   Type   Process name                             Usage      |\r\n",
      "|=============================================================================|\r\n",
      "|  No running processes found                                                 |\r\n",
      "+-----------------------------------------------------------------------------+\r\n"
     ]
    }
   ],
   "source": [
    "!nvidia-smi"
   ]
  },
  {
   "cell_type": "markdown",
   "metadata": {},
   "source": [
    "# setup"
   ]
  },
  {
   "cell_type": "code",
   "execution_count": 3,
   "metadata": {},
   "outputs": [],
   "source": [
    "from pathlib import Path\n",
    "import pickle\n",
    "import pandas as pd\n",
    "import numpy as np\n",
    "import random\n",
    "import os, sys, gc\n",
    "import datetime\n",
    "from collections import defaultdict, Counter\n",
    "import matplotlib.pyplot as plt\n",
    "from PIL import Image\n",
    "from tqdm import tqdm\n",
    "from sklearn.model_selection import GroupKFold\n",
    "from sklearn.metrics import roc_auc_score as roc_auc\n",
    "\n",
    "# https://github.com/eriklindernoren/PyTorch-YOLOv3/issues/162#issuecomment-491115265\n",
    "from PIL import ImageFile; ImageFile.LOAD_TRUNCATED_IMAGES = True\n",
    "\n",
    "def dtnow(): return datetime.datetime.now().strftime('%Y-%m-%d %H:%M:%S')\n",
    "\n",
    "import torch\n",
    "device=torch.device(DEVICE)\n",
    "import torch.nn as nn\n",
    "import torch.nn.functional as F\n",
    "from torch.utils.data import Dataset, DataLoader\n",
    "import torchvision.transforms as transforms\n",
    "import torch.optim as optim\n",
    "from torch.optim import lr_scheduler\n",
    "\n",
    "from efficientnet_pytorch import EfficientNet\n",
    "\n",
    "from apex import amp\n",
    "\n",
    "def sigmoid(x): return 1 / (1 + np.exp(-x))\n",
    "\n",
    "def set_seed(seed):\n",
    "    random.seed(seed)\n",
    "    os.environ['PYTHONHASHSEED'] = str(seed)\n",
    "    np.random.seed(seed)\n",
    "    torch.manual_seed(seed)\n",
    "    torch.cuda.manual_seed(seed)\n",
    "    torch.backends.cudnn.deterministic = True\n",
    "set_seed(param.SEED)\n",
    "\n",
    "\n",
    "\n",
    "p_out = f'../output/{param.PRFX}'; Path(p_out).mkdir(exist_ok=True,parents=True)\n",
    "p_cmp = '../input/siim-isic-melanoma-classification'\n",
    "p_b4  = f'../output/{param.PRFX_B4}'\n"
   ]
  },
  {
   "cell_type": "markdown",
   "metadata": {},
   "source": [
    "# prep"
   ]
  },
  {
   "cell_type": "code",
   "execution_count": 4,
   "metadata": {
    "scrolled": false
   },
   "outputs": [
    {
     "name": "stdout",
     "output_type": "stream",
     "text": [
      "(58457, 4)\n"
     ]
    },
    {
     "data": {
      "text/html": [
       "<div>\n",
       "<style scoped>\n",
       "    .dataframe tbody tr th:only-of-type {\n",
       "        vertical-align: middle;\n",
       "    }\n",
       "\n",
       "    .dataframe tbody tr th {\n",
       "        vertical-align: top;\n",
       "    }\n",
       "\n",
       "    .dataframe thead th {\n",
       "        text-align: right;\n",
       "    }\n",
       "</style>\n",
       "<table border=\"1\" class=\"dataframe\">\n",
       "  <thead>\n",
       "    <tr style=\"text-align: right;\">\n",
       "      <th></th>\n",
       "      <th>source</th>\n",
       "      <th>im_pth</th>\n",
       "      <th>patient_id</th>\n",
       "      <th>target</th>\n",
       "    </tr>\n",
       "  </thead>\n",
       "  <tbody>\n",
       "    <tr>\n",
       "      <th>24437</th>\n",
       "      <td>20</td>\n",
       "      <td>../output/MelPrp0629A1/siim-isic-melanoma-clas...</td>\n",
       "      <td>IP_4021847</td>\n",
       "      <td>0.0</td>\n",
       "    </tr>\n",
       "    <tr>\n",
       "      <th>57432</th>\n",
       "      <td>19</td>\n",
       "      <td>../output/MelPrp0629A1/andrewmvd--isic-2019/IS...</td>\n",
       "      <td>BCN_0004730</td>\n",
       "      <td>1.0</td>\n",
       "    </tr>\n",
       "  </tbody>\n",
       "</table>\n",
       "</div>"
      ],
      "text/plain": [
       "       source                                             im_pth   patient_id  \\\n",
       "24437      20  ../output/MelPrp0629A1/siim-isic-melanoma-clas...   IP_4021847   \n",
       "57432      19  ../output/MelPrp0629A1/andrewmvd--isic-2019/IS...  BCN_0004730   \n",
       "\n",
       "       target  \n",
       "24437     0.0  \n",
       "57432     1.0  "
      ]
     },
     "metadata": {},
     "output_type": "display_data"
    },
    {
     "data": {
      "text/plain": [
       "(58457, 4)"
      ]
     },
     "metadata": {},
     "output_type": "display_data"
    },
    {
     "data": {
      "text/plain": [
       "20    33126\n",
       "19    25331\n",
       "Name: source, dtype: int64"
      ]
     },
     "metadata": {},
     "output_type": "display_data"
    },
    {
     "data": {
      "text/plain": [
       "source\n",
       "19    0.178516\n",
       "20    0.017630\n",
       "Name: target, dtype: float64"
      ]
     },
     "metadata": {},
     "output_type": "display_data"
    }
   ],
   "source": [
    "p_prp = f'../output/{param.PRFX_PREP}'\n",
    "dftrn = pd.read_csv(f'{p_prp}/train_all.csv') \n",
    "print(dftrn.shape)\n",
    "\n",
    "set_seed(param.SEED); dftrn = dftrn.sample(frac=1.)\n",
    "\n",
    "if param.N_SAMPL is not None: dftrn = dftrn.head(param.N_SAMPL)\n",
    "    \n",
    "display(dftrn.head(2))\n",
    "display(dftrn.shape)\n",
    "display(dftrn.source.value_counts())\n",
    "display(dftrn.groupby('source').target.mean())"
   ]
  },
  {
   "cell_type": "markdown",
   "metadata": {},
   "source": [
    "## folds"
   ]
  },
  {
   "cell_type": "code",
   "execution_count": 5,
   "metadata": {},
   "outputs": [
    {
     "name": "stdout",
     "output_type": "stream",
     "text": [
      "2084\n"
     ]
    },
    {
     "name": "stderr",
     "output_type": "stream",
     "text": [
      "/data/anaconda3/envs/mel/lib/python3.7/site-packages/pandas/core/indexing.py:671: SettingWithCopyWarning: \n",
      "A value is trying to be set on a copy of a slice from a DataFrame\n",
      "\n",
      "See the caveats in the documentation: https://pandas.pydata.org/pandas-docs/stable/user_guide/indexing.html#returning-a-view-versus-a-copy\n",
      "  self._setitem_with_indexer(indexer, value)\n"
     ]
    }
   ],
   "source": [
    "idx_nopid=np.where(dftrn.patient_id.isna())[0]\n",
    "print(len(idx_nopid))\n",
    "dftrn['patient_id'].iloc[idx_nopid]=[f'Nan_{i}' for i in range(len(idx_nopid))]\n",
    "assert dftrn.patient_id.isna().mean()==0"
   ]
  },
  {
   "cell_type": "code",
   "execution_count": 6,
   "metadata": {},
   "outputs": [
    {
     "name": "stdout",
     "output_type": "stream",
     "text": [
      "0 46765 11692\n",
      "1 46765 11692\n",
      "2 46766 11691\n",
      "3 46766 11691\n",
      "4 46766 11691\n"
     ]
    },
    {
     "data": {
      "text/plain": [
       "0.0    0.913953\n",
       "1.0    0.086047\n",
       "Name: target, dtype: float64"
      ]
     },
     "metadata": {},
     "output_type": "display_data"
    },
    {
     "data": {
      "text/plain": [
       "0.0    0.911066\n",
       "1.0    0.088934\n",
       "Name: target, dtype: float64"
      ]
     },
     "metadata": {},
     "output_type": "display_data"
    },
    {
     "data": {
      "text/plain": [
       "0.0    0.915173\n",
       "1.0    0.084827\n",
       "Name: target, dtype: float64"
      ]
     },
     "metadata": {},
     "output_type": "display_data"
    },
    {
     "data": {
      "text/plain": [
       "0.0    0.91218\n",
       "1.0    0.08782\n",
       "Name: target, dtype: float64"
      ]
     },
     "metadata": {},
     "output_type": "display_data"
    },
    {
     "data": {
      "text/plain": [
       "0.0    0.910897\n",
       "1.0    0.089103\n",
       "Name: target, dtype: float64"
      ]
     },
     "metadata": {},
     "output_type": "display_data"
    },
    {
     "data": {
      "text/plain": [
       "20    26536\n",
       "19    20229\n",
       "Name: source, dtype: int64"
      ]
     },
     "metadata": {},
     "output_type": "display_data"
    },
    {
     "data": {
      "text/plain": [
       "20    26644\n",
       "19    20121\n",
       "Name: source, dtype: int64"
      ]
     },
     "metadata": {},
     "output_type": "display_data"
    },
    {
     "data": {
      "text/plain": [
       "20    26529\n",
       "19    20237\n",
       "Name: source, dtype: int64"
      ]
     },
     "metadata": {},
     "output_type": "display_data"
    },
    {
     "data": {
      "text/plain": [
       "20    26491\n",
       "19    20275\n",
       "Name: source, dtype: int64"
      ]
     },
     "metadata": {},
     "output_type": "display_data"
    },
    {
     "data": {
      "text/plain": [
       "20    26304\n",
       "19    20462\n",
       "Name: source, dtype: int64"
      ]
     },
     "metadata": {},
     "output_type": "display_data"
    }
   ],
   "source": [
    "set_seed(param.SEED)\n",
    "kf = GroupKFold(n_splits=param.K)\n",
    "fld2trvl={fld:(tr,vl) for fld,(tr,vl) in enumerate(kf.split(dftrn, groups=dftrn.patient_id))}\n",
    "\n",
    "for fld, (tr, vl) in fld2trvl.items():\n",
    "    print(fld, len(tr), len(vl))\n",
    "    dftr=dftrn.iloc[tr]\n",
    "    dfvl=dftrn.iloc[vl]\n",
    "    assert set(dftr.patient_id)&set(dfvl.patient_id)==set()\n",
    "for fld, (tr, vl) in fld2trvl.items():\n",
    "    dftr=dftrn.iloc[tr]\n",
    "    display(dftr.target.value_counts()/len(tr))\n",
    "for fld, (tr, vl) in fld2trvl.items():\n",
    "    dftr=dftrn.iloc[tr]\n",
    "    display(dftr.source.value_counts())\n"
   ]
  },
  {
   "cell_type": "markdown",
   "metadata": {},
   "source": [
    "# dataset"
   ]
  },
  {
   "cell_type": "code",
   "execution_count": 7,
   "metadata": {},
   "outputs": [],
   "source": [
    "class MelDataset(Dataset):\n",
    "    def __init__(self, df, mode='trn'):\n",
    "        self.df = df\n",
    "        self.mode = mode\n",
    "        if mode=='trn':\n",
    "            self.composed = transforms.Compose([\n",
    "                transforms.RandomResizedCrop(param.SZ),\n",
    "                transforms.RandomHorizontalFlip(),\n",
    "                transforms.RandomVerticalFlip(),\n",
    "                transforms.ColorJitter(brightness=32. / 255.,saturation=0.5),\n",
    "                transforms.ToTensor(),\n",
    "                transforms.Normalize([0.485, 0.456, 0.406], [0.229, 0.224, 0.225]),\n",
    "            ])    \n",
    "        else:\n",
    "            self.composed = transforms.Compose([\n",
    "                transforms.Resize((param.SZ, param.SZ)),\n",
    "                transforms.ToTensor(),\n",
    "                transforms.Normalize([0.485, 0.456, 0.406], [0.229, 0.224, 0.225]),\n",
    "            ])    \n",
    "    def __getitem__(self, i):\n",
    "        x = Image.open(self.df.im_pth.values[i]) \n",
    "        x = self.composed(x)\n",
    "        if self.mode in ('trn', 'val'):\n",
    "            y = self.df.target.values[i]\n",
    "            return x, y\n",
    "        else:\n",
    "            return (x,)\n",
    "    \n",
    "    def __len__(self):\n",
    "        return len(self.df)    "
   ]
  },
  {
   "cell_type": "markdown",
   "metadata": {},
   "source": [
    "# model"
   ]
  },
  {
   "cell_type": "code",
   "execution_count": 8,
   "metadata": {},
   "outputs": [],
   "source": [
    "def mkmdl():  \n",
    "    mdl = EfficientNet.from_pretrained(param.ARCH, num_classes=1)\n",
    "    return mdl"
   ]
  },
  {
   "cell_type": "code",
   "execution_count": 9,
   "metadata": {},
   "outputs": [],
   "source": [
    "# mdl = mkmdl()"
   ]
  },
  {
   "cell_type": "markdown",
   "metadata": {},
   "source": [
    "# train"
   ]
  },
  {
   "cell_type": "code",
   "execution_count": 10,
   "metadata": {},
   "outputs": [],
   "source": [
    "def evaluate(model, dl):\n",
    "    model.eval()\n",
    "    prd = []\n",
    "    y = []\n",
    "    for step, dat in enumerate(dl):\n",
    "        xb, yb = (o.to(device) for o in dat)\n",
    "        with torch.no_grad(): prdb = model(xb)\n",
    "        prd.append(prdb.cpu().detach().numpy())\n",
    "        y.append(yb.cpu().detach().numpy())\n",
    "    prd = np.concatenate(prd)    \n",
    "    y = np.concatenate(y)    \n",
    "    lss = F.binary_cross_entropy_with_logits(torch.tensor(prd),torch.tensor(y).unsqueeze(1)).item()\n",
    "    scr = roc_auc(y, prd)\n",
    "    return lss, scr, y, prd"
   ]
  },
  {
   "cell_type": "markdown",
   "metadata": {},
   "source": [
    "## set up model"
   ]
  },
  {
   "cell_type": "code",
   "execution_count": 11,
   "metadata": {},
   "outputs": [
    {
     "name": "stdout",
     "output_type": "stream",
     "text": [
      "Loaded pretrained weights for efficientnet-b0\n"
     ]
    }
   ],
   "source": [
    "mdl = mkmdl()\n",
    "mdl = mdl.to(device)\n",
    "\n",
    "if param.PRFX_B4 is not None: \n",
    "    fnm_mdl_b4 = f'{p_b4}/model_{param.PRFX_B4}_fld_{param.FLD2USE_B4}_best.p'\n",
    "    print('load previously trained', fnm_mdl_b4)\n",
    "    mdl.load_state_dict(torch.load(fnm_mdl_b4, map_location=torch.device(DEVICE)))\n",
    "\n",
    "\n",
    "# opt = optim.SGD(mdl.parameters(), lr=param.LR, momentum=param.MOMENTUM, weight_decay=param.WD)\n",
    "opt = optim.Adam(mdl.parameters(), lr=param.LR, weight_decay=param.WD)\n",
    "schdl = optim.lr_scheduler.ReduceLROnPlateau(opt, mode='max', factor=param.PLTFACTOR, patience=param.PATIENCE, min_lr=param.MIN_LR, verbose=True)\n",
    "if param.FP16: mdl, opt = amp.initialize(mdl, opt, opt_level='O1', verbosity=0)\n",
    "mdl.zero_grad()\n"
   ]
  },
  {
   "cell_type": "markdown",
   "metadata": {},
   "source": [
    "## set up data"
   ]
  },
  {
   "cell_type": "code",
   "execution_count": 12,
   "metadata": {},
   "outputs": [
    {
     "name": "stdout",
     "output_type": "stream",
     "text": [
      "46765 11692\n",
      "46765 11692\n",
      "488 61\n"
     ]
    }
   ],
   "source": [
    "tr,vl=fld2trvl[param.FLD2USE]\n",
    "dftr=dftrn.iloc[tr]\n",
    "dfvl=dftrn.iloc[vl]\n",
    "ystr=dftr.target.values\n",
    "ysvl=dfvl.target.values\n",
    "print(len(dftr), len(dfvl))\n",
    "dstr = MelDataset(dftr, mode='trn')\n",
    "dsvl = MelDataset(dfvl, mode='val')\n",
    "print(len(dstr), len(dsvl))\n",
    "dltr = DataLoader(dstr, batch_size=param.BS,   shuffle=True,  num_workers=N_WORKERS, pin_memory=PIN_MEM)\n",
    "dlvl = DataLoader(dsvl, batch_size=param.BS*2, shuffle=False, num_workers=N_WORKERS, pin_memory=PIN_MEM)\n",
    "print(len(dltr), len(dlvl))\n",
    "lendl=len(dltr)"
   ]
  },
  {
   "cell_type": "markdown",
   "metadata": {},
   "source": [
    "## set up results"
   ]
  },
  {
   "cell_type": "code",
   "execution_count": 13,
   "metadata": {},
   "outputs": [],
   "source": [
    "results = {}\n",
    "results['fld2trvl'] = fld2trvl\n",
    "results['param'] = param\n",
    "\n",
    "stats = {\n",
    "    'lss': {'tr':[],'vl':[]},\n",
    "    'scr': {'tr':[],'vl':[]},\n",
    "}\n",
    "oof = {'y':[], 'prd':[]}\n",
    "\n",
    "\n",
    "def save_results():\n",
    "    results['oof'] = oof\n",
    "    stats['best_scr'] = best_scr\n",
    "    stats['best_epc'] = best_epc\n",
    "    results['stats'] = stats\n",
    "    pickle.dump(results, open(f'{p_out}/results_{param.PRFX}.p', 'wb'))"
   ]
  },
  {
   "cell_type": "markdown",
   "metadata": {},
   "source": [
    "## run train"
   ]
  },
  {
   "cell_type": "code",
   "execution_count": 14,
   "metadata": {
    "scrolled": false
   },
   "outputs": [
    {
     "name": "stdout",
     "output_type": "stream",
     "text": [
      "2020-07-01 01:40:30 ep 0: lss_tr 0.246; lss_vl 0.318; scr_tr 0.797; scr_vl 0.500; \n",
      "better scr -inf -> 0.500\n",
      "2020-07-01 01:42:50 ep 1: lss_tr 0.238; lss_vl 0.310; scr_tr 0.814; scr_vl 0.841; \n",
      "better scr 0.500 -> 0.841\n",
      "2020-07-01 01:45:13 ep 2: lss_tr 0.235; lss_vl 0.340; scr_tr 0.821; scr_vl 0.741; \n",
      "2020-07-01 01:47:34 ep 3: lss_tr 0.233; lss_vl 0.348; scr_tr 0.825; scr_vl 0.813; \n",
      "2020-07-01 01:49:54 ep 4: lss_tr 0.230; lss_vl 0.281; scr_tr 0.831; scr_vl 0.851; \n",
      "better scr 0.841 -> 0.851\n",
      "2020-07-01 01:52:14 ep 5: lss_tr 0.231; lss_vl 0.315; scr_tr 0.826; scr_vl 0.837; \n",
      "2020-07-01 01:54:36 ep 6: lss_tr 0.231; lss_vl 0.266; scr_tr 0.827; scr_vl 0.841; \n",
      "2020-07-01 01:56:57 ep 7: lss_tr 0.230; lss_vl 0.410; scr_tr 0.828; scr_vl 0.832; \n",
      "2020-07-01 01:59:18 ep 8: lss_tr 0.230; lss_vl 0.241; scr_tr 0.828; scr_vl 0.876; \n",
      "better scr 0.851 -> 0.876\n",
      "2020-07-01 02:01:40 ep 9: lss_tr 0.229; lss_vl 0.275; scr_tr 0.830; scr_vl 0.850; \n",
      "2020-07-01 02:04:01 ep 10: lss_tr 0.231; lss_vl 0.227; scr_tr 0.827; scr_vl 0.854; \n",
      "2020-07-01 02:06:22 ep 11: lss_tr 0.232; lss_vl 0.277; scr_tr 0.823; scr_vl 0.864; \n",
      "2020-07-01 02:08:43 ep 12: lss_tr 0.230; lss_vl 0.259; scr_tr 0.826; scr_vl 0.855; \n",
      "2020-07-01 02:11:04 ep 13: lss_tr 0.230; lss_vl 0.228; scr_tr 0.827; scr_vl 0.866; \n",
      "2020-07-01 02:13:25 ep 14: lss_tr 0.230; lss_vl 0.270; scr_tr 0.829; scr_vl 0.875; \n",
      "Epoch    15: reducing learning rate of group 0 to 1.5000e-03.\n",
      "2020-07-01 02:16:00 ep 15: lss_tr 0.227; lss_vl 0.220; scr_tr 0.837; scr_vl 0.871; \n",
      "2020-07-01 02:18:37 ep 16: lss_tr 0.226; lss_vl 0.230; scr_tr 0.836; scr_vl 0.867; \n",
      "2020-07-01 02:21:18 ep 17: lss_tr 0.226; lss_vl 0.218; scr_tr 0.836; scr_vl 0.873; \n",
      "2020-07-01 02:25:18 ep 18: lss_tr 0.226; lss_vl 0.223; scr_tr 0.837; scr_vl 0.866; \n",
      "2020-07-01 02:29:20 ep 19: lss_tr 0.226; lss_vl 0.234; scr_tr 0.837; scr_vl 0.879; \n",
      "better scr 0.876 -> 0.879\n",
      "2020-07-01 02:33:24 ep 20: lss_tr 0.224; lss_vl 0.225; scr_tr 0.841; scr_vl 0.877; \n",
      "2020-07-01 02:37:27 ep 21: lss_tr 0.225; lss_vl 0.226; scr_tr 0.841; scr_vl 0.869; \n",
      "2020-07-01 02:41:28 ep 22: lss_tr 0.224; lss_vl 0.261; scr_tr 0.841; scr_vl 0.867; \n",
      "2020-07-01 02:45:30 ep 23: lss_tr 0.225; lss_vl 0.234; scr_tr 0.839; scr_vl 0.868; \n",
      "2020-07-01 02:49:31 ep 24: lss_tr 0.223; lss_vl 0.218; scr_tr 0.843; scr_vl 0.879; \n",
      "2020-07-01 02:53:32 ep 25: lss_tr 0.224; lss_vl 0.216; scr_tr 0.843; scr_vl 0.873; \n",
      "Epoch    26: reducing learning rate of group 0 to 7.5000e-04.\n",
      "2020-07-01 02:57:34 ep 26: lss_tr 0.222; lss_vl 0.214; scr_tr 0.846; scr_vl 0.877; \n",
      "2020-07-01 03:01:34 ep 27: lss_tr 0.222; lss_vl 0.231; scr_tr 0.846; scr_vl 0.877; \n",
      "2020-07-01 03:05:35 ep 28: lss_tr 0.223; lss_vl 0.215; scr_tr 0.844; scr_vl 0.875; \n",
      "2020-07-01 03:09:39 ep 29: lss_tr 0.220; lss_vl 0.222; scr_tr 0.849; scr_vl 0.877; \n",
      "2020-07-01 03:13:53 ep 30: lss_tr 0.221; lss_vl 0.267; scr_tr 0.846; scr_vl 0.866; \n",
      "2020-07-01 03:19:59 ep 31: lss_tr 0.220; lss_vl 0.230; scr_tr 0.848; scr_vl 0.871; \n",
      "Epoch    32: reducing learning rate of group 0 to 3.7500e-04.\n",
      "2020-07-01 03:26:02 ep 32: lss_tr 0.219; lss_vl 0.214; scr_tr 0.850; scr_vl 0.879; \n",
      "2020-07-01 03:32:19 ep 33: lss_tr 0.219; lss_vl 0.211; scr_tr 0.852; scr_vl 0.879; \n",
      "2020-07-01 03:38:29 ep 34: lss_tr 0.219; lss_vl 0.221; scr_tr 0.852; scr_vl 0.879; \n",
      "2020-07-01 03:44:32 ep 35: lss_tr 0.219; lss_vl 0.216; scr_tr 0.853; scr_vl 0.880; \n",
      "better scr 0.879 -> 0.880\n",
      "2020-07-01 03:50:35 ep 36: lss_tr 0.220; lss_vl 0.208; scr_tr 0.849; scr_vl 0.881; \n",
      "better scr 0.880 -> 0.881\n",
      "2020-07-01 03:56:18 ep 37: lss_tr 0.220; lss_vl 0.223; scr_tr 0.849; scr_vl 0.877; \n",
      "2020-07-01 04:00:38 ep 38: lss_tr 0.219; lss_vl 0.212; scr_tr 0.851; scr_vl 0.880; \n",
      "2020-07-01 04:04:58 ep 39: lss_tr 0.220; lss_vl 0.222; scr_tr 0.851; scr_vl 0.881; \n",
      "2020-07-01 04:09:19 ep 40: lss_tr 0.219; lss_vl 0.216; scr_tr 0.850; scr_vl 0.880; \n",
      "2020-07-01 04:13:39 ep 41: lss_tr 0.218; lss_vl 0.219; scr_tr 0.854; scr_vl 0.879; \n",
      "2020-07-01 04:17:58 ep 42: lss_tr 0.219; lss_vl 0.213; scr_tr 0.851; scr_vl 0.878; \n",
      "Epoch    43: reducing learning rate of group 0 to 1.8750e-04.\n",
      "2020-07-01 04:22:23 ep 43: lss_tr 0.218; lss_vl 0.209; scr_tr 0.853; scr_vl 0.882; \n",
      "better scr 0.881 -> 0.882\n",
      "2020-07-01 04:26:53 ep 44: lss_tr 0.218; lss_vl 0.209; scr_tr 0.853; scr_vl 0.884; \n",
      "better scr 0.882 -> 0.884\n",
      "2020-07-01 04:31:20 ep 45: lss_tr 0.218; lss_vl 0.210; scr_tr 0.855; scr_vl 0.881; \n",
      "2020-07-01 04:35:42 ep 46: lss_tr 0.217; lss_vl 0.210; scr_tr 0.855; scr_vl 0.883; \n",
      "2020-07-01 04:40:06 ep 47: lss_tr 0.218; lss_vl 0.209; scr_tr 0.853; scr_vl 0.881; \n",
      "2020-07-01 04:44:30 ep 48: lss_tr 0.217; lss_vl 0.211; scr_tr 0.854; scr_vl 0.882; \n",
      "2020-07-01 04:48:53 ep 49: lss_tr 0.219; lss_vl 0.210; scr_tr 0.852; scr_vl 0.881; \n",
      "2020-07-01 04:53:19 ep 50: lss_tr 0.218; lss_vl 0.212; scr_tr 0.853; scr_vl 0.880; \n",
      "Epoch    51: reducing learning rate of group 0 to 9.3750e-05.\n",
      "2020-07-01 04:57:49 ep 51: lss_tr 0.216; lss_vl 0.209; scr_tr 0.857; scr_vl 0.882; \n",
      "2020-07-01 05:02:17 ep 52: lss_tr 0.218; lss_vl 0.209; scr_tr 0.854; scr_vl 0.882; \n",
      "2020-07-01 05:06:40 ep 53: lss_tr 0.218; lss_vl 0.209; scr_tr 0.854; scr_vl 0.881; \n",
      "2020-07-01 05:11:03 ep 54: lss_tr 0.218; lss_vl 0.209; scr_tr 0.853; scr_vl 0.882; \n",
      "2020-07-01 05:15:26 ep 55: lss_tr 0.215; lss_vl 0.207; scr_tr 0.858; scr_vl 0.884; \n",
      "2020-07-01 05:19:48 ep 56: lss_tr 0.217; lss_vl 0.210; scr_tr 0.854; scr_vl 0.881; \n",
      "Epoch    57: reducing learning rate of group 0 to 4.6875e-05.\n",
      "2020-07-01 05:24:13 ep 57: lss_tr 0.216; lss_vl 0.209; scr_tr 0.857; scr_vl 0.882; \n",
      "2020-07-01 05:28:38 ep 58: lss_tr 0.216; lss_vl 0.210; scr_tr 0.857; scr_vl 0.881; \n",
      "2020-07-01 05:33:04 ep 59: lss_tr 0.217; lss_vl 0.209; scr_tr 0.856; scr_vl 0.881; \n",
      "2020-07-01 05:37:30 ep 60: lss_tr 0.215; lss_vl 0.207; scr_tr 0.859; scr_vl 0.883; \n",
      "2020-07-01 05:41:57 ep 61: lss_tr 0.217; lss_vl 0.208; scr_tr 0.854; scr_vl 0.884; \n",
      "2020-07-01 05:46:27 ep 62: lss_tr 0.218; lss_vl 0.209; scr_tr 0.853; scr_vl 0.880; \n",
      "Epoch    63: reducing learning rate of group 0 to 2.3438e-05.\n",
      "2020-07-01 05:50:54 ep 63: lss_tr 0.216; lss_vl 0.208; scr_tr 0.857; scr_vl 0.882; \n",
      "2020-07-01 05:55:21 ep 64: lss_tr 0.217; lss_vl 0.208; scr_tr 0.854; scr_vl 0.882; \n",
      "2020-07-01 05:59:47 ep 65: lss_tr 0.217; lss_vl 0.209; scr_tr 0.856; scr_vl 0.882; \n",
      "2020-07-01 06:04:11 ep 66: lss_tr 0.216; lss_vl 0.209; scr_tr 0.856; scr_vl 0.882; \n",
      "2020-07-01 06:08:29 ep 67: lss_tr 0.216; lss_vl 0.209; scr_tr 0.857; scr_vl 0.881; \n",
      "2020-07-01 06:12:50 ep 68: lss_tr 0.217; lss_vl 0.209; scr_tr 0.856; scr_vl 0.882; \n",
      "Epoch    69: reducing learning rate of group 0 to 1.1719e-05.\n",
      "2020-07-01 06:17:14 ep 69: lss_tr 0.217; lss_vl 0.208; scr_tr 0.855; scr_vl 0.882; \n",
      "2020-07-01 06:21:37 ep 70: lss_tr 0.215; lss_vl 0.208; scr_tr 0.858; scr_vl 0.882; \n",
      "2020-07-01 06:25:58 ep 71: lss_tr 0.216; lss_vl 0.209; scr_tr 0.858; scr_vl 0.883; \n",
      "2020-07-01 06:30:20 ep 72: lss_tr 0.217; lss_vl 0.208; scr_tr 0.856; scr_vl 0.883; \n",
      "2020-07-01 06:34:46 ep 73: lss_tr 0.216; lss_vl 0.208; scr_tr 0.858; scr_vl 0.883; \n",
      "2020-07-01 06:39:13 ep 74: lss_tr 0.216; lss_vl 0.208; scr_tr 0.857; scr_vl 0.883; \n",
      "Epoch    75: reducing learning rate of group 0 to 5.8594e-06.\n",
      "2020-07-01 06:43:33 ep 75: lss_tr 0.216; lss_vl 0.208; scr_tr 0.857; scr_vl 0.883; \n",
      "2020-07-01 06:47:52 ep 76: lss_tr 0.216; lss_vl 0.208; scr_tr 0.856; scr_vl 0.883; \n",
      "2020-07-01 06:52:11 ep 77: lss_tr 0.216; lss_vl 0.208; scr_tr 0.856; scr_vl 0.883; \n",
      "2020-07-01 06:56:37 ep 78: lss_tr 0.215; lss_vl 0.208; scr_tr 0.859; scr_vl 0.883; \n",
      "2020-07-01 07:01:03 ep 79: lss_tr 0.217; lss_vl 0.208; scr_tr 0.854; scr_vl 0.883; \n",
      "2020-07-01 07:05:21 ep 80: lss_tr 0.216; lss_vl 0.208; scr_tr 0.856; scr_vl 0.883; \n",
      "Epoch    81: reducing learning rate of group 0 to 2.9297e-06.\n",
      "2020-07-01 07:09:39 ep 81: lss_tr 0.216; lss_vl 0.208; scr_tr 0.857; scr_vl 0.883; \n",
      "2020-07-01 07:13:58 ep 82: lss_tr 0.216; lss_vl 0.208; scr_tr 0.857; scr_vl 0.883; \n",
      "2020-07-01 07:18:16 ep 83: lss_tr 0.215; lss_vl 0.208; scr_tr 0.860; scr_vl 0.883; \n",
      "2020-07-01 07:22:36 ep 84: lss_tr 0.217; lss_vl 0.208; scr_tr 0.856; scr_vl 0.883; \n",
      "2020-07-01 07:26:55 ep 85: lss_tr 0.216; lss_vl 0.208; scr_tr 0.857; scr_vl 0.883; \n",
      "2020-07-01 07:31:13 ep 86: lss_tr 0.216; lss_vl 0.208; scr_tr 0.857; scr_vl 0.882; \n",
      "Epoch    87: reducing learning rate of group 0 to 1.4648e-06.\n"
     ]
    },
    {
     "name": "stdout",
     "output_type": "stream",
     "text": [
      "2020-07-01 07:35:39 ep 87: lss_tr 0.214; lss_vl 0.208; scr_tr 0.859; scr_vl 0.883; \n",
      "2020-07-01 07:40:05 ep 88: lss_tr 0.217; lss_vl 0.208; scr_tr 0.856; scr_vl 0.883; \n",
      "2020-07-01 07:44:26 ep 89: lss_tr 0.216; lss_vl 0.208; scr_tr 0.858; scr_vl 0.882; \n",
      "2020-07-01 07:48:45 ep 90: lss_tr 0.216; lss_vl 0.208; scr_tr 0.857; scr_vl 0.882; \n",
      "2020-07-01 07:53:04 ep 91: lss_tr 0.217; lss_vl 0.208; scr_tr 0.856; scr_vl 0.882; \n",
      "2020-07-01 07:57:23 ep 92: lss_tr 0.216; lss_vl 0.208; scr_tr 0.857; scr_vl 0.883; \n",
      "Epoch    93: reducing learning rate of group 0 to 7.3242e-07.\n",
      "2020-07-01 08:01:42 ep 93: lss_tr 0.217; lss_vl 0.208; scr_tr 0.856; scr_vl 0.883; \n",
      "2020-07-01 08:06:11 ep 94: lss_tr 0.216; lss_vl 0.208; scr_tr 0.856; scr_vl 0.883; \n",
      "2020-07-01 08:10:37 ep 95: lss_tr 0.217; lss_vl 0.208; scr_tr 0.856; scr_vl 0.883; \n",
      "2020-07-01 08:14:59 ep 96: lss_tr 0.216; lss_vl 0.208; scr_tr 0.857; scr_vl 0.883; \n",
      "2020-07-01 08:19:18 ep 97: lss_tr 0.216; lss_vl 0.208; scr_tr 0.857; scr_vl 0.883; \n",
      "2020-07-01 08:23:38 ep 98: lss_tr 0.218; lss_vl 0.208; scr_tr 0.855; scr_vl 0.882; \n",
      "Epoch    99: reducing learning rate of group 0 to 3.6621e-07.\n",
      "2020-07-01 08:28:00 ep 99: lss_tr 0.215; lss_vl 0.208; scr_tr 0.859; scr_vl 0.883; \n"
     ]
    }
   ],
   "source": [
    "best_scr = float('-inf')\n",
    "best_epc = -1\n",
    "for epc in range(param.EPOCHS):\n",
    "    prdtr_ep=[]\n",
    "    ytr_ep=[]\n",
    "    for step, dat in enumerate(dltr):\n",
    "        mdl.train()\n",
    "        xb,yb=(o.to(device) for o in dat)\n",
    "        yb = yb.unsqueeze(1)\n",
    "        prdb = mdl(xb)\n",
    "        loss = F.binary_cross_entropy_with_logits(prdb, yb)\n",
    "        if param.FP16:\n",
    "            with amp.scale_loss(loss, opt) as scaled_loss:\n",
    "                scaled_loss.backward()\n",
    "        else:\n",
    "            loss.backward()\n",
    "        if param.FP16:\n",
    "            torch.nn.utils.clip_grad_norm_(amp.master_params(opt), 1)\n",
    "        else:\n",
    "            torch.nn.utils.clip_grad_norm_(mdl.parameters(), 1)\n",
    "        opt.step()\n",
    "        opt.zero_grad()\n",
    "        prdtr_ep.append(prdb.cpu().detach().numpy())\n",
    "        ytr_ep.append(yb.cpu().detach().numpy())\n",
    "        if step>0 and step%1000==0: print(dtnow(), f'ep {epc} step {step}/{lendl}')\n",
    "    \n",
    "    prdtr_ep = np.concatenate(prdtr_ep)\n",
    "    ytr_ep = np.concatenate(ytr_ep)    \n",
    "    lss_tr_ep = F.binary_cross_entropy_with_logits(torch.tensor(prdtr_ep),torch.tensor(ytr_ep)).item()\n",
    "    scr_tr_ep = roc_auc(ytr_ep, prdtr_ep)\n",
    "    stats['lss']['tr'].append(lss_tr_ep)\n",
    "    stats['scr']['tr'].append(scr_tr_ep)\n",
    "    \n",
    "    lss_vl_ep, scr_vl_ep, yvl_ep, prdvl_ep = evaluate(mdl, dlvl)\n",
    "    stats['lss']['vl'].append(lss_vl_ep)\n",
    "    stats['scr']['vl'].append(scr_vl_ep)\n",
    "    oof['y'].append(yvl_ep)\n",
    "    oof['prd'].append(prdvl_ep)\n",
    "    \n",
    "    print(dtnow(), f'ep {epc}: lss_tr {lss_tr_ep:.3f}; lss_vl {lss_vl_ep:.3f}; scr_tr {scr_tr_ep:.3f}; scr_vl {scr_vl_ep:.3f}; ')\n",
    "    \n",
    "    if scr_vl_ep>best_scr:\n",
    "        print(f'better scr {best_scr:.3f} -> {scr_vl_ep:.3f}')\n",
    "        best_scr = scr_vl_ep\n",
    "        best_epc = epc\n",
    "        torch.save(mdl.state_dict(), f'{p_out}/model_{param.PRFX}_fld_{param.FLD2USE}_best.p')\n",
    "    if not param.DEBUG: torch.save(mdl.state_dict(), f'{p_out}/model_{param.PRFX}_fld_{param.FLD2USE}_epc_{epc}.p')\n",
    "        \n",
    "    schdl.step(scr_vl_ep)  # Update learning rate schedule\n",
    "    save_results()    \n",
    "    "
   ]
  },
  {
   "cell_type": "markdown",
   "metadata": {},
   "source": [
    "## run done"
   ]
  },
  {
   "cell_type": "code",
   "execution_count": 16,
   "metadata": {
    "scrolled": true
   },
   "outputs": [
    {
     "name": "stdout",
     "output_type": "stream",
     "text": [
      "best_scr 0.8840\n"
     ]
    }
   ],
   "source": [
    "print(f'best_scr {best_scr:.4f}')"
   ]
  },
  {
   "cell_type": "code",
   "execution_count": 17,
   "metadata": {
    "scrolled": true
   },
   "outputs": [
    {
     "data": {
      "text/html": [
       "<div>\n",
       "<style scoped>\n",
       "    .dataframe tbody tr th:only-of-type {\n",
       "        vertical-align: middle;\n",
       "    }\n",
       "\n",
       "    .dataframe tbody tr th {\n",
       "        vertical-align: top;\n",
       "    }\n",
       "\n",
       "    .dataframe thead th {\n",
       "        text-align: right;\n",
       "    }\n",
       "</style>\n",
       "<table border=\"1\" class=\"dataframe\">\n",
       "  <thead>\n",
       "    <tr style=\"text-align: right;\">\n",
       "      <th></th>\n",
       "      <th>tr</th>\n",
       "      <th>vl</th>\n",
       "    </tr>\n",
       "  </thead>\n",
       "  <tbody>\n",
       "    <tr>\n",
       "      <th>0</th>\n",
       "      <td>0.246361</td>\n",
       "      <td>0.318454</td>\n",
       "    </tr>\n",
       "    <tr>\n",
       "      <th>1</th>\n",
       "      <td>0.238285</td>\n",
       "      <td>0.310310</td>\n",
       "    </tr>\n",
       "    <tr>\n",
       "      <th>2</th>\n",
       "      <td>0.235464</td>\n",
       "      <td>0.339778</td>\n",
       "    </tr>\n",
       "    <tr>\n",
       "      <th>3</th>\n",
       "      <td>0.232735</td>\n",
       "      <td>0.348283</td>\n",
       "    </tr>\n",
       "    <tr>\n",
       "      <th>4</th>\n",
       "      <td>0.229960</td>\n",
       "      <td>0.280629</td>\n",
       "    </tr>\n",
       "    <tr>\n",
       "      <th>...</th>\n",
       "      <td>...</td>\n",
       "      <td>...</td>\n",
       "    </tr>\n",
       "    <tr>\n",
       "      <th>95</th>\n",
       "      <td>0.216569</td>\n",
       "      <td>0.208378</td>\n",
       "    </tr>\n",
       "    <tr>\n",
       "      <th>96</th>\n",
       "      <td>0.216417</td>\n",
       "      <td>0.208241</td>\n",
       "    </tr>\n",
       "    <tr>\n",
       "      <th>97</th>\n",
       "      <td>0.215878</td>\n",
       "      <td>0.208427</td>\n",
       "    </tr>\n",
       "    <tr>\n",
       "      <th>98</th>\n",
       "      <td>0.217569</td>\n",
       "      <td>0.208228</td>\n",
       "    </tr>\n",
       "    <tr>\n",
       "      <th>99</th>\n",
       "      <td>0.215477</td>\n",
       "      <td>0.208230</td>\n",
       "    </tr>\n",
       "  </tbody>\n",
       "</table>\n",
       "<p>100 rows × 2 columns</p>\n",
       "</div>"
      ],
      "text/plain": [
       "          tr        vl\n",
       "0   0.246361  0.318454\n",
       "1   0.238285  0.310310\n",
       "2   0.235464  0.339778\n",
       "3   0.232735  0.348283\n",
       "4   0.229960  0.280629\n",
       "..       ...       ...\n",
       "95  0.216569  0.208378\n",
       "96  0.216417  0.208241\n",
       "97  0.215878  0.208427\n",
       "98  0.217569  0.208228\n",
       "99  0.215477  0.208230\n",
       "\n",
       "[100 rows x 2 columns]"
      ]
     },
     "execution_count": 17,
     "metadata": {},
     "output_type": "execute_result"
    }
   ],
   "source": [
    "pd.DataFrame(stats['lss'])"
   ]
  },
  {
   "cell_type": "code",
   "execution_count": 18,
   "metadata": {
    "scrolled": true
   },
   "outputs": [
    {
     "data": {
      "text/html": [
       "<div>\n",
       "<style scoped>\n",
       "    .dataframe tbody tr th:only-of-type {\n",
       "        vertical-align: middle;\n",
       "    }\n",
       "\n",
       "    .dataframe tbody tr th {\n",
       "        vertical-align: top;\n",
       "    }\n",
       "\n",
       "    .dataframe thead th {\n",
       "        text-align: right;\n",
       "    }\n",
       "</style>\n",
       "<table border=\"1\" class=\"dataframe\">\n",
       "  <thead>\n",
       "    <tr style=\"text-align: right;\">\n",
       "      <th></th>\n",
       "      <th>tr</th>\n",
       "      <th>vl</th>\n",
       "    </tr>\n",
       "  </thead>\n",
       "  <tbody>\n",
       "    <tr>\n",
       "      <th>0</th>\n",
       "      <td>0.797081</td>\n",
       "      <td>0.500000</td>\n",
       "    </tr>\n",
       "    <tr>\n",
       "      <th>1</th>\n",
       "      <td>0.814137</td>\n",
       "      <td>0.841405</td>\n",
       "    </tr>\n",
       "    <tr>\n",
       "      <th>2</th>\n",
       "      <td>0.821341</td>\n",
       "      <td>0.741380</td>\n",
       "    </tr>\n",
       "    <tr>\n",
       "      <th>3</th>\n",
       "      <td>0.824852</td>\n",
       "      <td>0.812613</td>\n",
       "    </tr>\n",
       "    <tr>\n",
       "      <th>4</th>\n",
       "      <td>0.831079</td>\n",
       "      <td>0.851363</td>\n",
       "    </tr>\n",
       "    <tr>\n",
       "      <th>...</th>\n",
       "      <td>...</td>\n",
       "      <td>...</td>\n",
       "    </tr>\n",
       "    <tr>\n",
       "      <th>95</th>\n",
       "      <td>0.855701</td>\n",
       "      <td>0.882634</td>\n",
       "    </tr>\n",
       "    <tr>\n",
       "      <th>96</th>\n",
       "      <td>0.856611</td>\n",
       "      <td>0.882610</td>\n",
       "    </tr>\n",
       "    <tr>\n",
       "      <th>97</th>\n",
       "      <td>0.857034</td>\n",
       "      <td>0.882583</td>\n",
       "    </tr>\n",
       "    <tr>\n",
       "      <th>98</th>\n",
       "      <td>0.854853</td>\n",
       "      <td>0.882494</td>\n",
       "    </tr>\n",
       "    <tr>\n",
       "      <th>99</th>\n",
       "      <td>0.859099</td>\n",
       "      <td>0.882662</td>\n",
       "    </tr>\n",
       "  </tbody>\n",
       "</table>\n",
       "<p>100 rows × 2 columns</p>\n",
       "</div>"
      ],
      "text/plain": [
       "          tr        vl\n",
       "0   0.797081  0.500000\n",
       "1   0.814137  0.841405\n",
       "2   0.821341  0.741380\n",
       "3   0.824852  0.812613\n",
       "4   0.831079  0.851363\n",
       "..       ...       ...\n",
       "95  0.855701  0.882634\n",
       "96  0.856611  0.882610\n",
       "97  0.857034  0.882583\n",
       "98  0.854853  0.882494\n",
       "99  0.859099  0.882662\n",
       "\n",
       "[100 rows x 2 columns]"
      ]
     },
     "execution_count": 18,
     "metadata": {},
     "output_type": "execute_result"
    }
   ],
   "source": [
    "pd.DataFrame(stats['scr'])"
   ]
  },
  {
   "cell_type": "code",
   "execution_count": 19,
   "metadata": {},
   "outputs": [
    {
     "data": {
      "image/png": "[encoded data removed]",
      "text/plain": [
       "<Figure size 432x288 with 1 Axes>"
      ]
     },
     "metadata": {
      "needs_background": "light"
     },
     "output_type": "display_data"
    },
    {
     "data": {
      "image/png": "[encoded data removed]",
      "text/plain": [
       "<Figure size 432x288 with 1 Axes>"
      ]
     },
     "metadata": {
      "needs_background": "light"
     },
     "output_type": "display_data"
    }
   ],
   "source": [
    "for mtrc in ['lss', 'scr']:\n",
    "    recs=stats[mtrc]\n",
    "    for tv,vs in recs.items():\n",
    "        plt.title(f'{mtrc}')\n",
    "        plt.plot(vs, 'o--')\n",
    "    plt.show()"
   ]
  },
  {
   "cell_type": "markdown",
   "metadata": {},
   "source": [
    "# inference"
   ]
  },
  {
   "cell_type": "code",
   "execution_count": 20,
   "metadata": {},
   "outputs": [
    {
     "data": {
      "text/html": [
       "<div>\n",
       "<style scoped>\n",
       "    .dataframe tbody tr th:only-of-type {\n",
       "        vertical-align: middle;\n",
       "    }\n",
       "\n",
       "    .dataframe tbody tr th {\n",
       "        vertical-align: top;\n",
       "    }\n",
       "\n",
       "    .dataframe thead th {\n",
       "        text-align: right;\n",
       "    }\n",
       "</style>\n",
       "<table border=\"1\" class=\"dataframe\">\n",
       "  <thead>\n",
       "    <tr style=\"text-align: right;\">\n",
       "      <th></th>\n",
       "      <th>image_name</th>\n",
       "      <th>patient_id</th>\n",
       "      <th>sex</th>\n",
       "      <th>age_approx</th>\n",
       "      <th>anatom_site_general_challenge</th>\n",
       "      <th>im_pth</th>\n",
       "    </tr>\n",
       "  </thead>\n",
       "  <tbody>\n",
       "    <tr>\n",
       "      <th>0</th>\n",
       "      <td>ISIC_0052060</td>\n",
       "      <td>IP_3579794</td>\n",
       "      <td>male</td>\n",
       "      <td>70.0</td>\n",
       "      <td>NaN</td>\n",
       "      <td>../output/MelPrp0629A1/siim-isic-melanoma-clas...</td>\n",
       "    </tr>\n",
       "    <tr>\n",
       "      <th>1</th>\n",
       "      <td>ISIC_0052349</td>\n",
       "      <td>IP_7782715</td>\n",
       "      <td>male</td>\n",
       "      <td>40.0</td>\n",
       "      <td>lower extremity</td>\n",
       "      <td>../output/MelPrp0629A1/siim-isic-melanoma-clas...</td>\n",
       "    </tr>\n",
       "    <tr>\n",
       "      <th>2</th>\n",
       "      <td>ISIC_0058510</td>\n",
       "      <td>IP_7960270</td>\n",
       "      <td>female</td>\n",
       "      <td>55.0</td>\n",
       "      <td>torso</td>\n",
       "      <td>../output/MelPrp0629A1/siim-isic-melanoma-clas...</td>\n",
       "    </tr>\n",
       "  </tbody>\n",
       "</table>\n",
       "</div>"
      ],
      "text/plain": [
       "     image_name  patient_id     sex  age_approx anatom_site_general_challenge  \\\n",
       "0  ISIC_0052060  IP_3579794    male        70.0                           NaN   \n",
       "1  ISIC_0052349  IP_7782715    male        40.0               lower extremity   \n",
       "2  ISIC_0058510  IP_7960270  female        55.0                         torso   \n",
       "\n",
       "                                              im_pth  \n",
       "0  ../output/MelPrp0629A1/siim-isic-melanoma-clas...  \n",
       "1  ../output/MelPrp0629A1/siim-isic-melanoma-clas...  \n",
       "2  ../output/MelPrp0629A1/siim-isic-melanoma-clas...  "
      ]
     },
     "metadata": {},
     "output_type": "display_data"
    },
    {
     "name": "stdout",
     "output_type": "stream",
     "text": [
      "10982\n",
      "58\n"
     ]
    }
   ],
   "source": [
    "dftst = pd.read_csv(f'{p_prp}/test.csv', nrows=128 if param.DEBUG else None) \n",
    "display(dftst.head(3))\n",
    "\n",
    "dfsub = pd.read_csv(f'{p_cmp}/sample_submission.csv', nrows=128 if param.DEBUG else None) \n",
    "\n",
    "dstst = MelDataset(dftst, mode='tst')\n",
    "print(len(dstst))\n",
    "dltst = DataLoader(dstst, batch_size=param.BS*2, shuffle=False, num_workers=N_WORKERS, pin_memory=PIN_MEM)\n",
    "print(len(dltst))\n",
    "lendl=len(dltst)"
   ]
  },
  {
   "cell_type": "code",
   "execution_count": 21,
   "metadata": {},
   "outputs": [
    {
     "name": "stdout",
     "output_type": "stream",
     "text": [
      "Loaded pretrained weights for efficientnet-b0\n",
      "load model ../output/Mel0630C1/model_Mel0630C1_fld_0_best.p\n"
     ]
    }
   ],
   "source": [
    "mdl = mkmdl()\n",
    "fnm_mdl = f'{p_out}/model_{param.PRFX}_fld_{param.FLD2USE}_best.p'\n",
    "print('load model', fnm_mdl)\n",
    "mdl.load_state_dict(torch.load(fnm_mdl, map_location=torch.device(DEVICE)))\n",
    "\n",
    "mdl = mdl.to(device)"
   ]
  },
  {
   "cell_type": "code",
   "execution_count": 22,
   "metadata": {},
   "outputs": [],
   "source": [
    "def infer(model, dl):\n",
    "    lendl=len(dl)\n",
    "    model.eval()\n",
    "    prd = []\n",
    "    for step, dat in enumerate(dl):\n",
    "        if step%1000==0: print(dtnow(), f'step {step}/{lendl}')\n",
    "        xb=dat[0].to(device)\n",
    "        with torch.no_grad(): prdb = model(xb)\n",
    "        prd.append(prdb.cpu().detach().numpy())\n",
    "    prd = np.concatenate(prd)    \n",
    "    return prd"
   ]
  },
  {
   "cell_type": "code",
   "execution_count": 23,
   "metadata": {},
   "outputs": [
    {
     "name": "stdout",
     "output_type": "stream",
     "text": [
      "2020-07-01 08:28:04 step 0/58\n"
     ]
    }
   ],
   "source": [
    "prdtst = infer(mdl, dltst)"
   ]
  },
  {
   "cell_type": "code",
   "execution_count": 24,
   "metadata": {},
   "outputs": [
    {
     "name": "stdout",
     "output_type": "stream",
     "text": [
      "0.05546783655881882\n"
     ]
    },
    {
     "data": {
      "text/html": [
       "<div>\n",
       "<style scoped>\n",
       "    .dataframe tbody tr th:only-of-type {\n",
       "        vertical-align: middle;\n",
       "    }\n",
       "\n",
       "    .dataframe tbody tr th {\n",
       "        vertical-align: top;\n",
       "    }\n",
       "\n",
       "    .dataframe thead th {\n",
       "        text-align: right;\n",
       "    }\n",
       "</style>\n",
       "<table border=\"1\" class=\"dataframe\">\n",
       "  <thead>\n",
       "    <tr style=\"text-align: right;\">\n",
       "      <th></th>\n",
       "      <th>image_name</th>\n",
       "      <th>target</th>\n",
       "    </tr>\n",
       "  </thead>\n",
       "  <tbody>\n",
       "    <tr>\n",
       "      <th>0</th>\n",
       "      <td>ISIC_0052060</td>\n",
       "      <td>0.003722</td>\n",
       "    </tr>\n",
       "    <tr>\n",
       "      <th>1</th>\n",
       "      <td>ISIC_0052349</td>\n",
       "      <td>0.003483</td>\n",
       "    </tr>\n",
       "    <tr>\n",
       "      <th>2</th>\n",
       "      <td>ISIC_0058510</td>\n",
       "      <td>0.002323</td>\n",
       "    </tr>\n",
       "    <tr>\n",
       "      <th>3</th>\n",
       "      <td>ISIC_0073313</td>\n",
       "      <td>0.001934</td>\n",
       "    </tr>\n",
       "    <tr>\n",
       "      <th>4</th>\n",
       "      <td>ISIC_0073502</td>\n",
       "      <td>0.103024</td>\n",
       "    </tr>\n",
       "  </tbody>\n",
       "</table>\n",
       "</div>"
      ],
      "text/plain": [
       "     image_name    target\n",
       "0  ISIC_0052060  0.003722\n",
       "1  ISIC_0052349  0.003483\n",
       "2  ISIC_0058510  0.002323\n",
       "3  ISIC_0073313  0.001934\n",
       "4  ISIC_0073502  0.103024"
      ]
     },
     "execution_count": 24,
     "metadata": {},
     "output_type": "execute_result"
    }
   ],
   "source": [
    "dfsub.target = sigmoid(prdtst)\n",
    "print(dfsub.target.mean())\n",
    "dfsub.head()"
   ]
  },
  {
   "cell_type": "code",
   "execution_count": 25,
   "metadata": {},
   "outputs": [
    {
     "data": {
      "image/png": "[encoded data removed]",
      "text/plain": [
       "<Figure size 432x288 with 1 Axes>"
      ]
     },
     "metadata": {
      "needs_background": "light"
     },
     "output_type": "display_data"
    }
   ],
   "source": [
    "plt.hist(dfsub.target, bins=50);"
   ]
  },
  {
   "cell_type": "code",
   "execution_count": null,
   "metadata": {},
   "outputs": [],
   "source": []
  },
  {
   "cell_type": "code",
   "execution_count": 26,
   "metadata": {},
   "outputs": [],
   "source": [
    "dfsub.to_csv(f'{p_out}/submission_{param.PRFX}.csv', index=False)"
   ]
  },
  {
   "cell_type": "code",
   "execution_count": null,
   "metadata": {},
   "outputs": [],
   "source": []
  },
  {
   "cell_type": "markdown",
   "metadata": {},
   "source": [
    "# fin"
   ]
  },
  {
   "cell_type": "code",
   "execution_count": 27,
   "metadata": {},
   "outputs": [
    {
     "name": "stdout",
     "output_type": "stream",
     "text": [
      "best_scr 0.8840\n"
     ]
    }
   ],
   "source": [
    "print(f'best_scr {best_scr:.4f}')"
   ]
  },
  {
   "cell_type": "code",
   "execution_count": 28,
   "metadata": {},
   "outputs": [
    {
     "data": {
      "text/plain": [
       "{'PRFX': 'Mel0630C1',\n",
       " 'PRFX_B4': None,\n",
       " 'FLD2USE_B4': 0,\n",
       " 'PRFX_PREP': 'MelPrp0629A1',\n",
       " 'ARCH': 'efficientnet-b0',\n",
       " 'SZ': 224,\n",
       " 'EPOCHS': 100,\n",
       " 'BS': 96,\n",
       " 'K': 5,\n",
       " 'SEED': 101,\n",
       " 'FLD2USE': 0,\n",
       " 'FP16': True,\n",
       " 'PLTFACTOR': 0.5,\n",
       " 'PATIENCE': 5,\n",
       " 'MIN_LR': 1e-08,\n",
       " 'LR': 0.003,\n",
       " 'WD': 0.001,\n",
       " 'N_SAMPL': None,\n",
       " 'DEBUG': False}"
      ]
     },
     "execution_count": 28,
     "metadata": {},
     "output_type": "execute_result"
    }
   ],
   "source": [
    "param.__dict__"
   ]
  },
  {
   "cell_type": "code",
   "execution_count": 29,
   "metadata": {},
   "outputs": [
    {
     "name": "stdout",
     "output_type": "stream",
     "text": [
      "Wed Jul  1 08:28:34 2020       \r\n",
      "+-----------------------------------------------------------------------------+\r\n",
      "| NVIDIA-SMI 440.100      Driver Version: 440.100      CUDA Version: 10.2     |\r\n",
      "|-------------------------------+----------------------+----------------------+\r\n",
      "| GPU  Name        Persistence-M| Bus-Id        Disp.A | Volatile Uncorr. ECC |\r\n",
      "| Fan  Temp  Perf  Pwr:Usage/Cap|         Memory-Usage | GPU-Util  Compute M. |\r\n",
      "|===============================+======================+======================|\r\n",
      "|   0  Tesla V100-SXM2...  Off  | 00000000:00:1E.0 Off |                    0 |\r\n",
      "| N/A   54C    P0    62W / 300W |  15177MiB / 16160MiB |     61%      Default |\r\n",
      "+-------------------------------+----------------------+----------------------+\r\n",
      "                                                                               \r\n",
      "+-----------------------------------------------------------------------------+\r\n",
      "| Processes:                                                       GPU Memory |\r\n",
      "|  GPU       PID   Type   Process name                             Usage      |\r\n",
      "|=============================================================================|\r\n",
      "|    0      1911      C   /data/anaconda3/envs/mel/bin/python         7581MiB |\r\n",
      "|    0     12553      C   /data/anaconda3/envs/mel/bin/python         7581MiB |\r\n",
      "+-----------------------------------------------------------------------------+\r\n"
     ]
    }
   ],
   "source": [
    "!nvidia-smi"
   ]
  },
  {
   "cell_type": "code",
   "execution_count": null,
   "metadata": {},
   "outputs": [],
   "source": []
  },
  {
   "cell_type": "code",
   "execution_count": null,
   "metadata": {},
   "outputs": [],
   "source": []
  },
  {
   "cell_type": "code",
   "execution_count": null,
   "metadata": {},
   "outputs": [],
   "source": []
  }
 ],
 "metadata": {
  "kernelspec": {
   "display_name": "mel",
   "language": "python",
   "name": "mel"
  },
  "language_info": {
   "codemirror_mode": {
    "name": "ipython",
    "version": 3
   },
   "file_extension": ".py",
   "mimetype": "text/x-python",
   "name": "python",
   "nbconvert_exporter": "python",
   "pygments_lexer": "ipython3",
   "version": "3.7.7"
  },
  "toc": {
   "base_numbering": 1,
   "nav_menu": {},
   "number_sections": true,
   "sideBar": true,
   "skip_h1_title": false,
   "title_cell": "Table of Contents",
   "title_sidebar": "Contents",
   "toc_cell": false,
   "toc_position": {},
   "toc_section_display": true,
   "toc_window_display": true
  }
 },
 "nbformat": 4,
 "nbformat_minor": 4
}
