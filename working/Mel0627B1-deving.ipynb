{
 "cells": [
  {
   "cell_type": "markdown",
   "metadata": {},
   "source": [
    "mainly looking at https://github.com/ngessert/isic2019/blob/master/models.py"
   ]
  },
  {
   "cell_type": "markdown",
   "metadata": {},
   "source": [
    "# start"
   ]
  },
  {
   "cell_type": "code",
   "execution_count": 1,
   "metadata": {},
   "outputs": [
    {
     "data": {
      "text/plain": [
       "{'PRFX': 'Mel0627B1',\n",
       " 'PRFX_PREP': 'MelPrp0626A2',\n",
       " 'ARCH': 'efficientnet-b1',\n",
       " 'SZ': 224,\n",
       " 'EPOCHS': 1,\n",
       " 'BS': 128,\n",
       " 'K': 2,\n",
       " 'SEED': 101,\n",
       " 'FLD2USE': 0,\n",
       " 'FP16': True,\n",
       " 'LR': 0.003,\n",
       " 'WD': 0.0,\n",
       " 'N_SAMPL': 256,\n",
       " 'DEBUG': True}"
      ]
     },
     "execution_count": 1,
     "metadata": {},
     "output_type": "execute_result"
    }
   ],
   "source": [
    "class Param: pass\n",
    "param = Param()\n",
    "\n",
    "param.PRFX = 'Mel0627B1'\n",
    "param.PRFX_PREP = 'MelPrp0626A2'\n",
    "param.ARCH = 'efficientnet-b1'\n",
    "param.SZ = 224\n",
    "param.EPOCHS = 10\n",
    "param.BS = 128\n",
    "param.K=5; param.SEED=101; param.FLD2USE=0\n",
    "param.FP16 = True\n",
    "\n",
    "param.LR=3e-3\n",
    "param.WD=0.\n",
    "\n",
    "param.N_SAMPL = int(5e3)\n",
    "\n",
    "param.DEBUG = True\n",
    "if param.DEBUG: \n",
    "    param.EPOCHS = 1\n",
    "    param.K = 2\n",
    "    param.N_SAMPL = 256\n",
    "\n",
    "DEVICE = 'cuda'; PIN_MEM = (DEVICE=='cuda'); N_WORKERS=4\n",
    "\n",
    "param.__dict__"
   ]
  },
  {
   "cell_type": "code",
   "execution_count": 2,
   "metadata": {},
   "outputs": [
    {
     "name": "stdout",
     "output_type": "stream",
     "text": [
      "Sat Jun 27 20:04:24 2020       \r\n",
      "+-----------------------------------------------------------------------------+\r\n",
      "| NVIDIA-SMI 440.100      Driver Version: 440.100      CUDA Version: 10.2     |\r\n",
      "|-------------------------------+----------------------+----------------------+\r\n",
      "| GPU  Name        Persistence-M| Bus-Id        Disp.A | Volatile Uncorr. ECC |\r\n",
      "| Fan  Temp  Perf  Pwr:Usage/Cap|         Memory-Usage | GPU-Util  Compute M. |\r\n",
      "|===============================+======================+======================|\r\n",
      "|   0  Tesla K80           Off  | 00000000:00:1E.0 Off |                    0 |\r\n",
      "| N/A   53C    P8    28W / 149W |     11MiB / 11441MiB |      0%      Default |\r\n",
      "+-------------------------------+----------------------+----------------------+\r\n",
      "                                                                               \r\n",
      "+-----------------------------------------------------------------------------+\r\n",
      "| Processes:                                                       GPU Memory |\r\n",
      "|  GPU       PID   Type   Process name                             Usage      |\r\n",
      "|=============================================================================|\r\n",
      "|  No running processes found                                                 |\r\n",
      "+-----------------------------------------------------------------------------+\r\n"
     ]
    }
   ],
   "source": [
    "!nvidia-smi"
   ]
  },
  {
   "cell_type": "markdown",
   "metadata": {},
   "source": [
    "# setup"
   ]
  },
  {
   "cell_type": "code",
   "execution_count": 3,
   "metadata": {},
   "outputs": [],
   "source": [
    "from pathlib import Path\n",
    "import pickle\n",
    "import pandas as pd\n",
    "import numpy as np\n",
    "import random\n",
    "import os, sys, gc\n",
    "import datetime\n",
    "from collections import defaultdict, Counter\n",
    "import matplotlib.pyplot as plt\n",
    "from PIL import Image\n",
    "from tqdm import tqdm\n",
    "from sklearn.model_selection import GroupKFold\n",
    "from sklearn.metrics import roc_auc_score as roc_auc\n",
    "\n",
    "# https://github.com/eriklindernoren/PyTorch-YOLOv3/issues/162#issuecomment-491115265\n",
    "from PIL import ImageFile; ImageFile.LOAD_TRUNCATED_IMAGES = True\n",
    "\n",
    "def dtnow(): return datetime.datetime.now().strftime('%Y-%m-%d %H:%M:%S')\n",
    "\n",
    "import torch\n",
    "device=torch.device(DEVICE)\n",
    "import torch.nn as nn\n",
    "import torch.nn.functional as F\n",
    "from torch.utils.data import Dataset, DataLoader\n",
    "import torchvision.transforms as transforms\n",
    "import torch.optim as optim\n",
    "from torch.optim import lr_scheduler\n",
    "\n",
    "from efficientnet_pytorch import EfficientNet\n",
    "\n",
    "from apex import amp\n",
    "\n",
    "def sigmoid(x):\n",
    "    return 1 / (1 + np.exp(-x))\n",
    "\n",
    "def set_seed(seed):\n",
    "    random.seed(seed)\n",
    "    os.environ['PYTHONHASHSEED'] = str(seed)\n",
    "    np.random.seed(seed)\n",
    "    torch.manual_seed(seed)\n",
    "    torch.cuda.manual_seed(seed)\n",
    "    torch.backends.cudnn.deterministic = True\n",
    "set_seed(param.SEED)\n",
    "\n",
    "\n",
    "\n",
    "p_out=f'../output/{param.PRFX}'; Path(p_out).mkdir(exist_ok=True,parents=True)\n",
    "p_cmp = '../input/siim-isic-melanoma-classification'\n",
    "\n"
   ]
  },
  {
   "cell_type": "markdown",
   "metadata": {},
   "source": [
    "# prep"
   ]
  },
  {
   "cell_type": "code",
   "execution_count": 4,
   "metadata": {
    "scrolled": false
   },
   "outputs": [
    {
     "name": "stdout",
     "output_type": "stream",
     "text": [
      "(58457, 4)\n"
     ]
    },
    {
     "data": {
      "text/html": [
       "<div>\n",
       "<style scoped>\n",
       "    .dataframe tbody tr th:only-of-type {\n",
       "        vertical-align: middle;\n",
       "    }\n",
       "\n",
       "    .dataframe tbody tr th {\n",
       "        vertical-align: top;\n",
       "    }\n",
       "\n",
       "    .dataframe thead th {\n",
       "        text-align: right;\n",
       "    }\n",
       "</style>\n",
       "<table border=\"1\" class=\"dataframe\">\n",
       "  <thead>\n",
       "    <tr style=\"text-align: right;\">\n",
       "      <th></th>\n",
       "      <th>source</th>\n",
       "      <th>im_pth</th>\n",
       "      <th>patient_id</th>\n",
       "      <th>target</th>\n",
       "    </tr>\n",
       "  </thead>\n",
       "  <tbody>\n",
       "    <tr>\n",
       "      <th>24437</th>\n",
       "      <td>20</td>\n",
       "      <td>../input/siim-isic-melanoma-classification/jpe...</td>\n",
       "      <td>IP_4021847</td>\n",
       "      <td>0.0</td>\n",
       "    </tr>\n",
       "    <tr>\n",
       "      <th>57432</th>\n",
       "      <td>19</td>\n",
       "      <td>../input/andrewmvd--isic-2019/ISIC_2019_Traini...</td>\n",
       "      <td>BCN_0004730</td>\n",
       "      <td>1.0</td>\n",
       "    </tr>\n",
       "  </tbody>\n",
       "</table>\n",
       "</div>"
      ],
      "text/plain": [
       "       source                                             im_pth   patient_id  \\\n",
       "24437      20  ../input/siim-isic-melanoma-classification/jpe...   IP_4021847   \n",
       "57432      19  ../input/andrewmvd--isic-2019/ISIC_2019_Traini...  BCN_0004730   \n",
       "\n",
       "       target  \n",
       "24437     0.0  \n",
       "57432     1.0  "
      ]
     },
     "metadata": {},
     "output_type": "display_data"
    },
    {
     "data": {
      "text/plain": [
       "(256, 4)"
      ]
     },
     "metadata": {},
     "output_type": "display_data"
    },
    {
     "data": {
      "text/plain": [
       "20    146\n",
       "19    110\n",
       "Name: source, dtype: int64"
      ]
     },
     "metadata": {},
     "output_type": "display_data"
    },
    {
     "data": {
      "text/plain": [
       "source\n",
       "19    0.154545\n",
       "20    0.013699\n",
       "Name: target, dtype: float64"
      ]
     },
     "metadata": {},
     "output_type": "display_data"
    }
   ],
   "source": [
    "p_prp = f'../output/{param.PRFX_PREP}'\n",
    "dftrn = pd.read_csv(f'{p_prp}/train_all.csv') \n",
    "print(dftrn.shape)\n",
    "\n",
    "set_seed(param.SEED); dftrn = dftrn.sample(frac=1.)\n",
    "\n",
    "if param.N_SAMPL is not None: dftrn = dftrn.head(param.N_SAMPL)\n",
    "    \n",
    "display(dftrn.head(2))\n",
    "display(dftrn.shape)\n",
    "display(dftrn.source.value_counts())\n",
    "display(dftrn.groupby('source').target.mean())"
   ]
  },
  {
   "cell_type": "markdown",
   "metadata": {},
   "source": [
    "## folds"
   ]
  },
  {
   "cell_type": "code",
   "execution_count": 5,
   "metadata": {},
   "outputs": [
    {
     "name": "stdout",
     "output_type": "stream",
     "text": [
      "9\n"
     ]
    }
   ],
   "source": [
    "idx_nopid=np.where(dftrn.patient_id.isna())[0]\n",
    "print(len(idx_nopid))\n",
    "dftrn['patient_id'].iloc[idx_nopid]=[f'Nan_{i}' for i in range(len(idx_nopid))]\n",
    "assert dftrn.patient_id.isna().mean()==0"
   ]
  },
  {
   "cell_type": "code",
   "execution_count": 6,
   "metadata": {},
   "outputs": [
    {
     "name": "stdout",
     "output_type": "stream",
     "text": [
      "0 128 128\n",
      "1 128 128\n"
     ]
    },
    {
     "data": {
      "text/plain": [
       "0.0    0.914062\n",
       "1.0    0.085938\n",
       "Name: target, dtype: float64"
      ]
     },
     "metadata": {},
     "output_type": "display_data"
    },
    {
     "data": {
      "text/plain": [
       "0.0    0.9375\n",
       "1.0    0.0625\n",
       "Name: target, dtype: float64"
      ]
     },
     "metadata": {},
     "output_type": "display_data"
    },
    {
     "data": {
      "text/plain": [
       "20    72\n",
       "19    56\n",
       "Name: source, dtype: int64"
      ]
     },
     "metadata": {},
     "output_type": "display_data"
    },
    {
     "data": {
      "text/plain": [
       "20    74\n",
       "19    54\n",
       "Name: source, dtype: int64"
      ]
     },
     "metadata": {},
     "output_type": "display_data"
    }
   ],
   "source": [
    "set_seed(param.SEED)\n",
    "kf = GroupKFold(n_splits=param.K)\n",
    "fld2trvl={fld:(tr,vl) for fld,(tr,vl) in enumerate(kf.split(dftrn, groups=dftrn.patient_id))}\n",
    "\n",
    "for fld, (tr, vl) in fld2trvl.items():\n",
    "    print(fld, len(tr), len(vl))\n",
    "    dftr=dftrn.iloc[tr]\n",
    "    dfvl=dftrn.iloc[vl]\n",
    "    assert set(dftr.patient_id)&set(dfvl.patient_id)==set()\n",
    "for fld, (tr, vl) in fld2trvl.items():\n",
    "    dftr=dftrn.iloc[tr]\n",
    "    display(dftr.target.value_counts()/len(tr))\n",
    "for fld, (tr, vl) in fld2trvl.items():\n",
    "    dftr=dftrn.iloc[tr]\n",
    "    display(dftr.source.value_counts())\n"
   ]
  },
  {
   "cell_type": "markdown",
   "metadata": {},
   "source": [
    "# dataset"
   ]
  },
  {
   "cell_type": "code",
   "execution_count": 7,
   "metadata": {},
   "outputs": [],
   "source": [
    "class MelDataset(Dataset):\n",
    "    def __init__(self, df, istrn=True):\n",
    "        self.df = df\n",
    "        self.istrn = istrn\n",
    "        self.composed = transforms.Compose([\n",
    "            transforms.RandomResizedCrop(param.SZ),\n",
    "            transforms.RandomHorizontalFlip(),\n",
    "            transforms.RandomVerticalFlip(),\n",
    "            transforms.ColorJitter(brightness=32. / 255.,saturation=0.5),\n",
    "            transforms.ToTensor(),\n",
    "            transforms.Normalize([0.485, 0.456, 0.406], [0.229, 0.224, 0.225]),\n",
    "        ])    \n",
    "    def __getitem__(self, i):\n",
    "        x = Image.open(self.df.im_pth.values[i]) #self.imgs[i]\n",
    "        x = self.composed(x)\n",
    "        if self.istrn:\n",
    "            y = self.df.target.values[i]\n",
    "            return x, y\n",
    "        else:\n",
    "            return (x,)\n",
    "    \n",
    "    def __len__(self):\n",
    "        return len(self.df)    "
   ]
  },
  {
   "cell_type": "markdown",
   "metadata": {},
   "source": [
    "# model"
   ]
  },
  {
   "cell_type": "code",
   "execution_count": 8,
   "metadata": {},
   "outputs": [],
   "source": [
    "def mkmdl(): return EfficientNet.from_pretrained(param.ARCH, num_classes=1)"
   ]
  },
  {
   "cell_type": "markdown",
   "metadata": {},
   "source": [
    "# train"
   ]
  },
  {
   "cell_type": "code",
   "execution_count": 16,
   "metadata": {},
   "outputs": [
    {
     "name": "stdout",
     "output_type": "stream",
     "text": [
      "128 128\n",
      "128 128\n",
      "1 1\n"
     ]
    }
   ],
   "source": [
    "tr,vl=fld2trvl[param.FLD2USE]\n",
    "dftr=dftrn.iloc[tr]\n",
    "dfvl=dftrn.iloc[vl]\n",
    "ystr=dftr.target.values\n",
    "ysvl=dfvl.target.values\n",
    "print(len(dftr), len(dfvl))\n",
    "dstr = MelDataset(dftr)\n",
    "dsvl = MelDataset(dfvl)\n",
    "print(len(dstr), len(dsvl))\n",
    "dltr = DataLoader(dstr, batch_size=param.BS,   shuffle=True,  num_workers=N_WORKERS, pin_memory=PIN_MEM)\n",
    "dlvl = DataLoader(dsvl, batch_size=param.BS*2, shuffle=False, num_workers=N_WORKERS, pin_memory=PIN_MEM)\n",
    "print(len(dltr), len(dlvl))\n",
    "lendl=len(dltr)"
   ]
  },
  {
   "cell_type": "code",
   "execution_count": 39,
   "metadata": {},
   "outputs": [],
   "source": [
    "def evaluate(model, dl):\n",
    "    model.eval()\n",
    "    prd = []\n",
    "    y = []\n",
    "    for step, dat in enumerate(dl):\n",
    "        xb, yb = (o.to(device) for o in dat)\n",
    "        with torch.no_grad(): prdb = model(xb)\n",
    "        prd.append(prdb.cpu().detach().numpy())\n",
    "        y.append(yb.cpu().detach().numpy())\n",
    "    prd = np.concatenate(prd)    \n",
    "    y = np.concatenate(y)    \n",
    "    lss = F.binary_cross_entropy_with_logits(torch.tensor(prd),torch.tensor(y).unsqueeze(1)).item()\n",
    "    scr = roc_auc(y, prd)\n",
    "    return lss, scr, y, prd"
   ]
  },
  {
   "cell_type": "code",
   "execution_count": 18,
   "metadata": {},
   "outputs": [
    {
     "name": "stdout",
     "output_type": "stream",
     "text": [
      "Loaded pretrained weights for efficientnet-b1\n"
     ]
    }
   ],
   "source": [
    "mdl = mkmdl()\n",
    "mdl = mdl.to(device)\n",
    "\n",
    "# opt = optim.SGD(mdl.parameters(), lr=param.LR, momentum=param.MOMENTUM, weight_decay=param.WD)\n",
    "opt = optim.Adam(mdl.parameters(), lr=param.LR, weight_decay=param.WD)\n",
    "# schdl = optim.lr_scheduler.ReduceLROnPlateau(optimizer, mode='min', factor=PLTFACTOR, patience=PATIENCE, min_lr=MIN_LR, verbose=True)\n",
    "\n",
    "mdl, opt = amp.initialize(mdl, opt, opt_level='O1', verbosity=0)\n",
    "mdl.zero_grad()\n"
   ]
  },
  {
   "cell_type": "markdown",
   "metadata": {},
   "source": [
    "## run train"
   ]
  },
  {
   "cell_type": "code",
   "execution_count": 19,
   "metadata": {},
   "outputs": [
    {
     "name": "stdout",
     "output_type": "stream",
     "text": [
      "2020-06-27 19:41:37 ep 0 step 0/1\n",
      "2020-06-27 19:42:15 ep 0: lss_tr 0.687; lss_vl 0.633; scr_tr 0.580; scr_vl 0.384; \n",
      "better scr -inf -> 0.384\n"
     ]
    }
   ],
   "source": [
    "stats = {\n",
    "    'lss': {'tr':[],'vl':[]},\n",
    "    'scr': {'tr':[],'vl':[]},\n",
    "}\n",
    "oof = {'y':[], 'prd':[]}\n",
    "best_scr = float('-inf')\n",
    "best_epc = -1\n",
    "for epc in range(param.EPOCHS):\n",
    "    prdtr_ep=[]\n",
    "    ytr_ep=[]\n",
    "    for step, dat in enumerate(dltr):\n",
    "        mdl.train()\n",
    "        xb,yb=(o.to(device) for o in dat)\n",
    "        yb = yb.unsqueeze(1)\n",
    "        prdb = mdl(xb)\n",
    "        loss = F.binary_cross_entropy_with_logits(prdb, yb)\n",
    "        if param.FP16:\n",
    "            with amp.scale_loss(loss, opt) as scaled_loss:\n",
    "                scaled_loss.backward()\n",
    "        else:\n",
    "            loss.backward()\n",
    "        if param.FP16:\n",
    "            torch.nn.utils.clip_grad_norm_(amp.master_params(opt), 1)\n",
    "        else:\n",
    "            torch.nn.utils.clip_grad_norm_(mdl.parameters(), 1)\n",
    "        opt.step()\n",
    "        opt.zero_grad()\n",
    "        prdtr_ep.append(prdb.cpu().detach().numpy())\n",
    "        ytr_ep.append(yb.cpu().detach().numpy())\n",
    "        if step%1000==0: print(dtnow(), f'ep {epc} step {step}/{lendl}')\n",
    "    \n",
    "    prdtr_ep = np.concatenate(prdtr_ep)\n",
    "    ytr_ep = np.concatenate(ytr_ep)    \n",
    "    lss_tr_ep = F.binary_cross_entropy_with_logits(torch.tensor(prdtr_ep),torch.tensor(ytr_ep)).item()\n",
    "    scr_tr_ep = roc_auc(ytr_ep, prdtr_ep)\n",
    "    stats['lss']['tr'].append(lss_tr_ep)\n",
    "    stats['scr']['tr'].append(scr_tr_ep)\n",
    "    \n",
    "    lss_vl_ep, scr_vl_ep, yvl_ep, prdvl_ep = evaluate(mdl, dlvl)\n",
    "    stats['lss']['vl'].append(lss_vl_ep)\n",
    "    stats['scr']['vl'].append(scr_vl_ep)\n",
    "    oof['y'].append(yvl_ep)\n",
    "    oof['prd'].append(prdvl_ep)\n",
    "    \n",
    "    print(dtnow(), f'ep {epc}: lss_tr {lss_tr_ep:.3f}; lss_vl {lss_vl_ep:.3f}; scr_tr {scr_tr_ep:.3f}; scr_vl {scr_vl_ep:.3f}; ')\n",
    "    \n",
    "    if scr_vl_ep>best_scr:\n",
    "        print(f'better scr {best_scr:.3f} -> {scr_vl_ep:.3f}')\n",
    "        best_scr = scr_vl_ep\n",
    "        best_epc = epc\n",
    "        if not param.DEBUG: torch.save(mdl.state_dict(), f'{p_out}/model_{param.PRFX}_fld_{param.FLD2USE}_best.p')\n",
    "    if not param.DEBUG: torch.save(mdl.state_dict(), f'{p_out}/model_{param.PRFX}_fld_{param.FLD2USE}_epc_{epc}.p')\n",
    "        \n",
    "#     schdl.step(lossval)  # Update learning rate schedule\n",
    "        \n",
    "    "
   ]
  },
  {
   "cell_type": "markdown",
   "metadata": {},
   "source": [
    "## run done"
   ]
  },
  {
   "cell_type": "code",
   "execution_count": 20,
   "metadata": {
    "scrolled": true
   },
   "outputs": [
    {
     "name": "stdout",
     "output_type": "stream",
     "text": [
      "best_scr 0.3844\n"
     ]
    }
   ],
   "source": [
    "print(f'best_scr {best_scr:.4f}')"
   ]
  },
  {
   "cell_type": "code",
   "execution_count": 21,
   "metadata": {
    "scrolled": true
   },
   "outputs": [
    {
     "data": {
      "text/html": [
       "<div>\n",
       "<style scoped>\n",
       "    .dataframe tbody tr th:only-of-type {\n",
       "        vertical-align: middle;\n",
       "    }\n",
       "\n",
       "    .dataframe tbody tr th {\n",
       "        vertical-align: top;\n",
       "    }\n",
       "\n",
       "    .dataframe thead th {\n",
       "        text-align: right;\n",
       "    }\n",
       "</style>\n",
       "<table border=\"1\" class=\"dataframe\">\n",
       "  <thead>\n",
       "    <tr style=\"text-align: right;\">\n",
       "      <th></th>\n",
       "      <th>tr</th>\n",
       "      <th>vl</th>\n",
       "    </tr>\n",
       "  </thead>\n",
       "  <tbody>\n",
       "    <tr>\n",
       "      <th>0</th>\n",
       "      <td>0.68671</td>\n",
       "      <td>0.633229</td>\n",
       "    </tr>\n",
       "  </tbody>\n",
       "</table>\n",
       "</div>"
      ],
      "text/plain": [
       "        tr        vl\n",
       "0  0.68671  0.633229"
      ]
     },
     "execution_count": 21,
     "metadata": {},
     "output_type": "execute_result"
    }
   ],
   "source": [
    "pd.DataFrame(stats['lss'])"
   ]
  },
  {
   "cell_type": "code",
   "execution_count": 22,
   "metadata": {
    "scrolled": true
   },
   "outputs": [
    {
     "data": {
      "text/html": [
       "<div>\n",
       "<style scoped>\n",
       "    .dataframe tbody tr th:only-of-type {\n",
       "        vertical-align: middle;\n",
       "    }\n",
       "\n",
       "    .dataframe tbody tr th {\n",
       "        vertical-align: top;\n",
       "    }\n",
       "\n",
       "    .dataframe thead th {\n",
       "        text-align: right;\n",
       "    }\n",
       "</style>\n",
       "<table border=\"1\" class=\"dataframe\">\n",
       "  <thead>\n",
       "    <tr style=\"text-align: right;\">\n",
       "      <th></th>\n",
       "      <th>tr</th>\n",
       "      <th>vl</th>\n",
       "    </tr>\n",
       "  </thead>\n",
       "  <tbody>\n",
       "    <tr>\n",
       "      <th>0</th>\n",
       "      <td>0.579643</td>\n",
       "      <td>0.384375</td>\n",
       "    </tr>\n",
       "  </tbody>\n",
       "</table>\n",
       "</div>"
      ],
      "text/plain": [
       "         tr        vl\n",
       "0  0.579643  0.384375"
      ]
     },
     "execution_count": 22,
     "metadata": {},
     "output_type": "execute_result"
    }
   ],
   "source": [
    "pd.DataFrame(stats['scr'])"
   ]
  },
  {
   "cell_type": "code",
   "execution_count": 23,
   "metadata": {},
   "outputs": [
    {
     "data": {
      "image/png": "[encoded data removed]",
      "text/plain": [
       "<Figure size 432x288 with 1 Axes>"
      ]
     },
     "metadata": {
      "needs_background": "light"
     },
     "output_type": "display_data"
    },
    {
     "data": {
      "image/png": "[encoded data removed]",
      "text/plain": [
       "<Figure size 432x288 with 1 Axes>"
      ]
     },
     "metadata": {
      "needs_background": "light"
     },
     "output_type": "display_data"
    }
   ],
   "source": [
    "for k,v in stats.items():\n",
    "    for tv,vs in v.items():\n",
    "        plt.title(f'{k} {tv}')\n",
    "        plt.plot(vs, 'o--')\n",
    "    plt.show()"
   ]
  },
  {
   "cell_type": "code",
   "execution_count": 24,
   "metadata": {},
   "outputs": [],
   "source": [
    "stats['best_scr'] = best_scr\n",
    "stats['best_epc'] = best_epc\n",
    "\n",
    "results = {}\n",
    "results['fld2trvl'] = fld2trvl\n",
    "results['oof'] = oof\n",
    "results['stats'] = stats\n",
    "resutls['param'] = param\n",
    "pickle.dump(results, open(f'{p_out}/results.p', 'wb'))"
   ]
  },
  {
   "cell_type": "markdown",
   "metadata": {},
   "source": [
    "# inference"
   ]
  },
  {
   "cell_type": "code",
   "execution_count": 21,
   "metadata": {},
   "outputs": [
    {
     "name": "stdout",
     "output_type": "stream",
     "text": [
      "512\n",
      "2\n"
     ]
    }
   ],
   "source": [
    "dftst = pd.read_csv(f'{p_cmp}/test.csv', nrows=512 if param.DEBUG else None) \n",
    "dfsub = pd.read_csv(f'{p_cmp}/sample_submission.csv', nrows=512 if param.DEBUG else None) \n",
    "dftst['im_pth']=f'{p_cmp}/jpeg/test/'+dftst.image_name+'.jpg'\n",
    "\n",
    "dstst = MelDataset(dftst, istrn=False)\n",
    "print(len(dstst))\n",
    "dltst = DataLoader(dstst, batch_size=param.BS*2, shuffle=False, num_workers=N_WORKERS, pin_memory=PIN_MEM)\n",
    "print(len(dltst))\n",
    "lendl=len(dltst)"
   ]
  },
  {
   "cell_type": "code",
   "execution_count": 10,
   "metadata": {},
   "outputs": [
    {
     "name": "stdout",
     "output_type": "stream",
     "text": [
      "Loaded pretrained weights for efficientnet-b1\n"
     ]
    }
   ],
   "source": [
    "mdl = mkmdl()\n",
    "# mdl.load_state_dict(torch.load(f'{p_out}/model_{param.PRFX}_fld_{param.FLD2USE}_best.p', map_location=torch.device(DEVICE)))"
   ]
  },
  {
   "cell_type": "code",
   "execution_count": 11,
   "metadata": {},
   "outputs": [],
   "source": [
    "mdl = mdl.to(device)"
   ]
  },
  {
   "cell_type": "code",
   "execution_count": null,
   "metadata": {},
   "outputs": [],
   "source": [
    "dstr = MelDataset(dftr)\n",
    "dsvl = MelDataset(dfvl)\n",
    "print(len(dstr), len(dsvl))\n",
    "dltr = DataLoader(dstr, batch_size=param.BS,   shuffle=True,  num_workers=N_WORKERS, pin_memory=PIN_MEM)\n",
    "dlvl = DataLoader(dsvl, batch_size=param.BS*2, shuffle=False, num_workers=N_WORKERS, pin_memory=PIN_MEM)\n"
   ]
  },
  {
   "cell_type": "code",
   "execution_count": 23,
   "metadata": {
    "collapsed": true
   },
   "outputs": [
    {
     "data": {
      "text/plain": [
       "tensor([[[1.8550, 1.7523, 1.5982,  ..., 1.7352, 1.7352, 1.6838],\n",
       "         [1.8722, 1.8893, 1.8208,  ..., 1.6667, 1.7352, 1.7352],\n",
       "         [1.8550, 1.8893, 1.8893,  ..., 1.3927, 1.5639, 1.6667],\n",
       "         ...,\n",
       "         [1.9749, 1.9749, 1.9578,  ..., 1.0502, 0.7933, 1.1700],\n",
       "         [1.9578, 1.9407, 1.9407,  ..., 0.8789, 1.1015, 1.3242],\n",
       "         [1.9407, 1.9064, 1.9235,  ..., 0.9303, 1.3070, 1.3755]],\n",
       "\n",
       "        [[1.4307, 1.3081, 1.1681,  ..., 1.3256, 1.3431, 1.2906],\n",
       "         [1.4482, 1.4657, 1.4132,  ..., 1.2906, 1.3782, 1.3431],\n",
       "         [1.4307, 1.4657, 1.4657,  ..., 0.9580, 1.1506, 1.2731],\n",
       "         ...,\n",
       "         [1.5882, 1.5882, 1.5707,  ..., 0.4853, 0.2752, 0.7654],\n",
       "         [1.5182, 1.5007, 1.5007,  ..., 0.3803, 0.6604, 0.9230],\n",
       "         [1.5007, 1.4657, 1.4832,  ..., 0.4328, 0.8704, 0.9405]],\n",
       "\n",
       "        [[1.7337, 1.5420, 1.2980,  ..., 1.5594, 1.5594, 1.5071],\n",
       "         [1.7511, 1.7685, 1.6640,  ..., 1.5245, 1.6117, 1.5594],\n",
       "         [1.7163, 1.7511, 1.7511,  ..., 0.9668, 1.2980, 1.4722],\n",
       "         ...,\n",
       "         [1.9428, 1.9603, 1.9428,  ..., 0.5311, 0.4614, 0.9842],\n",
       "         [1.8905, 1.8905, 1.8905,  ..., 0.4614, 0.9319, 1.1585],\n",
       "         [1.8557, 1.8208, 1.8731,  ..., 0.6356, 1.1934, 1.2457]]])"
      ]
     },
     "execution_count": 23,
     "metadata": {},
     "output_type": "execute_result"
    }
   ],
   "source": [
    "dstst[0][0]"
   ]
  },
  {
   "cell_type": "code",
   "execution_count": 24,
   "metadata": {},
   "outputs": [
    {
     "data": {
      "text/plain": [
       "<torch.utils.data.dataloader.DataLoader at 0x7fe30f61f710>"
      ]
     },
     "execution_count": 24,
     "metadata": {},
     "output_type": "execute_result"
    }
   ],
   "source": [
    "dltst"
   ]
  },
  {
   "cell_type": "code",
   "execution_count": 25,
   "metadata": {},
   "outputs": [],
   "source": [
    "for foo in dltst:\n",
    "    foo\n",
    "    break"
   ]
  },
  {
   "cell_type": "code",
   "execution_count": 26,
   "metadata": {},
   "outputs": [
    {
     "data": {
      "text/plain": [
       "[tensor([[[[ 2.2489,  2.2489,  2.2489,  ...,  2.2489,  2.2489,  2.2489],\n",
       "           [ 2.2489,  2.2489,  2.2489,  ...,  2.2489,  2.2489,  2.2489],\n",
       "           [ 2.2489,  2.2489,  2.2489,  ...,  2.2489,  2.2489,  2.2489],\n",
       "           ...,\n",
       "           [ 2.1804,  2.0605,  1.9749,  ...,  2.2489,  2.2489,  2.2489],\n",
       "           [ 2.2489,  2.2489,  2.2489,  ...,  2.2489,  2.2489,  2.2489],\n",
       "           [ 2.2489,  2.2489,  2.2489,  ...,  2.2489,  2.2489,  2.2489]],\n",
       " \n",
       "          [[ 1.4132,  1.4132,  1.4482,  ...,  1.5882,  1.5707,  1.5882],\n",
       "           [ 1.4132,  1.4132,  1.4482,  ...,  1.5882,  1.5707,  1.5882],\n",
       "           [ 1.4482,  1.4482,  1.4657,  ...,  1.5882,  1.6057,  1.6232],\n",
       "           ...,\n",
       "           [ 1.3782,  1.3081,  1.1856,  ...,  1.7283,  1.7283,  1.7108],\n",
       "           [ 1.5532,  1.5707,  1.5882,  ...,  1.7983,  1.7458,  1.6933],\n",
       "           [ 1.6057,  1.6057,  1.6408,  ...,  1.7633,  1.7458,  1.6933]],\n",
       " \n",
       "          [[ 1.7860,  1.7685,  1.7511,  ...,  1.8208,  1.8208,  1.8731],\n",
       "           [ 1.7860,  1.7860,  1.8208,  ...,  1.8383,  1.8905,  1.9777],\n",
       "           [ 1.8208,  1.8034,  1.8208,  ...,  1.7860,  1.7511,  1.8383],\n",
       "           ...,\n",
       "           [ 1.4200,  1.3677,  1.1934,  ...,  2.0125,  2.0125,  2.0125],\n",
       "           [ 1.8034,  1.7860,  1.7860,  ...,  2.0823,  2.0997,  2.0648],\n",
       "           [ 1.8557,  1.8731,  1.9254,  ...,  2.0300,  2.0997,  2.0648]]],\n",
       " \n",
       " \n",
       "         [[[ 1.8208,  1.7694,  2.2489,  ...,  1.8037,  1.7694,  1.7352],\n",
       "           [ 1.8379,  1.8893,  2.2489,  ...,  1.7865,  1.7865,  1.7352],\n",
       "           [ 1.7523,  2.0777,  2.2489,  ...,  1.8037,  1.7865,  1.7865],\n",
       "           ...,\n",
       "           [ 2.2489,  2.2489,  2.2489,  ...,  1.7694,  1.8208,  1.7865],\n",
       "           [ 2.2489,  2.2489,  2.2489,  ...,  1.7865,  1.7865,  1.7865],\n",
       "           [ 2.2489,  2.2489,  2.2489,  ...,  1.8037,  1.8037,  1.8037]],\n",
       " \n",
       "          [[ 0.7304,  0.6779,  1.4307,  ...,  1.0105,  0.9755,  0.9755],\n",
       "           [ 0.7654,  0.8529,  1.5882,  ...,  1.0280,  0.9930,  0.9755],\n",
       "           [ 0.6429,  1.1506,  1.6408,  ...,  1.0455,  1.0280,  0.9930],\n",
       "           ...,\n",
       "           [ 1.6933,  1.7108,  1.6933,  ...,  0.9580,  0.9580,  0.9755],\n",
       "           [ 1.7458,  1.7108,  1.7108,  ...,  0.9930,  0.9930,  0.9930],\n",
       "           [ 1.7458,  1.7108,  1.7458,  ...,  0.9930,  0.9930,  0.9755]],\n",
       " \n",
       "          [[ 0.3568,  0.2522,  1.4548,  ...,  1.1759,  1.1411,  1.1062],\n",
       "           [ 0.4962,  0.5485,  1.6814,  ...,  1.1934,  1.1585,  1.1411],\n",
       "           [ 0.2348,  1.0888,  1.8034,  ...,  1.2108,  1.1934,  1.1585],\n",
       "           ...,\n",
       "           [ 2.0823,  2.1171,  2.0823,  ...,  1.2108,  1.2805,  1.2980],\n",
       "           [ 2.1520,  2.1346,  2.1694,  ...,  1.2980,  1.2457,  1.2980],\n",
       "           [ 2.2043,  2.1868,  2.2043,  ...,  1.3154,  1.3154,  1.2980]]],\n",
       " \n",
       " \n",
       "         [[[ 1.6153,  1.6667,  1.6667,  ...,  2.1290,  2.1119,  2.1119],\n",
       "           [ 1.6153,  1.6667,  1.6838,  ...,  2.1462,  2.1119,  2.0948],\n",
       "           [ 1.6153,  1.6324,  1.6838,  ...,  2.1462,  2.1290,  2.1119],\n",
       "           ...,\n",
       "           [ 1.7352,  1.7352,  1.6838,  ...,  2.1462,  2.1462,  2.1462],\n",
       "           [ 1.6838,  1.6838,  1.6838,  ...,  2.1462,  2.1462,  2.1462],\n",
       "           [ 1.6495,  1.6495,  1.6667,  ...,  2.1462,  2.1462,  2.1462]],\n",
       " \n",
       "          [[ 1.3431,  1.3606,  1.3606,  ...,  2.0959,  2.0434,  2.0434],\n",
       "           [ 1.3256,  1.3957,  1.3957,  ...,  2.1310,  2.0434,  2.0084],\n",
       "           [ 1.3431,  1.3606,  1.4132,  ...,  2.1485,  2.0784,  2.0259],\n",
       "           ...,\n",
       "           [ 1.5182,  1.5007,  1.4307,  ...,  2.1134,  2.1134,  2.0959],\n",
       "           [ 1.4657,  1.4657,  1.4132,  ...,  2.1134,  2.1310,  2.1134],\n",
       "           [ 1.4132,  1.3606,  1.4132,  ...,  2.1310,  2.0959,  2.0959]],\n",
       " \n",
       "          [[ 1.5245,  1.5768,  1.6117,  ...,  2.2914,  2.2043,  2.2566],\n",
       "           [ 1.5420,  1.6117,  1.6291,  ...,  2.3786,  2.2217,  2.2043],\n",
       "           [ 1.5594,  1.5942,  1.6465,  ...,  2.3960,  2.2740,  2.2217],\n",
       "           ...,\n",
       "           [ 1.8208,  1.8034,  1.6988,  ...,  2.3437,  2.3437,  2.3437],\n",
       "           [ 1.7511,  1.7511,  1.6988,  ...,  2.3611,  2.3611,  2.3437],\n",
       "           [ 1.6814,  1.6814,  1.6814,  ...,  2.3960,  2.3437,  2.3611]]],\n",
       " \n",
       " \n",
       "         ...,\n",
       " \n",
       " \n",
       "         [[[ 2.2489,  2.2489,  2.2489,  ...,  2.2489,  2.2489,  2.2489],\n",
       "           [ 2.2489,  2.2489,  2.2489,  ...,  2.2489,  2.2489,  2.2489],\n",
       "           [ 2.2489,  2.2489,  2.2489,  ...,  2.2489,  2.2489,  2.2489],\n",
       "           ...,\n",
       "           [ 2.2489,  2.2489,  2.2489,  ...,  2.2489,  2.2489,  2.2489],\n",
       "           [ 2.2489,  2.2489,  2.2489,  ...,  2.2489,  2.2489,  2.2489],\n",
       "           [ 2.2489,  2.2489,  2.2489,  ...,  2.2489,  2.2489,  2.2489]],\n",
       " \n",
       "          [[ 1.8508,  1.8859,  1.9209,  ...,  1.5532,  1.5357,  1.4832],\n",
       "           [ 1.8508,  1.9034,  1.9034,  ...,  1.5182,  1.5182,  1.5007],\n",
       "           [ 1.8333,  1.8859,  1.9034,  ...,  1.5357,  1.5357,  1.5182],\n",
       "           ...,\n",
       "           [ 1.6408,  1.4482,  1.6758,  ...,  1.7808,  1.7633,  1.6758],\n",
       "           [ 1.6583,  1.4657,  1.7108,  ...,  1.7983,  1.7633,  1.7108],\n",
       "           [ 1.6232,  1.5007,  1.7108,  ...,  1.7983,  1.7633,  1.7458]],\n",
       " \n",
       "          [[ 1.5245,  1.5071,  1.5245,  ...,  1.2282,  1.2108,  1.1934],\n",
       "           [ 1.5245,  1.5071,  1.5071,  ...,  1.1934,  1.1934,  1.1934],\n",
       "           [ 1.4722,  1.4897,  1.5071,  ...,  1.2108,  1.1934,  1.1759],\n",
       "           ...,\n",
       "           [ 1.2980,  1.1062,  1.3154,  ...,  1.3851,  1.3677,  1.3154],\n",
       "           [ 1.2980,  1.0888,  1.3154,  ...,  1.4025,  1.3851,  1.3677],\n",
       "           [ 1.2631,  1.1237,  1.2980,  ...,  1.4025,  1.3677,  1.3328]]],\n",
       " \n",
       " \n",
       "         [[[ 1.7180,  1.7180,  1.7180,  ...,  1.7865,  1.7865,  1.7865],\n",
       "           [ 1.7009,  1.7009,  1.6324,  ...,  1.8208,  1.8037,  1.8037],\n",
       "           [ 1.7009,  1.5468,  1.3927,  ...,  1.7865,  1.8037,  1.8208],\n",
       "           ...,\n",
       "           [ 1.5125,  1.5468,  1.5297,  ...,  1.6324,  1.6495,  1.6495],\n",
       "           [ 1.5468,  1.5297,  1.5297,  ...,  1.5982,  1.6324,  1.6324],\n",
       "           [ 1.5297,  1.5297,  1.5125,  ...,  1.6153,  1.5810,  1.5982]],\n",
       " \n",
       "          [[ 1.5357,  1.5532,  1.5532,  ...,  1.6232,  1.6057,  1.6232],\n",
       "           [ 1.5182,  1.5182,  1.4482,  ...,  1.6232,  1.6232,  1.6232],\n",
       "           [ 1.5007,  1.3256,  1.0980,  ...,  1.6232,  1.6408,  1.6408],\n",
       "           ...,\n",
       "           [ 1.3256,  1.3431,  1.3081,  ...,  1.4657,  1.4832,  1.4832],\n",
       "           [ 1.3431,  1.3256,  1.3081,  ...,  1.4307,  1.4657,  1.4657],\n",
       "           [ 1.3606,  1.3606,  1.3256,  ...,  1.4657,  1.4657,  1.4307]],\n",
       " \n",
       "          [[ 1.8905,  1.8905,  1.9254,  ...,  1.9777,  1.9951,  1.9951],\n",
       "           [ 1.8731,  1.8731,  1.7685,  ...,  2.0125,  1.9777,  2.0125],\n",
       "           [ 1.8383,  1.6117,  1.2980,  ...,  1.9603,  1.9777,  1.9951],\n",
       "           ...,\n",
       "           [ 1.6640,  1.6988,  1.6465,  ...,  1.8034,  1.8208,  1.8208],\n",
       "           [ 1.6988,  1.6814,  1.6640,  ...,  1.8034,  1.8034,  1.8034],\n",
       "           [ 1.6988,  1.6988,  1.6814,  ...,  1.8208,  1.8208,  1.7860]]],\n",
       " \n",
       " \n",
       "         [[[ 0.2453,  0.3652,  0.4679,  ...,  0.7077,  0.7591,  0.7419],\n",
       "           [ 0.2967,  0.3481,  0.4508,  ...,  0.7248,  0.7419,  0.7419],\n",
       "           [ 0.3481,  0.3994,  0.4337,  ...,  0.7248,  0.7248,  0.7419],\n",
       "           ...,\n",
       "           [ 0.7419,  0.6906,  0.6392,  ...,  0.4166,  0.3994,  0.4679],\n",
       "           [ 0.7933,  0.7933,  0.7248,  ...,  0.4337,  0.4337,  0.4337],\n",
       "           [ 0.7933,  0.7762,  0.7591,  ...,  0.4337,  0.4337,  0.4166]],\n",
       " \n",
       "          [[-0.0749, -0.0924,  0.0476,  ...,  0.4678,  0.5203,  0.5203],\n",
       "           [-0.1625, -0.2150, -0.0399,  ...,  0.5028,  0.5203,  0.5028],\n",
       "           [-0.2325, -0.1800, -0.0749,  ...,  0.5378,  0.5028,  0.5028],\n",
       "           ...,\n",
       "           [ 0.5553,  0.4678,  0.4328,  ...,  0.0651,  0.0651,  0.1702],\n",
       "           [ 0.6604,  0.6078,  0.5553,  ...,  0.1001,  0.1176,  0.1352],\n",
       "           [ 0.6254,  0.5728,  0.5903,  ...,  0.1352,  0.1352,  0.0651]],\n",
       " \n",
       "          [[ 0.1128,  0.1302,  0.2871,  ...,  0.6356,  0.7228,  0.7228],\n",
       "           [ 0.0779,  0.0431,  0.1999,  ...,  0.6705,  0.6705,  0.6705],\n",
       "           [ 0.0082,  0.0605,  0.1476,  ...,  0.7228,  0.6531,  0.6705],\n",
       "           ...,\n",
       "           [ 0.8971,  0.7751,  0.7228,  ...,  0.2522,  0.2696,  0.3742],\n",
       "           [ 0.9842,  0.9145,  0.8448,  ...,  0.2696,  0.3219,  0.3393],\n",
       "           [ 0.9668,  0.8797,  0.8971,  ...,  0.3568,  0.3393,  0.2696]]]])]"
      ]
     },
     "execution_count": 26,
     "metadata": {},
     "output_type": "execute_result"
    }
   ],
   "source": [
    "foo"
   ]
  },
  {
   "cell_type": "code",
   "execution_count": 27,
   "metadata": {},
   "outputs": [
    {
     "data": {
      "text/plain": [
       "tensor([[[[ 2.2489,  2.2489,  2.2489,  ...,  2.2489,  2.2489,  2.2489],\n",
       "          [ 2.2489,  2.2489,  2.2489,  ...,  2.2489,  2.2489,  2.2489],\n",
       "          [ 2.2489,  2.2489,  2.2489,  ...,  2.2489,  2.2489,  2.2489],\n",
       "          ...,\n",
       "          [ 2.1804,  2.0605,  1.9749,  ...,  2.2489,  2.2489,  2.2489],\n",
       "          [ 2.2489,  2.2489,  2.2489,  ...,  2.2489,  2.2489,  2.2489],\n",
       "          [ 2.2489,  2.2489,  2.2489,  ...,  2.2489,  2.2489,  2.2489]],\n",
       "\n",
       "         [[ 1.4132,  1.4132,  1.4482,  ...,  1.5882,  1.5707,  1.5882],\n",
       "          [ 1.4132,  1.4132,  1.4482,  ...,  1.5882,  1.5707,  1.5882],\n",
       "          [ 1.4482,  1.4482,  1.4657,  ...,  1.5882,  1.6057,  1.6232],\n",
       "          ...,\n",
       "          [ 1.3782,  1.3081,  1.1856,  ...,  1.7283,  1.7283,  1.7108],\n",
       "          [ 1.5532,  1.5707,  1.5882,  ...,  1.7983,  1.7458,  1.6933],\n",
       "          [ 1.6057,  1.6057,  1.6408,  ...,  1.7633,  1.7458,  1.6933]],\n",
       "\n",
       "         [[ 1.7860,  1.7685,  1.7511,  ...,  1.8208,  1.8208,  1.8731],\n",
       "          [ 1.7860,  1.7860,  1.8208,  ...,  1.8383,  1.8905,  1.9777],\n",
       "          [ 1.8208,  1.8034,  1.8208,  ...,  1.7860,  1.7511,  1.8383],\n",
       "          ...,\n",
       "          [ 1.4200,  1.3677,  1.1934,  ...,  2.0125,  2.0125,  2.0125],\n",
       "          [ 1.8034,  1.7860,  1.7860,  ...,  2.0823,  2.0997,  2.0648],\n",
       "          [ 1.8557,  1.8731,  1.9254,  ...,  2.0300,  2.0997,  2.0648]]],\n",
       "\n",
       "\n",
       "        [[[ 1.8208,  1.7694,  2.2489,  ...,  1.8037,  1.7694,  1.7352],\n",
       "          [ 1.8379,  1.8893,  2.2489,  ...,  1.7865,  1.7865,  1.7352],\n",
       "          [ 1.7523,  2.0777,  2.2489,  ...,  1.8037,  1.7865,  1.7865],\n",
       "          ...,\n",
       "          [ 2.2489,  2.2489,  2.2489,  ...,  1.7694,  1.8208,  1.7865],\n",
       "          [ 2.2489,  2.2489,  2.2489,  ...,  1.7865,  1.7865,  1.7865],\n",
       "          [ 2.2489,  2.2489,  2.2489,  ...,  1.8037,  1.8037,  1.8037]],\n",
       "\n",
       "         [[ 0.7304,  0.6779,  1.4307,  ...,  1.0105,  0.9755,  0.9755],\n",
       "          [ 0.7654,  0.8529,  1.5882,  ...,  1.0280,  0.9930,  0.9755],\n",
       "          [ 0.6429,  1.1506,  1.6408,  ...,  1.0455,  1.0280,  0.9930],\n",
       "          ...,\n",
       "          [ 1.6933,  1.7108,  1.6933,  ...,  0.9580,  0.9580,  0.9755],\n",
       "          [ 1.7458,  1.7108,  1.7108,  ...,  0.9930,  0.9930,  0.9930],\n",
       "          [ 1.7458,  1.7108,  1.7458,  ...,  0.9930,  0.9930,  0.9755]],\n",
       "\n",
       "         [[ 0.3568,  0.2522,  1.4548,  ...,  1.1759,  1.1411,  1.1062],\n",
       "          [ 0.4962,  0.5485,  1.6814,  ...,  1.1934,  1.1585,  1.1411],\n",
       "          [ 0.2348,  1.0888,  1.8034,  ...,  1.2108,  1.1934,  1.1585],\n",
       "          ...,\n",
       "          [ 2.0823,  2.1171,  2.0823,  ...,  1.2108,  1.2805,  1.2980],\n",
       "          [ 2.1520,  2.1346,  2.1694,  ...,  1.2980,  1.2457,  1.2980],\n",
       "          [ 2.2043,  2.1868,  2.2043,  ...,  1.3154,  1.3154,  1.2980]]],\n",
       "\n",
       "\n",
       "        [[[ 1.6153,  1.6667,  1.6667,  ...,  2.1290,  2.1119,  2.1119],\n",
       "          [ 1.6153,  1.6667,  1.6838,  ...,  2.1462,  2.1119,  2.0948],\n",
       "          [ 1.6153,  1.6324,  1.6838,  ...,  2.1462,  2.1290,  2.1119],\n",
       "          ...,\n",
       "          [ 1.7352,  1.7352,  1.6838,  ...,  2.1462,  2.1462,  2.1462],\n",
       "          [ 1.6838,  1.6838,  1.6838,  ...,  2.1462,  2.1462,  2.1462],\n",
       "          [ 1.6495,  1.6495,  1.6667,  ...,  2.1462,  2.1462,  2.1462]],\n",
       "\n",
       "         [[ 1.3431,  1.3606,  1.3606,  ...,  2.0959,  2.0434,  2.0434],\n",
       "          [ 1.3256,  1.3957,  1.3957,  ...,  2.1310,  2.0434,  2.0084],\n",
       "          [ 1.3431,  1.3606,  1.4132,  ...,  2.1485,  2.0784,  2.0259],\n",
       "          ...,\n",
       "          [ 1.5182,  1.5007,  1.4307,  ...,  2.1134,  2.1134,  2.0959],\n",
       "          [ 1.4657,  1.4657,  1.4132,  ...,  2.1134,  2.1310,  2.1134],\n",
       "          [ 1.4132,  1.3606,  1.4132,  ...,  2.1310,  2.0959,  2.0959]],\n",
       "\n",
       "         [[ 1.5245,  1.5768,  1.6117,  ...,  2.2914,  2.2043,  2.2566],\n",
       "          [ 1.5420,  1.6117,  1.6291,  ...,  2.3786,  2.2217,  2.2043],\n",
       "          [ 1.5594,  1.5942,  1.6465,  ...,  2.3960,  2.2740,  2.2217],\n",
       "          ...,\n",
       "          [ 1.8208,  1.8034,  1.6988,  ...,  2.3437,  2.3437,  2.3437],\n",
       "          [ 1.7511,  1.7511,  1.6988,  ...,  2.3611,  2.3611,  2.3437],\n",
       "          [ 1.6814,  1.6814,  1.6814,  ...,  2.3960,  2.3437,  2.3611]]],\n",
       "\n",
       "\n",
       "        ...,\n",
       "\n",
       "\n",
       "        [[[ 2.2489,  2.2489,  2.2489,  ...,  2.2489,  2.2489,  2.2489],\n",
       "          [ 2.2489,  2.2489,  2.2489,  ...,  2.2489,  2.2489,  2.2489],\n",
       "          [ 2.2489,  2.2489,  2.2489,  ...,  2.2489,  2.2489,  2.2489],\n",
       "          ...,\n",
       "          [ 2.2489,  2.2489,  2.2489,  ...,  2.2489,  2.2489,  2.2489],\n",
       "          [ 2.2489,  2.2489,  2.2489,  ...,  2.2489,  2.2489,  2.2489],\n",
       "          [ 2.2489,  2.2489,  2.2489,  ...,  2.2489,  2.2489,  2.2489]],\n",
       "\n",
       "         [[ 1.8508,  1.8859,  1.9209,  ...,  1.5532,  1.5357,  1.4832],\n",
       "          [ 1.8508,  1.9034,  1.9034,  ...,  1.5182,  1.5182,  1.5007],\n",
       "          [ 1.8333,  1.8859,  1.9034,  ...,  1.5357,  1.5357,  1.5182],\n",
       "          ...,\n",
       "          [ 1.6408,  1.4482,  1.6758,  ...,  1.7808,  1.7633,  1.6758],\n",
       "          [ 1.6583,  1.4657,  1.7108,  ...,  1.7983,  1.7633,  1.7108],\n",
       "          [ 1.6232,  1.5007,  1.7108,  ...,  1.7983,  1.7633,  1.7458]],\n",
       "\n",
       "         [[ 1.5245,  1.5071,  1.5245,  ...,  1.2282,  1.2108,  1.1934],\n",
       "          [ 1.5245,  1.5071,  1.5071,  ...,  1.1934,  1.1934,  1.1934],\n",
       "          [ 1.4722,  1.4897,  1.5071,  ...,  1.2108,  1.1934,  1.1759],\n",
       "          ...,\n",
       "          [ 1.2980,  1.1062,  1.3154,  ...,  1.3851,  1.3677,  1.3154],\n",
       "          [ 1.2980,  1.0888,  1.3154,  ...,  1.4025,  1.3851,  1.3677],\n",
       "          [ 1.2631,  1.1237,  1.2980,  ...,  1.4025,  1.3677,  1.3328]]],\n",
       "\n",
       "\n",
       "        [[[ 1.7180,  1.7180,  1.7180,  ...,  1.7865,  1.7865,  1.7865],\n",
       "          [ 1.7009,  1.7009,  1.6324,  ...,  1.8208,  1.8037,  1.8037],\n",
       "          [ 1.7009,  1.5468,  1.3927,  ...,  1.7865,  1.8037,  1.8208],\n",
       "          ...,\n",
       "          [ 1.5125,  1.5468,  1.5297,  ...,  1.6324,  1.6495,  1.6495],\n",
       "          [ 1.5468,  1.5297,  1.5297,  ...,  1.5982,  1.6324,  1.6324],\n",
       "          [ 1.5297,  1.5297,  1.5125,  ...,  1.6153,  1.5810,  1.5982]],\n",
       "\n",
       "         [[ 1.5357,  1.5532,  1.5532,  ...,  1.6232,  1.6057,  1.6232],\n",
       "          [ 1.5182,  1.5182,  1.4482,  ...,  1.6232,  1.6232,  1.6232],\n",
       "          [ 1.5007,  1.3256,  1.0980,  ...,  1.6232,  1.6408,  1.6408],\n",
       "          ...,\n",
       "          [ 1.3256,  1.3431,  1.3081,  ...,  1.4657,  1.4832,  1.4832],\n",
       "          [ 1.3431,  1.3256,  1.3081,  ...,  1.4307,  1.4657,  1.4657],\n",
       "          [ 1.3606,  1.3606,  1.3256,  ...,  1.4657,  1.4657,  1.4307]],\n",
       "\n",
       "         [[ 1.8905,  1.8905,  1.9254,  ...,  1.9777,  1.9951,  1.9951],\n",
       "          [ 1.8731,  1.8731,  1.7685,  ...,  2.0125,  1.9777,  2.0125],\n",
       "          [ 1.8383,  1.6117,  1.2980,  ...,  1.9603,  1.9777,  1.9951],\n",
       "          ...,\n",
       "          [ 1.6640,  1.6988,  1.6465,  ...,  1.8034,  1.8208,  1.8208],\n",
       "          [ 1.6988,  1.6814,  1.6640,  ...,  1.8034,  1.8034,  1.8034],\n",
       "          [ 1.6988,  1.6988,  1.6814,  ...,  1.8208,  1.8208,  1.7860]]],\n",
       "\n",
       "\n",
       "        [[[ 0.2453,  0.3652,  0.4679,  ...,  0.7077,  0.7591,  0.7419],\n",
       "          [ 0.2967,  0.3481,  0.4508,  ...,  0.7248,  0.7419,  0.7419],\n",
       "          [ 0.3481,  0.3994,  0.4337,  ...,  0.7248,  0.7248,  0.7419],\n",
       "          ...,\n",
       "          [ 0.7419,  0.6906,  0.6392,  ...,  0.4166,  0.3994,  0.4679],\n",
       "          [ 0.7933,  0.7933,  0.7248,  ...,  0.4337,  0.4337,  0.4337],\n",
       "          [ 0.7933,  0.7762,  0.7591,  ...,  0.4337,  0.4337,  0.4166]],\n",
       "\n",
       "         [[-0.0749, -0.0924,  0.0476,  ...,  0.4678,  0.5203,  0.5203],\n",
       "          [-0.1625, -0.2150, -0.0399,  ...,  0.5028,  0.5203,  0.5028],\n",
       "          [-0.2325, -0.1800, -0.0749,  ...,  0.5378,  0.5028,  0.5028],\n",
       "          ...,\n",
       "          [ 0.5553,  0.4678,  0.4328,  ...,  0.0651,  0.0651,  0.1702],\n",
       "          [ 0.6604,  0.6078,  0.5553,  ...,  0.1001,  0.1176,  0.1352],\n",
       "          [ 0.6254,  0.5728,  0.5903,  ...,  0.1352,  0.1352,  0.0651]],\n",
       "\n",
       "         [[ 0.1128,  0.1302,  0.2871,  ...,  0.6356,  0.7228,  0.7228],\n",
       "          [ 0.0779,  0.0431,  0.1999,  ...,  0.6705,  0.6705,  0.6705],\n",
       "          [ 0.0082,  0.0605,  0.1476,  ...,  0.7228,  0.6531,  0.6705],\n",
       "          ...,\n",
       "          [ 0.8971,  0.7751,  0.7228,  ...,  0.2522,  0.2696,  0.3742],\n",
       "          [ 0.9842,  0.9145,  0.8448,  ...,  0.2696,  0.3219,  0.3393],\n",
       "          [ 0.9668,  0.8797,  0.8971,  ...,  0.3568,  0.3393,  0.2696]]]])"
      ]
     },
     "execution_count": 27,
     "metadata": {},
     "output_type": "execute_result"
    }
   ],
   "source": [
    "foo[0]"
   ]
  },
  {
   "cell_type": "code",
   "execution_count": 18,
   "metadata": {},
   "outputs": [],
   "source": [
    "model=mdl\n",
    "dl=dltst"
   ]
  },
  {
   "cell_type": "code",
   "execution_count": 28,
   "metadata": {
    "collapsed": true
   },
   "outputs": [
    {
     "ename": "KeyboardInterrupt",
     "evalue": "",
     "output_type": "error",
     "traceback": [
      "\u001b[0;31m---------------------------------------------------------------------------\u001b[0m",
      "\u001b[0;31mKeyboardInterrupt\u001b[0m                         Traceback (most recent call last)",
      "\u001b[0;32m<ipython-input-28-8e79c058bb6c>\u001b[0m in \u001b[0;36m<module>\u001b[0;34m\u001b[0m\n\u001b[1;32m      1\u001b[0m \u001b[0mmdl\u001b[0m\u001b[0;34m.\u001b[0m\u001b[0meval\u001b[0m\u001b[0;34m(\u001b[0m\u001b[0;34m)\u001b[0m\u001b[0;34m\u001b[0m\u001b[0;34m\u001b[0m\u001b[0m\n\u001b[1;32m      2\u001b[0m \u001b[0mprd\u001b[0m \u001b[0;34m=\u001b[0m \u001b[0;34m[\u001b[0m\u001b[0;34m]\u001b[0m\u001b[0;34m\u001b[0m\u001b[0;34m\u001b[0m\u001b[0m\n\u001b[0;32m----> 3\u001b[0;31m \u001b[0;32mfor\u001b[0m \u001b[0mstep\u001b[0m\u001b[0;34m,\u001b[0m \u001b[0mdat\u001b[0m \u001b[0;32min\u001b[0m \u001b[0menumerate\u001b[0m\u001b[0;34m(\u001b[0m\u001b[0mdl\u001b[0m\u001b[0;34m)\u001b[0m\u001b[0;34m:\u001b[0m\u001b[0;34m\u001b[0m\u001b[0;34m\u001b[0m\u001b[0m\n\u001b[0m\u001b[1;32m      4\u001b[0m     \u001b[0;32mif\u001b[0m \u001b[0mstep\u001b[0m\u001b[0;34m%\u001b[0m\u001b[0;36m1000\u001b[0m\u001b[0;34m==\u001b[0m\u001b[0;36m0\u001b[0m\u001b[0;34m:\u001b[0m \u001b[0mprint\u001b[0m\u001b[0;34m(\u001b[0m\u001b[0mdtnow\u001b[0m\u001b[0;34m(\u001b[0m\u001b[0;34m)\u001b[0m\u001b[0;34m,\u001b[0m \u001b[0;34mf'step {step}/{lendl}'\u001b[0m\u001b[0;34m)\u001b[0m\u001b[0;34m\u001b[0m\u001b[0;34m\u001b[0m\u001b[0m\n\u001b[1;32m      5\u001b[0m     \u001b[0mxb\u001b[0m\u001b[0;34m=\u001b[0m\u001b[0mdat\u001b[0m\u001b[0;34m[\u001b[0m\u001b[0;36m0\u001b[0m\u001b[0;34m]\u001b[0m\u001b[0;34m.\u001b[0m\u001b[0mto\u001b[0m\u001b[0;34m(\u001b[0m\u001b[0mdevice\u001b[0m\u001b[0;34m)\u001b[0m\u001b[0;34m\u001b[0m\u001b[0;34m\u001b[0m\u001b[0m\n",
      "\u001b[0;32m/data/anaconda3/envs/mel/lib/python3.7/site-packages/torch/utils/data/dataloader.py\u001b[0m in \u001b[0;36m__next__\u001b[0;34m(self)\u001b[0m\n\u001b[1;32m    343\u001b[0m \u001b[0;34m\u001b[0m\u001b[0m\n\u001b[1;32m    344\u001b[0m     \u001b[0;32mdef\u001b[0m \u001b[0m__next__\u001b[0m\u001b[0;34m(\u001b[0m\u001b[0mself\u001b[0m\u001b[0;34m)\u001b[0m\u001b[0;34m:\u001b[0m\u001b[0;34m\u001b[0m\u001b[0;34m\u001b[0m\u001b[0m\n\u001b[0;32m--> 345\u001b[0;31m         \u001b[0mdata\u001b[0m \u001b[0;34m=\u001b[0m \u001b[0mself\u001b[0m\u001b[0;34m.\u001b[0m\u001b[0m_next_data\u001b[0m\u001b[0;34m(\u001b[0m\u001b[0;34m)\u001b[0m\u001b[0;34m\u001b[0m\u001b[0;34m\u001b[0m\u001b[0m\n\u001b[0m\u001b[1;32m    346\u001b[0m         \u001b[0mself\u001b[0m\u001b[0;34m.\u001b[0m\u001b[0m_num_yielded\u001b[0m \u001b[0;34m+=\u001b[0m \u001b[0;36m1\u001b[0m\u001b[0;34m\u001b[0m\u001b[0;34m\u001b[0m\u001b[0m\n\u001b[1;32m    347\u001b[0m         \u001b[0;32mif\u001b[0m \u001b[0mself\u001b[0m\u001b[0;34m.\u001b[0m\u001b[0m_dataset_kind\u001b[0m \u001b[0;34m==\u001b[0m \u001b[0m_DatasetKind\u001b[0m\u001b[0;34m.\u001b[0m\u001b[0mIterable\u001b[0m \u001b[0;32mand\u001b[0m\u001b[0;31m \u001b[0m\u001b[0;31m\\\u001b[0m\u001b[0;34m\u001b[0m\u001b[0;34m\u001b[0m\u001b[0m\n",
      "\u001b[0;32m/data/anaconda3/envs/mel/lib/python3.7/site-packages/torch/utils/data/dataloader.py\u001b[0m in \u001b[0;36m_next_data\u001b[0;34m(self)\u001b[0m\n\u001b[1;32m    839\u001b[0m \u001b[0;34m\u001b[0m\u001b[0m\n\u001b[1;32m    840\u001b[0m             \u001b[0;32massert\u001b[0m \u001b[0;32mnot\u001b[0m \u001b[0mself\u001b[0m\u001b[0;34m.\u001b[0m\u001b[0m_shutdown\u001b[0m \u001b[0;32mand\u001b[0m \u001b[0mself\u001b[0m\u001b[0;34m.\u001b[0m\u001b[0m_tasks_outstanding\u001b[0m \u001b[0;34m>\u001b[0m \u001b[0;36m0\u001b[0m\u001b[0;34m\u001b[0m\u001b[0;34m\u001b[0m\u001b[0m\n\u001b[0;32m--> 841\u001b[0;31m             \u001b[0midx\u001b[0m\u001b[0;34m,\u001b[0m \u001b[0mdata\u001b[0m \u001b[0;34m=\u001b[0m \u001b[0mself\u001b[0m\u001b[0;34m.\u001b[0m\u001b[0m_get_data\u001b[0m\u001b[0;34m(\u001b[0m\u001b[0;34m)\u001b[0m\u001b[0;34m\u001b[0m\u001b[0;34m\u001b[0m\u001b[0m\n\u001b[0m\u001b[1;32m    842\u001b[0m             \u001b[0mself\u001b[0m\u001b[0;34m.\u001b[0m\u001b[0m_tasks_outstanding\u001b[0m \u001b[0;34m-=\u001b[0m \u001b[0;36m1\u001b[0m\u001b[0;34m\u001b[0m\u001b[0;34m\u001b[0m\u001b[0m\n\u001b[1;32m    843\u001b[0m \u001b[0;34m\u001b[0m\u001b[0m\n",
      "\u001b[0;32m/data/anaconda3/envs/mel/lib/python3.7/site-packages/torch/utils/data/dataloader.py\u001b[0m in \u001b[0;36m_get_data\u001b[0;34m(self)\u001b[0m\n\u001b[1;32m    796\u001b[0m         \u001b[0;32melif\u001b[0m \u001b[0mself\u001b[0m\u001b[0;34m.\u001b[0m\u001b[0m_pin_memory\u001b[0m\u001b[0;34m:\u001b[0m\u001b[0;34m\u001b[0m\u001b[0;34m\u001b[0m\u001b[0m\n\u001b[1;32m    797\u001b[0m             \u001b[0;32mwhile\u001b[0m \u001b[0mself\u001b[0m\u001b[0;34m.\u001b[0m\u001b[0m_pin_memory_thread\u001b[0m\u001b[0;34m.\u001b[0m\u001b[0mis_alive\u001b[0m\u001b[0;34m(\u001b[0m\u001b[0;34m)\u001b[0m\u001b[0;34m:\u001b[0m\u001b[0;34m\u001b[0m\u001b[0;34m\u001b[0m\u001b[0m\n\u001b[0;32m--> 798\u001b[0;31m                 \u001b[0msuccess\u001b[0m\u001b[0;34m,\u001b[0m \u001b[0mdata\u001b[0m \u001b[0;34m=\u001b[0m \u001b[0mself\u001b[0m\u001b[0;34m.\u001b[0m\u001b[0m_try_get_data\u001b[0m\u001b[0;34m(\u001b[0m\u001b[0;34m)\u001b[0m\u001b[0;34m\u001b[0m\u001b[0;34m\u001b[0m\u001b[0m\n\u001b[0m\u001b[1;32m    799\u001b[0m                 \u001b[0;32mif\u001b[0m \u001b[0msuccess\u001b[0m\u001b[0;34m:\u001b[0m\u001b[0;34m\u001b[0m\u001b[0;34m\u001b[0m\u001b[0m\n\u001b[1;32m    800\u001b[0m                     \u001b[0;32mreturn\u001b[0m \u001b[0mdata\u001b[0m\u001b[0;34m\u001b[0m\u001b[0;34m\u001b[0m\u001b[0m\n",
      "\u001b[0;32m/data/anaconda3/envs/mel/lib/python3.7/site-packages/torch/utils/data/dataloader.py\u001b[0m in \u001b[0;36m_try_get_data\u001b[0;34m(self, timeout)\u001b[0m\n\u001b[1;32m    759\u001b[0m         \u001b[0;31m#   (bool: whether successfully get data, any: data if successful else None)\u001b[0m\u001b[0;34m\u001b[0m\u001b[0;34m\u001b[0m\u001b[0;34m\u001b[0m\u001b[0m\n\u001b[1;32m    760\u001b[0m         \u001b[0;32mtry\u001b[0m\u001b[0;34m:\u001b[0m\u001b[0;34m\u001b[0m\u001b[0;34m\u001b[0m\u001b[0m\n\u001b[0;32m--> 761\u001b[0;31m             \u001b[0mdata\u001b[0m \u001b[0;34m=\u001b[0m \u001b[0mself\u001b[0m\u001b[0;34m.\u001b[0m\u001b[0m_data_queue\u001b[0m\u001b[0;34m.\u001b[0m\u001b[0mget\u001b[0m\u001b[0;34m(\u001b[0m\u001b[0mtimeout\u001b[0m\u001b[0;34m=\u001b[0m\u001b[0mtimeout\u001b[0m\u001b[0;34m)\u001b[0m\u001b[0;34m\u001b[0m\u001b[0;34m\u001b[0m\u001b[0m\n\u001b[0m\u001b[1;32m    762\u001b[0m             \u001b[0;32mreturn\u001b[0m \u001b[0;34m(\u001b[0m\u001b[0;32mTrue\u001b[0m\u001b[0;34m,\u001b[0m \u001b[0mdata\u001b[0m\u001b[0;34m)\u001b[0m\u001b[0;34m\u001b[0m\u001b[0;34m\u001b[0m\u001b[0m\n\u001b[1;32m    763\u001b[0m         \u001b[0;32mexcept\u001b[0m \u001b[0mException\u001b[0m \u001b[0;32mas\u001b[0m \u001b[0me\u001b[0m\u001b[0;34m:\u001b[0m\u001b[0;34m\u001b[0m\u001b[0;34m\u001b[0m\u001b[0m\n",
      "\u001b[0;32m/data/anaconda3/envs/mel/lib/python3.7/queue.py\u001b[0m in \u001b[0;36mget\u001b[0;34m(self, block, timeout)\u001b[0m\n\u001b[1;32m    177\u001b[0m                     \u001b[0;32mif\u001b[0m \u001b[0mremaining\u001b[0m \u001b[0;34m<=\u001b[0m \u001b[0;36m0.0\u001b[0m\u001b[0;34m:\u001b[0m\u001b[0;34m\u001b[0m\u001b[0;34m\u001b[0m\u001b[0m\n\u001b[1;32m    178\u001b[0m                         \u001b[0;32mraise\u001b[0m \u001b[0mEmpty\u001b[0m\u001b[0;34m\u001b[0m\u001b[0;34m\u001b[0m\u001b[0m\n\u001b[0;32m--> 179\u001b[0;31m                     \u001b[0mself\u001b[0m\u001b[0;34m.\u001b[0m\u001b[0mnot_empty\u001b[0m\u001b[0;34m.\u001b[0m\u001b[0mwait\u001b[0m\u001b[0;34m(\u001b[0m\u001b[0mremaining\u001b[0m\u001b[0;34m)\u001b[0m\u001b[0;34m\u001b[0m\u001b[0;34m\u001b[0m\u001b[0m\n\u001b[0m\u001b[1;32m    180\u001b[0m             \u001b[0mitem\u001b[0m \u001b[0;34m=\u001b[0m \u001b[0mself\u001b[0m\u001b[0;34m.\u001b[0m\u001b[0m_get\u001b[0m\u001b[0;34m(\u001b[0m\u001b[0;34m)\u001b[0m\u001b[0;34m\u001b[0m\u001b[0;34m\u001b[0m\u001b[0m\n\u001b[1;32m    181\u001b[0m             \u001b[0mself\u001b[0m\u001b[0;34m.\u001b[0m\u001b[0mnot_full\u001b[0m\u001b[0;34m.\u001b[0m\u001b[0mnotify\u001b[0m\u001b[0;34m(\u001b[0m\u001b[0;34m)\u001b[0m\u001b[0;34m\u001b[0m\u001b[0;34m\u001b[0m\u001b[0m\n",
      "\u001b[0;32m/data/anaconda3/envs/mel/lib/python3.7/threading.py\u001b[0m in \u001b[0;36mwait\u001b[0;34m(self, timeout)\u001b[0m\n\u001b[1;32m    298\u001b[0m             \u001b[0;32melse\u001b[0m\u001b[0;34m:\u001b[0m\u001b[0;34m\u001b[0m\u001b[0;34m\u001b[0m\u001b[0m\n\u001b[1;32m    299\u001b[0m                 \u001b[0;32mif\u001b[0m \u001b[0mtimeout\u001b[0m \u001b[0;34m>\u001b[0m \u001b[0;36m0\u001b[0m\u001b[0;34m:\u001b[0m\u001b[0;34m\u001b[0m\u001b[0;34m\u001b[0m\u001b[0m\n\u001b[0;32m--> 300\u001b[0;31m                     \u001b[0mgotit\u001b[0m \u001b[0;34m=\u001b[0m \u001b[0mwaiter\u001b[0m\u001b[0;34m.\u001b[0m\u001b[0macquire\u001b[0m\u001b[0;34m(\u001b[0m\u001b[0;32mTrue\u001b[0m\u001b[0;34m,\u001b[0m \u001b[0mtimeout\u001b[0m\u001b[0;34m)\u001b[0m\u001b[0;34m\u001b[0m\u001b[0;34m\u001b[0m\u001b[0m\n\u001b[0m\u001b[1;32m    301\u001b[0m                 \u001b[0;32melse\u001b[0m\u001b[0;34m:\u001b[0m\u001b[0;34m\u001b[0m\u001b[0;34m\u001b[0m\u001b[0m\n\u001b[1;32m    302\u001b[0m                     \u001b[0mgotit\u001b[0m \u001b[0;34m=\u001b[0m \u001b[0mwaiter\u001b[0m\u001b[0;34m.\u001b[0m\u001b[0macquire\u001b[0m\u001b[0;34m(\u001b[0m\u001b[0;32mFalse\u001b[0m\u001b[0;34m)\u001b[0m\u001b[0;34m\u001b[0m\u001b[0;34m\u001b[0m\u001b[0m\n",
      "\u001b[0;31mKeyboardInterrupt\u001b[0m: "
     ]
    }
   ],
   "source": [
    "    mdl.eval()\n",
    "    prd = []\n",
    "    for step, dat in enumerate(dl):\n",
    "        if step%1000==0: print(dtnow(), f'step {step}/{lendl}')\n",
    "        xb=dat[0].to(device)\n",
    "        with torch.no_grad():\n",
    "            prdb = mdl(xb)\n",
    "        prd.append(prdb.cpu().detach().numpy())\n",
    "    prd = np.concatenate(prd)    \n"
   ]
  },
  {
   "cell_type": "code",
   "execution_count": 29,
   "metadata": {},
   "outputs": [],
   "source": [
    "def infer(model, dl):\n",
    "    lendl=len(dl)\n",
    "    model.eval()\n",
    "    prd = []\n",
    "    for step, dat in enumerate(dl):\n",
    "        if step%1000==0: print(dtnow(), f'step {step}/{lendl}')\n",
    "        xb=dat[0].to(device)\n",
    "        with torch.no_grad(): prdb = model(xb)\n",
    "        prd.append(prdb.cpu().detach().numpy())\n",
    "    prd = np.concatenate(prd)    \n",
    "    return prd"
   ]
  },
  {
   "cell_type": "code",
   "execution_count": null,
   "metadata": {},
   "outputs": [],
   "source": [
    "prdtst = infer(mdl, dltst)"
   ]
  },
  {
   "cell_type": "code",
   "execution_count": null,
   "metadata": {},
   "outputs": [],
   "source": []
  },
  {
   "cell_type": "code",
   "execution_count": null,
   "metadata": {},
   "outputs": [],
   "source": []
  },
  {
   "cell_type": "code",
   "execution_count": null,
   "metadata": {},
   "outputs": [],
   "source": []
  },
  {
   "cell_type": "markdown",
   "metadata": {},
   "source": [
    "# fin"
   ]
  },
  {
   "cell_type": "code",
   "execution_count": null,
   "metadata": {},
   "outputs": [],
   "source": [
    "print(f'best_scr {best_scr:.4f}')"
   ]
  },
  {
   "cell_type": "code",
   "execution_count": null,
   "metadata": {},
   "outputs": [],
   "source": [
    "param.__dict__"
   ]
  },
  {
   "cell_type": "code",
   "execution_count": null,
   "metadata": {},
   "outputs": [],
   "source": [
    "!nvidia-smi"
   ]
  },
  {
   "cell_type": "code",
   "execution_count": null,
   "metadata": {},
   "outputs": [],
   "source": []
  },
  {
   "cell_type": "code",
   "execution_count": null,
   "metadata": {},
   "outputs": [],
   "source": []
  }
 ],
 "metadata": {
  "kernelspec": {
   "display_name": "mel",
   "language": "python",
   "name": "mel"
  },
  "language_info": {
   "codemirror_mode": {
    "name": "ipython",
    "version": 3
   },
   "file_extension": ".py",
   "mimetype": "text/x-python",
   "name": "python",
   "nbconvert_exporter": "python",
   "pygments_lexer": "ipython3",
   "version": "3.7.7"
  },
  "toc": {
   "base_numbering": 1,
   "nav_menu": {},
   "number_sections": true,
   "sideBar": true,
   "skip_h1_title": false,
   "title_cell": "Table of Contents",
   "title_sidebar": "Contents",
   "toc_cell": false,
   "toc_position": {},
   "toc_section_display": true,
   "toc_window_display": true
  }
 },
 "nbformat": 4,
 "nbformat_minor": 4
}
